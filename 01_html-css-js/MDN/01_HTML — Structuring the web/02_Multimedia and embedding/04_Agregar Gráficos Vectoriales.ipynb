{
 "cells": [
  {
   "attachments": {},
   "cell_type": "markdown",
   "metadata": {},
   "source": [
    "# Agregar Gráficos Vectoriales a la Web"
   ]
  },
  {
   "attachments": {},
   "cell_type": "markdown",
   "metadata": {},
   "source": [
    "Los gráficos vectoriales son muy útiles en muchas circunstancias — tienen tamaño de archivo pequeños y son altamente escalables, por lo que no se pixelan cuando se amplían a un tamaño más grande.\n",
    "> Nota: Este artículo no tiene la intención de enseñarte SVG; solo mostrarte qué es, y cómo agregarlo a las páginas web."
   ]
  },
  {
   "attachments": {},
   "cell_type": "markdown",
   "metadata": {},
   "source": [
    "## ¿Qué son los gráficos vectoriales?"
   ]
  },
  {
   "attachments": {},
   "cell_type": "markdown",
   "metadata": {},
   "source": [
    "En la web, trabajarás con dos tipos de imágenes — imágenes __rasterizadas__, e imágenes __vectoriales__:\n",
    "\n",
    "* Las imágenes __ráster__ se definen mediante una cuadrícula de píxeles. Un archivo de imagen rasterizado contiene información que muestra exactamente dónde se colocará cada píxel y exactamente de qué color debe ser. Los formatos de ráster web populares incluyen mapa de bits (.bmp), PNG (.png), JPEG (.jpg), and GIF (.gif).\n",
    "\n",
    "* Las imágenes __vectoriales__ se definen mediante algoritmos. Un archivo de imagen vectorial contiene definiciones de forma y ruta que la computadora puede usar para determinar cómo debería verse la imagen cuando se representa en la pantalla. El formato __SVG__ nos permite crear poderosos gráficos vectoriales para usar en la Web.\n",
    "\n",
    "La diferencia se hace evidente cuando se amplía la página. La imagen PNG se pixela a medida que se acerca porque contiene información sobre dónde debería estar cada píxel (y de qué color). Cuando se amplía, cada píxel simplemente aumenta de tamaño para llenar varios píxeles en la pantalla, por lo que la imagen comienza a verse borrosa. La imagen vectorial sigue luciendo agradable y nítida, porque no importa el tamaño que tenga, los algoritmos se utilizan para resolver las formas en la imagen, y los valores simplemente se escalan a medida que aumenta."
   ]
  },
  {
   "attachments": {},
   "cell_type": "markdown",
   "metadata": {},
   "source": [
    "![imagen png vs vector](data:image/png;base64,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)"
   ]
  },
  {
   "attachments": {},
   "cell_type": "markdown",
   "metadata": {},
   "source": [
    "Además, los archivos de imágenes vectoriales son mucho más ligeros que sus equivalentes ráster, porque solo necesitan contener un puñado de algoritmos, en lugar de información sobre cada píxel de la imagen individualmente."
   ]
  },
  {
   "attachments": {},
   "cell_type": "markdown",
   "metadata": {},
   "source": [
    "## ¿Qué es SVG?"
   ]
  },
  {
   "attachments": {},
   "cell_type": "markdown",
   "metadata": {},
   "source": [
    "__SVG__ es un lenguaje, basado en XML, para describir imágenes vectoriales. Básicamente es un marcado, como HTML, excepto que tiene muchos elementos diferentes para definir las formas que desea que aparezcan en su imagen y los efectos que desea aplicar a esas formas. SVG es para marcar gráficos, no contenido. En el extremo más simple del espectro, tienes elementos para crear formas simples, como `<circle>` and `<rect>`. Las funciones SVG más avanzadas incluyen `<feColorMatrix>` (transformar colores usando una matriz de transformación), `<animate>` (animar partes de su gráfico vectorial), y `<mask>` (aplica una máscara sobre la parte superior de tu imagen)."
   ]
  },
  {
   "cell_type": "code",
   "execution_count": 1,
   "metadata": {
    "dotnet_interactive": {
     "language": "html"
    },
    "polyglot_notebook": {
     "kernelName": "html"
    },
    "vscode": {
     "languageId": "polyglot-notebook"
    }
   },
   "outputs": [
    {
     "data": {
      "text/html": [
       "<svg version=\"1.1\"\n",
       "    baseProfile=\"full\"\n",
       "    width=\"300\" height=\"200\"\n",
       "    xmlns=\"http://www.w3.org/2000/svg\">\n",
       "    <rect width=\"100%\" height=\"100%\" fill=\"black\" />\n",
       "    <circle cx=\"150\" cy=\"100\" r=\"90\" fill=\"blue\" />\n",
       "</svg>"
      ]
     },
     "metadata": {},
     "output_type": "display_data"
    }
   ],
   "source": [
    "<svg version=\"1.1\"\n",
    "    baseProfile=\"full\"\n",
    "    width=\"300\" height=\"200\"\n",
    "    xmlns=\"http://www.w3.org/2000/svg\">\n",
    "    <rect width=\"100%\" height=\"100%\" fill=\"black\" />\n",
    "    <circle cx=\"150\" cy=\"100\" r=\"90\" fill=\"blue\" />\n",
    "</svg>"
   ]
  },
  {
   "attachments": {},
   "cell_type": "markdown",
   "metadata": {},
   "source": [
    "Puede tener la impresión de que SVG es fácil de codificar manualmente. Sí, puede codificar manualmente SVG simple en un editor de texto, pero para una imagen compleja, esto rápidamente comienza a ser muy difícil. Para crear imágenes SVG, la mayoría de la gente usa un editor de gráficos vectoriales como Inkscape o Illustrator. Estos paquetes le permiten crear una variedad de ilustraciones utilizando varias herramientas gráficas y crear aproximaciones de fotos.\n",
    "\n",
    "SVG tiene algunas ventajas adicionales:\n",
    "\n",
    "* El texto en imágenes vectoriales sigue siendo accesible (lo que también beneficia a su SEO).\n",
    "* Los SVG se prestan bien al estilo / scripting, porque cada componente de la imagen es un elemento que se puede diseñar a través de CSS o scripting a través de JavaScript.\n",
    "\n",
    "Ddesventajas: \n",
    "\n",
    "* SVG puede complicarse rápidamente, lo que significa que el tamaño de los archivos puede crecer. Además, los SVG complejos también pueden requerir un tiempo de procesamiento significativo en el navegador.\n",
    "* SVG puede ser más difícil de crear que las imágenes rasterizadas, dependiendo del tipo de imagen que intente crear.\n",
    "* SVG no es compatible con navegadores más antiguos, por lo que puede no ser adecuado si necesita admitir versiones anteriores de Internet Explorer con su sitio web (SVG comenzó a ser compatible a partir de IE9)."
   ]
  },
  {
   "attachments": {},
   "cell_type": "markdown",
   "metadata": {},
   "source": [
    "## Agregar SVG a sus páginas"
   ]
  },
  {
   "attachments": {},
   "cell_type": "markdown",
   "metadata": {},
   "source": [
    "### La forma rápida: `<img>`"
   ]
  },
  {
   "attachments": {},
   "cell_type": "markdown",
   "metadata": {},
   "source": [
    "Para incrustar un SVG a través de un elemento `<img>`, solo necesita hacer referencia a él en el atributo src como es de esperar. Necesitará un atributo de altura o ancho (o ambos si su SVG no tiene una relación de aspecto inherente)."
   ]
  },
  {
   "cell_type": "code",
   "execution_count": 2,
   "metadata": {
    "dotnet_interactive": {
     "language": "html"
    },
    "polyglot_notebook": {
     "kernelName": "html"
    },
    "vscode": {
     "languageId": "polyglot-notebook"
    }
   },
   "outputs": [
    {
     "data": {
      "text/html": [
       "<img\n",
       "    src=\"equilateral.svg\"\n",
       "    alt=\"triangle with all three sides equal\"\n",
       "    height=\"87\"\n",
       "    width=\"100\" />"
      ]
     },
     "metadata": {},
     "output_type": "display_data"
    }
   ],
   "source": [
    "<img\n",
    "    src=\"equilateral.svg\"\n",
    "    alt=\"triangle with all three sides equal\"\n",
    "    height=\"87\"\n",
    "    width=\"100\" />"
   ]
  },
  {
   "attachments": {},
   "cell_type": "markdown",
   "metadata": {},
   "source": [
    "Ventajas: \n",
    "\n",
    "* Sintaxis de imagen rápida y familiar con equivalente de texto integrado disponible en el atributo alt.\n",
    "* Puede convertir la imagen en un hipervínculo fácilmente anidando el `<img>` dentro de un elemento `<a>`.\n",
    "* El navegador puede almacenar en caché el archivo SVG, lo que da como resultado tiempos de carga más rápidos para cualquier página que utilice la imagen cargada en el futuro.\n",
    "\n",
    "Desventajas:\n",
    "\n",
    "* No puede manipular la imagen con JavaScript.\n",
    "* Si desea controlar el contenido SVG con CSS, debe incluir estilos CSS en línea en su código SVG. (Las hojas de estilo externas invocadas desde el archivo SVG no tienen efecto).\n",
    "* No puede cambiar el estilo de la imagen con pseudoclases CSS (como `:focus`)."
   ]
  },
  {
   "attachments": {},
   "cell_type": "markdown",
   "metadata": {},
   "source": [
    "#### Solución de problemas y compatibilidad con varios navegadores"
   ]
  },
  {
   "attachments": {},
   "cell_type": "markdown",
   "metadata": {},
   "source": [
    "Para los navegadores que no admiten SVG (IE 8 y versiones anteriores, Android 2.3 y versiones anteriores), puede hacer referencia a un PNG o JPG de su atributo src y usar un atributo `srcset` ( que solo los navegadores recientes reconocen) para hacer referencia al SVG. Siendo este el caso, solo los navegadores compatibles cargarán el SVG; los navegadores más antiguos cargarán el PNG en su lugar."
   ]
  },
  {
   "cell_type": "code",
   "execution_count": 3,
   "metadata": {
    "dotnet_interactive": {
     "language": "html"
    },
    "polyglot_notebook": {
     "kernelName": "html"
    },
    "vscode": {
     "languageId": "polyglot-notebook"
    }
   },
   "outputs": [
    {
     "data": {
      "text/html": [
       "<img src=\"equilateral.png\" alt=\"triangle with equal sides\" srcset=\"equilateral.svg\">"
      ]
     },
     "metadata": {},
     "output_type": "display_data"
    }
   ],
   "source": [
    "<img src=\"equilateral.png\" alt=\"triangle with equal sides\" srcset=\"equilateral.svg\">"
   ]
  },
  {
   "attachments": {},
   "cell_type": "markdown",
   "metadata": {},
   "source": [
    "También puede usar SVG como imágenes de fondo CSS. En el siguiente código, los navegadores más antiguos se quedarán con el PNG que entienden, mientras que los navegadores más nuevos cargarán el SVG."
   ]
  },
  {
   "cell_type": "code",
   "execution_count": 4,
   "metadata": {
    "dotnet_interactive": {
     "language": "html"
    },
    "polyglot_notebook": {
     "kernelName": "html"
    },
    "vscode": {
     "languageId": "polyglot-notebook"
    }
   },
   "outputs": [
    {
     "data": {
      "text/html": [
       "<style>\n",
       "    background: url(\"fallback.png\") no-repeat center;\n",
       "    background-image: url(\"image.svg\");\n",
       "    background-size: contain;\n",
       "</style>"
      ]
     },
     "metadata": {},
     "output_type": "display_data"
    }
   ],
   "source": [
    "<style>\n",
    "    background: url(\"fallback.png\") no-repeat center;\n",
    "    background-image: url(\"image.svg\");\n",
    "    background-size: contain;\n",
    "</style>"
   ]
  },
  {
   "attachments": {},
   "cell_type": "markdown",
   "metadata": {},
   "source": [
    "La inserción de SVG con imágenes de fondo CSS significa que el SVG no se puede manipular con JavaScript y también está sujeto a las mismas limitaciones de CSS."
   ]
  },
  {
   "attachments": {},
   "cell_type": "markdown",
   "metadata": {},
   "source": [
    "### Incluir código SVG dentro de su HTML"
   ]
  },
  {
   "attachments": {},
   "cell_type": "markdown",
   "metadata": {},
   "source": [
    "También puede abrir el archivo SVG en un editor de texto, copiar el código SVG y pegarlo en su documento HTML; esto a veces se denomina poner su SVG en línea o SVG en línea."
   ]
  },
  {
   "cell_type": "code",
   "execution_count": 5,
   "metadata": {
    "dotnet_interactive": {
     "language": "html"
    },
    "polyglot_notebook": {
     "kernelName": "html"
    },
    "vscode": {
     "languageId": "polyglot-notebook"
    }
   },
   "outputs": [
    {
     "data": {
      "text/html": [
       "<svg width=\"300\" height=\"200\">\n",
       "    <rect width=\"100%\" height=\"100%\" fill=\"green\" />\n",
       "</svg>"
      ]
     },
     "metadata": {},
     "output_type": "display_data"
    }
   ],
   "source": [
    "<svg width=\"300\" height=\"200\">\n",
    "    <rect width=\"100%\" height=\"100%\" fill=\"green\" />\n",
    "</svg>"
   ]
  },
  {
   "attachments": {},
   "cell_type": "markdown",
   "metadata": {},
   "source": [
    "Ventajas:\n",
    "\n",
    "* Poner su SVG en línea ahorra una solicitud HTTP y, por lo tanto, puede reducir un poco su tiempo de carga.\n",
    "* Puede asignar clases e identificadores a elementos SVG y aplicarles estilo con CSS, ya sea dentro del SVG o donde quiera que ponga las reglas de estilo CSS para su documento HTML. De hecho, puede utilizar cualquier atributo de presentación SVG como propiedad CSS.\n",
    "* SVG en línea es el único enfoque que le permite usar interacciones CSS (como `:focus`) y animaciones CSS en su imagen SVG (incluso en su hoja de estilo normal).\n",
    "* Puede convertir el marcado SVG en un hipervínculo envolviéndolo en un elemento `<a>`.\n",
    "\n",
    "Desventajas:\n",
    "\n",
    "* Este método solo es adecuado si está utilizando SVG en un solo lugar. La duplicación hace que el mantenimiento requiera muchos recursos.\n",
    "* El código SVG adicional aumenta el tamaño de su archivo HTML.\n",
    "* El navegador no puede almacenar en caché SVG en línea, ya que almacenaría en caché activos de imagen normales, por lo que las páginas que incluyen la imagen no se cargarán más rápido después de que se cargue la primera página que contiene la imagen.\n",
    "* Puede incluir respaldo en un elemento `<foreignObject>`, pero los navegadores que admiten SVG aún descargan las imágenes de respaldo. Debe sopesar si la sobrecarga adicional realmente vale la pena, solo para admitir navegadores obsoletos."
   ]
  },
  {
   "attachments": {},
   "cell_type": "markdown",
   "metadata": {},
   "source": [
    "### Incrustar un SVG con un `<iframe>`"
   ]
  },
  {
   "attachments": {},
   "cell_type": "markdown",
   "metadata": {},
   "source": []
  }
 ],
 "metadata": {
  "language_info": {
   "name": "python"
  },
  "orig_nbformat": 4
 },
 "nbformat": 4,
 "nbformat_minor": 2
}
