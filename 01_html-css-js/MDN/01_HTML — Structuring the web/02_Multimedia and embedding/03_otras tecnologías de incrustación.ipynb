{
 "cells": [
  {
   "attachments": {},
   "cell_type": "markdown",
   "metadata": {},
   "source": [
    "# Desde object hasta iframe - otras tecnologías de incrustación"
   ]
  },
  {
   "attachments": {},
   "cell_type": "markdown",
   "metadata": {},
   "source": [
    "Los elementos `<iframe>` son para incrustar otras páginas web, los elementos `<embed>` y `<object>` permiten incrustar PDFs, SVG e incluso Flash, una tecnología que está en su camino de despedida, pero la cual seguirás viendo semi-regularmente."
   ]
  },
  {
   "attachments": {},
   "cell_type": "markdown",
   "metadata": {},
   "source": [
    "## Enlace a la sección: Una breve historia de incrustación"
   ]
  },
  {
   "attachments": {},
   "cell_type": "markdown",
   "metadata": {},
   "source": [
    "Hace mucho tiempo en la Web, era popular usar marcos (frames) para crear sitios web, pequeñas partes de un sitio web almacenadas en páginas HTML individuales. Estos estaban incrustados en un documento maestro llamado conjunto de marcos (frameset), que le permitía especificar el área en la pantalla que ocupaba cada cuadro, como el tamaño de las columnas y las filas de una tabla. Había evidencia de que tener una página web dividida en trozos más pequeños como este era mejor para velocidades de descarga, especialmente notable con conexiones de red tan lentas en ese momento. Sin embargo, tuvieron muchos problemas, que superaron con creces cualquier aspecto positivo ya que las velocidades de red se hicieron más rápidas, por lo que ya no se ve que se usen.\n",
    "\n",
    "Poco tiempo después (finales de los 90, principios de 2000), las tecnologías de complementos se volvieron muy populares, como los Applets de Java y Flash . Esto permitió a los desarrolladores web incorporar contenido enriquecido en páginas web como videos y animaciones, que simplemente no estaban disponibles solo a través de HTML. La incrustación de estas tecnologías se logró a través de elementos como `<object>` y el menos utilizado `<embed>`. Desde entonces, pasaron de moda debido a muchos problemas, incluidos el acceso, la seguridad, el tamaño del archivo y entre otros; en la actualidad, la mayoría de los dispositivos móviles ya no son compatibles con estos complementos, y el soporte de escritorio está en camino de desaparecer.\n",
    "\n",
    "Finalmente, apareció el elemento `<iframe>` (junto con otras formas de incrustación de contenido, como `<canvas>` , `<video>` , etc.). Esto proporciona una forma de insertar un documento web entero dentro de otro, como si fuera un `<img>` u otro elemento similar, y asi es como se usa en la actualidad."
   ]
  },
  {
   "attachments": {},
   "cell_type": "markdown",
   "metadata": {},
   "source": [
    "## Iframes en detalle"
   ]
  },
  {
   "attachments": {},
   "cell_type": "markdown",
   "metadata": {},
   "source": [
    "Los elementos `<iframe>` están diseñados para permitirte incrustar documentos web en el documento actual. Esto es excelente para incorporar contenido de terceros en tu sitio web sobre el que no tengas control directo y no quieras tener que implementar tu propia versión, como vídeo de proveedores de vídeo en línea, sistemas de comentarios como Disqus, mapas de proveedores de mapas en línea, banners publicitarios, etc.\n",
    "\n",
    "Hay algunos serios __Security concerns__ a considerar con `<iframe>`. Supongamos que quieres incluir el glosario de MDN en una de tus páginas web — podrías intentar algo como esto:"
   ]
  },
  {
   "cell_type": "code",
   "execution_count": 1,
   "metadata": {
    "dotnet_interactive": {
     "language": "html"
    },
    "polyglot_notebook": {
     "kernelName": "html"
    },
    "vscode": {
     "languageId": "polyglot-notebook"
    }
   },
   "outputs": [
    {
     "data": {
      "text/html": [
       "<iframe src=\"https://developer.mozilla.org/en-US/docs/Glossary\"\n",
       "    width=\"100%\" height=\"500\" frameborder=\"0\"\n",
       "    allowfullscreen sandbox>\n",
       "        <p><a href=\"https://developer.mozilla.org/en-US/docs/Glossary\">\n",
       "            Fallback link for browsers that don't support iframes\n",
       "        </a></p>\n",
       "</iframe>"
      ]
     },
     "metadata": {},
     "output_type": "display_data"
    }
   ],
   "source": [
    "<iframe src=\"https://developer.mozilla.org/en-US/docs/Glossary\"\n",
    "    width=\"100%\" height=\"500\" frameborder=\"0\"\n",
    "    allowfullscreen sandbox>\n",
    "        <p><a href=\"https://developer.mozilla.org/en-US/docs/Glossary\">\n",
    "            Fallback link for browsers that don't support iframes\n",
    "        </a></p>\n",
    "</iframe>"
   ]
  },
  {
   "attachments": {},
   "cell_type": "markdown",
   "metadata": {},
   "source": [
    "Este ejemplo incluye los elementos básicos necesarios para usar un `<iframe>`:\n",
    "\n",
    "* `allowfullscreen`: si está configurado, el `<iframe>` se puede colocar en modo pantalla completa usando el Full Screen API.\n",
    "\n",
    "* `frameborder`: si se establece en 1, esto le indica al navegador que dibuje un borde entre este marco y otros marcos, que es el comportamiento predeterminado. 0 elimina el borde. Usar esto ya no es realmente recomendable, ya que el mismo efecto se puede lograr mejor usando `border: none`; en tu CSS.\n",
    "* `src`: este atributo, como con `<video>`/`<img>`,contiene una ruta que apunta a la URL del documento que se va a incrustar.\n",
    "* `width` y `height`: estos atributos especifican el ancho y la altura (width y height) que quieres que tenga el iframe.\n",
    "* Contenido de reserva: de la misma manera que otros elementos similares, puedes incluir contenido alternativo entre las etiquetas de apertura y cierre `<iframe></iframe>` que aparecerán si el navegador no admite el `<iframe>`. En este caso hemos incluido un enlace a la página. Es poco probable que encuentres algún navegador que no admita `<iframe>` en estos días.\n",
    "* `sandbox`: este atributo, que funciona en navegadores un poco más modernos que el resto de la funciones de `<iframe>` solicita una mayor configuración de seguridad."
   ]
  },
  {
   "attachments": {},
   "cell_type": "markdown",
   "metadata": {},
   "source": [
    "> Nota: Para mejorar la velocidad, es una buena idea establecer el atributo src de iframes con JavaScript después de que se cargue el contenido principal. Esto hace que tu página pueda utilizarse antes y disminuye el tiempo de carga de tu página principal (an important SEO.)"
   ]
  },
  {
   "attachments": {},
   "cell_type": "markdown",
   "metadata": {},
   "source": [
    "### Con respecto a la seguridad"
   ]
  },
  {
   "attachments": {},
   "cell_type": "markdown",
   "metadata": {},
   "source": []
  }
 ],
 "metadata": {
  "language_info": {
   "name": "python"
  },
  "orig_nbformat": 4
 },
 "nbformat": 4,
 "nbformat_minor": 2
}
