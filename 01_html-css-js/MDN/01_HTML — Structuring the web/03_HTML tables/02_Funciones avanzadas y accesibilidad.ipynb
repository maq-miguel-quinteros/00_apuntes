{
 "cells": [
  {
   "attachments": {},
   "cell_type": "markdown",
   "metadata": {},
   "source": [
    "# Funciones avanzadas de las tablas HTML y accesibilidad"
   ]
  },
  {
   "attachments": {},
   "cell_type": "markdown",
   "metadata": {},
   "source": [
    "## Añadir un subtítulo a tu tabla con `<caption>`"
   ]
  },
  {
   "attachments": {},
   "cell_type": "markdown",
   "metadata": {},
   "source": [
    "Puedes dar un título a tu tabla colocándolo dentro de un elemento `<caption>` y anidándolo dentro del elemento `<table>`. Debes ponerlo justo debajo de la etiqueta de apertura `<table>`. El título debe contener una descripción del contenido de la tabla. Esto es útil para todos los lectores que deseen descubrir de un vistazo si la tabla les resulta útil mientras ojean la página, pero es útil especialmente para usuarios ciegos. En lugar de que un lector de pantalla lea el contenido de muchas celdas solo para averiguar de qué trata la tabla, el lector puede contar con el título para luego decidir si leer la tabla con mayor detalle."
   ]
  },
  {
   "cell_type": "code",
   "execution_count": 1,
   "metadata": {
    "dotnet_interactive": {
     "language": "html"
    },
    "polyglot_notebook": {
     "kernelName": "html"
    },
    "vscode": {
     "languageId": "polyglot-notebook"
    }
   },
   "outputs": [
    {
     "data": {
      "text/html": [
       "<table>\n",
       "    <caption>Dinosaurios en el período Jurásico</caption>\n",
       "</table>"
      ]
     },
     "metadata": {},
     "output_type": "display_data"
    }
   ],
   "source": [
    "<table>\n",
    "    <caption>Dinosaurios en el período Jurásico</caption>\n",
    "</table>"
   ]
  },
  {
   "attachments": {},
   "cell_type": "markdown",
   "metadata": {},
   "source": [
    "> Nota: El atributo `summary` también se puede usar en el elemento `table` para proporcionar una descripción; los lectores de pantalla también lo leen. Sin embargo, recomendamos usar el elemento `caption`, porque `summary` está obsoleto conforme a la especificación HTML5 y porque los usuarios sin discapacidad visual no pueden leerlo (no aparece en la página)."
   ]
  },
  {
   "attachments": {},
   "cell_type": "markdown",
   "metadata": {},
   "source": [
    "## Añadir estructura con `<thead>`, `<tfoot>` y `<tbody>`"
   ]
  },
  {
   "attachments": {},
   "cell_type": "markdown",
   "metadata": {},
   "source": [
    "`<thead>`, `<tfoot>` y `<tbody>`, que te permiten marcar un encabezado, un pie de página y una sección del cuerpo de la tabla. \n",
    "\n",
    "Estos elementos no mejoran las características de accesibilidad de la tabla para los usuarios de lectores de pantalla ni su aspecto visual en sí. Sin embargo, son muy útiles para la aplicación de estilo y la compaginación, porque actúan como soportes útiles para añadir CSS a tu tabla. Como ejemplos interesantes, en el caso de una tabla extensa, puedes hacer que el encabezado y el pie de página se repitan en cada página impresa, y también que el cuerpo de la tabla se muestre en una sola página y desplazarte por los contenidos arriba y abajo con la barra de desplazamiento.\n",
    "\n",
    "Para utilizarlos:\n",
    "\n",
    "* El elemento `<thead>` debe delimitar el encabezado de la tabla; esta suele ser la primera fila, que contiene los encabezados de las columnas, pero no siempre es así. Si utilizas los elementos `<col>` / `<colgroup>`, el encabezado de la tabla debe estar justo debajo.\n",
    "\n",
    "* El elemento `<tfoot>` delimita la parte de la tabla correspondiente al pie de página; esta podría ser una fila final con elementos en las filas anteriores. Puedes incluir el pie de página de la tabla justo en la parte inferior de la tabla, donde esperarías que esté, o justo debajo del encabezado (y el navegador lo mostrará aun así en la parte inferior de la tabla).\n",
    "* El elemento `<tbody>` delimita las otras partes del contenido de la tabla que no están en el encabezado o en el pie de página de la tabla. Aparecerá debajo del encabezado de la tabla o, a veces, en el pie de página, según cómo hayas decidido estructurarlo.\n",
    "\n",
    "> Nota: <tbody> se incluye siempre en todas las tablas de forma implícita si no lo especificas en tu código. Quizás te preguntes por qué deberías molestarte en incluirlo. Debes hacerlo para tener más control sobre la estructura y el estilo de la tabla."
   ]
  },
  {
   "cell_type": "code",
   "execution_count": 3,
   "metadata": {
    "dotnet_interactive": {
     "language": "html"
    },
    "polyglot_notebook": {
     "kernelName": "html"
    },
    "vscode": {
     "languageId": "polyglot-notebook"
    }
   },
   "outputs": [
    {
     "data": {
      "text/html": [
       "<table>\n",
       "    <caption>How I chose to spend my money</caption>\n",
       "        <thead>\n",
       "            <tr>\n",
       "                <th>Purchase</th>\n",
       "                <th>Location</th>\n",
       "                <th>Date</th>\n",
       "                <th>Evaluation</th>\n",
       "                <th>Cost (€)</th>\n",
       "            </tr>\n",
       "        </thead>\n",
       "        <tfoot>\n",
       "            <tr>\n",
       "                <td  colspan=\"4\">SUM</td>\n",
       "                <td>118</td>\n",
       "            </tr>\n",
       "        </tfoot>\n",
       "        <tbody>\n",
       "            <tr>\n",
       "                <td>Haircut</td>\n",
       "                <td>Hairdresser</td>\n",
       "                <td>12/09</td>\n",
       "                <td>Great idea</td>\n",
       "                <td>30</td>\n",
       "            </tr>\n",
       "            <tr>\n",
       "                <td>Lasagna</td>\n",
       "                <td>Restaurant</td>\n",
       "                <td>12/09</td>\n",
       "                <td>Regrets</td>\n",
       "                <td>18</td>\n",
       "            </tr>\n",
       "            <tr>\n",
       "                <td>Shoes</td>\n",
       "                <td>Shoeshop</td>\n",
       "                <td>13/09</td>\n",
       "                <td>Big regrets</td>\n",
       "                <td>65</td>\n",
       "            </tr>\n",
       "            <tr>\n",
       "                <td>Toothpaste</td>\n",
       "                <td>Supermarket</td>\n",
       "                <td>13/09</td>\n",
       "                <td>Good</td>\n",
       "                <td>5</td>\n",
       "            </tr>\n",
       "        </tbody>\n",
       "    </table>"
      ]
     },
     "metadata": {},
     "output_type": "display_data"
    }
   ],
   "source": [
    "<table>\n",
    "    <caption>How I chose to spend my money</caption>\n",
    "        <thead>\n",
    "            <tr>\n",
    "                <th>Purchase</th>\n",
    "                <th>Location</th>\n",
    "                <th>Date</th>\n",
    "                <th>Evaluation</th>\n",
    "                <th>Cost (€)</th>\n",
    "            </tr>\n",
    "        </thead>\n",
    "        <tfoot>\n",
    "            <tr>\n",
    "                <td  colspan=\"4\">SUM</td>\n",
    "                <td>118</td>\n",
    "            </tr>\n",
    "        </tfoot>\n",
    "        <tbody>\n",
    "            <tr>\n",
    "                <td>Haircut</td>\n",
    "                <td>Hairdresser</td>\n",
    "                <td>12/09</td>\n",
    "                <td>Great idea</td>\n",
    "                <td>30</td>\n",
    "            </tr>\n",
    "            <tr>\n",
    "                <td>Lasagna</td>\n",
    "                <td>Restaurant</td>\n",
    "                <td>12/09</td>\n",
    "                <td>Regrets</td>\n",
    "                <td>18</td>\n",
    "            </tr>\n",
    "            <tr>\n",
    "                <td>Shoes</td>\n",
    "                <td>Shoeshop</td>\n",
    "                <td>13/09</td>\n",
    "                <td>Big regrets</td>\n",
    "                <td>65</td>\n",
    "            </tr>\n",
    "            <tr>\n",
    "                <td>Toothpaste</td>\n",
    "                <td>Supermarket</td>\n",
    "                <td>13/09</td>\n",
    "                <td>Good</td>\n",
    "                <td>5</td>\n",
    "            </tr>\n",
    "        </tbody>\n",
    "    </table>"
   ]
  },
  {
   "attachments": {},
   "cell_type": "markdown",
   "metadata": {},
   "source": [
    "## Anidar tablas"
   ]
  },
  {
   "attachments": {},
   "cell_type": "markdown",
   "metadata": {},
   "source": [
    "Es posible anidar una tabla dentro de otra, siempre que incluyas la estructura completa, incluido el elemento `<table>`. Por lo general, esto no se recomienda, porque se obtiene un marcado más confuso y menos accesible para los usuarios que usan lectores de pantalla, y además, en muchos casos sería posible sencillamente insertar celdas/filas/columnas adicionales en la tabla. Sin embargo, a veces es necesario, por ejemplo, si deseas importar contenido de forma sencilla desde otras fuentes."
   ]
  },
  {
   "cell_type": "code",
   "execution_count": 8,
   "metadata": {
    "dotnet_interactive": {
     "language": "html"
    },
    "polyglot_notebook": {
     "kernelName": "html"
    },
    "vscode": {
     "languageId": "polyglot-notebook"
    }
   },
   "outputs": [
    {
     "data": {
      "text/html": [
       "<table id=\"tabla1\">\n",
       "    <tr>\n",
       "        <th>título1</th>\n",
       "        <th>título2</th>\n",
       "        <th>título3</th>\n",
       "    </tr>\n",
       "    <tr>\n",
       "        <td>\n",
       "            <table style=\"border: red 1px solid\" >\n",
       "                <tr>\n",
       "                    <td>subcelda1</td>\n",
       "                    <td>subcelda2</td>\n",
       "                    <td>subcelda3</td>\n",
       "                </tr>\n",
       "            </table>\n",
       "        </td>\n",
       "        <td>celda2</td>\n",
       "        <td>celda3</td>\n",
       "    </tr>\n",
       "    <tr>\n",
       "        <td>celda4</td>\n",
       "        <td>celda5</td>\n",
       "        <td>celda6</td>\n",
       "    </tr>\n",
       "</table>"
      ]
     },
     "metadata": {},
     "output_type": "display_data"
    }
   ],
   "source": [
    "<table id=\"tabla1\">\n",
    "    <tr>\n",
    "        <th>título1</th>\n",
    "        <th>título2</th>\n",
    "        <th>título3</th>\n",
    "    </tr>\n",
    "    <tr>\n",
    "        <td>\n",
    "            <table style=\"border: red 1px solid\" >\n",
    "                <tr>\n",
    "                    <td>subcelda1</td>\n",
    "                    <td>subcelda2</td>\n",
    "                    <td>subcelda3</td>\n",
    "                </tr>\n",
    "            </table>\n",
    "        </td>\n",
    "        <td>celda2</td>\n",
    "        <td>celda3</td>\n",
    "    </tr>\n",
    "    <tr>\n",
    "        <td>celda4</td>\n",
    "        <td>celda5</td>\n",
    "        <td>celda6</td>\n",
    "    </tr>\n",
    "</table>"
   ]
  },
  {
   "attachments": {},
   "cell_type": "markdown",
   "metadata": {},
   "source": [
    "## Tablas para usuarios con discapacidad visual"
   ]
  },
  {
   "attachments": {},
   "cell_type": "markdown",
   "metadata": {},
   "source": [
    "Una tabla puede ser una herramienta útil porque nos proporciona un acceso rápido a unos datos y nos permite buscar entre valores diferentes. Para comprender la información que contiene la tabla, establecemos asociaciones visuales entre los datos de la tabla y sus encabezados de columna y/o fila.\n",
    "\n",
    "¿Y si no puedes hacer esas asociaciones visuales? Las personas con discapacidad visual a menudo usan un lector de pantalla que les lee la información de las páginas web. Esto no resulta un problema cuando lees un texto sin formato, pero interpretar una tabla puede ser un gran desafío para una persona ciega. Sin embargo, con el marcado adecuado podemos reemplazar las asociaciones visuales por otras asociaciones de tipo programático."
   ]
  },
  {
   "attachments": {},
   "cell_type": "markdown",
   "metadata": {},
   "source": [
    "### Usar encabezados de columna y fila"
   ]
  },
  {
   "attachments": {},
   "cell_type": "markdown",
   "metadata": {},
   "source": [
    "Los lectores de pantalla identificarán todos los encabezados y los usarán para hacer asociaciones programáticas entre esos encabezados y las celdas con las que se relacionan. La combinación de encabezados por columna y fila identificará e interpretará los datos de cada celda para que los usuarios que usan lectores de pantalla puedan interpretar la tabla de manera similar a como lo hace un usuario sin discapacidad visual. Esto se hace mediante el elemento `<th>`."
   ]
  },
  {
   "attachments": {},
   "cell_type": "markdown",
   "metadata": {},
   "source": [
    "### El atributo scope"
   ]
  },
  {
   "attachments": {},
   "cell_type": "markdown",
   "metadata": {},
   "source": [
    "El atributo scope, que se puede añadir al elemento `<th>` para indicar a los lectores de pantalla exactamente para qué celdas es el encabezado."
   ]
  },
  {
   "cell_type": "code",
   "execution_count": 9,
   "metadata": {
    "dotnet_interactive": {
     "language": "html"
    },
    "polyglot_notebook": {
     "kernelName": "html"
    },
    "vscode": {
     "languageId": "polyglot-notebook"
    }
   },
   "outputs": [
    {
     "data": {
      "text/html": [
       "<thead>\n",
       "    <tr>\n",
       "        <th scope=\"col\">Compra</th>\n",
       "        <th scope=\"col\">Ubicación</th>\n",
       "        <th scope=\"col\">Fecha</th>\n",
       "        <th scope=\"col\">Revisión</th>\n",
       "        <th scope=\"col\">Coste (€)</th>\n",
       "    </tr>\n",
       "</thead>"
      ]
     },
     "metadata": {},
     "output_type": "display_data"
    }
   ],
   "source": [
    "<thead>\n",
    "    <tr>\n",
    "        <th scope=\"col\">Compra</th>\n",
    "        <th scope=\"col\">Ubicación</th>\n",
    "        <th scope=\"col\">Fecha</th>\n",
    "        <th scope=\"col\">Revisión</th>\n",
    "        <th scope=\"col\">Coste (€)</th>\n",
    "    </tr>\n",
    "</thead>"
   ]
  },
  {
   "attachments": {},
   "cell_type": "markdown",
   "metadata": {},
   "source": [
    "Y también cada fila podría tener un encabezado definido de esta manera (si añadimos encabezados de fila y encabezados de columna):"
   ]
  },
  {
   "cell_type": "code",
   "execution_count": 10,
   "metadata": {
    "dotnet_interactive": {
     "language": "html"
    },
    "polyglot_notebook": {
     "kernelName": "html"
    },
    "vscode": {
     "languageId": "polyglot-notebook"
    }
   },
   "outputs": [
    {
     "data": {
      "text/html": [
       "<tr>\n",
       "    <th scope=\"row\">Corte de pelo</th>\n",
       "    <td>Peluquería</td>\n",
       "    <td>12/09</td>\n",
       "    <td>Gran idea</td>\n",
       "    <td>30</td>\n",
       "</tr>"
      ]
     },
     "metadata": {},
     "output_type": "display_data"
    }
   ],
   "source": [
    "<tr>\n",
    "    <th scope=\"row\">Corte de pelo</th>\n",
    "    <td>Peluquería</td>\n",
    "    <td>12/09</td>\n",
    "    <td>Gran idea</td>\n",
    "    <td>30</td>\n",
    "</tr>"
   ]
  },
  {
   "attachments": {},
   "cell_type": "markdown",
   "metadata": {},
   "source": [
    "Los lectores de pantalla reconocerán el marcado estructurado de esta manera y permitirán a tus usuarios, por ejemplo, leer toda la columna o fila a la vez.\n",
    "\n",
    "El atributo `scope` tiene dos valores posibles más: `colgroup` y `rowgroup`. Se utilizan para encabezados que se encuentran sobre la parte superior de varias columnas o filas."
   ]
  },
  {
   "attachments": {},
   "cell_type": "markdown",
   "metadata": {},
   "source": [
    "### Los atributos de id y encabezados"
   ]
  },
  {
   "attachments": {},
   "cell_type": "markdown",
   "metadata": {},
   "source": []
  }
 ],
 "metadata": {
  "language_info": {
   "name": "python"
  },
  "orig_nbformat": 4
 },
 "nbformat": 4,
 "nbformat_minor": 2
}
