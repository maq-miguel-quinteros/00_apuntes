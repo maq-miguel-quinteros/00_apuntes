{
 "cells": [
  {
   "attachments": {},
   "cell_type": "markdown",
   "metadata": {},
   "source": [
    "# Conceptos básicos de las tablas HTML"
   ]
  },
  {
   "attachments": {},
   "cell_type": "markdown",
   "metadata": {},
   "source": [
    "## ¿Qué es una tabla?"
   ]
  },
  {
   "attachments": {},
   "cell_type": "markdown",
   "metadata": {},
   "source": [
    "Una tabla es un conjunto estructurado de datos distribuidos en filas y columnas (__datos tabulados__). Una tabla permite buscar con rapidez y facilidad valores entre diferentes tipos de datos que indiquen algún tipo de conexión."
   ]
  },
  {
   "attachments": {},
   "cell_type": "markdown",
   "metadata": {},
   "source": [
    "![tabla ejemplo](data:image/png;base64,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)"
   ]
  },
  {
   "attachments": {},
   "cell_type": "markdown",
   "metadata": {},
   "source": [
    "### ¿Cómo funciona una tabla?"
   ]
  },
  {
   "attachments": {},
   "cell_type": "markdown",
   "metadata": {},
   "source": [
    "El aspecto básico de una tabla es que es un elemento rígido. Es fácil interpretar la información haciendo asociaciones visuales entre los encabezados de las filas y las columnas. Cuando se hace correctamente, incluso las personas ciegas pueden interpretar los datos de una tabla HTML. Una tabla HTML bien hecha debe mejorar la experiencia de los usuarios videntes e invidentes por igual."
   ]
  },
  {
   "attachments": {},
   "cell_type": "markdown",
   "metadata": {},
   "source": [
    "### Dar estilo a las tablas"
   ]
  },
  {
   "attachments": {},
   "cell_type": "markdown",
   "metadata": {},
   "source": [
    "Para que las tablas sean efectivas en la web, debes proporcionar cierta información de estilo con CSS, así como una buena estructura sólida con HTML. En este módulo nos centramos en la parte HTML."
   ]
  },
  {
   "attachments": {},
   "cell_type": "markdown",
   "metadata": {},
   "source": [
    "### ¿Cuándo no debes usar tablas HTML?"
   ]
  },
  {
   "attachments": {},
   "cell_type": "markdown",
   "metadata": {},
   "source": [
    "Las tablas HTML están pensadas para utilizarse con datos tabulados. Por desgracia, mucha gente utiliza las tablas HTML para hacer compaginaciones de páginas web. Por ejemplo, una fila para contener la cabecera, una fila para contener las columnas de contenido, una fila para contener el pie de página, etc. Se solía hacer este uso de las tablas porque la compatibilidad CSS entre navegadores solía ser terrible. Los diseños de tablas son mucho menos comunes hoy en día, pero aún se pueden ver en algunos rincones de la web.\n",
    "\n",
    "Es una mala idea usar tablas para el diseño en lugar de las técnicas de diseño CSS. Las razones principales son las siguientes:\n",
    "\n",
    "* __Las tablas de diseño reducen la accesibilidad para los usuarios con discapacidad visual__: los lectores de pantalla que utilizan las personas con visibilidad reducida interpretan las etiquetas de una página HTML y leen su contenido para el usuario. Puesto que las tablas no son la herramienta adecuada para el diseño y el marcado es más complejo que con las técnicas de diseño CSS, la salida de los lectores de pantalla será confusa para estos usuarios.\n",
    "\n",
    "* __Las tablas generan estructuras incorrectas__: los diseños de tabla suelen involucrar estructuras de marcado más complejas que las técnicas de diseño. Esto puede dificultar la escritura, el mantenimiento y la depuración del código.\n",
    "* __Las tablas no tienen respuesta adaptativa automática__: Cuando usas contenedores de diseño adecuados (tales como `<header>`, `<section>`, `<article>` o `<div>`), su ancho predeterminado es el 100% de su elemento padre. En cambio, las tablas se dimensionan de forma predeterminada según su contenido, por lo que se necesitan medidas adicionales para que el diseño de la tabla funcione de manera efectiva en todos los dispositivos."
   ]
  },
  {
   "attachments": {},
   "cell_type": "markdown",
   "metadata": {},
   "source": [
    "## Añadir encabezados con elementos `<th>`"
   ]
  },
  {
   "attachments": {},
   "cell_type": "markdown",
   "metadata": {},
   "source": [
    "Los encabezados de tabla son celdas especiales que van al comienzo de una fila o columna y definen el tipo de datos que contiene esa fila o columna. El problema es que, si bien puedes distinguir lo que sucede, no es tan fácil cruzar datos de referencia. Sería mucho mejor si los encabezados de las columnas y las filas se destacasen de alguna manera.\n",
    "\n",
    "Para solucionar esto podemos utilizar el elemento `<th>` ('th' significa 'table header', encabezado de tabla). Funciona exactamente igual que un `<td>`, excepto que denota un encabezado, no una celda normal."
   ]
  },
  {
   "cell_type": "code",
   "execution_count": 3,
   "metadata": {
    "dotnet_interactive": {
     "language": "html"
    },
    "polyglot_notebook": {
     "kernelName": "html"
    },
    "vscode": {
     "languageId": "polyglot-notebook"
    }
   },
   "outputs": [
    {
     "data": {
      "text/html": [
       "<table>\n",
       "    <tr>\n",
       "        <th>&nbsp;</th>\n",
       "        <th>Knocky</th>\n",
       "        <th>Flor</th>\n",
       "        <th>Ella</th>\n",
       "        <th>Juan</th>\n",
       "    </tr>\n",
       "    <tr>\n",
       "        <td>Raza</td>\n",
       "        <td>Jack Russell</td>\n",
       "        <td>Caniche</td>\n",
       "        <td>Perro callejero</td>\n",
       "        <td>Cocker Spaniel</td>\n",
       "    </tr>\n",
       "    <tr>\n",
       "        <td>Edad</td>\n",
       "        <td>16</td>\n",
       "        <td>9</td>\n",
       "        <td>10</td>\n",
       "        <td>5</td>\n",
       "    </tr>\n",
       "    <tr>\n",
       "        <td>Propietario</td>\n",
       "        <td>Suegra</td>\n",
       "        <td>Yo</td>\n",
       "        <td>Yo</td>\n",
       "        <td>Cuñada</td>\n",
       "    </tr>\n",
       "    <tr>\n",
       "        <td>Hábitos alimentarios</td>\n",
       "        <td>Come las sobras de todos</td>\n",
       "        <td>Mordisquea la comida</td>\n",
       "        <td>Come en abundancia</td>\n",
       "    <td>Come hasta que revienta</td>\n",
       "    </tr>\n",
       "</table>"
      ]
     },
     "metadata": {},
     "output_type": "display_data"
    }
   ],
   "source": [
    "<table>\n",
    "    <tr>\n",
    "        <th>&nbsp;</th>\n",
    "        <th>Knocky</th>\n",
    "        <th>Flor</th>\n",
    "        <th>Ella</th>\n",
    "        <th>Juan</th>\n",
    "    </tr>\n",
    "    <tr>\n",
    "        <td>Raza</td>\n",
    "        <td>Jack Russell</td>\n",
    "        <td>Caniche</td>\n",
    "        <td>Perro callejero</td>\n",
    "        <td>Cocker Spaniel</td>\n",
    "    </tr>\n",
    "    <tr>\n",
    "        <td>Edad</td>\n",
    "        <td>16</td>\n",
    "        <td>9</td>\n",
    "        <td>10</td>\n",
    "        <td>5</td>\n",
    "    </tr>\n",
    "    <tr>\n",
    "        <td>Propietario</td>\n",
    "        <td>Suegra</td>\n",
    "        <td>Yo</td>\n",
    "        <td>Yo</td>\n",
    "        <td>Cuñada</td>\n",
    "    </tr>\n",
    "    <tr>\n",
    "        <td>Hábitos alimentarios</td>\n",
    "        <td>Come las sobras de todos</td>\n",
    "        <td>Mordisquea la comida</td>\n",
    "        <td>Come en abundancia</td>\n",
    "    <td>Come hasta que revienta</td>\n",
    "    </tr>\n",
    "</table>"
   ]
  },
  {
   "attachments": {},
   "cell_type": "markdown",
   "metadata": {},
   "source": [
    "### ¿Por qué son útiles los encabezados?"
   ]
  },
  {
   "attachments": {},
   "cell_type": "markdown",
   "metadata": {},
   "source": [
    "Es más fácil encontrar los datos que buscas cuando los encabezados se destacan con claridad, y el diseño suele presentar un aspecto mejor.\n",
    "> Nota: Los encabezados de las tablas vienen con un estilo predeterminado: están en negrita y centrados (incluso si no añades tu estilo propio a la tabla) para que destaquen.\n",
    "\n",
    "Además presentan la ventaja de que, junto con el atributo de scope, mejoran la accesibilidad de las tablas porque asocian cada encabezado con todos los datos de la misma fila o columna. Así que los lectores de pantalla pueden leer una fila o columna de datos a la vez, lo cual es bastante útil."
   ]
  },
  {
   "attachments": {},
   "cell_type": "markdown",
   "metadata": {},
   "source": [
    "## Celdas que abarcan varias filas y columnas"
   ]
  },
  {
   "attachments": {},
   "cell_type": "markdown",
   "metadata": {},
   "source": [
    "A veces queremos que las celdas abarquen varias filas o columnas. "
   ]
  },
  {
   "cell_type": "code",
   "execution_count": 1,
   "metadata": {
    "dotnet_interactive": {
     "language": "html"
    },
    "polyglot_notebook": {
     "kernelName": "html"
    },
    "vscode": {
     "languageId": "polyglot-notebook"
    }
   },
   "outputs": [
    {
     "data": {
      "text/html": [
       "<table>\n",
       "    <tr>\n",
       "        <th>Animales</th>\n",
       "    </tr>\n",
       "    <tr>\n",
       "        <th>Hipopótamo</th>\n",
       "    </tr>\n",
       "    <tr>\n",
       "        <th>Caballo</th>\n",
       "        <td>Yegua</td>\n",
       "    </tr>\n",
       "    <tr>\n",
       "        <td>Semental</td>\n",
       "    </tr>\n",
       "    <tr>\n",
       "        <th>Cocodrilo</th>\n",
       "    </tr>\n",
       "    <tr>\n",
       "        <th>Pollo</th>\n",
       "        <td>Gallina</td>\n",
       "    </tr>\n",
       "    <tr>\n",
       "        <td>Gallo</td>\n",
       "    </tr>\n",
       "</table>"
      ]
     },
     "metadata": {},
     "output_type": "display_data"
    }
   ],
   "source": [
    "<table>\n",
    "    <tr>\n",
    "        <th>Animales</th>\n",
    "    </tr>\n",
    "    <tr>\n",
    "        <th>Hipopótamo</th>\n",
    "    </tr>\n",
    "    <tr>\n",
    "        <th>Caballo</th>\n",
    "        <td>Yegua</td>\n",
    "    </tr>\n",
    "    <tr>\n",
    "        <td>Semental</td>\n",
    "    </tr>\n",
    "    <tr>\n",
    "        <th>Cocodrilo</th>\n",
    "    </tr>\n",
    "    <tr>\n",
    "        <th>Pollo</th>\n",
    "        <td>Gallina</td>\n",
    "    </tr>\n",
    "    <tr>\n",
    "        <td>Gallo</td>\n",
    "    </tr>\n",
    "</table>"
   ]
  }
 ],
 "metadata": {
  "language_info": {
   "name": "python"
  },
  "orig_nbformat": 4
 },
 "nbformat": 4,
 "nbformat_minor": 2
}
