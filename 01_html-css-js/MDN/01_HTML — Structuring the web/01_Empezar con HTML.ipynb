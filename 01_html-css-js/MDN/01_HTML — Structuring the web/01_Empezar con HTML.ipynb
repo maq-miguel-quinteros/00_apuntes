{
 "cells": [
  {
   "attachments": {},
   "cell_type": "markdown",
   "metadata": {},
   "source": [
    "# Empezar con HTML"
   ]
  },
  {
   "attachments": {},
   "cell_type": "markdown",
   "metadata": {},
   "source": [
    "## ¿Qué es el HTML?"
   ]
  },
  {
   "attachments": {},
   "cell_type": "markdown",
   "metadata": {},
   "source": [
    "HTML (\"Hypertext Markup Language\") no es un lenguaje de programación. Es un lenguaje de marcado que le dice a los navegadores web cómo estructurar las páginas web que estás visitando. El HTML consiste en una serie de elementos, que puedes utilizar para encerrar, delimitar o marcar diferentes partes del contenido para hacer que aparezcan de una cierta manera, o actúen de determinada forma. Las etiquetas que delimitan un fragmento de contenido pueden hacer que dicho contenido enlace con otra página, ponga una palabra en cursiva, etcétera."
   ]
  },
  {
   "attachments": {},
   "cell_type": "markdown",
   "metadata": {},
   "source": [
    "> Nota: Las etiquetas en HTML no distinguen entre mayúsculas y minúsculas. Así que se pueden escribir tanto en mayúsculas como en minúsculas. La mejor práctica, sin embargo, es escribir todas las etiquetas en minúsculas para mantener la coherencia y legibilidad, entre otros motivos."
   ]
  },
  {
   "attachments": {},
   "cell_type": "markdown",
   "metadata": {},
   "source": [
    "## Anatomía de un elemento HTML"
   ]
  },
  {
   "attachments": {},
   "cell_type": "markdown",
   "metadata": {},
   "source": [
    "Exploremos un poco el elemento párrafo:"
   ]
  },
  {
   "attachments": {},
   "cell_type": "markdown",
   "metadata": {},
   "source": [
    "![elemento](data:image/png;base64,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)"
   ]
  },
  {
   "attachments": {},
   "cell_type": "markdown",
   "metadata": {},
   "source": [
    "Las principales partes de nuestro elemento son:\n",
    "\n",
    "* __La etiqueta de apertura__: consiste en el nombre del elemento (en este caso, `p`), encerrado entre __paréntesis angulares__ de apertura y cierre. Esta etiqueta de apertura marca dónde comienza el elemento o comienza a tener efecto.\n",
    "* __El contenido__: Este es el contenido del elemento.\n",
    "* __La etiqueta de cierre__: Es lo mismo que la etiqueta de apertura, excepto que incluye una barra diagonal antes del nombre del elemento.\n",
    "\n",
    "El elemento lo conforman la etiqueta de apertura, seguida del contenido, seguido de la etiqueta de cierre."
   ]
  },
  {
   "attachments": {},
   "cell_type": "markdown",
   "metadata": {},
   "source": [
    "### Elementos anidados"
   ]
  },
  {
   "attachments": {},
   "cell_type": "markdown",
   "metadata": {},
   "source": [
    "Se pueden poner elementos dentro de otros elementos. Esto se llama __anidamiento__. Si quisiéramos decir que nuestro gato es muy gruñón, podríamos encerrar la palabra __muy__ en un elemento `<strong>` para que aparezca destacada."
   ]
  },
  {
   "cell_type": "code",
   "execution_count": 1,
   "metadata": {
    "dotnet_interactive": {
     "language": "html"
    },
    "polyglot_notebook": {
     "kernelName": "html"
    },
    "vscode": {
     "languageId": "polyglot-notebook"
    }
   },
   "outputs": [
    {
     "data": {
      "text/html": [
       "<p>Mi gato es <strong>muy</strong> gruñón.</p>"
      ]
     },
     "metadata": {},
     "output_type": "display_data"
    }
   ],
   "source": [
    "<p>Mi gato es <strong>muy</strong> gruñón.</p>"
   ]
  },
  {
   "attachments": {},
   "cell_type": "markdown",
   "metadata": {},
   "source": [
    "Hay una forma correcta e incorrecta de anidar. En el ejemplo anterior, primero abrimos el elemento `p`, luego abrimos el elemento `strong`. Para un anidamiento adecuado, primero debemos cerrar el elemento `strong`, antes de cerrar el `p`."
   ]
  },
  {
   "attachments": {},
   "cell_type": "markdown",
   "metadata": {},
   "source": [
    "### Elementos de bloque y elementos en línea"
   ]
  },
  {
   "attachments": {},
   "cell_type": "markdown",
   "metadata": {},
   "source": [
    "Hay dos categorías importantes de elementos en HTML — Estos son los elementos de bloque y los elementos en línea.\n",
    "\n",
    "* Los elementos de bloque forman un bloque visible en la página. Aparecerán en una línea nueva después de cualquier contenido anterior. Cualquier contenido que vaya después también aparecerá en una línea nueva. Los elementos a nivel de bloque suelen ser elementos estructurales de la página. Por ejemplo encabezados, párrafos, listas, menús de navegación o pies de página. Un elemento a nivel de bloque no estaría anidado dentro de un elemento en línea, pero podría estar anidado dentro de otro elemento a nivel de bloque.\n",
    "* Los elementos en línea están contenidos dentro de elementos de bloque y delimitan solo pequeñas partes del contenido del documento. Un elemento en línea no hará que aparezca una nueva línea en el documento. Suele utilizarse con texto. Por ejemplo es el caso de un elemento `<a>` (hipervínculo) o elementos de énfasis como `<em>` o `<strong>`."
   ]
  },
  {
   "cell_type": "code",
   "execution_count": 6,
   "metadata": {
    "dotnet_interactive": {
     "language": "html"
    },
    "polyglot_notebook": {
     "kernelName": "html"
    },
    "vscode": {
     "languageId": "polyglot-notebook"
    }
   },
   "outputs": [
    {
     "data": {
      "text/html": [
       "<!-- elementos en línea se muestran seguidos-->\r\n",
       "<em>primero</em>\r\n",
       "<em>segundo</em> <em>tercero</em>\r\n",
       "\r\n",
       "<!-- elementos en bloque se muetran en una nueva línea --> \r\n",
       "<p>cuarto</p> <p>quinto</p> <p>sexto</p>"
      ]
     },
     "metadata": {},
     "output_type": "display_data"
    }
   ],
   "source": [
    "<!-- elementos en línea se muestran seguidos-->\n",
    "<em>primero</em>\n",
    "<em>segundo</em> <em>tercero</em>\n",
    "\n",
    "<!-- elementos en bloque se muetran en una nueva línea --> \n",
    "<p>cuarto</p> <p>quinto</p> <p>sexto</p>"
   ]
  },
  {
   "attachments": {},
   "cell_type": "markdown",
   "metadata": {},
   "source": [
    "### Elementos vacíos"
   ]
  },
  {
   "attachments": {},
   "cell_type": "markdown",
   "metadata": {},
   "source": [
    "No todos los elementos siguen el patrón de etiqueta de apertura, contenido y etiqueta de cierre. Algunos elementos consisten solo en una etiqueta única, que se utiliza generalmente para insertar/incrustar algo en el documento en el lugar donde se le quiere incluir. Por ejemplo, el elemento `<img>` inserta una imagen en la página:"
   ]
  },
  {
   "cell_type": "code",
   "execution_count": 7,
   "metadata": {
    "dotnet_interactive": {
     "language": "html"
    },
    "polyglot_notebook": {
     "kernelName": "html"
    },
    "vscode": {
     "languageId": "polyglot-notebook"
    }
   },
   "outputs": [
    {
     "data": {
      "text/html": [
       "<img\r\n",
       "  src=\"https://raw.githubusercontent.com/mdn/beginner-html-site/gh-pages/images/firefox-icon.png\"\r\n",
       "/>"
      ]
     },
     "metadata": {},
     "output_type": "display_data"
    }
   ],
   "source": [
    "<img src=\"https://raw.githubusercontent.com/mdn/beginner-html-site/gh-pages/images/firefox-icon.png\"/>S"
   ]
  },
  {
   "attachments": {},
   "cell_type": "markdown",
   "metadata": {},
   "source": [
    "> Nota: Los elementos vacíos en ocasiones también se llaman elementos nulos o vanos (void elements)."
   ]
  },
  {
   "attachments": {},
   "cell_type": "markdown",
   "metadata": {},
   "source": [
    "## Atributos"
   ]
  },
  {
   "attachments": {},
   "cell_type": "markdown",
   "metadata": {},
   "source": [
    "Los elementos también pueden tener atributos. Los atributos tienen este aspecto:"
   ]
  },
  {
   "attachments": {},
   "cell_type": "markdown",
   "metadata": {},
   "source": [
    "![atributos](data:image/png;base64,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)"
   ]
  },
  {
   "attachments": {},
   "cell_type": "markdown",
   "metadata": {},
   "source": [
    "Los atributos contienen información extra sobre el elemento que no se mostrará en el contenido. En este caso, el atributo `class` asigna al elemento un identificador que se puede utilizar para dotarlo de información de estilo.\n",
    "\n",
    "Un atributo debería tener:\n",
    "\n",
    "* Un espacio entre este y el nombre del elemento. (Para un elemento con más de un atributo, los atributos también deben estar separados por espacios).\n",
    "* El nombre del atributo, seguido por un signo igual.\n",
    "* Un valor del atributo, rodeado de comillas de apertura y cierre."
   ]
  },
  {
   "attachments": {},
   "cell_type": "markdown",
   "metadata": {},
   "source": [
    "Otro ejemplo de un elemento es `<a>`. Esto significa ancla. Una ancla puede convertir el texto que encierra en un hipervínculo. Las anclas pueden tener varios atributos:\n",
    "\n",
    "* `href`: el valor de este atributo indica la dirección web a la que se quiere que apunte el enlace, que será hacia donde nos lleve el navegador cuando se haga clic sobre el elemento. Por ejemplo, `href=\"https://www.mozilla.org/\"`.\n",
    "* `title`: el atributo title añade información adicional sobre el enlace, como puede ser el título de la página que vinculas. Por ejemplo, `title=\"La página de inicio de Mozilla\"`. Esta información aparecerá cuando se le pase el ratón por encima.\n",
    "* `target`: el atributo target especifica el contexto de navegación que va a usar para mostrar el enlace. Por ejemplo, `target=\"_blank\"` abrirá el enlace en una nueva pestaña. Si quieres mostrar el enlace en la pestaña activa, simplemente omite este atributo."
   ]
  },
  {
   "attachments": {},
   "cell_type": "markdown",
   "metadata": {},
   "source": [
    "### Atributos booleanos"
   ]
  },
  {
   "attachments": {},
   "cell_type": "markdown",
   "metadata": {},
   "source": [
    "En ocasiones puedes ver atributos escritos sin valor. Esto está permitido. Estos se denominan atributos booleanos. Los atributos booleanos solo pueden tener un valor, que generalmente es el mismo que el nombre del atributo. Por ejemplo, considera el atributo `disabled`, que puedes asignar a los elementos de entrada del formulario. (Usa esto para deshabilitar los elementos de entrada del formulario para que el usuario no pueda realizar entradas. Los elementos desactivados suelen tener una apariencia atenuada)."
   ]
  },
  {
   "cell_type": "code",
   "execution_count": 9,
   "metadata": {
    "dotnet_interactive": {
     "language": "html"
    },
    "polyglot_notebook": {
     "kernelName": "html"
    },
    "vscode": {
     "languageId": "polyglot-notebook"
    }
   },
   "outputs": [
    {
     "data": {
      "text/html": [
       "<!-- el uso del atributo deshabilitado evita que el usuario final introduzca texto en el cuadro de entrada -->\r\n",
       "<input type=\"text\" disabled />\r\n",
       "\r\n",
       "<!-- se permite la entrada de texto, ya que no contiene el atributo deshabilitado -->\r\n",
       "<input type=\"text\" />"
      ]
     },
     "metadata": {},
     "output_type": "display_data"
    }
   ],
   "source": [
    "<!-- el uso del atributo deshabilitado evita que el usuario final introduzca texto en el cuadro de entrada -->\n",
    "<input type=\"text\" disabled />\n",
    "\n",
    "<!-- se permite la entrada de texto, ya que no contiene el atributo deshabilitado -->\n",
    "<input type=\"text\" />"
   ]
  },
  {
   "attachments": {},
   "cell_type": "markdown",
   "metadata": {},
   "source": [
    "### Omitir comillas en valores de atributos"
   ]
  },
  {
   "attachments": {},
   "cell_type": "markdown",
   "metadata": {},
   "source": [
    "Cuando observas diferentes páginas web, puedes encontrarte con todo tipo de estilos de etiquetado extraños, que incluyen valores de atributos sin comillas. Esto se permite en ciertas circunstancias, pero interrumpirá la edición en otras. Por ejemplo, si volvemos a revisar el ejemplo del enlace, sería posible escribir una versión básica con solo el atributo `href`."
   ]
  },
  {
   "cell_type": "code",
   "execution_count": 11,
   "metadata": {
    "dotnet_interactive": {
     "language": "html"
    },
    "polyglot_notebook": {
     "kernelName": "html"
    },
    "vscode": {
     "languageId": "polyglot-notebook"
    }
   },
   "outputs": [
    {
     "data": {
      "text/html": [
       "<a href=https://www.mozilla.org/>mi sitio web favorito</a>"
      ]
     },
     "metadata": {},
     "output_type": "display_data"
    }
   ],
   "source": [
    "<a href=https://www.mozilla.org/>mi sitio web favorito</a>"
   ]
  },
  {
   "attachments": {},
   "cell_type": "markdown",
   "metadata": {},
   "source": [
    "Sin embargo, las cosas no funcionarán cuando a este estilo se añada el atributo `title`."
   ]
  },
  {
   "cell_type": "code",
   "execution_count": 12,
   "metadata": {
    "dotnet_interactive": {
     "language": "html"
    },
    "polyglot_notebook": {
     "kernelName": "html"
    },
    "vscode": {
     "languageId": "polyglot-notebook"
    }
   },
   "outputs": [
    {
     "data": {
      "text/html": [
       "<a href=https://www.mozilla.org/ title=The Mozilla homepage>mi sitio web favorito</a>"
      ]
     },
     "metadata": {},
     "output_type": "display_data"
    }
   ],
   "source": [
    "<a href=https://www.mozilla.org/ title=The Mozilla homepage>mi sitio web favorito</a>"
   ]
  },
  {
   "attachments": {},
   "cell_type": "markdown",
   "metadata": {},
   "source": [
    "En este punto el navegador interpretará mal el cambio y pensará que el atributo `title` corresponde a tres atributos: un atributo `title` con el valor ___The___ y dos atributos booleanos: `Mozilla` y `homepage`. Incluye siempre las comillas de atributos. Evita tales problemas y da como resultado un código más legible."
   ]
  },
  {
   "attachments": {},
   "cell_type": "markdown",
   "metadata": {},
   "source": [
    "### ¿Comillas simples o dobles?"
   ]
  },
  {
   "attachments": {},
   "cell_type": "markdown",
   "metadata": {},
   "source": [
    "En este artículo todos los atributos se han incluido en comillas dobles. Sin embargo, se pueden ver comillas simples en algún código HTML. Es una cuestión de estilo. Puedes elegir libremente cuál prefieres. Ambas líneas de código son equivalentes."
   ]
  },
  {
   "cell_type": "code",
   "execution_count": 14,
   "metadata": {
    "dotnet_interactive": {
     "language": "html"
    },
    "polyglot_notebook": {
     "kernelName": "html"
    },
    "vscode": {
     "languageId": "polyglot-notebook"
    }
   },
   "outputs": [
    {
     "data": {
      "text/html": [
       "<a href=\"http://www.ejemplo.com\">Un enlace a mi ejemplo.</a>\r\n",
       "<br>\r\n",
       "<a href=\"http://www.ejemplo.com\">Un enlace a mi ejemplo.</a>"
      ]
     },
     "metadata": {},
     "output_type": "display_data"
    }
   ],
   "source": [
    "<a href=\"http://www.ejemplo.com\">Un enlace a mi ejemplo.</a>\n",
    "<br>\n",
    "<a href=\"http://www.ejemplo.com\">Un enlace a mi ejemplo.</a>"
   ]
  },
  {
   "attachments": {},
   "cell_type": "markdown",
   "metadata": {},
   "source": [
    "Asegúrate de no mezclar ambos tipos de comillas. El siguiente ejemplo muestra un tipo de mezcla de comillas que saldrá mal:"
   ]
  },
  {
   "cell_type": "code",
   "execution_count": 15,
   "metadata": {
    "dotnet_interactive": {
     "language": "html"
    },
    "polyglot_notebook": {
     "kernelName": "html"
    },
    "vscode": {
     "languageId": "polyglot-notebook"
    }
   },
   "outputs": [
    {
     "data": {
      "text/html": [
       "<a href=\"http://www.ejemplo.com'>Un enlace a mi ejemplo.</a>"
      ]
     },
     "metadata": {},
     "output_type": "display_data"
    }
   ],
   "source": [
    "<a href=\"http://www.ejemplo.com'>Un enlace a mi ejemplo.</a>"
   ]
  },
  {
   "attachments": {},
   "cell_type": "markdown",
   "metadata": {},
   "source": [
    "Si utilizas un tipo de comillas en tu documento HTML, puedes incluir el otro tipo de comillas para tus valores de atributo sin que esto te cause problemas."
   ]
  },
  {
   "cell_type": "code",
   "execution_count": 16,
   "metadata": {
    "dotnet_interactive": {
     "language": "html"
    },
    "polyglot_notebook": {
     "kernelName": "html"
    },
    "vscode": {
     "languageId": "polyglot-notebook"
    }
   },
   "outputs": [
    {
     "data": {
      "text/html": [
       "<a href=\"http://www.ejemplo.com\" title=\"¿A que es 'divertido'\">Un enlace a mi ejemplo.</a>"
      ]
     },
     "metadata": {},
     "output_type": "display_data"
    }
   ],
   "source": [
    "<!-- la palabra divertido que aparece cuando posamos el mouse sobre el enlace va a estar entre comillas simples -->\n",
    "<a href=\"http://www.ejemplo.com\" title=\"¿A que es 'divertido'\">Un enlace a mi ejemplo.</a>"
   ]
  },
  {
   "attachments": {},
   "cell_type": "markdown",
   "metadata": {},
   "source": [
    "Sin embargo, si deseas anidar unas comillas dentro de otras del mismo tipo (ya sea simples o dobles), tendrás que utilizar entidades HTML para las comillas."
   ]
  },
  {
   "cell_type": "code",
   "execution_count": 18,
   "metadata": {
    "dotnet_interactive": {
     "language": "html"
    },
    "polyglot_notebook": {
     "kernelName": "html"
    },
    "vscode": {
     "languageId": "polyglot-notebook"
    }
   },
   "outputs": [
    {
     "data": {
      "text/html": [
       "<!-- el siguiente código no muestra correctamente el atributo title cuando pasamos el mouse sobre el enlace -->\r\n",
       "<a href='http://www.ejemplo.com' title='¿A que es 'divertido'?'>Un enlace a mi ejemplo.</a>\r\n",
       "<br>\r\n",
       "<!-- la forma correcta de hacerlo -->\r\n",
       "<a href=\"http://www.ejemplo.com\" title=\"¿A que es 'divertido'?\">Un enlace a mi ejemplo.</a>"
      ]
     },
     "metadata": {},
     "output_type": "display_data"
    }
   ],
   "source": [
    "<!-- el siguiente código no muestra correctamente el atributo title cuando pasamos el mouse sobre el enlace -->\n",
    "<a href='http://www.ejemplo.com' title='¿A que es 'divertido'?'>Un enlace a mi ejemplo.</a>\n",
    "<br>\n",
    "<!-- la forma correcta de hacerlo -->\n",
    "<a href=\"http://www.ejemplo.com\" title=\"¿A que es 'divertido'?\">Un enlace a mi ejemplo.</a>"
   ]
  },
  {
   "attachments": {},
   "cell_type": "markdown",
   "metadata": {},
   "source": [
    "## Anatomía de un documento HTML"
   ]
  },
  {
   "cell_type": "code",
   "execution_count": 19,
   "metadata": {
    "dotnet_interactive": {
     "language": "html"
    },
    "polyglot_notebook": {
     "kernelName": "html"
    },
    "vscode": {
     "languageId": "polyglot-notebook"
    }
   },
   "outputs": [
    {
     "data": {
      "text/html": [
       "<!DOCTYPE html>\r\n",
       "<html>\r\n",
       "    <head>\r\n",
       "        <meta charset=\"utf-8\" />\r\n",
       "        <title>Mi página de prueba</title>\r\n",
       "    </head>\r\n",
       "    <body>\r\n",
       "        <p>Esta es mi página</p>\r\n",
       "    </body>\r\n",
       "</html>"
      ]
     },
     "metadata": {},
     "output_type": "display_data"
    }
   ],
   "source": [
    "<!DOCTYPE html>\n",
    "<html>\n",
    "    <head>\n",
    "        <meta charset=\"utf-8\" />\n",
    "        <title>Mi página de prueba</title>\n",
    "    </head>\n",
    "    <body>\n",
    "        <p>Esta es mi página</p>\n",
    "    </body>\n",
    "</html>"
   ]
  },
  {
   "attachments": {},
   "cell_type": "markdown",
   "metadata": {},
   "source": [
    "1. `<!DOCTYPE html>`: El elemento doctype. En sus inicios, cuando el HTML llevaba poco tiempo (alrededor de 1991-1992), los _doctypes_ servían como enlaces al conjunto de reglas que la página HTML debía seguir para que fuera considerado buen HTML. En la actualidad se ignora y se considera un legado histórico que hay que incluir para que todo funcione correctamente. `<!DOCTYPE html>` es la secuencia de caracteres más corta que se acepta como elemento _doctype_ válido. Eso es lo único que realmente necesitas saber. Un elemento _doctype_ de aquella época podía parecerse a esto:"
   ]
  },
  {
   "cell_type": "code",
   "execution_count": 21,
   "metadata": {
    "dotnet_interactive": {
     "language": "html"
    },
    "polyglot_notebook": {
     "kernelName": "html"
    },
    "vscode": {
     "languageId": "polyglot-notebook"
    }
   },
   "outputs": [
    {
     "data": {
      "text/html": [
       "<!DOCTYPE html PUBLIC \"-//W3C//DTD XHTML 1.0 Transitional//EN\" \"http://www.w3.org/TR/xhtml1/DTD/xhtml1-transitional.dtd\">"
      ]
     },
     "metadata": {},
     "output_type": "display_data"
    }
   ],
   "source": [
    "<!DOCTYPE html PUBLIC \"-//W3C//DTD XHTML 1.0 Transitional//EN\" \"http://www.w3.org/TR/xhtml1/DTD/xhtml1-transitional.dtd\">"
   ]
  },
  {
   "attachments": {},
   "cell_type": "markdown",
   "metadata": {},
   "source": [
    "2. `<html></html>`: El elemento `<html>`. Este elemento envuelve todo el contenido de la página. A veces se lo conoce como el elemento raíz.\n",
    "\n",
    "3. `<head></head>`: El elemento `<head>` (cabecera). Este elemento actúa como contenedor para todos los parámetros que quieras incluir en el documento HTML que no serán visibles a los visitantes de la página. Incluye cosas como palabras clave y la descripción de la página que quieras mostrar en los resultados de búsqueda, así como la hoja de estilo para formatear nuestro contenido, declaraciones de codificación de caracteres y más.\n",
    "\n",
    "4. `<meta charset=\"utf-8\">`: Este elemento establece que tu documento HTML usará la codificación UTF-8, que incluye la gran mayoría de caracteres de todos los idiomas humanos escritos. En resumen: puede gestionar cualquier contenido textual que pongas en tu documento. No hay razón para no configurar este valor y te puede ayudar a evitar problemas más adelante.\n",
    "\n",
    "5. `<title></title>`: El elemento `<title>`. Este establece el título de la página, que es el título que aparece en la pestaña del navegador en la que se carga la página. El título de la página también se utiliza para describir la página cuando se marca como favorita.\n",
    "\n",
    "6. `<body></body>`: El elemento `<body>`. Contiene todo el contenido que quieres mostrar a los usuarios cuando visitan tu página, ya sea texto, imágenes, vídeos, juegos, pistas de audio reproducibles o cualquier otra cosa."
   ]
  },
  {
   "attachments": {},
   "cell_type": "markdown",
   "metadata": {},
   "source": [
    "### Los espacios en blanco en HTML"
   ]
  },
  {
   "attachments": {},
   "cell_type": "markdown",
   "metadata": {},
   "source": [
    "En los ejemplos anteriores se han incluido espacios en blanco y saltos de línea en el código. Esto realmente no es necesario. Los dos siguientes fragmentos de código son equivalentes:"
   ]
  },
  {
   "cell_type": "code",
   "execution_count": 22,
   "metadata": {
    "dotnet_interactive": {
     "language": "html"
    },
    "polyglot_notebook": {
     "kernelName": "html"
    },
    "vscode": {
     "languageId": "polyglot-notebook"
    }
   },
   "outputs": [
    {
     "data": {
      "text/html": [
       "<p>Los perros son tontos.</p>\r\n",
       "\r\n",
       "<p>Los    perros        son\r\n",
       "        tontos.</p>"
      ]
     },
     "metadata": {},
     "output_type": "display_data"
    }
   ],
   "source": [
    "<p>Los perros son tontos.</p>\n",
    "\n",
    "<p>Los    perros        son\n",
    "        tontos.</p>"
   ]
  },
  {
   "attachments": {},
   "cell_type": "markdown",
   "metadata": {},
   "source": [
    "No importa cuántos espacios en blanco se utilicen (incluye tanto caracteres de espacio como saltos de línea) el intérprete de HTML reduce cada secuencia de espacio en blanco a un único espacio al interpretar el código. Entonces, ¿por qué utilizar espacios en blanco? La respuesta está en la legibilidad."
   ]
  },
  {
   "attachments": {},
   "cell_type": "markdown",
   "metadata": {},
   "source": [
    "## Referencias a entidades: Inclusión de caracteres especiales en HTML"
   ]
  },
  {
   "attachments": {},
   "cell_type": "markdown",
   "metadata": {},
   "source": [
    "En HTML, los caracteres `<`, `>`,`\"`,`'` y `&` son caracteres especiales. Forman parte de la sintaxis HTML. Por ejemplo, si deseas utilizar un signo comercial o menor que, y no hacer que se interprete como código se hace con referencias de caracteres. Estos son códigos especiales que representan caracteres, para ser usados en estas circunstancias exactas. Cada referencia de caracter comienza con un signo de ampersand (&) y finaliza con un punto y coma (;)."
   ]
  },
  {
   "attachments": {},
   "cell_type": "markdown",
   "metadata": {},
   "source": [
    "| Caracter literal | Equivalente de referencia de caracteres|\n",
    "| --- | --- |\n",
    "| <\t| `&lt;` |\n",
    "| >\t| `&gt;` |\n",
    "| \"\t| `&quot;` |\n",
    "| '\t| `&apos;` |\n",
    "| &\t| `&amp;` |"
   ]
  },
  {
   "cell_type": "code",
   "execution_count": 24,
   "metadata": {
    "dotnet_interactive": {
     "language": "html"
    },
    "polyglot_notebook": {
     "kernelName": "html"
    },
    "vscode": {
     "languageId": "polyglot-notebook"
    }
   },
   "outputs": [
    {
     "data": {
      "text/html": [
       "<!-- el primer párrafo salió mal. El navegador interpreta la segunda instancia de <p> como el inicio de un nuevo párrafo -->\r\n",
       "<p>En HTML, defines un párrafo con el elemento <p>.</p>\r\n",
       "\r\n",
       "<!-- el  párrafo se ve bien porque hemos remplazado < y > por sus referencias correspondientes -->\r\n",
       "<p>En HTML, defines un párrafo con el elemento &lt;p&gt;.</p>"
      ]
     },
     "metadata": {},
     "output_type": "display_data"
    }
   ],
   "source": [
    "<!-- el primer párrafo salió mal. El navegador interpreta la segunda instancia de <p> como el inicio de un nuevo párrafo -->\n",
    "<p>En HTML, defines un párrafo con el elemento <p>.</p>\n",
    "\n",
    "<!-- el  párrafo se ve bien porque hemos remplazado < y > por sus referencias correspondientes -->\n",
    "<p>En HTML, defines un párrafo con el elemento &lt;p&gt;.</p>"
   ]
  },
  {
   "attachments": {},
   "cell_type": "markdown",
   "metadata": {},
   "source": [
    "## Comentarios HTML"
   ]
  },
  {
   "attachments": {},
   "cell_type": "markdown",
   "metadata": {},
   "source": [
    "En HTML hay un mecanismo para escribir comentarios en el código. Los comentarios son ignorados por el navegador y, por tanto, son invisibles para el usuario. El propósito de los comentarios es permitirte incluir notas en el código para explicar tu lógica o codificación.\n",
    "Para convertir en un comentario una sección de contenido de tu archivo HTML, debes delimitarlo con los marcadores especiales `<!--` y `-->`."
   ]
  }
 ],
 "metadata": {
  "language_info": {
   "name": "python"
  },
  "orig_nbformat": 4
 },
 "nbformat": 4,
 "nbformat_minor": 2
}
