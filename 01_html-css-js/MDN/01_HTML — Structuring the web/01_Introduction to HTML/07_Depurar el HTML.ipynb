{
 "cells": [
  {
   "attachments": {},
   "cell_type": "markdown",
   "metadata": {},
   "source": [
    "# Depurar el HTML"
   ]
  },
  {
   "attachments": {},
   "cell_type": "markdown",
   "metadata": {},
   "source": [
    "## Depurar no debe asustarnos"
   ]
  },
  {
   "attachments": {},
   "cell_type": "markdown",
   "metadata": {},
   "source": [
    "Cuando escribimos cualquier tipo de código, normalmente todo va bien, hasta ese fatídico momento en el que ocurre un error, hemos hecho algo mal y el código no funciona, o no funciona del todo, no lo suficientemente bien. Los mensajes de error pueden complicarse con facilidad y su interpretación ser menos sencilla a medida que los programas aumentan en tamaño, e incluso casos sencillo pueden llegar a intimidar a alguien. Sin embargo, la depuración no nos debe asustar; la clave para sentirnos cómodos con la escritura y la depuración de cualquier lenguaje o código es la familiaridad, tanto con el lenguaje como con las herramientas."
   ]
  },
  {
   "attachments": {},
   "cell_type": "markdown",
   "metadata": {},
   "source": [
    "## HTML y depuración"
   ]
  },
  {
   "attachments": {},
   "cell_type": "markdown",
   "metadata": {},
   "source": [
    "HTML no es tan complicado de entender, no se compila por separado antes de que el navegador lo analice (se interpreta, no se compila). Y la sintaxis de los elementos de HTML es mucho más sencilla de entender que la de cualquier lenguaje de programación. La forma en que los navegadores ejecutan HTML es más permisiva que la de los otros lenguajes, cosa que es buena y mala a la vez."
   ]
  },
  {
   "attachments": {},
   "cell_type": "markdown",
   "metadata": {},
   "source": [
    "### Código permisivo"
   ]
  },
  {
   "attachments": {},
   "cell_type": "markdown",
   "metadata": {},
   "source": [
    "¿Qué queremos decir con permisivo? Bien, normalmente cuando hacemos algo mal al codificar, suele haber dos tipos de error:\n",
    "\n",
    "* __Errores sintácticos__: Son errores de escritura en el código que impiden que el programa funcione. Suelen ser fáciles de arreglar si estamos familiarizados con las herramientas adecuadas y sabemos el significado de los mensajes de error.\n",
    "\n",
    "* __Errores lógicos__: En estos errores la sintaxis es correcta, pero el código no hace lo que debería, por lo que el programa funciona de forma incorrecta. Estos errores son, por lo general, más difíciles de solucionar que los sintácticos, porque no hay mensajes de error que nos avisen de ellos.\n",
    "\n",
    "HTML en sí mismo no suele producir errores sintácticos porque los navegadores son permisivos con ellos; o sea, el código se sigue ejecutando ¡aun si hay errores! Los navegadores disponen de reglas internas para saber cómo interpretar los errores de marcado incorrecto que encuentran, y seguirán funcionando aunque no produzcan el resultado esperado. Esto puede también ser un problema, por supuesto."
   ]
  },
  {
   "attachments": {},
   "cell_type": "markdown",
   "metadata": {},
   "source": [
    "> Nota: La ejecución de HTML es permisiva porque cuando se creó la web por primera vez, se decidió que el hecho de permitir que la gente publicara su contenido era más importante que el hecho de que la sintaxis fuera totalmente correcta. La web no sería tan popular como lo es hoy en día si se hubiera sido más estricto desde el primer momento."
   ]
  },
  {
   "attachments": {},
   "cell_type": "markdown",
   "metadata": {},
   "source": [
    "### Validación HTML"
   ]
  },
  {
   "attachments": {},
   "cell_type": "markdown",
   "metadata": {},
   "source": [
    "El servicio de __validación de etiquetas__ (https://validator.w3.org/); fue creado y está mantenido por el W3C, organización que se encarga de definir las especificaciones de HTML, CSS y otras tecnologías web. Esta página web toma un documento HTML como entrada, lo procesa, y genera un informe de dónde están los errores en el documento.\n",
    "\n",
    "Documento de ejemplo:"
   ]
  },
  {
   "cell_type": "code",
   "execution_count": 1,
   "metadata": {
    "dotnet_interactive": {
     "language": "html"
    },
    "polyglot_notebook": {
     "kernelName": "html"
    },
    "vscode": {
     "languageId": "polyglot-notebook"
    }
   },
   "outputs": [
    {
     "data": {
      "text/html": [
       "<!DOCTYPE html>\n",
       "<html lang=\"en-us\">\n",
       "    <head>\n",
       "        <meta charset=\"utf-8\">\n",
       "\n",
       "        <title>HTML debugging examples</title>\n",
       "\n",
       "\n",
       "    </head>\n",
       "\n",
       "    <body>\n",
       "        <h1>HTML debugging examples</h1>\n",
       "\n",
       "        <p>What causes errors in HTML?\n",
       "\n",
       "        <ul>\n",
       "            <li>Unclosed elements: If an element is <strong>not closed properly, then its effect can spread to areas you didn't intend\n",
       "\n",
       "            <li>Badly nested elements: Nesting elements properly is also very important for code behaving correctly. <strong>strong <em>strong emphasised?</strong> what is this?</em>\n",
       "\n",
       "            <li>Unclosed attributes: Another common source of HTML problems. Let's look at an example: <a href=\"https://www.mozilla.org/>link to Mozilla homepage</a>\n",
       "        </ul>\n",
       "    </body>\n",
       "</html>"
      ]
     },
     "metadata": {},
     "output_type": "display_data"
    }
   ],
   "source": [
    "<!DOCTYPE html>\n",
    "<html lang=\"en-us\">\n",
    "    <head>\n",
    "        <meta charset=\"utf-8\">\n",
    "\n",
    "        <title>HTML debugging examples</title>\n",
    "\n",
    "\n",
    "    </head>\n",
    "\n",
    "    <body>\n",
    "        <h1>HTML debugging examples</h1>\n",
    "\n",
    "        <p>What causes errors in HTML?\n",
    "\n",
    "        <ul>\n",
    "            <li>Unclosed elements: If an element is <strong>not closed properly, then its effect can spread to areas you didn't intend\n",
    "\n",
    "            <li>Badly nested elements: Nesting elements properly is also very important for code behaving correctly. <strong>strong <em>strong emphasised?</strong> what is this?</em>\n",
    "\n",
    "            <li>Unclosed attributes: Another common source of HTML problems. Let's look at an example: <a href=\"https://www.mozilla.org/>link to Mozilla homepage</a>\n",
    "        </ul>\n",
    "    </body>\n",
    "</html>"
   ]
  },
  {
   "attachments": {},
   "cell_type": "markdown",
   "metadata": {},
   "source": [
    "1. Primero, cargamos el servicio de validación en una pestaña del navegador, si no lo tenemos ya.\n",
    "2. Hacemos clic en la subpestaña __Validate by Direct Input__.\n",
    "3. Copiamos el código del documento ejemplo (no solo el body) y lo pegamos en el cuadro de texto grande.\n",
    "4. Hacemos clic en el botón __Check__.\n",
    "\n",
    "Esto debería proporcionar una lista de errores y otras informaciones:"
   ]
  },
  {
   "attachments": {},
   "cell_type": "markdown",
   "metadata": {},
   "source": [
    "![error de validación](data:image/png;base64,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)"
   ]
  },
  {
   "attachments": {},
   "cell_type": "markdown",
   "metadata": {},
   "source": [
    "#### Interpretación de los mensajes de error"
   ]
  },
  {
   "attachments": {},
   "cell_type": "markdown",
   "metadata": {},
   "source": [
    "La lista de mensajes de error que nos presenta el validador suele ayudar, pero a veces, no resultan muy útiles; con un poco de práctica aprenderemos a interpretar la lista para arreglar nuestro código. Observamos que cada mensaje se presenta con un número de línea y de columna, para ayudar a localizar el error más fácilmente.\n",
    "\n",
    "* \"_Consider adding a lang attribute to the html start tag to declare the language of this document_\": No se trata de un error, sino de una advertencia (__warning__). La recomendación es definir siempre un idioma, y este \"warning\" explica cómo hacerlo.\n",
    "\n",
    "* \"_End tag li implied, but there were open elements_\" (2 instancias): Estos mensajes indican que un elemento que ha sido abierto debe ser cerrado. La etiqueta de cierre se supone, pero no está ahí. La información de la línea/columna apunta a la primera línea después de donde debería estar la etiqueta de cierre; es una buena pista para ver qué pasa.\n",
    "* \"_Unclosed element strong_\": Un elemento `<strong>` no ha sido cerrado, y la línea/columna apunta directamente al lugar del error.\n",
    "* \"_End tag `strong` violates nesting rules_\": Este apunta a elementos que están incorrectamente anidados, y la línea/columna nos indica donde están.\n",
    "* \"_End of file reached when inside an attribute value. Ignoring tag_\": Esta es bastante enigmática; se refiere al hecho de que el valor de un atributo no ha sido bien construido, posiblemente cerca del final del archivo porque el final aparece dentro del valor del atributo. El hecho de que el navegador no muestre el enlace nos debería dar una buena pista de qué elemento es el erróneo.\n",
    "* \"_End of file seen and there were open elements_\": Este es un poco ambiguo, pero básicamente se refiere al hecho de que hay elementos abiertos que necesitan ser cerrados adecuadamente. Los números de línea apuntan a las últimas líneas del archivo, y este mensaje de error viene con una línea de código que indica un ejemplo de un elemento abierto: example: `<a href=\"https://www.mozilla.org/>link to Mozilla homepage</a> ↩ </ul>↩ </body>↩</html>`."
   ]
  },
  {
   "attachments": {},
   "cell_type": "markdown",
   "metadata": {},
   "source": [
    "> Nota: Un atributo al que le falten las comillas de cierre puede ser un elemento abierto, porque el resto del documento será interpretado como si fuera parte de este atributo."
   ]
  },
  {
   "attachments": {},
   "cell_type": "markdown",
   "metadata": {},
   "source": [
    "* \"`Unclosed element ul`\": Este no ayuda mucho, porque el elemento `<ul>` está cerrado correctamente. Este error se debe a que el elemento `<a>` no ha sido cerrado, ya que faltan las comillas de cierre.\n",
    "\n",
    "No debemos preocuparnos si no podemos corregir todos los mensajes de error; es práctico tratar de arreglar unos pocos errores cada vez y volver a pasar el validador para ver los que quedan. A veces, al arreglar unos cuantos se arreglan automáticamente otros muchos; con frecuencia muchos errores los causa uno solo en un efecto dominó.\n",
    "\n",
    "Sabremos que todos los errores están arreglados cuando veamos el mensaje siguiente:"
   ]
  },
  {
   "attachments": {},
   "cell_type": "markdown",
   "metadata": {},
   "source": [
    "![código correcto](data:image/png;base64,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)"
   ]
  }
 ],
 "metadata": {
  "language_info": {
   "name": "python"
  },
  "orig_nbformat": 4
 },
 "nbformat": 4,
 "nbformat_minor": 2
}
