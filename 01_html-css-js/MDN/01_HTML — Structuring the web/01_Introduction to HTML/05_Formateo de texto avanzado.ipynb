{
 "cells": [
  {
   "attachments": {},
   "cell_type": "markdown",
   "metadata": {},
   "source": [
    "# Formateo de texto avanzado"
   ]
  },
  {
   "attachments": {},
   "cell_type": "markdown",
   "metadata": {},
   "source": [
    "Hay muchos otros elementos en HTML para dar formato al texto. Los elementos descritos en este artículo son menos conocidos, pero aún así es muy útil conocerlos (no obstante, no es una lista completa de ninguna manera)."
   ]
  },
  {
   "attachments": {},
   "cell_type": "markdown",
   "metadata": {},
   "source": [
    "## Listas de descripciones"
   ]
  },
  {
   "attachments": {},
   "cell_type": "markdown",
   "metadata": {},
   "source": [
    "En los fundamentos del texto HTML no mencionamos el tercer tipo de lista con la que te encontrarás ocasionalmente: __listas de descripción__. El propósito de estas listas es marcar un conjunto de elementos y sus descripciones asociadas, como términos y definiciones, o preguntas y respuestas.\n",
    "\n",
    "Las listas de descripción utilizan un contenedor diferente al de los otros tipos de listas `<dl>` («description list» o lista de descripciones); además, cada término está envuelto en un elemento `<dt>` («description term» o término a describir), y cada descripción está envuelta en un elemento `<dd>` («description definition» o definición de descripción)."
   ]
  },
  {
   "cell_type": "code",
   "execution_count": 2,
   "metadata": {
    "dotnet_interactive": {
     "language": "html"
    },
    "polyglot_notebook": {
     "kernelName": "html"
    },
    "vscode": {
     "languageId": "polyglot-notebook"
    }
   },
   "outputs": [
    {
     "data": {
      "text/html": [
       "<!-- Los estilos predeterminados del navegador mostrarán listas de descripciones con las descripciones sangradas un poco más que los términos -->\n",
       "<dl>\n",
       "    <dt>soliloquio</dt>\n",
       "    <dd>\n",
       "    En las obras dramáticas, corresponde a cuando un personaje se habla a sí mismo para representar sus pensamientos o sentimientos internos y, en el proceso, transmitirlos a la audiencia (pero no a otros personajes).\n",
       "    </dd>\n",
       "    <dt>monólogo</dt>\n",
       "    <dd>\n",
       "    En las obras dramáticas, corresponde a cuando un personaje habla de sus pensamientos en voz alta para compartirlos con el público y cualquier otro personaje presente.\n",
       "    </dd>\n",
       "    <dt>aparte</dt>\n",
       "    <dd>\n",
       "    En las obras dramáticas, corresponde a cuando un personaje comparte un comentario solo con la audiencia para dar efecto cómico o dramático. Suele ser un sentimiento, un pensamiento o información adicional.\n",
       "    </dd>\n",
       "    <dt>aparte</dt>\n",
       "    <!-- un solo término puede tener múltiples descripciones -->\n",
       "    <dd>\n",
       "    En las obras dramáticas, corresponde a cuando un personaje comparte un comentario solo con la audiencia para dar efecto cómico o dramático. Suele ser un sentimiento, un pensamiento o información adicional.\n",
       "    </dd>\n",
       "    <dd>\n",
       "    Si la obra es impresa, es una sección de contenido que se relaciona con el tema, pero no encaja directamente en el flujo principal de contenido, de modo que se presenta por separado (a menudo en una caja de texto en el margen).\n",
       "    </dd>\n",
       "</dl>"
      ]
     },
     "metadata": {},
     "output_type": "display_data"
    }
   ],
   "source": [
    "<!-- Los estilos predeterminados del navegador mostrarán listas de descripciones con las descripciones sangradas un poco más que los términos -->\n",
    "<dl>\n",
    "    <dt>soliloquio</dt>\n",
    "    <dd>\n",
    "    En las obras dramáticas, corresponde a cuando un personaje se habla a sí mismo para representar sus pensamientos o sentimientos internos y, en el proceso, transmitirlos a la audiencia (pero no a otros personajes).\n",
    "    </dd>\n",
    "    <dt>monólogo</dt>\n",
    "    <dd>\n",
    "    En las obras dramáticas, corresponde a cuando un personaje habla de sus pensamientos en voz alta para compartirlos con el público y cualquier otro personaje presente.\n",
    "    </dd>\n",
    "    <dt>aparte</dt>\n",
    "    <dd>\n",
    "    En las obras dramáticas, corresponde a cuando un personaje comparte un comentario solo con la audiencia para dar efecto cómico o dramático. Suele ser un sentimiento, un pensamiento o información adicional.\n",
    "    </dd>\n",
    "    <dt>aparte</dt>\n",
    "    <!-- un solo término puede tener múltiples descripciones -->\n",
    "    <dd>\n",
    "    En las obras dramáticas, corresponde a cuando un personaje comparte un comentario solo con la audiencia para dar efecto cómico o dramático. Suele ser un sentimiento, un pensamiento o información adicional.\n",
    "    </dd>\n",
    "    <dd>\n",
    "    Si la obra es impresa, es una sección de contenido que se relaciona con el tema, pero no encaja directamente en el flujo principal de contenido, de modo que se presenta por separado (a menudo en una caja de texto en el margen).\n",
    "    </dd>\n",
    "</dl>"
   ]
  },
  {
   "attachments": {},
   "cell_type": "markdown",
   "metadata": {},
   "source": [
    "## Citas"
   ]
  },
  {
   "attachments": {},
   "cell_type": "markdown",
   "metadata": {},
   "source": [
    "HTML también dispone de elementos para el marcado de citas; cual elemento utilices depende de si estás marcando la cita como un bloque o como un elemento en línea."
   ]
  },
  {
   "attachments": {},
   "cell_type": "markdown",
   "metadata": {},
   "source": [
    "### Cita en bloque independiente (`blockquote`)"
   ]
  },
  {
   "attachments": {},
   "cell_type": "markdown",
   "metadata": {},
   "source": [
    "Si una sección de contenido a nivel de bloque (ya sea un párrafo, varios párrafos, una lista, etc.) se cita en otro lugar, debes envolverla dentro de un elemento `<blockquote>` para indicarlo, e incluye una URL que apunte a la fuente de la cita dentro de un atributo `cite`."
   ]
  },
  {
   "cell_type": "code",
   "execution_count": 4,
   "metadata": {
    "dotnet_interactive": {
     "language": "html"
    },
    "polyglot_notebook": {
     "kernelName": "html"
    },
    "vscode": {
     "languageId": "polyglot-notebook"
    }
   },
   "outputs": [
    {
     "data": {
      "text/html": [
       "<p>A continuación se muestra una cita en bloque independiente...</p>\n",
       "<!-- El estilo predeterminado del navegador lo mostrará como un párrafo con sangría, para indicar que se trata de una cita; el párrafo anterior a la cita sirve para demostrarlo. -->\n",
       "<blockquote cite=\"https://developer.mozilla.org/es/docs/Web/HTML/Element/blockquote\">\n",
       "    <p>El <strong>elemento HTML <code>&lt;blockquote&gt;</code></strong> (o <em>elemento HTML de cita en bloque independiente</em>) indica que el texto al que delimita es una cita ampliada.</p>\n",
       "</blockquote>"
      ]
     },
     "metadata": {},
     "output_type": "display_data"
    }
   ],
   "source": [
    "<p>A continuación se muestra una cita en bloque independiente...</p>\n",
    "<!-- El estilo predeterminado del navegador lo mostrará como un párrafo con sangría, para indicar que se trata de una cita; el párrafo anterior a la cita sirve para demostrarlo. -->\n",
    "<blockquote cite=\"https://developer.mozilla.org/es/docs/Web/HTML/Element/blockquote\">\n",
    "    <p>El <strong>elemento HTML <code>&lt;blockquote&gt;</code></strong> (o <em>elemento HTML de cita en bloque independiente</em>) indica que el texto al que delimita es una cita ampliada.</p>\n",
    "</blockquote>"
   ]
  },
  {
   "attachments": {},
   "cell_type": "markdown",
   "metadata": {},
   "source": [
    "### Citas en línea"
   ]
  },
  {
   "attachments": {},
   "cell_type": "markdown",
   "metadata": {},
   "source": [
    "Las citas en línea funcionan exactamente de la misma manera, excepto que usan el elemento `<q>`. El estilo predeterminado del navegador lo representará como texto normal entre comillas para indicar una cita."
   ]
  },
  {
   "cell_type": "code",
   "execution_count": 6,
   "metadata": {
    "dotnet_interactive": {
     "language": "html"
    },
    "polyglot_notebook": {
     "kernelName": "html"
    },
    "vscode": {
     "languageId": "polyglot-notebook"
    }
   },
   "outputs": [
    {
     "data": {
      "text/html": [
       "<p> El elemento de cita — <code>&lt;q&gt;</code> — se <q cite=\"https://developer.mozilla.org/en-US/docs/Web/HTML/Element/q\">utiliza en para citas breves que no requieren saltos de párrafo</q>.</p>"
      ]
     },
     "metadata": {},
     "output_type": "display_data"
    }
   ],
   "source": [
    "<p> El elemento de cita — <code>&lt;q&gt;</code> — se <q cite=\"https://developer.mozilla.org/en-US/docs/Web/HTML/Element/q\">utiliza en para citas breves que no requieren saltos de párrafo</q>.</p>"
   ]
  },
  {
   "attachments": {},
   "cell_type": "markdown",
   "metadata": {},
   "source": [
    "### Citas"
   ]
  },
  {
   "attachments": {},
   "cell_type": "markdown",
   "metadata": {},
   "source": [
    "El contenido del atributo `cite` suena útil, pero desafortunadamente los navegadores, lectores de pantalla, etc. no hacen mucho con él. No hay forma de hacer que el navegador muestre el contenido de `cite` sin escribir tu propia solución usando JavaScript o CSS. Si deseas que la fuente de la cita esté disponible en la página, lo debes hacer en el texto a través de un enlace o de alguna otra forma apropiada.\n",
    "\n",
    "Hay un elemento `<cite>`, pero está destinado a contener el título del recurso que se cita, p. ej. el nombre del libro. Sin embargo, no hay razón por la que no puedas vincular el texto dentro de `<cite>` a la fuente de la cita de alguna manera."
   ]
  },
  {
   "cell_type": "code",
   "execution_count": 8,
   "metadata": {
    "dotnet_interactive": {
     "language": "html"
    },
    "polyglot_notebook": {
     "kernelName": "html"
    },
    "vscode": {
     "languageId": "polyglot-notebook"
    }
   },
   "outputs": [
    {
     "data": {
      "text/html": [
       "<p>De acuerdo con \n",
       "    <!-- Las citas se escriben en cursiva de forma predeterminada -->\n",
       "    <a href=\"https://developer.mozilla.org/es/docs/Web/HTML/Element/blockquote\">\n",
       "        <cite>página de citas en bloque independiente de MDN</cite>\n",
       "    </a>:\n",
       "</p>\n",
       "\n",
       "<blockquote cite=\"https://developer.mozilla.org/es/docs/Web/HTML/Element/blockquote\">\n",
       "    <p>El <strong>elemento HTML <code>&lt;blockquote&gt;</code></strong> (o <em>elemento HTML de cita en bloque independiente</em>) indica que el texto al que delimita es una cita ampliada.</p>\n",
       "</blockquote>\n",
       "\n",
       "<p>El elemento de cita — <code>&lt;q&gt;</code> — se\n",
       "    <q cite=\"https://developer.mozilla.org/en-US/docs/Web/HTML/Element/q\">\n",
       "        utiliza en citas breves que no requieren saltos de párrafo.\n",
       "    </q>--\n",
       "    <a href=\"https://developer.mozilla.org/en-US/docs/Web/HTML/Element/q\">\n",
       "        <cite>página q de MDN</cite>\n",
       "    </a>.\n",
       "</p>"
      ]
     },
     "metadata": {},
     "output_type": "display_data"
    }
   ],
   "source": [
    "<p>De acuerdo con \n",
    "    <!-- Las citas se escriben en cursiva de forma predeterminada -->\n",
    "    <a href=\"https://developer.mozilla.org/es/docs/Web/HTML/Element/blockquote\">\n",
    "        <cite>página de citas en bloque independiente de MDN</cite>\n",
    "    </a>:\n",
    "</p>\n",
    "\n",
    "<blockquote cite=\"https://developer.mozilla.org/es/docs/Web/HTML/Element/blockquote\">\n",
    "    <p>El <strong>elemento HTML <code>&lt;blockquote&gt;</code></strong> (o <em>elemento HTML de cita en bloque independiente</em>) indica que el texto al que delimita es una cita ampliada.</p>\n",
    "</blockquote>\n",
    "\n",
    "<p>El elemento de cita — <code>&lt;q&gt;</code> — se\n",
    "    <q cite=\"https://developer.mozilla.org/en-US/docs/Web/HTML/Element/q\">\n",
    "        utiliza en citas breves que no requieren saltos de párrafo.\n",
    "    </q>--\n",
    "    <a href=\"https://developer.mozilla.org/en-US/docs/Web/HTML/Element/q\">\n",
    "        <cite>página q de MDN</cite>\n",
    "    </a>.\n",
    "</p>"
   ]
  },
  {
   "attachments": {},
   "cell_type": "markdown",
   "metadata": {},
   "source": [
    "## Abreviaturas"
   ]
  },
  {
   "attachments": {},
   "cell_type": "markdown",
   "metadata": {},
   "source": [
    " `<abbr>` se usa para envolver una abreviatura o acrónimo, y proporcionar una expansión completa del término (incluida dentro de un atributo title)."
   ]
  },
  {
   "cell_type": "code",
   "execution_count": 9,
   "metadata": {
    "dotnet_interactive": {
     "language": "html"
    },
    "polyglot_notebook": {
     "kernelName": "html"
    },
    "vscode": {
     "languageId": "polyglot-notebook"
    }
   },
   "outputs": [
    {
     "data": {
      "text/html": [
       "<!-- la expansión aparecerá en una descripción emergente cuando se coloque el cursor sobre el término -->\n",
       "<p>Usamos <abbr title=\"Lenguaje de marcado de hipertexto\">HTML</abbr> para estructurar nuestros documentos web.</p>\n",
       "<p>Creo que el <abbr title=\"Reverendo\">Rev.</abbr> Green lo hizo en la cocina con la motosierra.</p>"
      ]
     },
     "metadata": {},
     "output_type": "display_data"
    }
   ],
   "source": [
    "<!-- la expansión aparecerá en una descripción emergente cuando se coloque el cursor sobre el término -->\n",
    "<p>Usamos <abbr title=\"Lenguaje de marcado de hipertexto\">HTML</abbr> para estructurar nuestros documentos web.</p>\n",
    "<p>Creo que el <abbr title=\"Reverendo\">Rev.</abbr> Green lo hizo en la cocina con la motosierra.</p>"
   ]
  },
  {
   "attachments": {},
   "cell_type": "markdown",
   "metadata": {},
   "source": [
    "> Nota: Hay otro elemento, `<acronym>`, que básicamente hace lo mismo que `<abbr>`, y se diseñó específicamente para acrónimos en lugar de las abreviaturas. Sin embargo, este ha caído en desuso ya que no era compatible con los navegadores ni con `<abbr>`, y `<abbr>` tiene una función tan similar que se consideró inútil conservar ambos. Solo utiliza `<abbr>`."
   ]
  },
  {
   "attachments": {},
   "cell_type": "markdown",
   "metadata": {},
   "source": [
    "## Marcar la información de contacto"
   ]
  },
  {
   "attachments": {},
   "cell_type": "markdown",
   "metadata": {},
   "source": [
    "HTML tiene un elemento para marcar la información de contacto `<address>`. Este simplemente envuelve tus datos de contacto."
   ]
  },
  {
   "cell_type": "code",
   "execution_count": 10,
   "metadata": {
    "dotnet_interactive": {
     "language": "html"
    },
    "polyglot_notebook": {
     "kernelName": "html"
    },
    "vscode": {
     "languageId": "polyglot-notebook"
    }
   },
   "outputs": [
    {
     "data": {
      "text/html": [
       "<address>\n",
       "    <p>Chris Mills, Manchester, The Grim North, Reino Unido</p>\n",
       "</address>\n",
       "\n",
       "<address>\n",
       "    <!-- También podrías incluir un marcado más complejo y otras formas de información de contacto -->\n",
       "    <p>\n",
       "        Chris Mills<br />\n",
       "        Manchester<br />\n",
       "        The Grim North<br />\n",
       "        Reino Unido\n",
       "    </p>\n",
       "    <ul>\n",
       "        <li>Tel: 01234 567 890</li>\n",
       "        <li>Email: me@grim-north.co.uk</li>\n",
       "    </ul>\n",
       "</address>"
      ]
     },
     "metadata": {},
     "output_type": "display_data"
    }
   ],
   "source": [
    "<address>\n",
    "    <p>Chris Mills, Manchester, The Grim North, Reino Unido</p>\n",
    "</address>\n",
    "\n",
    "<address>\n",
    "    <!-- También podrías incluir un marcado más complejo y otras formas de información de contacto -->\n",
    "    <p>\n",
    "        Chris Mills<br />\n",
    "        Manchester<br />\n",
    "        The Grim North<br />\n",
    "        Reino Unido\n",
    "    </p>\n",
    "    <ul>\n",
    "        <li>Tel: 01234 567 890</li>\n",
    "        <li>Email: me@grim-north.co.uk</li>\n",
    "    </ul>\n",
    "</address>"
   ]
  },
  {
   "attachments": {},
   "cell_type": "markdown",
   "metadata": {},
   "source": [
    "Ten en cuenta que algo como esto también estaría bien, si la página vinculada contuviera la información de contacto."
   ]
  },
  {
   "cell_type": "code",
   "execution_count": 11,
   "metadata": {
    "dotnet_interactive": {
     "language": "html"
    },
    "polyglot_notebook": {
     "kernelName": "html"
    },
    "vscode": {
     "languageId": "polyglot-notebook"
    }
   },
   "outputs": [
    {
     "data": {
      "text/html": [
       "<address>\n",
       "    <p>Página escrita por <a href=\"../authors/chris-mills/\">Chris Mills</a>.</p>\n",
       "</address>"
      ]
     },
     "metadata": {},
     "output_type": "display_data"
    }
   ],
   "source": [
    "<address>\n",
    "    <p>Página escrita por <a href=\"../authors/chris-mills/\">Chris Mills</a>.</p>\n",
    "</address>"
   ]
  },
  {
   "attachments": {},
   "cell_type": "markdown",
   "metadata": {},
   "source": [
    "## Superíndice y subíndice"
   ]
  },
  {
   "attachments": {},
   "cell_type": "markdown",
   "metadata": {},
   "source": [
    "En ocasiones, necesitarás utilizar superíndice y subíndice al marcar elementos como fechas, fórmulas químicas y ecuaciones matemáticas para que tengan el significado correcto. Los elementos `<sup>` y `<sub>` se ocupan de ello."
   ]
  },
  {
   "cell_type": "code",
   "execution_count": 12,
   "metadata": {
    "dotnet_interactive": {
     "language": "html"
    },
    "polyglot_notebook": {
     "kernelName": "html"
    },
    "vscode": {
     "languageId": "polyglot-notebook"
    }
   },
   "outputs": [
    {
     "data": {
      "text/html": [
       "<p>Nací el 25<sup>th</sup> de mayo de 2001.</p>\n",
       "<p>\n",
       "    La fórmula química de la cafeína es\n",
       "    C<sub>8</sub>H<sub>10</sub>N<sub>4</sub>O<sub>2</sub>.\n",
       "</p>\n",
       "<p>If x<sup>2</sup> es 9, x debe ser igual 3 o -3.</p>"
      ]
     },
     "metadata": {},
     "output_type": "display_data"
    }
   ],
   "source": [
    "<p>Nací el 25<sup>th</sup> de mayo de 2001.</p>\n",
    "<p>\n",
    "    La fórmula química de la cafeína es\n",
    "    C<sub>8</sub>H<sub>10</sub>N<sub>4</sub>O<sub>2</sub>.\n",
    "</p>\n",
    "<p>If x<sup>2</sup> es 9, x debe ser igual 3 o -3.</p>"
   ]
  },
  {
   "attachments": {},
   "cell_type": "markdown",
   "metadata": {},
   "source": [
    "## Representación del código informático"
   ]
  },
  {
   "attachments": {},
   "cell_type": "markdown",
   "metadata": {},
   "source": [
    "Hay una serie de elementos disponibles para marcar código informático usando HTML:\n",
    "\n",
    "* `<code>`: Para marcar fragmentos genéricos de código informático.\n",
    "* `<pre>`: Para respetar los espacios en blanco (en general, en los bloques de código) — si utilizas la sangría o diversos espacios en blanco consecutivos dentro de un texto, los navegadores los ignorarán y no se mostrarán en la página. Sin embargo, si delimitas el texto con las etiquetas `<pre></pre>`, los espacios en blanco se representarán de forma idéntica a como se ven en tu editor de texto.\n",
    "* `<var>`: Para marcar específicamente nombres de variables.\n",
    "* `<kbd>`: Para marcar entradas de teclado (y de otro tipo) en el ordenador.\n",
    "* `<samp>`: Para marcar la salida de un programa de ordenador."
   ]
  },
  {
   "cell_type": "code",
   "execution_count": 1,
   "metadata": {
    "dotnet_interactive": {
     "language": "html"
    },
    "polyglot_notebook": {
     "kernelName": "html"
    },
    "vscode": {
     "languageId": "polyglot-notebook"
    }
   },
   "outputs": [
    {
     "data": {
      "text/html": [
       "<pre><code>var para = document.querySelector('p');\n",
       "\n",
       "para.onclick = function() {\n",
       "    alert('¡Guau!, ¡deja de apretar!');\n",
       "}</code>\n",
       "</pre>\n",
       "\n",
       "<p>\n",
       "    No debes utilizar elementos de presentación como <code>&lt;font&gt;</code> y <code>&lt;center&gt;</code>.\n",
       "</p>\n",
       "\n",
       "<p>\n",
       "    En el ejemplo de JavaScript anterior, <var>para</var> representa un elemento de párrafo.\n",
       "</p>\n",
       "\n",
       "<p>\n",
       "    Selecciona todo el texto con <kbd>Ctrl</kbd>/<kbd>Cmd</kbd> + <kbd>A</kbd>.\n",
       "</p>\n",
       "\n",
       "<pre>$ <kbd>ping mozilla.org</kbd>\n",
       "<samp>PING mozilla.org (63.245.215.20): 56 bytes de datos 64 bytes de 63.245.215.20: icmp_seq=0 ttl=40 time=158.233 ms</samp>\n",
       "</pre>"
      ]
     },
     "metadata": {},
     "output_type": "display_data"
    }
   ],
   "source": [
    "<pre><code>var para = document.querySelector('p');\n",
    "\n",
    "para.onclick = function() {\n",
    "    alert('¡Guau!, ¡deja de apretar!');\n",
    "}</code>\n",
    "</pre>\n",
    "\n",
    "<p>\n",
    "    No debes utilizar elementos de presentación como <code>&lt;font&gt;</code> y <code>&lt;center&gt;</code>.\n",
    "</p>\n",
    "\n",
    "<p>\n",
    "    En el ejemplo de JavaScript anterior, <var>para</var> representa un elemento de párrafo.\n",
    "</p>\n",
    "\n",
    "<p>\n",
    "    Selecciona todo el texto con <kbd>Ctrl</kbd>/<kbd>Cmd</kbd> + <kbd>A</kbd>.\n",
    "</p>\n",
    "\n",
    "<pre>$ <kbd>ping mozilla.org</kbd>\n",
    "<samp>PING mozilla.org (63.245.215.20): 56 bytes de datos 64 bytes de 63.245.215.20: icmp_seq=0 ttl=40 time=158.233 ms</samp>\n",
    "</pre>"
   ]
  },
  {
   "attachments": {},
   "cell_type": "markdown",
   "metadata": {},
   "source": [
    "## Marcar horas y fechas"
   ]
  },
  {
   "attachments": {},
   "cell_type": "markdown",
   "metadata": {},
   "source": [
    "HTML también proporciona el elemento <time> para marcar horas y fechas en un formato legible por la máquina. "
   ]
  },
  {
   "cell_type": "code",
   "execution_count": 2,
   "metadata": {
    "dotnet_interactive": {
     "language": "html"
    },
    "polyglot_notebook": {
     "kernelName": "html"
    },
    "vscode": {
     "languageId": "polyglot-notebook"
    }
   },
   "outputs": [
    {
     "data": {
      "text/html": [
       "<time datetime=\"2016-01-20\">20 Enero 2016</time>"
      ]
     },
     "metadata": {},
     "output_type": "display_data"
    }
   ],
   "source": [
    "<time datetime=\"2016-01-20\">20 Enero 2016</time>"
   ]
  },
  {
   "attachments": {},
   "cell_type": "markdown",
   "metadata": {},
   "source": [
    "¿Por qué es útil esto? Bueno, hay muchas formas diferentes en que los humanos escriben las fechas.\n",
    "\n",
    "* 20 Enero 2016\n",
    "* 20th January 2016\n",
    "* Ene 20 2016\n",
    "* 20/01/16\n",
    "* 01/20/16\n",
    "* El 20 del mes que viene\n",
    "* 20e Janvier 2016\n",
    "* 2016 年 1 月 20 日\n",
    "\n",
    "Pero estas diferentes formas no las pueden reconocer fácilmente las computadoras. El elemento `<time>` te permite adjuntar una fecha/hora inequívoca y legible por la máquina para este propósito. El ejemplo básico anterior solo proporciona una fecha simple legible por la máquina, pero hay muchas otras opciones que son posibles."
   ]
  },
  {
   "cell_type": "code",
   "execution_count": 6,
   "metadata": {
    "dotnet_interactive": {
     "language": "html"
    },
    "polyglot_notebook": {
     "kernelName": "html"
    },
    "vscode": {
     "languageId": "polyglot-notebook"
    }
   },
   "outputs": [
    {
     "data": {
      "text/html": [
       "<!-- Fecha simple estándar -->\n",
       "<time datetime=\"2016-01-20\">20 Enero 2016</time><br>\n",
       "\n",
       "<!-- Solo año y mes -->\n",
       "<time datetime=\"2016-01\">Enero 2016</time><br>\n",
       "\n",
       "<!-- Solo mes y día -->\n",
       "<time datetime=\"01-20\">20 Enero 2016</time><br>\n",
       "\n",
       "<!-- Solo tiempo, horas y minutos -->\n",
       "<time datetime=\"19:30\">19:30</time><br>\n",
       "\n",
       "<!-- ¡También puedes hacer segundos y milisegundos! -->\n",
       "<time datetime=\"19:30:01.856\">19:30:01.856</time><br>\n",
       "\n",
       "<!-- Fecha y hora -->\n",
       "<time datetime=\"2016-01-20T19:30\">7.30pm, 20 Enero 2016</time><br>\n",
       "\n",
       "<!-- Fecha y hora con desplazamiento de zona horaria -->\n",
       "<time datetime=\"2016-01-20T19:30+01:00\">7.30pm, 20 Enero 2016 es 8.30pm en Francia</time><br>\n",
       "\n",
       "<!-- Llamar a un número de semana específico -->\n",
       "<time datetime=\"2016-W04\">La cuarta semana de 2016</time><br>"
      ]
     },
     "metadata": {},
     "output_type": "display_data"
    }
   ],
   "source": [
    "<!-- Fecha simple estándar -->\n",
    "<time datetime=\"2016-01-20\">20 Enero 2016</time><br>\n",
    "\n",
    "<!-- Solo año y mes -->\n",
    "<time datetime=\"2016-01\">Enero 2016</time><br>\n",
    "\n",
    "<!-- Solo mes y día -->\n",
    "<time datetime=\"01-20\">20 Enero 2016</time><br>\n",
    "\n",
    "<!-- Solo tiempo, horas y minutos -->\n",
    "<time datetime=\"19:30\">19:30</time><br>\n",
    "\n",
    "<!-- ¡También puedes hacer segundos y milisegundos! -->\n",
    "<time datetime=\"19:30:01.856\">19:30:01.856</time><br>\n",
    "\n",
    "<!-- Fecha y hora -->\n",
    "<time datetime=\"2016-01-20T19:30\">7.30pm, 20 Enero 2016</time><br>\n",
    "\n",
    "<!-- Fecha y hora con desplazamiento de zona horaria -->\n",
    "<time datetime=\"2016-01-20T19:30+01:00\">7.30pm, 20 Enero 2016 es 8.30pm en Francia</time><br>\n",
    "\n",
    "<!-- Llamar a un número de semana específico -->\n",
    "<time datetime=\"2016-W04\">La cuarta semana de 2016</time><br>"
   ]
  }
 ],
 "metadata": {
  "language_info": {
   "name": "python"
  },
  "orig_nbformat": 4
 },
 "nbformat": 4,
 "nbformat_minor": 2
}
