{
 "cells": [
  {
   "attachments": {},
   "cell_type": "markdown",
   "metadata": {},
   "source": [
    "# Manejando diferentes direcciones de texto"
   ]
  },
  {
   "attachments": {},
   "cell_type": "markdown",
   "metadata": {},
   "source": [
    "Muchas de las propiedades y valores que hemos encontrado hasta ahora en nuestro aprendizaje de CSS han estado ligadas a las dimensiones físicas de nuestra pantalla. Estas dimensiones físicas se ajustan adecuadamente al contenido que se visualiza de forma horizontal, y por defecto, la web tiende a apoyar lenguajes de izquierda a derecha, como el castellano o el francés, mejor que aquellos que se escriben de derecha a izquierda, como el árabe.\n",
    "\n",
    "en los últimos años, CSS ha evolucionado para soportar de mejor forma contenidos en diferente direccionalidad, incluyendo contenido de derecha a izquierda, pero también de arriba-abajo, como el japonés - Estas direccionalidades se llaman __modos de escritura__."
   ]
  },
  {
   "attachments": {},
   "cell_type": "markdown",
   "metadata": {},
   "source": [
    "## ¿Qué son los modos de escritura?"
   ]
  },
  {
   "attachments": {},
   "cell_type": "markdown",
   "metadata": {},
   "source": [
    "Un modo de escritura en CSS se refiere a si el texto está escrito horizontal o verticalmente. La propiedad `writing-mode` permite cambiar de un modo a otro. No necesitas estar trabajando en un lenguaje que use un modo de escritura vertical para querer hacer esto - Podrías cambiar el modo de escritura de partes de tu diseño por razones creativas."
   ]
  },
  {
   "cell_type": "code",
   "execution_count": 1,
   "metadata": {
    "dotnet_interactive": {
     "language": "html"
    },
    "polyglot_notebook": {
     "kernelName": "html"
    },
    "vscode": {
     "languageId": "polyglot-notebook"
    }
   },
   "outputs": [
    {
     "data": {
      "text/html": [
       "<style>\n",
       "    .h1-writing-mode {\n",
       "        writing-mode: vertical-rl;\n",
       "    }\n",
       "</style>\n",
       "<h1 class=\"h1-writing-mode\">Play with writing modes</h1>"
      ]
     },
     "metadata": {},
     "output_type": "display_data"
    }
   ],
   "source": [
    "<style>\n",
    "    .h1-writing-mode {\n",
    "        writing-mode: vertical-rl;\n",
    "    }\n",
    "</style>\n",
    "<h1 class=\"h1-writing-mode\">Play with writing modes</h1>"
   ]
  },
  {
   "attachments": {},
   "cell_type": "markdown",
   "metadata": {},
   "source": [
    "Los tres valores posibles para la propiedad writing-mode son:\n",
    "\n",
    "* `horizontal-tb`: dirección de flujo de bloque de arriba abajo. Las frases aparecen horizontales.\n",
    "* `vertical-rl`: dirección de flujo de bloque de derecha a izquierda. Las frases aparecen verticales.\n",
    "* `vertical-lr`: dirección de flujo de bloque de izquierda a derecha. Las frases aparecen verticales.\n",
    "\n",
    "Así, la propiedad writing-mode está configurando en realidad la direccion en que los elementos de nivel bloque son desplegados en la página - ya sea de arriba abajo, derecha a izquierda, o de izquierda a derecha. Luego señala la dirección del flujo de texto en las frases."
   ]
  },
  {
   "attachments": {},
   "cell_type": "markdown",
   "metadata": {},
   "source": [
    "## Modos de escritura y diseño en bloque y lineal"
   ]
  },
  {
   "attachments": {},
   "cell_type": "markdown",
   "metadata": {},
   "source": [
    "El hecho de que algunas cosas se muestran como elementos de bloque y otras como elementos lineales se encuentra ligado al modo de escritura del documento, y no de la pantalla física. Los bloques sólo se presentan desde la parte superior a la inferior de la página si estas usando un modo de escritura que presente el texto horizontalmente, como el español. Por ejemplo"
   ]
  },
  {
   "cell_type": "code",
   "execution_count": 7,
   "metadata": {
    "dotnet_interactive": {
     "language": "html"
    },
    "polyglot_notebook": {
     "kernelName": "html"
    },
    "vscode": {
     "languageId": "polyglot-notebook"
    }
   },
   "outputs": [
    {
     "data": {
      "text/html": [
       "<style>\n",
       "    .div-flex { display: flex; }\n",
       "    .div-container3 { width: 300px; height: 300px; margin: 10px; }\n",
       "\n",
       "    .horizontal {\n",
       "        background-color: grey;\n",
       "        writing-mode: horizontal-tb;\n",
       "    }\n",
       "    .vertical {\n",
       "        background-color: grey;\n",
       "        writing-mode: vertical-rl;\n",
       "    }\n",
       "</style>\n",
       "<div class=\"div-flex\">\n",
       "    <div class=\"div-container3 horizontal\">\n",
       "        <h2>Heading</h2>\n",
       "        <p>A paragraph. Demonstrating Writing Modes in CSS.</p>\n",
       "    </div>\n",
       "    <div class=\"div-container3 vertical\">\n",
       "        <h2>Heading</h2>\n",
       "        <p>A paragraph. Demonstrating Writing Modes in CSS.</p>\n",
       "    </div>\n",
       "</div>"
      ]
     },
     "metadata": {},
     "output_type": "display_data"
    }
   ],
   "source": [
    "<style>\n",
    "    .div-flex { display: flex; }\n",
    "    .div-container3 { width: 300px; height: 300px; margin: 10px; }\n",
    "\n",
    "    /*  usa writing-mode: horizontal-tb, un modo de escritura horizontal y desde la parte superior de la página a la base */\n",
    "    .horizontal {\n",
    "        background-color: grey;\n",
    "        writing-mode: horizontal-tb;\n",
    "    }\n",
    "    /* usa writing-mode: vertical-rl; este es un modo de escritura vertical y de derecha a izquierda. */\n",
    "    .vertical {\n",
    "        background-color: grey;\n",
    "        writing-mode: vertical-rl;\n",
    "    }\n",
    "</style>\n",
    "<div class=\"div-flex\">\n",
    "    <div class=\"div-container3 horizontal\">\n",
    "        <h2>Heading</h2>\n",
    "        <p>A paragraph. Demonstrating Writing Modes in CSS.</p>\n",
    "    </div>\n",
    "    <div class=\"div-container3 vertical\">\n",
    "        <h2>Heading</h2>\n",
    "        <p>A paragraph. Demonstrating Writing Modes in CSS.</p>\n",
    "    </div>\n",
    "</div>"
   ]
  },
  {
   "attachments": {},
   "cell_type": "markdown",
   "metadata": {},
   "source": [
    "Cuando cambiamos el modo de escritura, estamos cambiando que dirección es en bloque y cuál es lineal. En un modo de escritura `horizontal-tb` La dirección del bloque va de arriba abajo; en un modo de escritura `vertical-rl` el bloque corre de derecha a izquierda horizontalmente. De esta forma la __dimensión del bloque__ es siempre la dirección en la que se muestran los bloques en el modo de escritura en uso. La __dimensión lineal__, es siempre la dirección en que fluye una frase.\n",
    "\n",
    "Este dibujo muestra las dos dimensiones en un modo de escritura horizontal."
   ]
  },
  {
   "attachments": {},
   "cell_type": "markdown",
   "metadata": {},
   "source": [
    "![horizontal-tb](data:image/png;base64,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)"
   ]
  },
  {
   "attachments": {},
   "cell_type": "markdown",
   "metadata": {},
   "source": [
    "Este dibujo muestra las dos dimensiones en un modo de escritura vertical."
   ]
  },
  {
   "attachments": {},
   "cell_type": "markdown",
   "metadata": {},
   "source": [
    "![vertical](data:image/png;base64,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)"
   ]
  },
  {
   "attachments": {},
   "cell_type": "markdown",
   "metadata": {},
   "source": [
    "### Dirección"
   ]
  },
  {
   "attachments": {},
   "cell_type": "markdown",
   "metadata": {},
   "source": [
    "Además del modo de escritura también tenemos la dirección del texto. Como se mencionó antes, algunos idiomas como el Árabe se escriben horizontalmente, de derecha a izquierda. Esto no es algo que usarías en un sentido creativo. Si tu simplemente quieres alinear algún elemento a la derecha, existen otras formas de hacerlo. Sin embargo es importante entender esto como parte de la naturaleza del CSS.\n",
    "\n",
    "Debido al hecho de que el modo de escritura y la dirección del texto pueden cambiar, los nuevos métodos de diseño CSS no toman como referencia la izquierda y derecha, ni la parte superior e inferior. En su lugar, hablarán de inicio y fin junto con esta idea de en línea y bloque."
   ]
  },
  {
   "attachments": {},
   "cell_type": "markdown",
   "metadata": {},
   "source": [
    "## Valores y propiedades lógicas"
   ]
  },
  {
   "attachments": {},
   "cell_type": "markdown",
   "metadata": {},
   "source": [
    "La razón de hablar acerca de modos de escritura y dirección en este punto en tu aprendizaje, es por el hecho de que ya vimos muchas de estas propiedades que están atadas a las dimensiones físicas de la pantalla, y tienen más sentido cuando está en un modo de escritura horizontal."
   ]
  },
  {
   "cell_type": "code",
   "execution_count": 12,
   "metadata": {
    "dotnet_interactive": {
     "language": "html"
    },
    "polyglot_notebook": {
     "kernelName": "html"
    },
    "vscode": {
     "languageId": "polyglot-notebook"
    }
   },
   "outputs": [
    {
     "data": {
      "text/html": [
       "<style>\n",
       "    .div-flex { display: flex; }\n",
       "    .div-container4 { width: 100px; margin: 10px; }\n",
       "\n",
       "    .horizontal2 {\n",
       "        border: 1px solid grey;\n",
       "        writing-mode: horizontal-tb;\n",
       "    }\n",
       "    /* cuando la caja está en el modo de escritura vertical, aún tiene una anchura, y esto está causando que el texto se desborde. */\n",
       "    .vertical2 {\n",
       "        border: 1px solid grey;\n",
       "        writing-mode: vertical-rl;\n",
       "    }\n",
       "</style>\n",
       "<div class=\"div-flex\">\n",
       "    <div class=\"div-container4 horizontal2\">\n",
       "        <h2>Heading</h2>\n",
       "        <p>A paragraph. Demonstrating Writing Modes in CSS.</p>\n",
       "        <p>These boxes have a width.</p>\n",
       "    </div>\n",
       "    <div class=\"div-container4 vertical2\">\n",
       "        <h2>Heading</h2>\n",
       "        <p>A paragraph. Demonstrating Writing Modes in CSS.</p>\n",
       "        <p>These boxes have a width.</p>\n",
       "    </div>\n",
       "</div>"
      ]
     },
     "metadata": {},
     "output_type": "display_data"
    }
   ],
   "source": [
    "<style>\n",
    "    .div-flex { display: flex; }\n",
    "    .div-container4 { width: 100px; margin: 10px; }\n",
    "\n",
    "    .horizontal2 {\n",
    "        border: 1px solid grey;\n",
    "        writing-mode: horizontal-tb;\n",
    "    }\n",
    "    /* cuando la caja está en el modo de escritura vertical, aún tiene una anchura, y esto está causando que el texto se desborde. */\n",
    "    .vertical2 {\n",
    "        border: 1px solid grey;\n",
    "        writing-mode: vertical-rl;\n",
    "    }\n",
    "</style>\n",
    "<div class=\"div-flex\">\n",
    "    <div class=\"div-container4 horizontal2\">\n",
    "        <h2>Heading</h2>\n",
    "        <p>A paragraph. Demonstrating Writing Modes in CSS.</p>\n",
    "        <p>These boxes have a width.</p>\n",
    "    </div>\n",
    "    <div class=\"div-container4 vertical2\">\n",
    "        <h2>Heading</h2>\n",
    "        <p>A paragraph. Demonstrating Writing Modes in CSS.</p>\n",
    "        <p>These boxes have a width.</p>\n",
    "    </div>\n",
    "</div>"
   ]
  },
  {
   "attachments": {},
   "cell_type": "markdown",
   "metadata": {},
   "source": [
    "Lo que nosotros realmente queremos en este escenario, es esencialmente intercambiar altura y anchura junto con el modo de escritura. Cuando estamos en el modo de escritura vertical, queremos que la caja se expanda en la dimensión del bloque así como lo hace en el modo horizontal.\n",
    "\n",
    "Para hacerlo más fácil, CSS ha desarrollado recientemente un conjunto de propiedades asignadas. Estas esencialmente reemplazan las propiedades físicas como `width` and `height`, con versiones __lógicas__ o __relativas al flujo__.\n",
    "\n",
    "La propiedad asignada a `width` cuando está en el modo de escritura horizontal se llama `inline-size`, se refiere al tamaño en la dimensión inline. La propiedad para `height` se llama `block-size` y es el tamaño en la dimensión de bloque."
   ]
  },
  {
   "cell_type": "code",
   "execution_count": 13,
   "metadata": {
    "dotnet_interactive": {
     "language": "html"
    },
    "polyglot_notebook": {
     "kernelName": "html"
    },
    "vscode": {
     "languageId": "polyglot-notebook"
    }
   },
   "outputs": [
    {
     "data": {
      "text/html": [
       "<style>\n",
       "    .div-flex { display: flex; }\n",
       "    .div-container5 { inline-size: 100px; margin: 10px; }\n",
       "\n",
       "    .horizontal2 {\n",
       "        border: 1px solid grey;\n",
       "        writing-mode: horizontal-tb;\n",
       "    }\n",
       "    .vertical2 {\n",
       "        border: 1px solid grey;\n",
       "        writing-mode: vertical-rl;\n",
       "    }\n",
       "</style>\n",
       "<div class=\"div-flex\">\n",
       "    <div class=\"div-container5 horizontal2\">\n",
       "        <h2>Heading</h2>\n",
       "        <p>A paragraph. Demonstrating Writing Modes in CSS.</p>\n",
       "        <p>These boxes have a width.</p>\n",
       "    </div>\n",
       "    <div class=\"div-container5 vertical2\">\n",
       "        <h2>Heading</h2>\n",
       "        <p>A paragraph. Demonstrating Writing Modes in CSS.</p>\n",
       "        <p>These boxes have a width.</p>\n",
       "    </div>\n",
       "</div>"
      ]
     },
     "metadata": {},
     "output_type": "display_data"
    }
   ],
   "source": [
    "<style>\n",
    "    .div-flex { display: flex; }\n",
    "    .div-container5 { inline-size: 100px; margin: 10px; }\n",
    "\n",
    "    .horizontal2 {\n",
    "        border: 1px solid grey;\n",
    "        writing-mode: horizontal-tb;\n",
    "    }\n",
    "    .vertical2 {\n",
    "        border: 1px solid grey;\n",
    "        writing-mode: vertical-rl;\n",
    "    }\n",
    "</style>\n",
    "<div class=\"div-flex\">\n",
    "    <div class=\"div-container5 horizontal2\">\n",
    "        <h2>Heading</h2>\n",
    "        <p>A paragraph. Demonstrating Writing Modes in CSS.</p>\n",
    "        <p>These boxes have a width.</p>\n",
    "    </div>\n",
    "    <div class=\"div-container5 vertical2\">\n",
    "        <h2>Heading</h2>\n",
    "        <p>A paragraph. Demonstrating Writing Modes in CSS.</p>\n",
    "        <p>These boxes have a width.</p>\n",
    "    </div>\n",
    "</div>"
   ]
  },
  {
   "attachments": {},
   "cell_type": "markdown",
   "metadata": {},
   "source": [
    "### Propiedades lógicas `margin`, `border` y `padding`"
   ]
  },
  {
   "attachments": {},
   "cell_type": "markdown",
   "metadata": {},
   "source": [
    "En las propiedades margin, border y padding vas a encontrar varias instancias de propiedades físicas, por ejemplo `margin-top`, `padding-left`, y `border-bottom`. Del mismo modo que tenemos asignaciones para ancho y alto, hay asignaciones para estas propiedades.\n",
    "\n",
    "La propiedad `margin-top` está asignada a `margin-block-start`, esto siempre se va a referir al margen al inicio de la dimensión del bloque.\n",
    "\n",
    "La propiedad `padding-left` se asigna a `padding-inline-start`, el padding que se aplica al inicio de la dirección inline. Aquí será donde las oraciones comienzan en ese modo de escritura. La propiedad `border-bottom` se asigna a `border-block-end`, que es el borde del final de la dimensión del bloque."
   ]
  },
  {
   "cell_type": "code",
   "execution_count": 18,
   "metadata": {
    "dotnet_interactive": {
     "language": "html"
    },
    "polyglot_notebook": {
     "kernelName": "html"
    },
    "vscode": {
     "languageId": "polyglot-notebook"
    }
   },
   "outputs": [
    {
     "data": {
      "text/html": [
       "<style>\n",
       "    .div-flex { display: flex; }\n",
       "    .div-container6 { inline-size: 200px; writing-mode: horizontal-tb; margin: 10px; }\n",
       "    .div-container7 { inline-size: 200px; writing-mode: vertical-rl; margin: 10px; }\n",
       "\n",
       "    .logical {\n",
       "        margin-block-start: 20px;\n",
       "        padding-inline-end: 2em;\n",
       "        padding-block-start: 2px;\n",
       "        border-block-start: 5px solid pink;\n",
       "        border-inline-end: 10px dotted rebeccapurple;\n",
       "        border-block-end: 1em double orange;\n",
       "        border-inline-start: 1px solid black;\n",
       "    }\n",
       "    .physical {\n",
       "        margin-top: 20px;\n",
       "        padding-right: 2em;\n",
       "        padding-top: 2px;\n",
       "        border-top: 5px solid pink;\n",
       "        border-right: 10px dotted rebeccapurple;\n",
       "        border-bottom: 1em double orange;\n",
       "        border-left: 1px solid black;\n",
       "    }\n",
       "    .h2-writing-mode {\n",
       "        border-bottom: 5px solid black;\n",
       "    }\n",
       "</style>\n",
       "<div class=\"div-flex\">\n",
       "    <div class=\"div-container6 physical\">\n",
       "        <h2 class=\"h2-writing-mode \">Physical Properties</h2>\n",
       "        <p>A paragraph. Demonstrating Logical Properties in CSS.</p>\n",
       "    </div>\n",
       "    <div class=\"div-container7 physical\">\n",
       "        <h2 class=\"h2-writing-mode \">Physical Properties</h2>\n",
       "        <p>A paragraph. Demonstrating Logical Properties in CSS.</p>\n",
       "    </div>\n",
       "    <div class=\"div-container7 logical\">\n",
       "        <h2 class=\"h2-writing-mode \">Logical Properties</h2>\n",
       "        <p>A paragraph. Demonstrating Logical Properties in CSS.</p>\n",
       "    </div>\n",
       "</div>"
      ]
     },
     "metadata": {},
     "output_type": "display_data"
    }
   ],
   "source": [
    "<style>\n",
    "    .div-flex { display: flex; }\n",
    "    .div-container6 { inline-size: 200px; writing-mode: horizontal-tb; margin: 10px; }\n",
    "    .div-container7 { inline-size: 200px; writing-mode: vertical-rl; margin: 10px; }\n",
    "\n",
    "    .logical {\n",
    "        margin-block-start: 20px;\n",
    "        padding-inline-end: 2em;\n",
    "        padding-block-start: 2px;\n",
    "        border-block-start: 5px solid pink;\n",
    "        border-inline-end: 10px dotted rebeccapurple;\n",
    "        border-block-end: 1em double orange;\n",
    "        border-inline-start: 1px solid black;\n",
    "    }\n",
    "    .physical {\n",
    "        margin-top: 20px;\n",
    "        padding-right: 2em;\n",
    "        padding-top: 2px;\n",
    "        border-top: 5px solid pink;\n",
    "        border-right: 10px dotted rebeccapurple;\n",
    "        border-bottom: 1em double orange;\n",
    "        border-left: 1px solid black;\n",
    "    }\n",
    "    .h2-writing-mode {\n",
    "        border-bottom: 5px solid black;\n",
    "    }\n",
    "</style>\n",
    "<div class=\"div-flex\">\n",
    "    <div class=\"div-container6 physical\">\n",
    "        <h2 class=\"h2-writing-mode \">Physical Properties</h2>\n",
    "        <p>A paragraph. Demonstrating Logical Properties in CSS.</p>\n",
    "    </div>\n",
    "    <!-- las propiedades físicas se quedan ligadas a sus direcciones físicas -->\n",
    "    <div class=\"div-container7 physical\">\n",
    "        <h2 class=\"h2-writing-mode \">Physical Properties</h2>\n",
    "        <p>A paragraph. Demonstrating Logical Properties in CSS.</p>\n",
    "    </div>\n",
    "    <!-- las propiedades lógicas cambian con el modo de escritura -->\n",
    "    <div class=\"div-container7 logical\">\n",
    "        <h2 class=\"h2-writing-mode \">Logical Properties</h2>\n",
    "        <p>A paragraph. Demonstrating Logical Properties in CSS.</p>\n",
    "    </div>\n",
    "</div>"
   ]
  },
  {
   "attachments": {},
   "cell_type": "markdown",
   "metadata": {},
   "source": [
    "### Valores lógicos"
   ]
  },
  {
   "attachments": {},
   "cell_type": "markdown",
   "metadata": {},
   "source": [
    "Existen también algunas propiedades que toman valores físicos de `top`, `right`, `bottom`, y `left`. Estos valores también tienen asignaciones a valores lógicos: `block-start`, `inline-end`, `block-end`, y `inline-start`."
   ]
  },
  {
   "cell_type": "code",
   "execution_count": 24,
   "metadata": {
    "dotnet_interactive": {
     "language": "html"
    },
    "polyglot_notebook": {
     "kernelName": "html"
    },
    "vscode": {
     "languageId": "polyglot-notebook"
    }
   },
   "outputs": [
    {
     "data": {
      "text/html": [
       "<style>\n",
       "    .div-flex { display: flex; }\n",
       "    .div-container6 { inline-size: 200px; writing-mode: horizontal-tb; margin: 10px; }\n",
       "    .div-container7 { inline-size: 200px; writing-mode: vertical-rl; margin: 10px; }\n",
       "    .logical2 {\n",
       "        margin-block-start: 20px;\n",
       "        padding-inline-end: 2em;\n",
       "        padding-block-start: 2px;\n",
       "        border: 2px solid gray;\n",
       "    }\n",
       "\n",
       "    /* hace que la imagen flote a la izquierda para hacer que el texto se ajuste alrededor de la imagen. Para esto reemplaza left con inline-start */\n",
       "    .img-float {\n",
       "        float: inline-end;\n",
       "        margin-inline-end: 10px;\n",
       "        margin-block-end: 10px;\n",
       "    }\n",
       "</style>\n",
       "<div class=\"div-flex\">\n",
       "    <div class=\"div-container6 logical2\">\n",
       "        <img src=\"https://placekitten.com/90/80\" alt=\"cat\">\n",
       "        <p>This box uses logical properties. The star image has been floated inline-start, it also has a margin on the inline-end and block-end.</p>\n",
       "    </div>\n",
       "    <div class=\"div-container7 logical2\">\n",
       "        <img src=\"https://placekitten.com/90/80\" alt=\"cat\">\n",
       "        <p>This box uses logical properties. The star image has been floated inline-start, it also has a margin on the inline-end and block-end.</p>\n",
       "    </div>\n",
       "</div>"
      ]
     },
     "metadata": {},
     "output_type": "display_data"
    }
   ],
   "source": [
    "<style>\n",
    "    .div-flex { display: flex; }\n",
    "    .div-container6 { inline-size: 200px; writing-mode: horizontal-tb; margin: 10px; }\n",
    "    .div-container7 { inline-size: 200px; writing-mode: vertical-rl; margin: 10px; }\n",
    "    .logical2 {\n",
    "        margin-block-start: 20px;\n",
    "        padding-inline-end: 2em;\n",
    "        padding-block-start: 2px;\n",
    "        border: 2px solid gray;\n",
    "    }\n",
    "\n",
    "    /* hace que la imagen flote a la izquierda para hacer que el texto se ajuste alrededor de la imagen. Para esto reemplaza left con inline-start */\n",
    "    .img-float {\n",
    "        float: inline-start;\n",
    "        margin-inline-end: 10px;\n",
    "        margin-block-end: 10px;\n",
    "    }\n",
    "</style>\n",
    "<div class=\"div-flex\">\n",
    "    <div class=\"div-container6 logical2\">\n",
    "        <img src=\"https://placekitten.com/90/80\" alt=\"cat\">\n",
    "        <p>This box uses logical properties. The star image has been floated inline-start, it also has a margin on the inline-end and block-end.</p>\n",
    "    </div>\n",
    "    <div class=\"div-container7 logical2\">\n",
    "        <img src=\"https://placekitten.com/90/80\" alt=\"cat\">\n",
    "        <p>This box uses logical properties. The star image has been floated inline-start, it also has a margin on the inline-end and block-end.</p>\n",
    "    </div>\n",
    "</div>"
   ]
  },
  {
   "attachments": {},
   "cell_type": "markdown",
   "metadata": {},
   "source": [
    "Aquí también estamos usando valores lógicos de margen para asegurar que el margen está en el sitio correcto sin importar que modo de escritura es.\n",
    "\n",
    "> Nota: Actualmente, solo __Firefox__ soporta valores relativos de flujo para `float`. Si estás usando __Google Chrome__ o __Microsoft Edge__, deberías ver que la imagen no flota."
   ]
  },
  {
   "attachments": {},
   "cell_type": "markdown",
   "metadata": {},
   "source": [
    "### ¿Debería usar propiedades físicas o lógicas?"
   ]
  },
  {
   "cell_type": "markdown",
   "metadata": {},
   "source": []
  }
 ],
 "metadata": {
  "language_info": {
   "name": "python"
  },
  "orig_nbformat": 4
 },
 "nbformat": 4,
 "nbformat_minor": 2
}
