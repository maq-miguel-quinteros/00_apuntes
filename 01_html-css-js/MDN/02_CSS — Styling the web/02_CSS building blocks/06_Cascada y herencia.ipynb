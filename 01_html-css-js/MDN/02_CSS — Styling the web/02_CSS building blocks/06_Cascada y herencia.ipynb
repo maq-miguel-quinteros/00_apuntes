{
 "cells": [
  {
   "attachments": {},
   "cell_type": "markdown",
   "metadata": {},
   "source": [
    "# Cascada y herencia"
   ]
  },
  {
   "attachments": {},
   "cell_type": "markdown",
   "metadata": {},
   "source": [
    "## Reglas conflictivas"
   ]
  },
  {
   "attachments": {},
   "cell_type": "markdown",
   "metadata": {},
   "source": [
    "CSS significa __hojas de estilo en cascada__ (cascading style sheets), y es muy importante entender la palabra cascada. La forma en que se comporta la cascada es la clave para comprender el CSS.\n",
    "\n",
    "En algún momento trabajarás en un proyecto y encontrarás que el CSS que pensabas que debería aplicarse a un elemento no funciona. Por lo general, el problema suele ser que has creado dos normas que podrían aplicarse al mismo elemento. La __cascada__, y el concepto estrechamente relacionado de __especificidad__ son mecanismos que controlan qué regla se aplica cuando aparecen tales conflictos.\n",
    "\n",
    "También es significativo el concepto de __herencia__, que significa que algunas propiedades CSS heredan por defecto los valores establecidos en el elemento padre, pero otras no."
   ]
  },
  {
   "attachments": {},
   "cell_type": "markdown",
   "metadata": {},
   "source": [
    "### Cascada"
   ]
  },
  {
   "attachments": {},
   "cell_type": "markdown",
   "metadata": {},
   "source": [
    "En un primer nivel de simplicidad, la cascada en las hojas de estilo significa que el orden de las reglas importa en CSS: cuando dos reglas tienen la misma especificidad, se aplica la que aparece en último lugar en el CSS."
   ]
  },
  {
   "cell_type": "code",
   "execution_count": 1,
   "metadata": {
    "dotnet_interactive": {
     "language": "html"
    },
    "polyglot_notebook": {
     "kernelName": "html"
    },
    "vscode": {
     "languageId": "polyglot-notebook"
    }
   },
   "outputs": [
    {
     "data": {
      "text/html": [
       "<style>\n",
       "    /* el h1 acaba siendo de color azul porque estas normas tienen un selector idéntico y, por lo tanto, tienen la misma especificidad. Por esta razón, se aplica la última que aparece. */\n",
       "    h1 { \n",
       "        color: red; \n",
       "    }\n",
       "    h1 { \n",
       "        color: blue; \n",
       "    }\n",
       "</style>\n",
       "<h1>This is my heading.</h1>\n"
      ]
     },
     "metadata": {},
     "output_type": "display_data"
    }
   ],
   "source": [
    "<style>\n",
    "    /* el h1 acaba siendo de color azul porque estas normas tienen un selector idéntico y, por lo tanto, tienen la misma especificidad. Por esta razón, se aplica la última que aparece. */\n",
    "    h1 { \n",
    "        color: red; \n",
    "    }\n",
    "    h1 { \n",
    "        color: blue; \n",
    "    }\n",
    "</style>\n",
    "<h1>This is my heading.</h1>\n"
   ]
  },
  {
   "attachments": {},
   "cell_type": "markdown",
   "metadata": {},
   "source": [
    "### Especificidad"
   ]
  },
  {
   "attachments": {},
   "cell_type": "markdown",
   "metadata": {},
   "source": [
    "La especificidad es el modo que tiene el navegador de decidir qué regla se aplica si diversas reglas tienen selectores diferentes pero podrían aplicarse a un mismo elemento. Básicamente, la especificidad mide cuán específica es la selección de un selector:\n",
    "\n",
    "* Un selector de elemento es menos específico (selecciona todos los elementos de aquel tipo que aparecen en la página) por lo que presenta una puntuación más baja en especificidad.\n",
    "* Un selector de clase es más específico (selecciona solo los elementos de una página que tienen un valor de atributo class dado), y por tanto recibe una puntuación mayor."
   ]
  },
  {
   "cell_type": "code",
   "execution_count": 2,
   "metadata": {
    "dotnet_interactive": {
     "language": "html"
    },
    "polyglot_notebook": {
     "kernelName": "html"
    },
    "vscode": {
     "languageId": "polyglot-notebook"
    }
   },
   "outputs": [
    {
     "data": {
      "text/html": [
       "<style>\n",
       "    /* el elemento h1 termina siendo de color rojo: el selector de clase confiere a esta regla una mayor especificidad, así que se aplicará a pesar de la regla para el selector de elemento que aparece más abajo en el orden del código. */\n",
       "    .main-heading { \n",
       "        color: red; \n",
       "    }            \n",
       "    h1 { \n",
       "        color: blue; \n",
       "    }\n",
       "</style>\n",
       "<h1 class=\"main-heading\">This is my heading.</h1>"
      ]
     },
     "metadata": {},
     "output_type": "display_data"
    }
   ],
   "source": [
    "<style>\n",
    "    /* el elemento h1 termina siendo de color rojo: el selector de clase confiere a esta regla una mayor especificidad, así que se aplicará a pesar de la regla para el selector de elemento que aparece más abajo en el orden del código. */\n",
    "    .main-heading { \n",
    "        color: red; \n",
    "    }            \n",
    "    h1 { \n",
    "        color: blue; \n",
    "    }\n",
    "</style>\n",
    "<h1 class=\"main-heading\">This is my heading.</h1>"
   ]
  },
  {
   "attachments": {},
   "cell_type": "markdown",
   "metadata": {},
   "source": [
    "### Herencia"
   ]
  },
  {
   "attachments": {},
   "cell_type": "markdown",
   "metadata": {},
   "source": [
    "La herencia también debe entenderse en este contexto: algunos valores de las propiedades CSS que se han establecido para los elementos padre los heredan los elementos hijo, pero otros no."
   ]
  },
  {
   "cell_type": "code",
   "execution_count": 5,
   "metadata": {
    "dotnet_interactive": {
     "language": "html"
    },
    "polyglot_notebook": {
     "kernelName": "html"
    },
    "vscode": {
     "languageId": "polyglot-notebook"
    }
   },
   "outputs": [
    {
     "data": {
      "text/html": [
       "<style>\n",
       "    /* cada elemento que se encuentre dentro de body también se mostrará en el color de la regla, a menos que les se haya aplicado un color diferentes mediante otra regla */\n",
       "    body {\n",
       "        color: green;\n",
       "    }\n",
       "    span {\n",
       "        color: red;\n",
       "    }\n",
       "</style>\n",
       "<p>As the body has been set to have a color of blue this is inherited through the descendants.</p>\n",
       "<p>We can change the color by targeting the element with a selector, such as this <span>span</span>.</p>"
      ]
     },
     "metadata": {},
     "output_type": "display_data"
    }
   ],
   "source": [
    "<style>\n",
    "    /* cada elemento que se encuentre dentro de body también se mostrará en el color de la regla, a menos que les se haya aplicado un color diferentes mediante otra regla */\n",
    "    body {\n",
    "        color: green;\n",
    "    }\n",
    "    span {\n",
    "        color: red;\n",
    "    }\n",
    "</style>\n",
    "<p>As the body has been set to have a color of blue this is inherited through the descendants.</p>\n",
    "<p>We can change the color by targeting the element with a selector, such as this <span>span</span>.</p>"
   ]
  },
  {
   "attachments": {},
   "cell_type": "markdown",
   "metadata": {},
   "source": [
    "Algunas propiedades no se heredan. Por ejemplo, si para un elemento se establece un ancho `width` del 50%, sus descendientes no tendrán un 50% de ancho con respecto al de sus padres."
   ]
  },
  {
   "attachments": {},
   "cell_type": "markdown",
   "metadata": {},
   "source": [
    "## Comprender la herencia"
   ]
  },
  {
   "cell_type": "code",
   "execution_count": 9,
   "metadata": {
    "dotnet_interactive": {
     "language": "html"
    },
    "polyglot_notebook": {
     "kernelName": "html"
    },
    "vscode": {
     "languageId": "polyglot-notebook"
    }
   },
   "outputs": [
    {
     "data": {
      "text/html": [
       "<style>\n",
       "    /* el color se ha aplicado a los hijos directos y también a los hijos indirectos: los elementos hijo <li> inmediatos y los que están dentro de la primera lista */\n",
       "    .main {\n",
       "        color: rebeccapurple;\n",
       "        border: 2px solid #ccc;\n",
       "        padding: 1em;\n",
       "    }\n",
       "    /* aplicamos en la clase special un color diferente, que los elementos hijo de esta heredarán. */\n",
       "    .special {\n",
       "        color: black;\n",
       "        font-weight: bold;\n",
       "    }\n",
       "</style>\n",
       "<ul class=\"main\">\n",
       "    <li>Item One</li>\n",
       "    <li>Item Two\n",
       "        <ul>\n",
       "            <li>2.1</li>\n",
       "            <li>2.2</li>\n",
       "        </ul>\n",
       "    </li>\n",
       "    <li>Item Three\n",
       "        <ul class=\"special\">\n",
       "            <li>3.1\n",
       "                <ul>\n",
       "                    <li>3.1.1</li>\n",
       "                    <li>3.1.2</li>\n",
       "                </ul>\n",
       "            </li>\n",
       "            <li>3.2</li>\n",
       "        </ul>\n",
       "    </li>\n",
       "</ul>"
      ]
     },
     "metadata": {},
     "output_type": "display_data"
    }
   ],
   "source": [
    "<style>\n",
    "    /* el color se ha aplicado a los hijos directos y también a los hijos indirectos: los elementos hijo <li> inmediatos y los que están dentro de la primera lista */\n",
    "    .main {\n",
    "        color: rebeccapurple;\n",
    "        border: 2px solid #ccc;\n",
    "        padding: 1em;\n",
    "    }\n",
    "    /* aplicamos en la clase special un color diferente, que los elementos hijo de esta heredarán. */\n",
    "    .special {\n",
    "        color: black;\n",
    "        font-weight: bold;\n",
    "    }\n",
    "</style>\n",
    "<ul class=\"main\">\n",
    "    <li>Item One</li>\n",
    "    <li>Item Two\n",
    "        <ul>\n",
    "            <li>2.1</li>\n",
    "            <li>2.2</li>\n",
    "        </ul>\n",
    "    </li>\n",
    "    <li>Item Three\n",
    "        <ul class=\"special\">\n",
    "            <li>3.1\n",
    "                <ul>\n",
    "                    <li>3.1.1</li>\n",
    "                    <li>3.1.2</li>\n",
    "                </ul>\n",
    "            </li>\n",
    "            <li>3.2</li>\n",
    "        </ul>\n",
    "    </li>\n",
    "</ul>"
   ]
  },
  {
   "attachments": {},
   "cell_type": "markdown",
   "metadata": {},
   "source": [
    "La anchura (como se mencionó anteriormente), los márgenes, el relleno y los bordes no se heredan. Si los elementos hijo de nuestra lista heredaran los bordes, todas las listas y los elementos de lista ganarían un borde cada vez. Las propiedades que se heredan por defecto y las que no son cuestión, en gran medida, de sentido común."
   ]
  },
  {
   "attachments": {},
   "cell_type": "markdown",
   "metadata": {},
   "source": [
    "### Control de la herencia"
   ]
  },
  {
   "attachments": {},
   "cell_type": "markdown",
   "metadata": {},
   "source": [
    "CSS proporciona cuatro valores de propiedad universales especiales para el control de la herencia. Todas las propiedades CSS aceptan estos valores.\n",
    "\n",
    "* `inherit`: establece que el valor de la propiedad que se aplica a un elemento determinado sea exactamente igual al del elemento padre. En la práctica, esto \"activa la herencia\".\n",
    "\n",
    "* `initial`: establece que el valor de la propiedad que se aplica a un elemento seleccionado tenga el mismo valor que esté establecido para esa propiedad en la hoja de estilo por defecto del navegador.\n",
    "\n",
    "* `unset`: restablece la propiedad a su valor natural, lo que significa que si la propiedad se hereda de forma natural, actúa como inherit, y en caso contrario como initial.\n",
    "\n",
    "> Nota: También hay un valor más reciente, `revert`, que todavía admiten pocos navegadores."
   ]
  },
  {
   "cell_type": "code",
   "execution_count": 12,
   "metadata": {
    "dotnet_interactive": {
     "language": "html"
    },
    "polyglot_notebook": {
     "kernelName": "html"
    },
    "vscode": {
     "languageId": "polyglot-notebook"
    }
   },
   "outputs": [
    {
     "data": {
      "text/html": [
       "<style>\n",
       "    body {\n",
       "        color: green;\n",
       "    }\n",
       "    /* establece por herencia el color del elemento <a> que está anidado en él, es decir, el de su elemento padre que es body */\n",
       "    .my-class-1 a {\n",
       "        color: inherit;\n",
       "    }\n",
       "    /* establece por herencia el color de la hoja de estilos por defecto del navegador, ignorando el valor de su padre que es body */\n",
       "    .my-class-2 a {\n",
       "        color: initial;\n",
       "    }\n",
       "    /* establece por herencia natural el color, al tener un elemento padre hereda de este el valor del color, de no tener el elemento padre con un valor para color lo heredaría de la hoja de estilos por defecto */\n",
       "    .my-class-3 a {\n",
       "        color: unset;\n",
       "    }\n",
       "</style>\n",
       "<body>\n",
       "    <ul>\n",
       "        <li>Default <a href=\"#\">link</a> color</li>\n",
       "        <li class=\"my-class-1\">Inherit the <a href=\"#\">link</a> color</li>\n",
       "        <li class=\"my-class-2\">Reset the <a href=\"#\">link</a> color</li>\n",
       "        <li class=\"my-class-3\">Unset the <a href=\"#\">link</a> color</li>\n",
       "    </ul>\n",
       "</body>"
      ]
     },
     "metadata": {},
     "output_type": "display_data"
    }
   ],
   "source": [
    "<style>\n",
    "    body {\n",
    "        color: green;\n",
    "    }\n",
    "    /* establece por herencia el color del elemento <a> que está anidado en él, es decir, el de su elemento padre que es body */\n",
    "    .my-class-1 a {\n",
    "        color: inherit;\n",
    "    }\n",
    "    /* establece por herencia el color de la hoja de estilos por defecto del navegador, ignorando el valor de su padre que es body */\n",
    "    .my-class-2 a {\n",
    "        color: initial;\n",
    "    }\n",
    "    /* establece por herencia natural el color, al tener un elemento padre hereda de este el valor del color, de no tener el elemento padre con un valor para color lo heredaría de la hoja de estilos por defecto */\n",
    "    .my-class-3 a {\n",
    "        color: unset;\n",
    "    }\n",
    "</style>\n",
    "<body>\n",
    "    <ul>\n",
    "        <li>Default <a href=\"#\">link</a> color</li>\n",
    "        <li class=\"my-class-1\">Inherit the <a href=\"#\">link</a> color</li>\n",
    "        <li class=\"my-class-2\">Reset the <a href=\"#\">link</a> color</li>\n",
    "        <li class=\"my-class-3\">Unset the <a href=\"#\">link</a> color</li>\n",
    "    </ul>\n",
    "</body>"
   ]
  },
  {
   "attachments": {},
   "cell_type": "markdown",
   "metadata": {},
   "source": [
    "### Restablecer todos los valores de propiedad"
   ]
  },
  {
   "attachments": {},
   "cell_type": "markdown",
   "metadata": {},
   "source": [
    "La propiedad CSS abreviada `all` se puede utilizar para aplicar uno de estos valores de herencia a (casi) todas las propiedades a la vez. Su valor puede ser cualquiera de los valores de herencia (`inherit`, `initial`, `unset`, o `revert`). Es una forma práctica de deshacer los cambios realizados respecto al estilo para que puedas volver a un punto de partida conocido antes de empezar a introducir cambios."
   ]
  },
  {
   "cell_type": "code",
   "execution_count": 13,
   "metadata": {
    "dotnet_interactive": {
     "language": "html"
    },
    "polyglot_notebook": {
     "kernelName": "html"
    },
    "vscode": {
     "languageId": "polyglot-notebook"
    }
   },
   "outputs": [
    {
     "data": {
      "text/html": [
       "<style>\n",
       "    .blockquote {\n",
       "        background-color: orange;\n",
       "        border: 2px solid blue;\n",
       "    }\n",
       "    .fix-this {\n",
       "        all: unset;\n",
       "    }\n",
       "</style>\n",
       "<blockquote>\n",
       "    <p>This blockquote is styled</p>\n",
       "</blockquote>\n",
       "<blockquote class=\"fix-this\">\n",
       "    <p>This blockquote is not styled</p>\n",
       "</blockquote>"
      ]
     },
     "metadata": {},
     "output_type": "display_data"
    }
   ],
   "source": [
    "<style>\n",
    "    .blockquote {\n",
    "        background-color: orange;\n",
    "        border: 2px solid blue;\n",
    "    }\n",
    "    .fix-this {\n",
    "        all: unset;\n",
    "    }\n",
    "</style>\n",
    "<blockquote>\n",
    "    <p>This blockquote is styled</p>\n",
    "</blockquote>\n",
    "<blockquote class=\"fix-this\">\n",
    "    <p>This blockquote is not styled</p>\n",
    "</blockquote>"
   ]
  },
  {
   "attachments": {},
   "cell_type": "markdown",
   "metadata": {},
   "source": [
    "## Comprender la cascada"
   ]
  },
  {
   "attachments": {},
   "cell_type": "markdown",
   "metadata": {},
   "source": [
    "Vamos a echar un vistazo a la forma en que el concepto de cascada define qué reglas CSS se aplican cuando más de una regla puede aplicar estilo a un elemento. Hay que considerar tres factores, que se enumeran a continuación en orden de importancia creciente. Los posteriores invalidan los anteriores:\n",
    "\n",
    "1. Orden en el código\n",
    "2. Especificidad\n",
    "3. Importancia"
   ]
  },
  {
   "attachments": {},
   "cell_type": "markdown",
   "metadata": {},
   "source": [
    "### Orden en el código"
   ]
  },
  {
   "attachments": {},
   "cell_type": "markdown",
   "metadata": {},
   "source": [
    "Si tienes más de una regla con exactamente el mismo peso, la que ocupa el último lugar en el CSS gana. Puedes entenderlo como que las reglas que están más cerca del elemento considerado sobreescriben las anteriores hasta que la última gana y da formato al elemento."
   ]
  },
  {
   "attachments": {},
   "cell_type": "markdown",
   "metadata": {},
   "source": [
    "### Especificidad"
   ]
  },
  {
   "attachments": {},
   "cell_type": "markdown",
   "metadata": {},
   "source": [
    "Te encontrarás en alguna situación en la que sabes cuál es la última norma en la hoja de estilo, pero se aplica una regla anterior. Esto se debe a que la regla anterior tiene __una especificidad mayor__, es decir, es más específica y, por lo tanto, el navegador la escoge como la que debe dar forma al elemento.\n",
    "\n",
    "Por ejemplo, un selector de clase tiene más peso que un selector de elemento, por lo que las propiedades que se definen en la clase tienen prioridad sobre las que se aplican directamente en el elemento.\n",
    "\n",
    "Hay que tener en cuenta es que aunque pensamos en términos de selectores y reglas que se aplican a lo que estos seleccionan, no es toda la regla lo que se sobrescribe, sino solo las propiedades que entran en conflicto.\n",
    "\n",
    "Este comportamiento ayuda a evitar repeticiones en el CSS. Una práctica común es definir estilos genéricos para los elementos básicos y luego, crear clases para los elementos que son diferentes."
   ]
  },
  {
   "cell_type": "code",
   "execution_count": 1,
   "metadata": {
    "dotnet_interactive": {
     "language": "html"
    },
    "polyglot_notebook": {
     "kernelName": "html"
    },
    "vscode": {
     "languageId": "polyglot-notebook"
    }
   },
   "outputs": [
    {
     "data": {
      "text/html": [
       "<style>\n",
       "    /* definimos estilos genéricos para los h2 */\n",
       "    h2 {\n",
       "        font-size: 2em;\n",
       "        color: #000;\n",
       "        font-family: Georgia, 'Times New Roman', Times, serif;\n",
       "    }\n",
       "    /* las clases solo cambian algunas de las propiedades y los valores. Las propiedades que no se modifican quedan con los valores de selector h2 */\n",
       "    .small {\n",
       "        font-size: 1em;\n",
       "    }\n",
       "    .bright {\n",
       "        color: rebeccapurple;\n",
       "    } \n",
       "</style>\n",
       "<h2>Heading with no class</h2>\n",
       "<h2 class=\"small\">Heading with class of small</h2>\n",
       "<h2 class=\"bright\">Heading with class of bright</h2>"
      ]
     },
     "metadata": {},
     "output_type": "display_data"
    }
   ],
   "source": [
    "<style>\n",
    "    /* definimos estilos genéricos para los h2 */\n",
    "    h2 {\n",
    "        font-size: 2em;\n",
    "        color: #000;\n",
    "        font-family: Georgia, 'Times New Roman', Times, serif;\n",
    "    }\n",
    "    /* las clases solo cambian algunas de las propiedades y los valores. Las propiedades que no se modifican quedan con los valores de selector h2 */\n",
    "    .small {\n",
    "        font-size: 1em;\n",
    "    }\n",
    "    .bright {\n",
    "        color: rebeccapurple;\n",
    "    } \n",
    "</style>\n",
    "<h2>Heading with no class</h2>\n",
    "<h2 class=\"small\">Heading with class of small</h2>\n",
    "<h2 class=\"bright\">Heading with class of bright</h2>"
   ]
  },
  {
   "attachments": {},
   "cell_type": "markdown",
   "metadata": {},
   "source": [
    "Vamos a ver cómo el navegador calcula la especificidadamos a echar un vistazo a cómo el navegador calcula la especificidad. Esencialmente se otorga un valor de puntos a los diferentes tipos de selectores y la suma de estos establece la importancia de ese selector en particular, que a continuación puede evaluarse ante otras posibles coincidencias.\n",
    "\n",
    "La cantidad de especificidad de un selector se mide usando cuatro valores diferentes (o componentes), que pueden describirse como millares, centenas, decenas y unidades (cuatro dígitos individuales dispuestos en cuatro columnas):\n",
    "\n",
    "1. __Millares__: se suma un punto en esta columna si la declaración está en un __atributo de style__ o, como suelen denominarse, estilos en línea. Tales declaraciones no tienen selectores, por lo que su especificidad siempre es 1000.\n",
    "\n",
    "2. __Centenas__: se suma un punto en esta columna por cada selector con __ID__ particular que esté contenido en el selector general.\n",
    "3. __Decenas__: se suma un punto en esta columna por cada selector de __clase__, de atributo o pseudoclase que estén contenidos en el selector general.\n",
    "4. __Unidades__: Se suma un punto en esta columna por cada selector de __elemento__ o __pseudoelemento__ que esté contenido en el selector general.\n",
    "\n",
    "> Nota: El selector universal (`*`), los operadores de combinación (`+`, `>`, `~`, '` `') y la pseudo-clase de negación (`:not`) no tienen ningún efecto sobre la especificidad.\n",
    "\n",
    "Ejemplos:"
   ]
  },
  {
   "attachments": {},
   "cell_type": "markdown",
   "metadata": {},
   "source": [
    "Selector | Millares: | Centenas: | Decenas: | Unidades: | Especificidad total\n",
    "--- | --- | --- | --- | --- | ---\n",
    "`h1` | 0 | 0 | 0 | 1 | 0001\n",
    "`h1 + p::first-letter` | 0 | 0 | 0 | 3 | 0003\n",
    "`li > a[href*=\"en-US\"] > .inline-warning` | 0 | 0 | 2 | 2 |0022\n",
    "`#identifier` | 0 | 1 | 0 | 0 | 0100\n",
    "Sin selector, con un valor en el atributo `style` del elemento, en el documento HTML. Por ejemplo `<a href=\"#\" style=\"decoration:none\" >Link</a>` | 1| 0 | 0 | 0 | 1000"
   ]
  }
 ],
 "metadata": {
  "language_info": {
   "name": "python"
  },
  "orig_nbformat": 4
 },
 "nbformat": 4,
 "nbformat_minor": 2
}
