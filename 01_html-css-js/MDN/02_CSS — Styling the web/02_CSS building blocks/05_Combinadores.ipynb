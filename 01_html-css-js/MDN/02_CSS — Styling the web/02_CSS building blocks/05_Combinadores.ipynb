{
 "cells": [
  {
   "attachments": {},
   "cell_type": "markdown",
   "metadata": {},
   "source": [
    "# Combinadores"
   ]
  },
  {
   "attachments": {},
   "cell_type": "markdown",
   "metadata": {},
   "source": [
    "Los selectores de combinación se llaman así porqué combinan otros selectores, de manera que proporciona una relación útil entre ellos y la ubicación del contenido en el documento."
   ]
  },
  {
   "attachments": {},
   "cell_type": "markdown",
   "metadata": {},
   "source": [
    "## Selector de descendientes"
   ]
  },
  {
   "attachments": {},
   "cell_type": "markdown",
   "metadata": {},
   "source": [
    "Los selectores de descendientes son selectores con espacios entre ellos. Estos selectores seleccionan elementos que son descendientes de otros selectores. No es necesario que sean hijos directos."
   ]
  },
  {
   "cell_type": "code",
   "execution_count": 1,
   "metadata": {
    "dotnet_interactive": {
     "language": "html"
    },
    "polyglot_notebook": {
     "kernelName": "html"
    },
    "vscode": {
     "languageId": "polyglot-notebook"
    }
   },
   "outputs": [
    {
     "data": {
      "text/html": [
       "<style>\n",
       "    .box p {\n",
       "        color: red;\n",
       "    }    \n",
       "</style>\n",
       "<div class=\"box\"><p>Text in .box</p></div>\n",
       "<p>Text not in .box</p>"
      ]
     },
     "metadata": {},
     "output_type": "display_data"
    }
   ],
   "source": [
    "<style>\n",
    "    .box p {\n",
    "        color: red;\n",
    "    }    \n",
    "</style>\n",
    "<div class=\"box\">\n",
    "    <p>Text in .box</p>\n",
    "</div>\n",
    "<p>Text not in .box</p>"
   ]
  },
  {
   "attachments": {},
   "cell_type": "markdown",
   "metadata": {},
   "source": [
    "## Selector de combinación de elementos hijo"
   ]
  },
  {
   "attachments": {},
   "cell_type": "markdown",
   "metadata": {},
   "source": [
    "El selector de combinación de elementos hijo es un símbolo de «mayor que» (`>`), que selecciona solo cuando los selectores identifican elementos que son hijos directos. Los elementos descendientes que se encuentran más abajo en la jerarquía no se seleccionan."
   ]
  },
  {
   "cell_type": "code",
   "execution_count": 2,
   "metadata": {
    "dotnet_interactive": {
     "language": "html"
    },
    "polyglot_notebook": {
     "kernelName": "html"
    },
    "vscode": {
     "languageId": "polyglot-notebook"
    }
   },
   "outputs": [
    {
     "data": {
      "text/html": [
       "<style>\n",
       "    /*  selecciona solo los elementos <li> que son hijos directos de <ul> */\n",
       "    ul > li {\n",
       "        border-top: 5px solid red;\n",
       "    }\n",
       "</style>\n",
       "<ul>\n",
       "    <li>Unordered item</li>\n",
       "    <li>Unordered item\n",
       "        <ol>\n",
       "            <li>Item 1</li>\n",
       "            <li>Item 2</li>\n",
       "        </ol>\n",
       "    </li>\n",
       "</ul>"
      ]
     },
     "metadata": {},
     "output_type": "display_data"
    }
   ],
   "source": [
    "<style>\n",
    "    /*  selecciona solo los elementos <li> que son hijos directos de <ul> */\n",
    "    ul > li {\n",
    "        border-top: 5px solid red;\n",
    "    }\n",
    "</style>\n",
    "<ul>\n",
    "    <li>Unordered item</li>\n",
    "    <li>Unordered item\n",
    "        <ol>\n",
    "            <li>Item 1</li>\n",
    "            <li>Item 2</li>\n",
    "        </ol>\n",
    "    </li>\n",
    "</ul>"
   ]
  },
  {
   "attachments": {},
   "cell_type": "markdown",
   "metadata": {},
   "source": [
    "En el ejemplo, si eliminamos el símbolo `>` que lo identifica como un selector de elementos hijo, lo convertimos en un selector de elementos descendientes y se aplicará el borde rojo a todos los elementos `<li>`."
   ]
  },
  {
   "attachments": {},
   "cell_type": "markdown",
   "metadata": {},
   "source": [
    "## Hermanos adyacentes"
   ]
  },
  {
   "attachments": {},
   "cell_type": "markdown",
   "metadata": {},
   "source": [
    "El selector de elementos hermanos adyacentes (`+`) se utiliza para seleccionar un elemento que se encuentra justo al lado de otro elemento en el mismo nivel de la jerarquía. El caso de uso más común es modificar el párrafo que va justo después del título."
   ]
  },
  {
   "cell_type": "code",
   "execution_count": 3,
   "metadata": {
    "dotnet_interactive": {
     "language": "html"
    },
    "polyglot_notebook": {
     "kernelName": "html"
    },
    "vscode": {
     "languageId": "polyglot-notebook"
    }
   },
   "outputs": [
    {
     "data": {
      "text/html": [
       "<style>\n",
       "    h1 + p {\n",
       "        font-weight: bold;\n",
       "        background-color: #333;\n",
       "        color: #fff;\n",
       "        padding: .5em;\n",
       "    }   \n",
       "</style>\n",
       "<article>\n",
       "    <h1>A heading</h1>\n",
       "    <p>Veggies es bonus vobis, proinde vos postulo essum magis kohlrabi welsh onion daikon amaranth tatsoi tomatillo melon azuki bean garlic.</p>\n",
       "    <p>Gumbo beet greens corn soko endive gumbo gourd. Parsley shallot courgette tatsoi pea sprouts fava bean collard greens dandelion okra wakame tomato. Dandelion cucumber earthnut pea peanut soko zucchini.</p>\n",
       "</article>"
      ]
     },
     "metadata": {},
     "output_type": "display_data"
    }
   ],
   "source": [
    "<style>\n",
    "    /* busca un párrafo que sea directamente adyacente a <h1> */\n",
    "    h1 + p {\n",
    "        font-weight: bold;\n",
    "        background-color: #333;\n",
    "        color: #fff;\n",
    "        padding: .5em;\n",
    "    }   \n",
    "</style>\n",
    "<article>\n",
    "    <h1>A heading</h1>\n",
    "    <p>Veggies es bonus vobis, proinde vos postulo essum magis kohlrabi welsh onion daikon amaranth tatsoi tomatillo melon azuki bean garlic.</p>\n",
    "    <p>Gumbo beet greens corn soko endive gumbo gourd. Parsley shallot courgette tatsoi pea sprouts fava bean collard greens dandelion okra wakame tomato. Dandelion cucumber earthnut pea peanut soko zucchini.</p>\n",
    "</article>"
   ]
  },
  {
   "attachments": {},
   "cell_type": "markdown",
   "metadata": {},
   "source": [
    "Si insertas algún otro elemento, como `<h2>` entre las etiquetas `<h1>` y `<p>`, el selector ya no selecciona el párrafo y no se muestra con los mismos colores de fondo y de primer plano como cuando es adyacente."
   ]
  },
  {
   "attachments": {},
   "cell_type": "markdown",
   "metadata": {},
   "source": [
    "## Hermanos generales"
   ]
  },
  {
   "attachments": {},
   "cell_type": "markdown",
   "metadata": {},
   "source": [
    "Si deseas seleccionar los hermanos de un elemento, incluso si no son directamente adyacentes, puedes utilizar el combinador de hermanos general (`~`)."
   ]
  },
  {
   "cell_type": "code",
   "execution_count": 4,
   "metadata": {
    "dotnet_interactive": {
     "language": "html"
    },
    "polyglot_notebook": {
     "kernelName": "html"
    },
    "vscode": {
     "languageId": "polyglot-notebook"
    }
   },
   "outputs": [
    {
     "data": {
      "text/html": [
       "<style>\n",
       "    /* seleccionamos todos los elementos <p> que vienen después de <h1>, y aunque en el documento también hay un <div>, se selecciona incluso la etiqueta <p> que viene después */ \n",
       "    h1 ~ p {\n",
       "        font-weight: bold;\n",
       "        background-color: #333;\n",
       "        color: #fff;\n",
       "        padding: .5em;\n",
       "    }\n",
       "</style>\n",
       "<article>\n",
       "    <h1>A heading</h1>\n",
       "    <p>I am a paragraph.</p>\n",
       "    <div>I am a div</div>\n",
       "    <p>I am another paragraph.</p>\n",
       "</article>"
      ]
     },
     "metadata": {},
     "output_type": "display_data"
    }
   ],
   "source": [
    "<style>\n",
    "    /* seleccionamos todos los elementos <p> que vienen después de <h1>, y aunque en el documento también hay un <div>, se selecciona incluso la etiqueta <p> que viene después */ \n",
    "    h1 ~ p {\n",
    "        font-weight: bold;\n",
    "        background-color: #333;\n",
    "        color: #fff;\n",
    "        padding: .5em;\n",
    "    }\n",
    "</style>\n",
    "<article>\n",
    "    <h1>A heading</h1>\n",
    "    <p>I am a paragraph.</p>\n",
    "    <div>I am a div</div>\n",
    "    <p>I am another paragraph.</p>\n",
    "</article>"
   ]
  },
  {
   "attachments": {},
   "cell_type": "markdown",
   "metadata": {},
   "source": [
    "## El uso de selectores de combinación"
   ]
  },
  {
   "attachments": {},
   "cell_type": "markdown",
   "metadata": {},
   "source": [
    "Puedes combinar cualquiera de los selectores de los artículos anteriores con selectores de combinación para seleccionar una parte del documento. Por ejemplo, podrías utilizar el código siguiente para seleccionar elementos de una lista con una clase «a» que son hijos directos de `<ul>`: `ul > li[class=\"a\"] {}`.\n",
    "\n",
    "Ten cuidado cuando creas largas listas de selectores que seleccionan partes del documento muy específicas. Te será difícil volver a utilizar las reglas CSS porque has definido un selector muy específico para la ubicación del elemento en el marcado.\n",
    "\n",
    "A menudo es mejor crear una clase sencilla y aplicarla al elemento en cuestión. Dicho esto, tu conocimiento de los selectores de combinación te será muy útil si necesitas modificar algo del documento y no puedes acceder al código HTML."
   ]
  }
 ],
 "metadata": {
  "language_info": {
   "name": "python"
  },
  "orig_nbformat": 4
 },
 "nbformat": 4,
 "nbformat_minor": 2
}
