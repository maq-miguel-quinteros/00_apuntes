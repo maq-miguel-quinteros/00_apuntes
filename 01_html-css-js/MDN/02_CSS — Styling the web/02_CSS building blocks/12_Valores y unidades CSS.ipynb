{
 "cells": [
  {
   "cell_type": "markdown",
   "metadata": {},
   "source": [
    "# Valores y unidades CSS"
   ]
  },
  {
   "cell_type": "markdown",
   "metadata": {},
   "source": [
    "Todas las propiedades que se utilizan en CSS tienen un valor o un conjunto de valores que esa propiedad admite."
   ]
  },
  {
   "cell_type": "markdown",
   "metadata": {},
   "source": [
    "## ¿Qué es un valor CSS?"
   ]
  },
  {
   "cell_type": "markdown",
   "metadata": {},
   "source": [
    "En las especificaciones CSS y en las páginas de propiedades de este proyecto MDN, podrás detectar los valores porque estarán escritos entre corchetes angulares, como `<color>` o `<length>`. Cuando veas que el valor `<color>` es válido para una propiedad en particular, significa que para esa propiedad puedes usar como valor cualquier color válido de entre los que se enumeran en la página de referencia de la propiedad `<color>`.\n",
    "\n",
    "> Nota: también verás valores CSS denominados _tipos de datos_. Los términos son básicamente intercambiables: cuando veas algo en CSS denominado 'tipo de datos', en realidad es solo una forma elegante de decir 'valor'.\n",
    "\n",
    "> Nota: sí, hay una tendencia de denotar los valores CSS entre corchetes angulares, para diferenciarlos de las propiedades CSS (por ejemplo, la propiedad color con respecto al tipo de dato <color>). Aunque podría generarte confusión entre los tipos de datos CSS y los elementos HTML, porque ambos usan corchetes angulares, es poco probable porque se usan en contextos muy diferentes."
   ]
  },
  {
   "cell_type": "code",
   "execution_count": 1,
   "metadata": {
    "dotnet_interactive": {
     "language": "html"
    },
    "polyglot_notebook": {
     "kernelName": "html"
    },
    "vscode": {
     "languageId": "polyglot-notebook"
    }
   },
   "outputs": [
    {
     "data": {
      "text/html": [
       "<style>\n",
       "    /* establecemos el color de nuestro encabezado con una palabra clave y el fondo con la función rgb() */\n",
       "    .h1 {\n",
       "        color: black;\n",
       "        background-color: rgb(197,93,161);\n",
       "    }\n",
       "</style>\n",
       "<h1 class=\"h1\">Título</h1>"
      ]
     },
     "metadata": {},
     "output_type": "display_data"
    }
   ],
   "source": [
    "<style>\n",
    "    /* establecemos el color de nuestro encabezado con una palabra clave y el fondo con la función rgb() */\n",
    "    .h1 {\n",
    "        color: black;\n",
    "        background-color: rgb(197,93,161);\n",
    "    }\n",
    "</style>\n",
    "<h1 class=\"h1\">Título</h1>"
   ]
  },
  {
   "cell_type": "markdown",
   "metadata": {},
   "source": [
    "Un valor en CSS es una forma de definir una colección de subvalores admitidos. Esto significa que si ves `<color>` como válido, no necesitas preguntarte cuáles de los diferentes tipos de valor de color puedes usar: palabras clave, valores hexadecimales, funciones rgb(), etc. Puedes usar cualquier valor `<color>` disponible siempre que tu navegador lo admita. La página de MDN te dará información sobre lo que admite cada navegador para cada valor. Por ejemplo, puedes ver que en la sección de compatibilidad de navegadores de la página para `<color>` se enumeran diferentes tipos de valores de color y los navegadores que los admiten.\n",
    "\n",
    "Echemos un vistazo a algunos de los tipos de valores y unidades con los que puedes encontrar con frecuencia."
   ]
  },
  {
   "cell_type": "markdown",
   "metadata": {},
   "source": [
    "## Números, longitudes y porcentajes"
   ]
  },
  {
   "cell_type": "markdown",
   "metadata": {},
   "source": [
    "Al utilizar CSS te puedes encontrar con varios tipos de datos numéricos. Todos los siguientes están clasificados como tipos de datos numéricos:"
   ]
  },
  {
   "cell_type": "markdown",
   "metadata": {},
   "source": [
    "Tipo de datos | Descripción\n",
    "-- | --\n",
    "`<integer>` | Un `<integer>` es un número entero, como `1024` o `-55`.\n",
    "`<number>` | Un `<number>` representa un número decimal; puede tener o no un punto de separación decimal con un componente fraccionario, por ejemplo: `0.255`, `128` o `-1.2`.\n",
    "`<dimension>` | Una `<dimension>` es un `<number>` con una unidad asociada, por ejemplo: `45deg` (grados), `5s` (segundos) o `10px` (píxeles). `<dimension>` es una categoría general que incluye los tipos `<length>`, `<angle>`, `<time>` y `<resolution>`.\n",
    "`<percentage>` | Un `<percentage>` representa una fracción de algún otro valor, por ejemplo, 50%. Los valores de porcentaje siempre son relativos a otra cantidad, por ejemplo, la longitud de un elemento es relativa a la longitud de su elemento padre."
   ]
  },
  {
   "cell_type": "markdown",
   "metadata": {},
   "source": [
    "### Longitudes"
   ]
  },
  {
   "cell_type": "markdown",
   "metadata": {},
   "source": [
    "El tipo numérico con el que te vas a encontrar con mayor frecuencia es `<length>`, por ejemplo, `10px` (píxeles) o `30em`. En CSS se utilizan dos longitudes diferentes: __relativa__ y __absoluta__. Es importante conocer la diferencia para entender qué dimensiones van a tener las cosas."
   ]
  },
  {
   "cell_type": "markdown",
   "metadata": {},
   "source": [
    "#### Unidades de longitud absoluta"
   ]
  },
  {
   "cell_type": "markdown",
   "metadata": {},
   "source": [
    "Unidad|\tNombre|\tEquivale a|\n",
    "--- | --- | ---\n",
    "`cm`|\tCentímetros|1cm = 96px/2,54\n",
    "`mm`|\tMilímetros|\t1mm = 1/10 de 1cm\n",
    "`Q`|\tCuartos de milímetros|\t1Q = 1/40 de 1cm\n",
    "`in`|\tPulgadas|\t1in = 2,54cm = 96px\n",
    "`pc`|\tPicas|\t1pc = 1/6 de 1in\n",
    "`pt`|\tPuntos|\t1pt = 1/72 de 1in\n",
    "`px`|\tPíxeles|\t1px = 1/96 de 1in"
   ]
  },
  {
   "cell_type": "markdown",
   "metadata": {},
   "source": [
    "La mayoría de estos valores son más útiles cuando se usan en una salida en formato impreso que en la salida de pantalla. Por ejemplo, normalmente no usamos `cm` (centímetros) en pantalla. El único valor que usarás de forma frecuente es `px` (píxeles)."
   ]
  },
  {
   "cell_type": "markdown",
   "metadata": {},
   "source": [
    "#### Unidades de longitud relativa"
   ]
  },
  {
   "cell_type": "markdown",
   "metadata": {},
   "source": [
    "Las unidades de longitud relativa son relativas a algo más, por ejemplo, al tamaño de letra del elemento principal o al tamaño de la ventana gráfica. La ventaja de usar unidades relativas es que con una planificación cuidadosa puedes lograr que el tamaño del texto u otros elementos escalen en relación con todo lo demás en la página. En la tabla siguiente se enumeran algunas de las unidades más útiles para el desarrollo web."
   ]
  },
  {
   "cell_type": "markdown",
   "metadata": {},
   "source": [
    "Unidad|\tRelativa a\n",
    "--- | ---\n",
    "`em` |\tTamaño de letra del elemento padre, en el caso de propiedades tipográficas como `font-size`, y tamaño de la fuente del propio elemento en el caso de otras propiedades, como `width`.\n",
    "`ex`|\tAltura `x` de la fuente del elemento.\n",
    "`ch`|\tLa medida de avance (ancho) del glifo \"0\" de la letra del elemento.\n",
    "`rem`|\tTamaño de la letra del elemento raíz.\n",
    "`lh`|\tAltura de la línea del elemento.\n",
    "`vw`|\t1% del ancho de la ventana gráfica.\n",
    "`vh`|\t1% de la altura de la ventana gráfica.\n",
    "`vmin`|\t1% de la dimensión más pequeña de la ventana gráfica.\n",
    "`vmax`|\t1% de la dimensión más grande de la ventana gráfica."
   ]
  },
  {
   "cell_type": "markdown",
   "metadata": {},
   "source": [
    "#### Ejemplo"
   ]
  },
  {
   "cell_type": "code",
   "execution_count": 13,
   "metadata": {
    "dotnet_interactive": {
     "language": "html"
    },
    "polyglot_notebook": {
     "kernelName": "html"
    },
    "vscode": {
     "languageId": "polyglot-notebook"
    }
   },
   "outputs": [
    {
     "data": {
      "text/html": [
       "<style>\n",
       "    .div-flex { font-size: 1em}\n",
       "    .div-box { width: 100px; margin: 1px; border: 2px solid blue; }\n",
       "\n",
       "    /* la caja de esta clase tiene un ancho (width) establecido en píxeles. Como unidad absoluta, este ancho será siempre el mismo aunque lo demás cambie. */\n",
       "    .px {\n",
       "        width: 200px;\n",
       "    }\n",
       "    /* la caja de esta clase tiene un ancho establecido en unidades vw (ancho de ventana). Este valor es relativo al ancho de la ventana gráfica, por lo que 10vw es el 10 por ciento del ancho de la ventana gráfica. Si cambiases el ancho de la ventana de tu navegador, el tamaño de la caja cambiaría. */\n",
       "    .vw {\n",
       "        width: 10vw;\n",
       "    }\n",
       "    /* caja utiliza unidades em. Son unidades relativas al tamaño de la letra. Hemos establecido un tamaño de fuente de 1em en el contenido <div>, que tiene una clase .wrapper. Si cambias este valor a 1.5em, verás que el tamaño de letra de todos los elementos aumenta, pero solo se amplía el ancho en el último elemento, porque el ancho es relativo a ese tamaño de letra. */\n",
       "    .em {\n",
       "        width: 10em;\n",
       "    }\n",
       "</style>\n",
       "<div class=\"div-flex\">\n",
       "    <div class=\"div-box px\">I am 200px wide</div>\n",
       "    <div class=\"div-box vw\">I am 10vw wide</div>\n",
       "    <div class=\"div-box em\">I am 10em wide</div>\n",
       "</div>"
      ]
     },
     "metadata": {},
     "output_type": "display_data"
    }
   ],
   "source": [
    "<style>\n",
    "    .div-flex { font-size: 1em}\n",
    "    .div-box { width: 100px; margin: 1px; border: 2px solid blue; }\n",
    "\n",
    "    /* la caja de esta clase tiene un ancho (width) establecido en píxeles. Como unidad absoluta, este ancho será siempre el mismo aunque lo demás cambie. */\n",
    "    .px {\n",
    "        width: 200px;\n",
    "    }\n",
    "    /* la caja de esta clase tiene un ancho establecido en unidades vw (ancho de ventana). Este valor es relativo al ancho de la ventana gráfica, por lo que 10vw es el 10 por ciento del ancho de la ventana gráfica. Si cambiases el ancho de la ventana de tu navegador, el tamaño de la caja cambiaría. */\n",
    "    .vw {\n",
    "        width: 10vw;\n",
    "    }\n",
    "    /* caja utiliza unidades em. Son unidades relativas al tamaño de la letra. Hemos establecido un tamaño de fuente de 1em en el contenido <div>, que tiene una clase .wrapper. Si cambias este valor a 1.5em, verás que el tamaño de letra de todos los elementos aumenta, pero solo se amplía el ancho en el último elemento, porque el ancho es relativo a ese tamaño de letra. */\n",
    "    .em {\n",
    "        width: 10em;\n",
    "    }\n",
    "</style>\n",
    "<div class=\"div-flex\">\n",
    "    <div class=\"div-box px\">I am 200px wide</div>\n",
    "    <div class=\"div-box vw\">I am 10vw wide</div>\n",
    "    <div class=\"div-box em\">I am 10em wide</div>\n",
    "</div>"
   ]
  },
  {
   "cell_type": "markdown",
   "metadata": {},
   "source": [
    "#### ems y rems"
   ]
  },
  {
   "cell_type": "markdown",
   "metadata": {},
   "source": [
    "`em` y `rem` son las dos longitudes relativas que es probable que encuentres con mayor frecuencia al cambiar el tamaño de cualquier cosa, de cajas a texto."
   ]
  },
  {
   "cell_type": "code",
   "execution_count": 17,
   "metadata": {
    "dotnet_interactive": {
     "language": "html"
    },
    "polyglot_notebook": {
     "kernelName": "html"
    },
    "vscode": {
     "languageId": "polyglot-notebook"
    }
   },
   "outputs": [
    {
     "data": {
      "text/html": [
       "<style>\n",
       "    /* configuramos un tamaño de letra de 16px para el elemento <html> */\n",
       "    html {\n",
       "        font-size: 16px;\n",
       "    }\n",
       "    /*  la unidad em significa «el tamaño de letra de mi elemento padre». Los elementos <li> dentro de un elemento <ul> con una clase de ems toman el tamaño con respecto a su elemento padre. Por lo tanto, en cada nivel de anidamiento sucesivo, el tamaño de letra aumenta progresivamente, porque en cada uno el tamaño de letra está establecido en 1.3em (1,3 veces el tamaño de letra de su elemento padre) */\n",
       "    .ems li {\n",
       "        font-size: 1.3em;\n",
       "    }\n",
       "    /* la unidad rem significa «el tamaño de letra del elemento raíz». ('rem' viene de «root em»). Los elementos <li> dentro de un elemento <ul> con una clase de rems toman su tamaño del elemento raíz (<html>). Esto significa que el tamaño de letra no aumenta en cada nivel sucesivo de anidamiento. */\n",
       "    .rems li {\n",
       "        font-size: 1.3rem;\n",
       "    }\n",
       "</style>\n",
       "<div class=\"html\">\n",
       "    <ul class=\"ems\">\n",
       "        <li>One</li>\n",
       "        <li>Two</li>\n",
       "        <li>Three\n",
       "            <ul>\n",
       "                <li>Three A</li>\n",
       "                <li>Three B\n",
       "                    <ul>\n",
       "                        <li>Three B 2</li>\n",
       "                    </ul>\n",
       "                </li>\n",
       "            </ul>\n",
       "        </li>\n",
       "    </ul>\n",
       "    <ul class=\"rems\">\n",
       "        <li>One</li>\n",
       "        <li>Two</li>\n",
       "        <li>Three\n",
       "            <ul>\n",
       "                <li>Three A</li>\n",
       "                <li>Three B\n",
       "                    <ul>\n",
       "                        <li>Three B 2</li>\n",
       "                    </ul>\n",
       "                </li>\n",
       "            </ul>\n",
       "        </li>\n",
       "    </ul>\n",
       "</div>"
      ]
     },
     "metadata": {},
     "output_type": "display_data"
    }
   ],
   "source": [
    "<style>\n",
    "    /* configuramos un tamaño de letra de 16px para el elemento <html> */\n",
    "    html {\n",
    "        font-size: 16px;\n",
    "    }\n",
    "    /*  la unidad em significa «el tamaño de letra de mi elemento padre». Los elementos <li> dentro de un elemento <ul> con una clase de ems toman el tamaño con respecto a su elemento padre. Por lo tanto, en cada nivel de anidamiento sucesivo, el tamaño de letra aumenta progresivamente, porque en cada uno el tamaño de letra está establecido en 1.3em (1,3 veces el tamaño de letra de su elemento padre) */\n",
    "    .ems li {\n",
    "        font-size: 1.3em;\n",
    "    }\n",
    "    /* la unidad rem significa «el tamaño de letra del elemento raíz». ('rem' viene de «root em»). Los elementos <li> dentro de un elemento <ul> con una clase de rems toman su tamaño del elemento raíz (<html>). Esto significa que el tamaño de letra no aumenta en cada nivel sucesivo de anidamiento. */\n",
    "    .rems li {\n",
    "        font-size: 1.3rem;\n",
    "    }\n",
    "</style>\n",
    "<div class=\"html\">\n",
    "    <ul class=\"ems\">\n",
    "        <li>One</li>\n",
    "        <li>Two</li>\n",
    "        <li>Three\n",
    "            <ul>\n",
    "                <li>Three A</li>\n",
    "                <li>Three B\n",
    "                    <ul>\n",
    "                        <li>Three B 2</li>\n",
    "                    </ul>\n",
    "                </li>\n",
    "            </ul>\n",
    "        </li>\n",
    "    </ul>\n",
    "    <ul class=\"rems\">\n",
    "        <li>One</li>\n",
    "        <li>Two</li>\n",
    "        <li>Three\n",
    "            <ul>\n",
    "                <li>Three A</li>\n",
    "                <li>Three B\n",
    "                    <ul>\n",
    "                        <li>Three B 2</li>\n",
    "                    </ul>\n",
    "                </li>\n",
    "            </ul>\n",
    "        </li>\n",
    "    </ul>\n",
    "</div>"
   ]
  }
 ],
 "metadata": {
  "language_info": {
   "name": "python"
  },
  "orig_nbformat": 4
 },
 "nbformat": 4,
 "nbformat_minor": 2
}
