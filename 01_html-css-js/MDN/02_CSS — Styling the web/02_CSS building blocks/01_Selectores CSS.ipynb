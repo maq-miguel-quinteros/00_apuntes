{
 "cells": [
  {
   "attachments": {},
   "cell_type": "markdown",
   "metadata": {},
   "source": [
    "# Selectores CSS"
   ]
  },
  {
   "attachments": {},
   "cell_type": "markdown",
   "metadata": {},
   "source": [
    "En __CSS__ los selectores se utilizan para delimitar los elementos __HTML__ de nuestra página web a los que queremos aplicar estilo. Hay una amplia variedad de selectores CSS, lo que permite una gran precisión a la hora de seleccionar elementos a los que aplicar estilo."
   ]
  },
  {
   "attachments": {},
   "cell_type": "markdown",
   "metadata": {},
   "source": [
    "## ¿Qué es un selector?"
   ]
  },
  {
   "attachments": {},
   "cell_type": "markdown",
   "metadata": {},
   "source": [
    "Un selector CSS es la primera parte de una regla CSS. Es un patrón de elementos y otros términos que indican al navegador qué elementos HTML se seleccionan para aplicarles una regla que incluye los valores de las propiedades CSS. El elemento o los elementos seleccionados por el selector se denominan sujeto del selector.\n",
    "\n",
    "En CSS, los selectores se definen en la especificación de selectores de CSS correspondiente; al igual que cualquier otro elemento de CSS, es necesario que los navegadores los admitan para que funcionen. La mayoría de los selectores que encontrarás se definen en [especificación de nivel 3 de selectores](https://www.w3.org/TR/selectors-3/), que es una especificación consolidada y, por lo tanto, la mayoría de navegadores admitirán esos selectores."
   ]
  },
  {
   "attachments": {},
   "cell_type": "markdown",
   "metadata": {},
   "source": [
    "## Listas de selectores"
   ]
  },
  {
   "attachments": {},
   "cell_type": "markdown",
   "metadata": {},
   "source": [
    "Si más de un elemento utiliza el mismo CSS, puedes combinar los selectores en una lista de selectores para que la regla se aplique a cada uno de los selectores individuales."
   ]
  },
  {
   "cell_type": "code",
   "execution_count": 1,
   "metadata": {
    "dotnet_interactive": {
     "language": "html"
    },
    "polyglot_notebook": {
     "kernelName": "html"
    },
    "vscode": {
     "languageId": "polyglot-notebook"
    }
   },
   "outputs": [
    {
     "data": {
      "text/html": [
       "<style>\n",
       "    h1 {\n",
       "        color: blue;\n",
       "    }\n",
       "\n",
       "    .special {\n",
       "        color: blue;\n",
       "    }\n",
       "/* podemos escribirlo como */\n",
       "    h1, .special {\n",
       "        color: blue;\n",
       "    }\n",
       "</style>"
      ]
     },
     "metadata": {},
     "output_type": "display_data"
    }
   ],
   "source": [
    "<style>\n",
    "    h1 {\n",
    "        color: blue;\n",
    "    }\n",
    "\n",
    "    .special {\n",
    "        color: blue;\n",
    "    }\n",
    "/* podemos escribirlo como */\n",
    "    h1, .special {\n",
    "        color: blue;\n",
    "    }\n",
    "</style>"
   ]
  },
  {
   "attachments": {},
   "cell_type": "markdown",
   "metadata": {},
   "source": [
    "Es posible dejar un espacio en blanco tanto antes como después de la coma. Incluso puede resultar más legible si cada selector se encuentra en una línea distinta."
   ]
  },
  {
   "cell_type": "code",
   "execution_count": 2,
   "metadata": {
    "dotnet_interactive": {
     "language": "html"
    },
    "polyglot_notebook": {
     "kernelName": "html"
    },
    "vscode": {
     "languageId": "polyglot-notebook"
    }
   },
   "outputs": [
    {
     "data": {
      "text/html": [
       "<style>\n",
       "    h1,\n",
       "    .special {\n",
       "        color: blue;\n",
       "    }\n",
       "</style>"
      ]
     },
     "metadata": {},
     "output_type": "display_data"
    }
   ],
   "source": [
    "<style>\n",
    "    h1,\n",
    "    .special {\n",
    "        color: blue;\n",
    "    }\n",
    "</style>"
   ]
  },
  {
   "attachments": {},
   "cell_type": "markdown",
   "metadata": {},
   "source": [
    "Cuando agrupas los selectores de esta manera, si alguno de los selectores no es válido, el navegador sencillamente ignora toda la regla."
   ]
  },
  {
   "cell_type": "code",
   "execution_count": 3,
   "metadata": {
    "dotnet_interactive": {
     "language": "html"
    },
    "polyglot_notebook": {
     "kernelName": "html"
    },
    "vscode": {
     "languageId": "polyglot-notebook"
    }
   },
   "outputs": [
    {
     "data": {
      "text/html": [
       "<style>\n",
       "    /* la regla para h1 se aplica mientras que la regla para la clase ..especial no */\n",
       "    h1 {\n",
       "        color: blue;\n",
       "    }\n",
       "\n",
       "    ..special {\n",
       "    color: blue;\n",
       "    }\n",
       "    /* toda la regla se considera no válida y no se aplicará estilo ni a h1 ni a la clase */\n",
       "    h1, ..special {\n",
       "        color: blue;\n",
       "    }\n",
       "</style>"
      ]
     },
     "metadata": {},
     "output_type": "display_data"
    }
   ],
   "source": [
    "<style>\n",
    "    /* la regla para h1 se aplica mientras que la regla para la clase ..especial no */\n",
    "    h1 {\n",
    "        color: blue;\n",
    "    }\n",
    "\n",
    "    ..special {\n",
    "    color: blue;\n",
    "    }\n",
    "    /* toda la regla se considera no válida y no se aplicará estilo ni a h1 ni a la clase */\n",
    "    h1, ..special {\n",
    "        color: blue;\n",
    "    }\n",
    "</style>"
   ]
  },
  {
   "attachments": {},
   "cell_type": "markdown",
   "metadata": {},
   "source": [
    "## Tipos de selectores"
   ]
  },
  {
   "attachments": {},
   "cell_type": "markdown",
   "metadata": {},
   "source": [
    "### Selectores de tipo, de clase y de ID"
   ]
  },
  {
   "cell_type": "code",
   "execution_count": 4,
   "metadata": {
    "dotnet_interactive": {
     "language": "html"
    },
    "polyglot_notebook": {
     "kernelName": "html"
    },
    "vscode": {
     "languageId": "polyglot-notebook"
    }
   },
   "outputs": [
    {
     "data": {
      "text/html": [
       "<style>\n",
       "    /* el selector de tipo delimita los elementos HTML del mismo tipo, como por ejemplo los <h2> */\n",
       "    h2 {\n",
       "        color: red;\n",
       "    }\n",
       "\n",
       "    /* el selector de clase delimita uno o varios elementos de distinto tipo pero con la misma clase */\n",
       "    .box {\n",
       "        background-color: green;\n",
       "    }\n",
       "\n",
       "    /* el selector de id delimita un único elemento mediante el valor de su id */\n",
       "    #unique {\n",
       "        font-size: 1.5rem;\n",
       "    }\n",
       "</style>"
      ]
     },
     "metadata": {},
     "output_type": "display_data"
    }
   ],
   "source": [
    "<style>\n",
    "    /* el selector de tipo delimita los elementos HTML del mismo tipo, como por ejemplo los <h2> */\n",
    "    h2 {\n",
    "        color: red;\n",
    "    }\n",
    "\n",
    "    /* el selector de clase delimita uno o varios elementos de distinto tipo pero con la misma clase */\n",
    "    .box {\n",
    "        background-color: green;\n",
    "    }\n",
    "\n",
    "    /* el selector de id delimita un único elemento mediante el valor de su id */\n",
    "    #unique {\n",
    "        font-size: 1.5rem;\n",
    "    }\n",
    "</style>"
   ]
  },
  {
   "attachments": {},
   "cell_type": "markdown",
   "metadata": {},
   "source": [
    "### Selectores de atributo"
   ]
  },
  {
   "attachments": {},
   "cell_type": "markdown",
   "metadata": {},
   "source": [
    "Este grupo de selectores te proporciona diferentes formas de seleccionar elementos según la presencia de un atributo determinado en un elemento o incluso hacer una selección basada en la presencia de un atributo que tiene un valor particular asignado."
   ]
  },
  {
   "cell_type": "code",
   "execution_count": 5,
   "metadata": {
    "dotnet_interactive": {
     "language": "html"
    },
    "polyglot_notebook": {
     "kernelName": "html"
    },
    "vscode": {
     "languageId": "polyglot-notebook"
    }
   },
   "outputs": [
    {
     "data": {
      "text/html": [
       "<style>\n",
       "    /* elementos <a> que tengan el atributo title */\n",
       "    a[title] {\n",
       "        font-size: 1.5rem;\n",
       "    }\n",
       "    \n",
       "    /* elementos <a> que tengan el atributo href con el valor https://example.com */\n",
       "    a[href=\"https://example.com\"] {\n",
       "        text-decoration: none;\n",
       "    }\n",
       "</style>"
      ]
     },
     "metadata": {},
     "output_type": "display_data"
    }
   ],
   "source": [
    "<style>\n",
    "    /* elementos <a> que tengan el atributo title */\n",
    "    a[title] {\n",
    "        font-size: 1.5rem;\n",
    "    }\n",
    "    \n",
    "    /* elementos <a> que tengan el atributo href con el valor https://example.com */\n",
    "    a[href=\"https://example.com\"] {\n",
    "        text-decoration: none;\n",
    "    }\n",
    "</style>"
   ]
  },
  {
   "attachments": {},
   "cell_type": "markdown",
   "metadata": {},
   "source": [
    "### Las pseudoclases y los pseudoelementos"
   ]
  },
  {
   "attachments": {},
   "cell_type": "markdown",
   "metadata": {},
   "source": [
    "Este grupo de selectores incluye pseudoclases, que aplican estilo a ciertos estados de un elemento. La pseudoclase `:hover`, por ejemplo, selecciona un elemento solo cuando se le pasa el ratón por encima.\n",
    "\n",
    "También incluye pseudoelementos, que seleccionan una parte determinada de un elemento en vez del elemento en sí. Por ejemplo, `::first-line` siempre selecciona la primera línea del texto que se encuentra dentro de un elemento, y actúa como si un elemento `<span>` hubiera delimitado la primera línea, seleccionado y aplicado estilo."
   ]
  },
  {
   "cell_type": "code",
   "execution_count": 6,
   "metadata": {
    "dotnet_interactive": {
     "language": "html"
    },
    "polyglot_notebook": {
     "kernelName": "html"
    },
    "vscode": {
     "languageId": "polyglot-notebook"
    }
   },
   "outputs": [
    {
     "data": {
      "text/html": [
       "<style>\n",
       "    /* el color de la fuente cambia al pasar el puntero del mouse por el elemento */\n",
       "    a:hover {\n",
       "        color: red;\n",
       "    }\n",
       "\n",
       "    /* el tamaño de la fuente cambia en la primer línea del párrafo */\n",
       "    p::first-line {\n",
       "        font-size: red;\n",
       "    }\n",
       "</style>"
      ]
     },
     "metadata": {},
     "output_type": "display_data"
    }
   ],
   "source": [
    "<style>\n",
    "    /* el color de la fuente cambia al pasar el puntero del mouse por el elemento */\n",
    "    a:hover {\n",
    "        color: red;\n",
    "    }\n",
    "\n",
    "    /* el tamaño de la fuente cambia en la primer línea del párrafo */\n",
    "    p::first-line {\n",
    "        font-size: red;\n",
    "    }\n",
    "</style>"
   ]
  },
  {
   "attachments": {},
   "cell_type": "markdown",
   "metadata": {},
   "source": [
    "### Combinadores"
   ]
  },
  {
   "attachments": {},
   "cell_type": "markdown",
   "metadata": {},
   "source": [
    "Este grupo de selectores combina otros selectores con el fin de delimitar elementos de nuestros documentos."
   ]
  },
  {
   "cell_type": "code",
   "execution_count": 7,
   "metadata": {
    "dotnet_interactive": {
     "language": "html"
    },
    "polyglot_notebook": {
     "kernelName": "html"
    },
    "vscode": {
     "languageId": "polyglot-notebook"
    }
   },
   "outputs": [
    {
     "data": {
      "text/html": [
       "<style>\n",
       "    /* selecciona los párrafos que son hijos directos del elemento <article> utilizando el operador de combinación hijo (>) */\n",
       "    article > p {\n",
       "        font-family: Arial;\n",
       "    }\n",
       "</style>"
      ]
     },
     "metadata": {},
     "output_type": "display_data"
    }
   ],
   "source": [
    "<style>\n",
    "    /* selecciona los párrafos que son hijos directos del elemento <article> utilizando el operador de combinación hijo (>) */\n",
    "    article > p {\n",
    "        font-family: Arial;\n",
    "    }\n",
    "</style>"
   ]
  },
  {
   "attachments": {},
   "cell_type": "markdown",
   "metadata": {},
   "source": [
    "## Tabla de referencia de selectores"
   ]
  },
  {
   "attachments": {},
   "cell_type": "markdown",
   "metadata": {},
   "source": [
    "| Selector | Ejemplo |\n",
    "| --- | --- |\n",
    "Selector de tipo | `h1 { }`\n",
    "Selector universal | `* { }`\n",
    "Selector de clase |\t`.box { }`\n",
    "Selector de ID | `#unique { }`\n",
    "Selector de atributo | `a[title] { }`\n",
    "Pseudoclase | `p:first-child { }`\n",
    "Pseudoelemento | `p::first-line { }`\n",
    "Operadores de combinación descendentes | `article p`\n",
    "Operador de combinación de elementos hijo | `article > p`\n",
    "Operador de combinación de elementos hermanos adyacentes | `h1 + p`\n",
    "Operador de combinación general de elementos hermanos | `h1 ~ p`"
   ]
  },
  {
   "cell_type": "markdown",
   "metadata": {},
   "source": []
  }
 ],
 "metadata": {
  "language_info": {
   "name": "python"
  },
  "orig_nbformat": 4
 },
 "nbformat": 4,
 "nbformat_minor": 2
}
