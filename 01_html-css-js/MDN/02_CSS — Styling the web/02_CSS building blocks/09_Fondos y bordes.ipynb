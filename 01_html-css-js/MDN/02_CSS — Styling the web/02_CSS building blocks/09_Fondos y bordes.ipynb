{
 "cells": [
  {
   "attachments": {},
   "cell_type": "markdown",
   "metadata": {},
   "source": [
    "# Fondos y bordes"
   ]
  },
  {
   "attachments": {},
   "cell_type": "markdown",
   "metadata": {},
   "source": [
    "## Aplicar estilo a los fondos en CSS"
   ]
  },
  {
   "attachments": {},
   "cell_type": "markdown",
   "metadata": {},
   "source": [
    "La propiedad `background` de CSS es una propiedad abreviada de una serie de propiedades de fondo. Si descubres una propiedad de fondo compleja en una hoja de estilo, puede parecer un poco difícil de entender porque pueden estarse pasando muchos valores a la vez."
   ]
  },
  {
   "cell_type": "code",
   "execution_count": 4,
   "metadata": {
    "dotnet_interactive": {
     "language": "html"
    },
    "polyglot_notebook": {
     "kernelName": "html"
    },
    "vscode": {
     "languageId": "polyglot-notebook"
    }
   },
   "outputs": [
    {
     "data": {
      "text/html": [
       "<style>\n",
       "    .box {\n",
       "        background: linear-gradient(105deg, rgba(255,255,255,.2) 39%, rgba(51,56,57,1) 96%) center center / 400px 200px no-repeat, url(big-star.png) center no-repeat, rebeccapurple;\n",
       "    }\n",
       "</style>\n",
       "<div class=\"box\">prueba</div>"
      ]
     },
     "metadata": {},
     "output_type": "display_data"
    }
   ],
   "source": [
    "<style>\n",
    "    .box1 {\n",
    "        background: linear-gradient(105deg, rgba(255,255,255,.2) 39%, rgba(51,56,57,1) 96%) center center / 400px 200px no-repeat, url(big-star.png) center no-repeat, rebeccapurple;\n",
    "    }\n",
    "</style>\n",
    "<div class=\"box1\">prueba</div>"
   ]
  },
  {
   "attachments": {},
   "cell_type": "markdown",
   "metadata": {},
   "source": [
    "### Los colores de fondo"
   ]
  },
  {
   "attachments": {},
   "cell_type": "markdown",
   "metadata": {},
   "source": [
    "La propiedad `background-color` define el color de fondo de cualquier elemento en CSS. La propiedad admite cualquier `<color>` válido. Un color de fondo (`background-color`) se extiende por debajo del contenido y el relleno del elemento."
   ]
  },
  {
   "cell_type": "code",
   "execution_count": 5,
   "metadata": {
    "dotnet_interactive": {
     "language": "html"
    },
    "polyglot_notebook": {
     "kernelName": "html"
    },
    "vscode": {
     "languageId": "polyglot-notebook"
    }
   },
   "outputs": [
    {
     "data": {
      "text/html": [
       "<style>\n",
       "    .box2 {\n",
       "        background-color: #567895;\n",
       "    }\n",
       "    h2 {\n",
       "        background-color: black;\n",
       "        color: white;\n",
       "    }\n",
       "    span {\n",
       "        background-color: rgba(255,255,255,.5);\n",
       "    }\n",
       "</style>\n",
       "<div class=\"box2\">\n",
       "    <h2>Background Colors</h2>\n",
       "    <p>Try changing the background <span>colors</span>.</p>\n",
       "</div>"
      ]
     },
     "metadata": {},
     "output_type": "display_data"
    }
   ],
   "source": [
    "<style>\n",
    "    /* utilizamos varios valores de color para añadir un color de fondo a la caja, a un encabezado y a un elemento <span>. */\n",
    "    .box2 {\n",
    "        background-color: #567895;\n",
    "    }\n",
    "    h2 {\n",
    "        background-color: black;\n",
    "        color: white;\n",
    "    }\n",
    "    span {\n",
    "        background-color: rgba(255,255,255,.5);\n",
    "    }\n",
    "</style>\n",
    "<div class=\"box2\">\n",
    "    <h2>Background Colors</h2>\n",
    "    <p>Try changing the background <span>colors</span>.</p>\n",
    "</div>"
   ]
  },
  {
   "attachments": {},
   "cell_type": "markdown",
   "metadata": {},
   "source": [
    "### Las imágenes de fondo"
   ]
  },
  {
   "attachments": {},
   "cell_type": "markdown",
   "metadata": {},
   "source": [
    "La propiedad `background-image` permite visualizar una imagen de fondo en un elemento."
   ]
  },
  {
   "cell_type": "code",
   "execution_count": 6,
   "metadata": {
    "dotnet_interactive": {
     "language": "html"
    },
    "polyglot_notebook": {
     "kernelName": "html"
    },
    "vscode": {
     "languageId": "polyglot-notebook"
    }
   },
   "outputs": [
    {
     "data": {
      "text/html": [
       "<style>\n",
       "    .flex {\n",
       "        display: flex;\n",
       "    }\n",
       "    .box3 {\n",
       "        width: 200px;\n",
       "        height: 100px;\n",
       "        margin: 25px;\n",
       "    }\n",
       "    .a {\n",
       "        background-image: url(https://placekitten.com/400/250);\n",
       "    }\n",
       "    .b {\n",
       "        background-image: url(https://placekitten.com/50/60);\n",
       "    }\n",
       "</style>\n",
       "<div class=\"flex\">\n",
       "    <!-- de forma predeterminada, la imagen grande no se reduce para ajustarse a la caja, por lo que solo vemos una pequeña esquina de esta -->\n",
       "    <div class=\"box3 a\"></div>\n",
       "    <!-- la imagen pequeña aparece en forma de mosaico hasta llenar la caja -->\n",
       "    <div class=\"box3 b\"></div>\n",
       "</div>"
      ]
     },
     "metadata": {},
     "output_type": "display_data"
    }
   ],
   "source": [
    "<style>\n",
    "    .flex {\n",
    "        display: flex;\n",
    "    }\n",
    "    .box3 {\n",
    "        width: 200px;\n",
    "        height: 100px;\n",
    "        margin: 25px;\n",
    "    }\n",
    "    .a {\n",
    "        background-image: url(https://placekitten.com/400/250);\n",
    "    }\n",
    "    .b {\n",
    "        background-image: url(https://placekitten.com/50/60);\n",
    "    }\n",
    "</style>\n",
    "<div class=\"flex\">\n",
    "    <!-- de forma predeterminada, la imagen grande no se reduce para ajustarse a la caja, por lo que solo vemos una pequeña esquina de esta -->\n",
    "    <div class=\"box3 a\"></div>\n",
    "    <!-- la imagen pequeña aparece en forma de mosaico hasta llenar la caja -->\n",
    "    <div class=\"box3 b\"></div>\n",
    "</div>"
   ]
  },
  {
   "attachments": {},
   "cell_type": "markdown",
   "metadata": {},
   "source": [
    "Si especificas un color de fondo además de una imagen de fondo, la imagen se muestra encima del color de fondo."
   ]
  },
  {
   "attachments": {},
   "cell_type": "markdown",
   "metadata": {},
   "source": [
    "### Controlar background-repeat"
   ]
  },
  {
   "attachments": {},
   "cell_type": "markdown",
   "metadata": {},
   "source": [
    "La propiedad `background-repeat` se usa para controlar el comportamiento de tipo mosaico de las imágenes. Los valores disponibles son:\n",
    "\n",
    "* `no-repeat`: evita que el fondo se repita.\n",
    "* `repeat-x`: repite horizontalmente.\n",
    "* `repeat-y`: repite verticalmente.\n",
    "* `repeat`: es el valor por defecto; repite en ambas direcciones."
   ]
  },
  {
   "cell_type": "code",
   "execution_count": 12,
   "metadata": {
    "dotnet_interactive": {
     "language": "html"
    },
    "polyglot_notebook": {
     "kernelName": "html"
    },
    "vscode": {
     "languageId": "polyglot-notebook"
    }
   },
   "outputs": [
    {
     "data": {
      "text/html": [
       "<style>\n",
       "    .no-repeat {\n",
       "        background-color: grey;\n",
       "        background-repeat: no-repeat;\n",
       "    }\n",
       "    .repeat-x {\n",
       "        background-color: grey;\n",
       "        background-repeat: repeat-x\n",
       "    }\n",
       "    .repeat-y {\n",
       "        background-color: grey;\n",
       "        background-repeat: repeat-y\n",
       "    }\n",
       "</style>\n",
       "<div class=\"flex\">\n",
       "    <div class=\"box3 b no-repeat\"></div>\n",
       "    <div class=\"box3 b repeat-x\"></div>\n",
       "    <div class=\"box3 b repeat-y\"></div>\n",
       "</div>"
      ]
     },
     "metadata": {},
     "output_type": "display_data"
    }
   ],
   "source": [
    "<style>\n",
    "    .no-repeat {\n",
    "        background-color: grey;\n",
    "        background-repeat: no-repeat;\n",
    "    }\n",
    "    .repeat-x {\n",
    "        background-color: grey;\n",
    "        background-repeat: repeat-x\n",
    "    }\n",
    "    .repeat-y {\n",
    "        background-color: grey;\n",
    "        background-repeat: repeat-y\n",
    "    }\n",
    "</style>\n",
    "<div class=\"flex\">\n",
    "    <div class=\"box3 b no-repeat\"></div>\n",
    "    <div class=\"box3 b repeat-x\"></div>\n",
    "    <div class=\"box3 b repeat-y\"></div>\n",
    "</div>"
   ]
  },
  {
   "attachments": {},
   "cell_type": "markdown",
   "metadata": {},
   "source": [
    "### Dimensionar la imagen de fondo"
   ]
  },
  {
   "attachments": {},
   "cell_type": "markdown",
   "metadata": {},
   "source": [
    "En el caso de que una imagen grande aparezca recortada, porque es más grande que el fondo, podríamos usar la propiedad `background-size`, que puede tomar valores de _longitud_ o _porcentaje_, para ajustar el tamaño de la imagen para que quepa dentro del fondo.\n",
    "\n",
    "También puedes utilizar palabras clave:\n",
    "\n",
    "* `cover`: el navegador agrandará la imagen lo suficientemente grande como para que esta cubra por completo el área de la caja sin que pierda su relación de aspecto. En este caso, es probable que parte de la imagen quede fuera de la caja.\n",
    "* `contain`: el navegador adecuará el tamaño de la imagen para que quepa dentro de la caja. En este caso, pueden quedar huecos a ambos lados o en la parte superior e inferior de la imagen si la relación de aspecto de la imagen es diferente de la de la caja."
   ]
  },
  {
   "cell_type": "code",
   "execution_count": 20,
   "metadata": {
    "dotnet_interactive": {
     "language": "html"
    },
    "polyglot_notebook": {
     "kernelName": "html"
    },
    "vscode": {
     "languageId": "polyglot-notebook"
    }
   },
   "outputs": [
    {
     "data": {
      "text/html": [
       "<style>\n",
       "    .box4 {\n",
       "        width: 600px;\n",
       "        height: 300px;\n",
       "        margin: 10px;\n",
       "    }\n",
       "    .size {\n",
       "        background-size: 300px 5em;\n",
       "    }\n",
       "    .cover {\n",
       "        background-size: cover;\n",
       "    }\n",
       "    .cover {\n",
       "        background-size: contain;\n",
       "    }\n",
       "</style>\n",
       "<div class=\"flex\">\n",
       "    <div class=\"box4 a no-repeat size\"></div>\n",
       "    <div class=\"box4 a no-repeat cover\"></div>\n",
       "    <div class=\"box4 a no-repeat contain\"></div>\n",
       "</div>"
      ]
     },
     "metadata": {},
     "output_type": "display_data"
    }
   ],
   "source": [
    "<style>\n",
    "    .box4 {\n",
    "        width: 600px;\n",
    "        height: 300px;\n",
    "        margin: 10px;\n",
    "    }\n",
    "    .size {\n",
    "        background-size: 300px 5em;\n",
    "    }\n",
    "    .cover {\n",
    "        background-size: cover;\n",
    "    }\n",
    "    .cover {\n",
    "        background-size: contain;\n",
    "    }\n",
    "</style>\n",
    "<div class=\"flex\">\n",
    "    <div class=\"box4 a no-repeat size\"></div>\n",
    "    <div class=\"box4 a no-repeat cover\"></div>\n",
    "    <div class=\"box4 a no-repeat contain\"></div>\n",
    "</div>"
   ]
  },
  {
   "attachments": {},
   "cell_type": "markdown",
   "metadata": {},
   "source": [
    "### Posicionar la imagen de fondo"
   ]
  },
  {
   "attachments": {},
   "cell_type": "markdown",
   "metadata": {},
   "source": []
  }
 ],
 "metadata": {
  "language_info": {
   "name": "python"
  },
  "orig_nbformat": 4
 },
 "nbformat": 4,
 "nbformat_minor": 2
}
