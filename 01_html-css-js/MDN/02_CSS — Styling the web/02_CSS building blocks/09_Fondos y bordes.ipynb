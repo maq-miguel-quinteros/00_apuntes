{
 "cells": [
  {
   "attachments": {},
   "cell_type": "markdown",
   "metadata": {},
   "source": [
    "# Fondos y bordes"
   ]
  },
  {
   "attachments": {},
   "cell_type": "markdown",
   "metadata": {},
   "source": [
    "## Aplicar estilo a los fondos en CSS"
   ]
  },
  {
   "attachments": {},
   "cell_type": "markdown",
   "metadata": {},
   "source": [
    "La propiedad `background` de CSS es una propiedad abreviada de una serie de propiedades de fondo. Si descubres una propiedad de fondo compleja en una hoja de estilo, puede parecer un poco difícil de entender porque pueden estarse pasando muchos valores a la vez."
   ]
  },
  {
   "cell_type": "code",
   "execution_count": 3,
   "metadata": {
    "dotnet_interactive": {
     "language": "html"
    },
    "polyglot_notebook": {
     "kernelName": "html"
    },
    "vscode": {
     "languageId": "polyglot-notebook"
    }
   },
   "outputs": [
    {
     "data": {
      "text/html": [
       "<style>\n",
       "    .ej1 {\n",
       "        background: linear-gradient(105deg, rgba(255,255,255,.2) 39%, rgba(51,56,57,1) 96%) center center / 400px 200px no-repeat, url(big-star.png) center no-repeat, rebeccapurple;\n",
       "    }\n",
       "</style>\n",
       "<div class=\"ej1\">prueba</div>"
      ]
     },
     "metadata": {},
     "output_type": "display_data"
    }
   ],
   "source": [
    "<style>\n",
    "    .ej1 {\n",
    "        background: linear-gradient(105deg, rgba(255,255,255,.2) 39%, rgba(51,56,57,1) 96%) center center / 400px 200px no-repeat, url(big-star.png) center no-repeat, rebeccapurple;\n",
    "    }\n",
    "</style>\n",
    "<div class=\"ej1\">prueba</div>"
   ]
  },
  {
   "attachments": {},
   "cell_type": "markdown",
   "metadata": {},
   "source": [
    "### Los colores de fondo"
   ]
  },
  {
   "attachments": {},
   "cell_type": "markdown",
   "metadata": {},
   "source": [
    "La propiedad `background-color` define el color de fondo de cualquier elemento en CSS. La propiedad admite cualquier `<color>` válido. Un color de fondo (`background-color`) se extiende por debajo del contenido y el relleno del elemento."
   ]
  },
  {
   "cell_type": "code",
   "execution_count": 4,
   "metadata": {
    "dotnet_interactive": {
     "language": "html"
    },
    "polyglot_notebook": {
     "kernelName": "html"
    },
    "vscode": {
     "languageId": "polyglot-notebook"
    }
   },
   "outputs": [
    {
     "data": {
      "text/html": [
       "<style>\n",
       "    /* utilizamos varios valores de color para añadir un color de fondo a la caja, a un encabezado y a un elemento <span>. */\n",
       "    .bg-color {\n",
       "        background-color: #567895;\n",
       "    }\n",
       "    .h2-bg-color {\n",
       "        background-color: black;\n",
       "        color: white;\n",
       "    }\n",
       "    .span-bg-color {\n",
       "        background-color: rgba(255,255,255,.5);\n",
       "    }\n",
       "</style>\n",
       "<div class=\"bg-color\">\n",
       "    <h2 class=\"h2-bg-color\">Background Colors</h2>\n",
       "    <p>Try changing the background <span class=\"span-bg-color\">colors</span>.</p>\n",
       "</div>"
      ]
     },
     "metadata": {},
     "output_type": "display_data"
    }
   ],
   "source": [
    "<style>\n",
    "    /* utilizamos varios valores de color para añadir un color de fondo a la caja, a un encabezado y a un elemento <span>. */\n",
    "    .bg-color {\n",
    "        background-color: #567895;\n",
    "    }\n",
    "    .h2-bg-color {\n",
    "        background-color: black;\n",
    "        color: white;\n",
    "    }\n",
    "    .span-bg-color {\n",
    "        background-color: rgba(255,255,255,.5);\n",
    "    }\n",
    "</style>\n",
    "<div class=\"bg-color\">\n",
    "    <h2 class=\"h2-bg-color\">Background Colors</h2>\n",
    "    <p>Try changing the background <span class=\"span-bg-color\">colors</span>.</p>\n",
    "</div>"
   ]
  },
  {
   "attachments": {},
   "cell_type": "markdown",
   "metadata": {},
   "source": [
    "### Las imágenes de fondo"
   ]
  },
  {
   "attachments": {},
   "cell_type": "markdown",
   "metadata": {},
   "source": [
    "La propiedad `background-image` permite visualizar una imagen de fondo en un elemento."
   ]
  },
  {
   "cell_type": "code",
   "execution_count": 5,
   "metadata": {
    "dotnet_interactive": {
     "language": "html"
    },
    "polyglot_notebook": {
     "kernelName": "html"
    },
    "vscode": {
     "languageId": "polyglot-notebook"
    }
   },
   "outputs": [
    {
     "data": {
      "text/html": [
       "<style>\n",
       "    .div-flex { display: flex; }\n",
       "    .div-container { width: 200px; height: 100px; margin: 25px; }\n",
       "\n",
       "    .bg-image-400x250 {\n",
       "        background-image: url(https://placekitten.com/400/250);\n",
       "    }\n",
       "    .bg-image-50x60 {\n",
       "        background-image: url(https://placekitten.com/50/60);\n",
       "    }\n",
       "</style>\n",
       "<div class=\"div-flex\">\n",
       "    <!-- de forma predeterminada, la imagen grande no se reduce para ajustarse a la caja, por lo que solo vemos una pequeña esquina de esta -->\n",
       "    <div class=\"div-container bg-image-400x250\"></div>\n",
       "    <!-- la imagen pequeña aparece en forma de mosaico hasta llenar la caja -->\n",
       "    <div class=\"div-container bg-image-50x60\"></div>\n",
       "</div>"
      ]
     },
     "metadata": {},
     "output_type": "display_data"
    }
   ],
   "source": [
    "<style>\n",
    "    .div-flex { display: flex; }\n",
    "    .div-container { width: 200px; height: 100px; margin: 25px; }\n",
    "\n",
    "    .bg-image-400x250 {\n",
    "        background-image: url(https://placekitten.com/400/250);\n",
    "    }\n",
    "    .bg-image-50x60 {\n",
    "        background-image: url(https://placekitten.com/50/60);\n",
    "    }\n",
    "</style>\n",
    "<div class=\"div-flex\">\n",
    "    <!-- de forma predeterminada, la imagen grande no se reduce para ajustarse a la caja, por lo que solo vemos una pequeña esquina de esta -->\n",
    "    <div class=\"div-container bg-image-400x250\"></div>\n",
    "    <!-- la imagen pequeña aparece en forma de mosaico hasta llenar la caja -->\n",
    "    <div class=\"div-container bg-image-50x60\"></div>\n",
    "</div>"
   ]
  },
  {
   "attachments": {},
   "cell_type": "markdown",
   "metadata": {},
   "source": [
    "Si especificas un color de fondo además de una imagen de fondo, la imagen se muestra encima del color de fondo."
   ]
  },
  {
   "attachments": {},
   "cell_type": "markdown",
   "metadata": {},
   "source": [
    "### Controlar background-repeat"
   ]
  },
  {
   "attachments": {},
   "cell_type": "markdown",
   "metadata": {},
   "source": [
    "La propiedad `background-repeat` se usa para controlar el comportamiento de tipo mosaico de las imágenes. Los valores disponibles son:\n",
    "\n",
    "* `no-repeat`: evita que el fondo se repita.\n",
    "* `repeat-x`: repite horizontalmente.\n",
    "* `repeat-y`: repite verticalmente.\n",
    "* `repeat`: es el valor por defecto; repite en ambas direcciones."
   ]
  },
  {
   "cell_type": "code",
   "execution_count": 9,
   "metadata": {
    "dotnet_interactive": {
     "language": "html"
    },
    "polyglot_notebook": {
     "kernelName": "html"
    },
    "vscode": {
     "languageId": "polyglot-notebook"
    }
   },
   "outputs": [
    {
     "data": {
      "text/html": [
       "<style>\n",
       "    .div-flex { display: flex; }\n",
       "    .div-container { width: 200px; height: 100px; margin: 25px; }\n",
       "\n",
       "    .no-repeat {\n",
       "        background-color: grey;\n",
       "        background-image: url(https://placekitten.com/50/60);\n",
       "        background-repeat: no-repeat;\n",
       "    }\n",
       "    .repeat-x {\n",
       "        background-color: grey;\n",
       "        background-image: url(https://placekitten.com/50/60);\n",
       "        background-repeat: repeat-x;\n",
       "    }\n",
       "    .repeat-y {\n",
       "        background-color: grey;\n",
       "        background-image: url(https://placekitten.com/50/60);\n",
       "        background-repeat: repeat-y;\n",
       "    }\n",
       "</style>\n",
       "<div class=\"div-flex\">\n",
       "    <div class=\"div-container no-repeat\">no-repeat</div>\n",
       "    <div class=\"div-container repeat-x\"></div>\n",
       "    <div class=\"div-container repeat-y\"></div>\n",
       "</div>"
      ]
     },
     "metadata": {},
     "output_type": "display_data"
    }
   ],
   "source": [
    "<style>\n",
    "    .div-flex { display: flex; }\n",
    "    .div-container { width: 200px; height: 100px; margin: 25px; }\n",
    "\n",
    "    .no-repeat {\n",
    "        background-color: grey;\n",
    "        background-image: url(https://placekitten.com/50/60);\n",
    "\n",
    "        background-repeat: no-repeat;\n",
    "    }\n",
    "    .repeat-x {\n",
    "        background-color: grey;\n",
    "        background-image: url(https://placekitten.com/50/60);\n",
    "\n",
    "        background-repeat: repeat-x;\n",
    "    }\n",
    "    .repeat-y {\n",
    "        background-color: grey;\n",
    "        background-image: url(https://placekitten.com/50/60);\n",
    "        \n",
    "        background-repeat: repeat-y;\n",
    "    }\n",
    "</style>\n",
    "<div class=\"div-flex\">\n",
    "    <div class=\"div-container no-repeat\"></div>\n",
    "    <div class=\"div-container repeat-x\"></div>\n",
    "    <div class=\"div-container repeat-y\"></div>\n",
    "</div>"
   ]
  },
  {
   "attachments": {},
   "cell_type": "markdown",
   "metadata": {},
   "source": [
    "### Dimensionar la imagen de fondo"
   ]
  },
  {
   "attachments": {},
   "cell_type": "markdown",
   "metadata": {},
   "source": [
    "En el caso de que una imagen grande aparezca recortada, porque es más grande que el fondo, podríamos usar la propiedad `background-size`, que puede tomar valores de _longitud_ o _porcentaje_, para ajustar el tamaño de la imagen para que quepa dentro del fondo.\n",
    "\n",
    "También puedes utilizar palabras clave:\n",
    "\n",
    "* `cover`: el navegador agrandará la imagen lo suficientemente grande como para que esta cubra por completo el área de la caja sin que pierda su relación de aspecto. En este caso, es probable que parte de la imagen quede fuera de la caja.\n",
    "* `contain`: el navegador adecuará el tamaño de la imagen para que quepa dentro de la caja. En este caso, pueden quedar huecos a ambos lados o en la parte superior e inferior de la imagen si la relación de aspecto de la imagen es diferente de la de la caja."
   ]
  },
  {
   "cell_type": "code",
   "execution_count": 12,
   "metadata": {
    "dotnet_interactive": {
     "language": "html"
    },
    "polyglot_notebook": {
     "kernelName": "html"
    },
    "vscode": {
     "languageId": "polyglot-notebook"
    }
   },
   "outputs": [
    {
     "data": {
      "text/html": [
       "<style>\n",
       "    .div-flex { display: flex; }\n",
       "    .div-container2 { width: 600px; height: 300px; margin: 10px; }\n",
       "\n",
       "    .size {\n",
       "        background-color: grey;\n",
       "        background-image: url(https://placekitten.com/400/250);\n",
       "        background-repeat: no-repeat;\n",
       "        \n",
       "        background-size: 300px 5em;\n",
       "    }\n",
       "    .cover {\n",
       "        background-color: grey;\n",
       "        background-image: url(https://placekitten.com/400/250);\n",
       "        background-repeat: no-repeat;\n",
       "\n",
       "        background-size: cover;\n",
       "    }\n",
       "    .contain {\n",
       "        background-color: grey;\n",
       "        background-image: url(https://placekitten.com/400/250);\n",
       "        background-repeat: no-repeat;\n",
       "\n",
       "        background-size: contain;\n",
       "    }\n",
       "</style>\n",
       "<div class=\"div-flex\">\n",
       "    <div class=\"div-container2 size\"></div>\n",
       "    <div class=\"div-container2 cover\"></div>\n",
       "    <div class=\"div-container2 contain\"></div>\n",
       "</div>"
      ]
     },
     "metadata": {},
     "output_type": "display_data"
    }
   ],
   "source": [
    "<style>\n",
    "    .div-flex { display: flex; }\n",
    "    .div-container2 { width: 600px; height: 300px; margin: 10px; }\n",
    "\n",
    "    .size {\n",
    "        background-color: grey;\n",
    "        background-image: url(https://placekitten.com/400/250);\n",
    "        background-repeat: no-repeat;\n",
    "        \n",
    "        background-size: 300px 5em;\n",
    "    }\n",
    "    .cover {\n",
    "        background-color: grey;\n",
    "        background-image: url(https://placekitten.com/400/250);\n",
    "        background-repeat: no-repeat;\n",
    "\n",
    "        background-size: cover;\n",
    "    }\n",
    "    .contain {\n",
    "        background-color: grey;\n",
    "        background-image: url(https://placekitten.com/400/250);\n",
    "        background-repeat: no-repeat;\n",
    "\n",
    "        background-size: contain;\n",
    "    }\n",
    "</style>\n",
    "<div class=\"div-flex\">\n",
    "    <div class=\"div-container2 size\"></div>\n",
    "    <div class=\"div-container2 cover\"></div>\n",
    "    <div class=\"div-container2 contain\"></div>\n",
    "</div>"
   ]
  },
  {
   "attachments": {},
   "cell_type": "markdown",
   "metadata": {},
   "source": [
    "### Posicionar la imagen de fondo"
   ]
  },
  {
   "attachments": {},
   "cell_type": "markdown",
   "metadata": {},
   "source": [
    "La propiedad `background-position` te permite elegir la posición en la que aparece la imagen de fondo dentro de la caja a la que está asociada. Para ello se utiliza un sistema de coordenadas en el que la esquina superior izquierda de la caja es (0,0), y la caja se coloca sobre los ejes horizontal (x) y vertical (y).\n",
    "\n",
    "> Nota: El valor predeterminado de background-position es (0,0)\n",
    "\n",
    "Los valores de background-position más comunes toman dos valores independientes: un valor horizontal seguido de un valor vertical."
   ]
  },
  {
   "cell_type": "code",
   "execution_count": 13,
   "metadata": {
    "dotnet_interactive": {
     "language": "html"
    },
    "polyglot_notebook": {
     "kernelName": "html"
    },
    "vscode": {
     "languageId": "polyglot-notebook"
    }
   },
   "outputs": [
    {
     "data": {
      "text/html": [
       "<style>\n",
       "    .div-flex { display: flex; }\n",
       "    .div-container { width: 200px; height: 100px; margin: 25px; }\n",
       "\n",
       "    /* puedes usar palabras clave como top y right */\n",
       "    .position1 {\n",
       "        background-color: grey;\n",
       "        background-image: url(https://placekitten.com/50/60);\n",
       "        background-repeat: no-repeat;\n",
       "        background-position: top center;\n",
       "    }\n",
       "    /* puedes usar longitudes y porcentajes */\n",
       "    .position2 {\n",
       "        background-color: grey;\n",
       "        background-image: url(https://placekitten.com/50/60);\n",
       "        background-repeat: no-repeat;\n",
       "        background-position: 20px 10%;\n",
       "    }\n",
       "    /* puedes mezclar valores de palabras clave con longitudes o porcentajes */\n",
       "    .position3 {\n",
       "        background-color: grey;\n",
       "        background-image: url(https://placekitten.com/50/60);\n",
       "        background-repeat: no-repeat;\n",
       "        background-position: top 20px;\n",
       "    }\n",
       "    /* puedes usar una sintaxis de 4 valores para indicar una distancia desde ciertos bordes del cuadro: la unidad de longitud en este caso es un desplazamiento del valor que la precede. Por ejemplo, en el CSS siguiente, colocamos el fondo a 20 px desde la parte superior y a 10 px desde la derecha */\n",
       "    .position4 {\n",
       "        background-color: grey;\n",
       "        background-image: url(https://placekitten.com/50/60);\n",
       "        background-repeat: no-repeat;\n",
       "        background-position: top 20px right 10px;\n",
       "    }\n",
       "</style>\n",
       "<div class=\"div-flex\">\n",
       "    <div class=\"div-container position1\"></div>\n",
       "    <div class=\"div-container position2\"></div>\n",
       "    <div class=\"div-container position3\"></div>\n",
       "    <div class=\"div-container position4\"></div>\n",
       "</style>"
      ]
     },
     "metadata": {},
     "output_type": "display_data"
    }
   ],
   "source": [
    "<style>\n",
    "    .div-flex { display: flex; }\n",
    "    .div-container { width: 200px; height: 100px; margin: 25px; }\n",
    "\n",
    "    /* puedes usar palabras clave como top y right */\n",
    "    .position1 {\n",
    "        background-color: grey;\n",
    "        background-image: url(https://placekitten.com/50/60);\n",
    "        background-repeat: no-repeat;\n",
    "        background-position: top center;\n",
    "    }\n",
    "    /* puedes usar longitudes y porcentajes */\n",
    "    .position2 {\n",
    "        background-color: grey;\n",
    "        background-image: url(https://placekitten.com/50/60);\n",
    "        background-repeat: no-repeat;\n",
    "        background-position: 20px 10%;\n",
    "    }\n",
    "    /* puedes mezclar valores de palabras clave con longitudes o porcentajes */\n",
    "    .position3 {\n",
    "        background-color: grey;\n",
    "        background-image: url(https://placekitten.com/50/60);\n",
    "        background-repeat: no-repeat;\n",
    "        background-position: top 20px;\n",
    "    }\n",
    "    /* puedes usar una sintaxis de 4 valores para indicar una distancia desde ciertos bordes del cuadro: la unidad de longitud en este caso es un desplazamiento del valor que la precede. Por ejemplo, en el CSS siguiente, colocamos el fondo a 20 px desde la parte superior y a 10 px desde la derecha */\n",
    "    .position4 {\n",
    "        background-color: grey;\n",
    "        background-image: url(https://placekitten.com/50/60);\n",
    "        background-repeat: no-repeat;\n",
    "        background-position: top 20px right 10px;\n",
    "    }\n",
    "</style>\n",
    "<div class=\"div-flex\">\n",
    "    <div class=\"div-container position1\"></div>\n",
    "    <div class=\"div-container position2\"></div>\n",
    "    <div class=\"div-container position3\"></div>\n",
    "    <div class=\"div-container position4\"></div>\n",
    "</style>"
   ]
  },
  {
   "attachments": {},
   "cell_type": "markdown",
   "metadata": {},
   "source": [
    "### Degradados de fondo"
   ]
  },
  {
   "attachments": {},
   "cell_type": "markdown",
   "metadata": {},
   "source": [
    "Un degradado, cuando se usa para un fondo, actúa como una imagen y también se establece usando la propiedad `background-image`.\n",
    "\n",
    "Una forma divertida de jugar con degradados es usar uno de los muchos generadores de degradados CSS que hay disponibles en la web, como [cssgradient.io](https://cssgradient.io/). Puedes crear un degradado y luego copiar y pegar el código fuente que lo genera."
   ]
  },
  {
   "cell_type": "code",
   "execution_count": 1,
   "metadata": {
    "dotnet_interactive": {
     "language": "html"
    },
    "polyglot_notebook": {
     "kernelName": "html"
    },
    "vscode": {
     "languageId": "polyglot-notebook"
    }
   },
   "outputs": [
    {
     "data": {
      "text/html": [
       "<style>\n",
       "    .div-flex { display: flex; }\n",
       "    .div-container { width: 200px; height: 100px; margin: 25px; }\n",
       "\n",
       "    /* el degradado lineal que se extiende por toda la caja */\n",
       "    .linear {\n",
       "        background-image: linear-gradient(105deg, rgba(0,249,255,1) 39%, rgba(51,56,57,1) 96%);\n",
       "    }\n",
       "    /* el degradado radial tiene con un tamaño establecido, que por lo tanto se repite */\n",
       "    .radial {\n",
       "        background-image: radial-gradient(circle, rgba(0,249,255,1) 39%, rgba(51,56,57,1) 96%);\n",
       "        background-size: 100px 50px;\n",
       "    }\n",
       "</style>\n",
       "<div class=\"div-flex\">\n",
       "    <div class=\"div-container linear\"></div>\n",
       "    <div class=\"div-container radial\"></div>\n",
       "</div>"
      ]
     },
     "metadata": {},
     "output_type": "display_data"
    }
   ],
   "source": [
    "<style>\n",
    "    .div-flex { display: flex; }\n",
    "    .div-container { width: 200px; height: 100px; margin: 25px; }\n",
    "\n",
    "    /* el degradado lineal que se extiende por toda la caja */\n",
    "    .linear {\n",
    "        background-image: linear-gradient(105deg, rgba(0,249,255,1) 39%, rgba(51,56,57,1) 96%);\n",
    "    }\n",
    "    /* el degradado radial tiene con un tamaño establecido, que por lo tanto se repite */\n",
    "    .radial {\n",
    "        background-image: radial-gradient(circle, rgba(0,249,255,1) 39%, rgba(51,56,57,1) 96%);\n",
    "        background-size: 100px 50px;\n",
    "    }\n",
    "</style>\n",
    "<div class=\"div-flex\">\n",
    "    <div class=\"div-container linear\"></div>\n",
    "    <div class=\"div-container radial\"></div>\n",
    "</div>"
   ]
  },
  {
   "attachments": {},
   "cell_type": "markdown",
   "metadata": {},
   "source": [
    "### Múltiples imágenes de fondo"
   ]
  },
  {
   "attachments": {},
   "cell_type": "markdown",
   "metadata": {},
   "source": [
    "También es posible poner múltiples imágenes de fondo: puedes especificar múltiples valores `background-image` para un solo atributo, separados cada uno por una coma.\n",
    "\n",
    "Si haces esto, las imágenes de fondo pueden quedar superpuestas entre sí. Los fondos se superponen con la última imagen de fondo que hay en la parte inferior de la lista, y cada imagen anterior se apila encima de la que sigue en el código.\n",
    "\n",
    "> Nota: Los degradados se pueden mezclar con imágenes de fondo normales.\n",
    "\n",
    "Las otras propiedades `background-*` también pueden tener valores múltiples separados por comas, de la misma manera que `background-image`:"
   ]
  },
  {
   "cell_type": "code",
   "execution_count": 4,
   "metadata": {
    "dotnet_interactive": {
     "language": "html"
    },
    "polyglot_notebook": {
     "kernelName": "html"
    },
    "vscode": {
     "languageId": "polyglot-notebook"
    }
   },
   "outputs": [
    {
     "data": {
      "text/html": [
       "<style>\n",
       "    .div-flex { display: flex; }\n",
       "    .div-container2 { width: 600px; height: 300px; margin: 10px; }\n",
       "    \n",
       "    .background {\n",
       "        background-image: url(https://placekitten.com/50/60), url(https://placekitten.com/70/35), url(https://placekitten.com/30/70), url(https://placekitten.com/40/40);\n",
       "        background-repeat: no-repeat, repeat-x, repeat;\n",
       "        background-position: 10px 20px,  top right;\n",
       "    }\n",
       "</style>\n",
       "<div class=\"div-flex\">\n",
       "    <div class=\"div-container2 background\"></div>\n",
       "</div>"
      ]
     },
     "metadata": {},
     "output_type": "display_data"
    }
   ],
   "source": [
    "<style>\n",
    "    .div-flex { display: flex; }\n",
    "    .div-container2 { width: 600px; height: 300px; margin: 10px; }\n",
    "\n",
    "    /* cada valor de las diversas propiedades coincide con los valores que están en la misma posición en las otras propiedades. Por ejemplo, el valor para la propiedad background-repeat de la primera imagen será no-repeat. Cuando diferentes propiedades tienen una cantidad diferente de valores. Los valores que ocupan las posiciones más pequeñas se alternan cíclicamente: en el ejemplo anterior hay cuatro imágenes de fondo pero solo dos valores background-position. Los primeros dos valores de posición se aplicarán a las dos primeras imágenes, luego los valores volverán a asignarse cíclicamente*/\n",
    "    .background {\n",
    "        background-image: url(https://placekitten.com/50/60), url(https://placekitten.com/70/35), url(https://placekitten.com/30/70), url(https://placekitten.com/40/40);\n",
    "        background-repeat: no-repeat, repeat-x, repeat;\n",
    "        background-position: 10px 20px,  top right;\n",
    "    }\n",
    "</style>\n",
    "<div class=\"div-flex\">\n",
    "    <div class=\"div-container2 background\"></div>\n",
    "</div>"
   ]
  },
  {
   "attachments": {},
   "cell_type": "markdown",
   "metadata": {},
   "source": [
    "### Anclaje del fondo"
   ]
  },
  {
   "attachments": {},
   "cell_type": "markdown",
   "metadata": {},
   "source": [
    "Podemos especificar cómo se desplazan los fondos cuando se desplaza el contenido. Esto se controla con la propiedad `background-attachment`, que puede tomar los valores siguientes:\n",
    "\n",
    "* `scroll`: hace que el fondo del elemento se desplace cuando te desplazas por el contenido de la página. Si te desplazas por el contenido del elemento, el fondo no se mueve. El efecto resultante es que el fondo está anclado a la página en una posición fija, por lo que se desplaza a medida que la página se desplaza.\n",
    "\n",
    "* `fixed`: hace que el fondo de un elemento quede fijo con respecto a la ventana gráfica, de modo que no se desplace cuando te desplazas por la página o el contenido del elemento. Siempre permanece en la misma posición de la pantalla.\n",
    "* `local`: este valor se añadió posteriormente (solo es compatible con Internet Explorer 9+, mientras que los otros son compatibles con IE4+) porque el valor scroll es bastante confuso y en muchos casos no hace lo que deseas. El valor local ancla el fondo al elemento en el que está configurado, de modo que cuando te desplazas por el contenido del elemento, el fondo se desplaza con este.\n",
    "\n",
    "El ejemplo de uso de la propiedad podemos verlo en [background-attachment](https://mdn.github.io/learning-area/css/styling-boxes/backgrounds/background-attachment.html)."
   ]
  },
  {
   "attachments": {},
   "cell_type": "markdown",
   "metadata": {},
   "source": [
    "### Usar la propiedad abreviada para el fondo"
   ]
  },
  {
   "attachments": {},
   "cell_type": "markdown",
   "metadata": {},
   "source": [
    "la propiedad abreviada `background` permite configurar todas las diferentes propiedades a la vez. Si utilizas varios fondos, debes especificar todas las propiedades para el primer fondo y luego añadir el fondo siguiente separado por una coma. Al escribir los valores abreviados de las imágenes de fondo es necesario seguir algunas reglas, por ejemplo:\n",
    "\n",
    "* Solo es posible especificar un color de fondo (`background-color`) después de la coma final.\n",
    "* El valor para `background-size` solo puede incluirse inmediatamente después de `background-position`, separado con el carácter '/', de la forma `center/80%`."
   ]
  },
  {
   "cell_type": "code",
   "execution_count": 7,
   "metadata": {
    "dotnet_interactive": {
     "language": "html"
    },
    "polyglot_notebook": {
     "kernelName": "html"
    },
    "vscode": {
     "languageId": "polyglot-notebook"
    }
   },
   "outputs": [
    {
     "data": {
      "text/html": [
       "<style>\n",
       "    .div-flex { display: flex; }\n",
       "    .div-container2 { width: 600px; height: 300px; margin: 10px; }\n",
       "\n",
       "    .background2 {\n",
       "        background: \n",
       "            linear-gradient(105deg, rgba(255,255,255,.2) 39%, \n",
       "            rgba(51,56,57,1) 96%) center center / 400px 200px no-repeat,\n",
       "            url(https://placekitten.com/50/60) center no-repeat, \n",
       "            rebeccapurple;\n",
       "    }\n",
       "</style>\n",
       "<div class=\"div-flex\">\n",
       "    <div class=\"div-container2 background2\"></div>\n",
       "</div>"
      ]
     },
     "metadata": {},
     "output_type": "display_data"
    }
   ],
   "source": [
    "<style>\n",
    "    .div-flex { display: flex; }\n",
    "    .div-container2 { width: 600px; height: 300px; margin: 10px; }\n",
    "\n",
    "    .background2 {\n",
    "        background: \n",
    "            linear-gradient(105deg, rgba(255,255,255,.2) 39%, \n",
    "            rgba(51,56,57,1) 96%) center center / 400px 200px no-repeat,\n",
    "            url(https://placekitten.com/50/60) center no-repeat, \n",
    "            rebeccapurple;\n",
    "    }\n",
    "</style>\n",
    "<div class=\"div-flex\">\n",
    "    <div class=\"div-container2 background2\"></div>\n",
    "</div>"
   ]
  },
  {
   "attachments": {},
   "cell_type": "markdown",
   "metadata": {},
   "source": [
    "### Consideraciones de accesibilidad con los fondos"
   ]
  },
  {
   "attachments": {},
   "cell_type": "markdown",
   "metadata": {},
   "source": [
    "Al colocar texto sobre una imagen o un color de fondo, debes asegurarte de que tiene suficiente contraste para que tus visitantes puedan leer el texto. Si estableces una imagen de fondo y el texto se coloca encima de la imagen, también debes especificar un color de fondo (`background-color`) que permita leer el texto si la imagen no se carga.\n",
    "\n",
    "Los lectores de pantalla no pueden analizar las imágenes de fondo, por lo tanto, deben ser puramente decorativas; cualquier contenido importante debe ser parte de la página HTML y no debe estar contenido en un fondo."
   ]
  },
  {
   "attachments": {},
   "cell_type": "markdown",
   "metadata": {},
   "source": [
    "## Bordes"
   ]
  },
  {
   "attachments": {},
   "cell_type": "markdown",
   "metadata": {},
   "source": []
  }
 ],
 "metadata": {
  "language_info": {
   "name": "python"
  },
  "orig_nbformat": 4
 },
 "nbformat": 4,
 "nbformat_minor": 2
}
