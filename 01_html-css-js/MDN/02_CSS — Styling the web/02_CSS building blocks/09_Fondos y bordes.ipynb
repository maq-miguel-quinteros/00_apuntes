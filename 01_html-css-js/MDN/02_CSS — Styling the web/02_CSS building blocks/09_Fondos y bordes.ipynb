{
 "cells": [
  {
   "attachments": {},
   "cell_type": "markdown",
   "metadata": {},
   "source": [
    "# Fondos y bordes"
   ]
  },
  {
   "attachments": {},
   "cell_type": "markdown",
   "metadata": {},
   "source": [
    "## Aplicar estilo a los fondos en CSS"
   ]
  },
  {
   "attachments": {},
   "cell_type": "markdown",
   "metadata": {},
   "source": [
    "La propiedad `background` de CSS es una propiedad abreviada de una serie de propiedades de fondo. Si descubres una propiedad de fondo compleja en una hoja de estilo, puede parecer un poco difícil de entender porque pueden estarse pasando muchos valores a la vez."
   ]
  },
  {
   "cell_type": "code",
   "execution_count": 4,
   "metadata": {
    "dotnet_interactive": {
     "language": "html"
    },
    "polyglot_notebook": {
     "kernelName": "html"
    },
    "vscode": {
     "languageId": "polyglot-notebook"
    }
   },
   "outputs": [
    {
     "data": {
      "text/html": [
       "<style>\n",
       "    .box {\n",
       "        background: linear-gradient(105deg, rgba(255,255,255,.2) 39%, rgba(51,56,57,1) 96%) center center / 400px 200px no-repeat, url(big-star.png) center no-repeat, rebeccapurple;\n",
       "    }\n",
       "</style>\n",
       "<div class=\"box\">prueba</div>"
      ]
     },
     "metadata": {},
     "output_type": "display_data"
    }
   ],
   "source": [
    "<style>\n",
    "    .box1 {\n",
    "        background: linear-gradient(105deg, rgba(255,255,255,.2) 39%, rgba(51,56,57,1) 96%) center center / 400px 200px no-repeat, url(big-star.png) center no-repeat, rebeccapurple;\n",
    "    }\n",
    "</style>\n",
    "<div class=\"box1\">prueba</div>"
   ]
  },
  {
   "attachments": {},
   "cell_type": "markdown",
   "metadata": {},
   "source": [
    "### Los colores de fondo"
   ]
  },
  {
   "attachments": {},
   "cell_type": "markdown",
   "metadata": {},
   "source": [
    "La propiedad `background-color` define el color de fondo de cualquier elemento en CSS. La propiedad admite cualquier `<color>` válido. Un color de fondo (`background-color`) se extiende por debajo del contenido y el relleno del elemento."
   ]
  },
  {
   "cell_type": "code",
   "execution_count": 5,
   "metadata": {
    "dotnet_interactive": {
     "language": "html"
    },
    "polyglot_notebook": {
     "kernelName": "html"
    },
    "vscode": {
     "languageId": "polyglot-notebook"
    }
   },
   "outputs": [
    {
     "data": {
      "text/html": [
       "<style>\n",
       "    .box2 {\n",
       "        background-color: #567895;\n",
       "    }\n",
       "    h2 {\n",
       "        background-color: black;\n",
       "        color: white;\n",
       "    }\n",
       "    span {\n",
       "        background-color: rgba(255,255,255,.5);\n",
       "    }\n",
       "</style>\n",
       "<div class=\"box2\">\n",
       "    <h2>Background Colors</h2>\n",
       "    <p>Try changing the background <span>colors</span>.</p>\n",
       "</div>"
      ]
     },
     "metadata": {},
     "output_type": "display_data"
    }
   ],
   "source": [
    "<style>\n",
    "    /* utilizamos varios valores de color para añadir un color de fondo a la caja, a un encabezado y a un elemento <span>. */\n",
    "    .box2 {\n",
    "        background-color: #567895;\n",
    "    }\n",
    "    h2 {\n",
    "        background-color: black;\n",
    "        color: white;\n",
    "    }\n",
    "    span {\n",
    "        background-color: rgba(255,255,255,.5);\n",
    "    }\n",
    "</style>\n",
    "<div class=\"box2\">\n",
    "    <h2>Background Colors</h2>\n",
    "    <p>Try changing the background <span>colors</span>.</p>\n",
    "</div>"
   ]
  },
  {
   "attachments": {},
   "cell_type": "markdown",
   "metadata": {},
   "source": [
    "### Las imágenes de fondo"
   ]
  },
  {
   "attachments": {},
   "cell_type": "markdown",
   "metadata": {},
   "source": [
    "La propiedad `background-image` permite visualizar una imagen de fondo en un elemento."
   ]
  },
  {
   "cell_type": "code",
   "execution_count": 30,
   "metadata": {
    "dotnet_interactive": {
     "language": "html"
    },
    "polyglot_notebook": {
     "kernelName": "html"
    },
    "vscode": {
     "languageId": "polyglot-notebook"
    }
   },
   "outputs": [
    {
     "data": {
      "text/html": [
       "<style>\n",
       "    .wrapper {\n",
       "        display: flex;\n",
       "    }\n",
       "    .box3 {\n",
       "        width: 200px;\n",
       "        height: 100px;\n",
       "        margin: 25px;\n",
       "    }\n",
       "    .a {\n",
       "        background-image: url(https://placekitten.com/300/250);\n",
       "    }\n",
       "    .b {\n",
       "        background-image: url(https://placekitten.com/100/75);\n",
       "    }\n",
       "</style>\n",
       "<div class=\"wrapper\">\n",
       "    <div class=\"box3 a\"></div>\n",
       "    <div class=\"box3 b\"></div>\n",
       "</div>"
      ]
     },
     "metadata": {},
     "output_type": "display_data"
    }
   ],
   "source": [
    "<style>\n",
    "    .wrapper {\n",
    "        display: flex;\n",
    "    }\n",
    "    .box3 {\n",
    "        width: 200px;\n",
    "        height: 100px;\n",
    "        margin: 25px;\n",
    "    }\n",
    "    .a {\n",
    "        background-image: url(https://placekitten.com/300/250);\n",
    "    }\n",
    "    .b {\n",
    "        background-image: url(https://placekitten.com/100/75);\n",
    "    }\n",
    "</style>\n",
    "<div class=\"wrapper\">\n",
    "    <div class=\"box3 a\"></div>\n",
    "    <div class=\"box3 b\"></div>\n",
    "</div>"
   ]
  }
 ],
 "metadata": {
  "language_info": {
   "name": "python"
  },
  "orig_nbformat": 4
 },
 "nbformat": 4,
 "nbformat_minor": 2
}
