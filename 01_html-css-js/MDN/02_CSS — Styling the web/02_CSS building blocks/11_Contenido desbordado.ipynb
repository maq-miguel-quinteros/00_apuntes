{
 "cells": [
  {
   "attachments": {},
   "cell_type": "markdown",
   "metadata": {},
   "source": [
    "# Contenido desbordado"
   ]
  },
  {
   "attachments": {},
   "cell_type": "markdown",
   "metadata": {},
   "source": [
    "El __desbordamiento__ es lo que sucede cuando hay demasiado contenido para que pueda caber cómodamente en una caja."
   ]
  },
  {
   "attachments": {},
   "cell_type": "markdown",
   "metadata": {},
   "source": [
    "## ¿Qué es el desbordamiento?"
   ]
  },
  {
   "cell_type": "markdown",
   "metadata": {},
   "source": [
    "Todo en CSS está dentro de una caja y podemos restringir el tamaño de estas cajas asignándoles los valores `width` y `height` (o `inline-size` y `block-size`). __El desbordamiento es lo que sucede cuando hay demasiado contenido en una caja, y no cabe cómodamente en ella__."
   ]
  },
  {
   "cell_type": "markdown",
   "metadata": {},
   "source": [
    "## El CSS trata de evitar «la pérdida de datos»"
   ]
  },
  {
   "cell_type": "markdown",
   "metadata": {},
   "source": [
    "Ejemplos que demuestran cómo se comporta el CSS por defecto cuando ocurre un desbordamiento"
   ]
  },
  {
   "cell_type": "code",
   "execution_count": 4,
   "metadata": {
    "dotnet_interactive": {
     "language": "html"
    },
    "polyglot_notebook": {
     "kernelName": "html"
    },
    "vscode": {
     "languageId": "polyglot-notebook"
    }
   },
   "outputs": [
    {
     "data": {
      "text/html": [
       "<style>\n",
       "    .overflow1 {\n",
       "        border: 2px solid #333333;\n",
       "        width: 100px;\n",
       "        font-size: 250%;\n",
       "    }\n",
       "    /* a la caja se le ha restringido la dimensión al darle una altura. Luego hemos añadido más contenido del que cabe en la caja. El contenido se desborda y se distribuye desordenadamente sobre el párrafo que hay debajo de la caja */\n",
       "    .overflow2 {\n",
       "        border: 2px solid #333333;\n",
       "        width: 200px;\n",
       "        height: 100px;\n",
       "    }\n",
       "</style>\n",
       "<div class=\"overflow1\">Overflow</div>\n",
       "<br>\n",
       "<div class=\"overflow2\">This box has a height and a width. This means that if there is too much content to be displayed within the assigned height, there will be an overflow situation. If overflow is set to hidden then any overflow will not be visible.</div>\n",
       "<p>This content is outside of the box.</p>"
      ]
     },
     "metadata": {},
     "output_type": "display_data"
    }
   ],
   "source": [
    "<style>\n",
    "    /* el primer ejemplo consiste en una palabra dentro de una caja cuya dimensión en línea está restringida. La caja se ha hecho demasiado pequeña para que esa palabra quepa, y se desborda */\n",
    "    .overflow1 {\n",
    "        border: 2px solid #333333;\n",
    "        width: 100px;\n",
    "        font-size: 250%;\n",
    "    }\n",
    "    /* en el segundo ejemplo a la caja se le ha restringido la dimensión al darle una altura. Luego hemos añadido más contenido del que cabe en la caja. El contenido se desborda y se distribuye desordenadamente sobre el párrafo que hay debajo de la caja */\n",
    "    .overflow2 {\n",
    "        border: 2px solid #333333;\n",
    "        width: 200px;\n",
    "        height: 100px;\n",
    "    }\n",
    "</style>\n",
    "<div class=\"overflow1\">Overflow</div>\n",
    "<br>\n",
    "<div class=\"overflow2\">This box has a height and a width. This means that if there is too much content to be displayed within the assigned height, there will be an overflow situation. If overflow is set to hidden then any overflow will not be visible.</div>\n",
    "<p>This content is outside of the box.</p>"
   ]
  },
  {
   "cell_type": "markdown",
   "metadata": {},
   "source": [
    "¿Por qué no ocultar el contenido adicional o hacer crecer la caja? Siempre que sea posible, el CSS no oculta su contenido; hacerlo provocaría la pérdida de datos, que generalmente es un problema. En términos de CSS, esto significa que una parte del contenido desaparece. El problema con que desaparezca contenido es que podría ser que no notaras que ha desaparecido. Tus visitantes podrían no darse cuenta de que ha desaparecido contenido. Si se trata del botón de envío de datos en un formulario, nadie podría completar el formulario. En vez de esto, el CSS tiende a desbordarse de un modo que sea visible.\n",
    "\n",
    "Si has restringido el tamaño de una caja con una anchura o una altura determinadas, el CSS asume que sabes lo que haces y que gestionas correctamente el potencial de desbordamiento. En general, restringir el tamaño de un bloque es problemático cuando el texto se va a poner en una caja, porque puede haber más texto del que te esperabas al diseñar el sitio o el tamaño del texto puede ser mayor, por ejemplo, si el usuario lo aumenta."
   ]
  },
  {
   "cell_type": "markdown",
   "metadata": {},
   "source": [
    "## La propiedad `overflow`"
   ]
  },
  {
   "cell_type": "markdown",
   "metadata": {},
   "source": []
  }
 ],
 "metadata": {
  "language_info": {
   "name": "python"
  },
  "orig_nbformat": 4
 },
 "nbformat": 4,
 "nbformat_minor": 2
}
