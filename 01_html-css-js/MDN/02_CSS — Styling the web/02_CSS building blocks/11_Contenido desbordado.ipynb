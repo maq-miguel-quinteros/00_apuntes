{
 "cells": [
  {
   "attachments": {},
   "cell_type": "markdown",
   "metadata": {},
   "source": [
    "# Contenido desbordado"
   ]
  },
  {
   "attachments": {},
   "cell_type": "markdown",
   "metadata": {},
   "source": [
    "El __desbordamiento__ es lo que sucede cuando hay demasiado contenido para que pueda caber cómodamente en una caja."
   ]
  },
  {
   "attachments": {},
   "cell_type": "markdown",
   "metadata": {},
   "source": [
    "## ¿Qué es el desbordamiento?"
   ]
  },
  {
   "cell_type": "markdown",
   "metadata": {},
   "source": [
    "Todo en CSS está dentro de una caja y podemos restringir el tamaño de estas cajas asignándoles los valores `width` y `height` (o `inline-size` y `block-size`). __El desbordamiento es lo que sucede cuando hay demasiado contenido en una caja, y no cabe cómodamente en ella__."
   ]
  },
  {
   "cell_type": "markdown",
   "metadata": {},
   "source": [
    "## El CSS trata de evitar «la pérdida de datos»"
   ]
  },
  {
   "cell_type": "markdown",
   "metadata": {},
   "source": [
    "Ejemplos que demuestran cómo se comporta el CSS por defecto cuando ocurre un desbordamiento"
   ]
  },
  {
   "cell_type": "code",
   "execution_count": 4,
   "metadata": {
    "dotnet_interactive": {
     "language": "html"
    },
    "polyglot_notebook": {
     "kernelName": "html"
    },
    "vscode": {
     "languageId": "polyglot-notebook"
    }
   },
   "outputs": [
    {
     "data": {
      "text/html": [
       "<style>\n",
       "    .overflow1 {\n",
       "        border: 2px solid #333333;\n",
       "        width: 100px;\n",
       "        font-size: 250%;\n",
       "    }\n",
       "    /* a la caja se le ha restringido la dimensión al darle una altura. Luego hemos añadido más contenido del que cabe en la caja. El contenido se desborda y se distribuye desordenadamente sobre el párrafo que hay debajo de la caja */\n",
       "    .overflow2 {\n",
       "        border: 2px solid #333333;\n",
       "        width: 200px;\n",
       "        height: 100px;\n",
       "    }\n",
       "</style>\n",
       "<div class=\"overflow1\">Overflow</div>\n",
       "<br>\n",
       "<div class=\"overflow2\">This box has a height and a width. This means that if there is too much content to be displayed within the assigned height, there will be an overflow situation. If overflow is set to hidden then any overflow will not be visible.</div>\n",
       "<p>This content is outside of the box.</p>"
      ]
     },
     "metadata": {},
     "output_type": "display_data"
    }
   ],
   "source": [
    "<style>\n",
    "    /* el primer ejemplo consiste en una palabra dentro de una caja cuya dimensión en línea está restringida. La caja se ha hecho demasiado pequeña para que esa palabra quepa, y se desborda */\n",
    "    .overflow1 {\n",
    "        border: 2px solid #333333;\n",
    "        width: 100px;\n",
    "        font-size: 250%;\n",
    "    }\n",
    "    /* en el segundo ejemplo a la caja se le ha restringido la dimensión al darle una altura. Luego hemos añadido más contenido del que cabe en la caja. El contenido se desborda y se distribuye desordenadamente sobre el párrafo que hay debajo de la caja */\n",
    "    .overflow2 {\n",
    "        border: 2px solid #333333;\n",
    "        width: 200px;\n",
    "        height: 100px;\n",
    "    }\n",
    "</style>\n",
    "<div class=\"overflow1\">Overflow</div>\n",
    "<br>\n",
    "<div class=\"overflow2\">This box has a height and a width. This means that if there is too much content to be displayed within the assigned height, there will be an overflow situation. If overflow is set to hidden then any overflow will not be visible.</div>\n",
    "<p>This content is outside of the box.</p>"
   ]
  },
  {
   "cell_type": "markdown",
   "metadata": {},
   "source": [
    "¿Por qué no ocultar el contenido adicional o hacer crecer la caja? Siempre que sea posible, el CSS no oculta su contenido; hacerlo provocaría la pérdida de datos, que generalmente es un problema. En términos de CSS, esto significa que una parte del contenido desaparece. El problema con que desaparezca contenido es que podría ser que no notaras que ha desaparecido. Tus visitantes podrían no darse cuenta de que ha desaparecido contenido. Si se trata del botón de envío de datos en un formulario, nadie podría completar el formulario. En vez de esto, el CSS tiende a desbordarse de un modo que sea visible.\n",
    "\n",
    "Si has restringido el tamaño de una caja con una anchura o una altura determinadas, el CSS asume que sabes lo que haces y que gestionas correctamente el potencial de desbordamiento. En general, restringir el tamaño de un bloque es problemático cuando el texto se va a poner en una caja, porque puede haber más texto del que te esperabas al diseñar el sitio o el tamaño del texto puede ser mayor, por ejemplo, si el usuario lo aumenta."
   ]
  },
  {
   "cell_type": "markdown",
   "metadata": {},
   "source": [
    "## La propiedad `overflow`"
   ]
  },
  {
   "cell_type": "markdown",
   "metadata": {},
   "source": [
    "La propiedad `overflow` es el modo como tomas el control del desbordamiento de un elemento y le dices al navegador cómo desea que se comporte. El valor predeterminado para la propiedad `overflow` es `visible`, por lo que, de forma predeterminada vamos a poder ver cuándo se desborda nuestro contenido.\n",
    "\n",
    "Si deseas cortar el contenido cuando se desborda, puedes establecer el valor `overflow: hidden` en tu caja, que hace exactamente lo que dice: ocultar el desbordamiento. Esto puede hacer que las cosas desaparezcan, por lo que solo debes utilizar esta opción si ocultar contenido no te va a causar ningún problema."
   ]
  },
  {
   "cell_type": "code",
   "execution_count": 6,
   "metadata": {
    "dotnet_interactive": {
     "language": "html"
    },
    "polyglot_notebook": {
     "kernelName": "html"
    },
    "vscode": {
     "languageId": "polyglot-notebook"
    }
   },
   "outputs": [
    {
     "data": {
      "text/html": [
       "<style>\n",
       "    .overflow3 {\n",
       "        overflow: hidden;\n",
       "        border: 2px solid #333333;\n",
       "        width: 100px;\n",
       "        font-size: 250%;\n",
       "    }\n",
       "    .overflow4 {\n",
       "        overflow: hidden;\n",
       "        border: 2px solid #333333;\n",
       "        width: 200px;\n",
       "        height: 100px;\n",
       "    }\n",
       "</style>\n",
       "<div class=\"overflow3\">Overflow</div>\n",
       "<br>\n",
       "<div class=\"overflow4\">This box has a height and a width. This means that if there is too much content to be displayed within the assigned height, there will be an overflow situation. If overflow is set to hidden then any overflow will not be visible.</div>\n",
       "<p>This content is outside of the box.</p>"
      ]
     },
     "metadata": {},
     "output_type": "display_data"
    }
   ],
   "source": [
    "<style>\n",
    "    .overflow3 {\n",
    "        overflow: hidden;\n",
    "        border: 2px solid #333333;\n",
    "        width: 100px;\n",
    "        font-size: 250%;\n",
    "    }\n",
    "    .overflow4 {\n",
    "        overflow: hidden;\n",
    "        border: 2px solid #333333;\n",
    "        width: 200px;\n",
    "        height: 100px;\n",
    "    }\n",
    "</style>\n",
    "<div class=\"overflow3\">Overflow</div>\n",
    "<br>\n",
    "<div class=\"overflow4\">This box has a height and a width. This means that if there is too much content to be displayed within the assigned height, there will be an overflow situation. If overflow is set to hidden then any overflow will not be visible.</div>\n",
    "<p>This content is outside of the box.</p>"
   ]
  },
  {
   "cell_type": "markdown",
   "metadata": {},
   "source": [
    "Quizás te gustaría añadir barras de desplazamiento cuando el contenido se desborde. Si usas `overflow: scroll`, tu navegador siempre mostrará barras de desplazamiento, incluso cuando no haya suficiente contenido para que pueda desbordarse. Es posible que desees hacer esto, porque evita que aparezcan y desaparezcan barras de desplazamiento según el contenido."
   ]
  },
  {
   "cell_type": "code",
   "execution_count": 8,
   "metadata": {
    "dotnet_interactive": {
     "language": "html"
    },
    "polyglot_notebook": {
     "kernelName": "html"
    },
    "vscode": {
     "languageId": "polyglot-notebook"
    }
   },
   "outputs": [
    {
     "data": {
      "text/html": [
       "<style>\n",
       "    .overflow4 {\n",
       "        overflow: scroll;\n",
       "        border: 2px solid #333333;\n",
       "        width: 200px;\n",
       "        font-size: 250%;\n",
       "    }\n",
       "    .overflow5 {\n",
       "        overflow: scroll;\n",
       "        border: 2px solid #333333;\n",
       "        width: 200px;\n",
       "        height: 100px;\n",
       "    }\n",
       "</style>\n",
       "<div class=\"overflow4\">Overflow</div>\n",
       "<br>\n",
       "<div class=\"overflow5\">This box has a height and a width. This means that if there is too much content to be displayed within the assigned height, there will be an overflow situation. If overflow is set to hidden then any overflow will not be visible.</div>\n",
       "<p>This content is outside of the box.</p>"
      ]
     },
     "metadata": {},
     "output_type": "display_data"
    }
   ],
   "source": [
    "<style>\n",
    "    .overflow4 {\n",
    "        overflow: scroll;\n",
    "        border: 2px solid #333333;\n",
    "        width: 200px;\n",
    "        font-size: 250%;\n",
    "    }\n",
    "    .overflow5 {\n",
    "        overflow: scroll;\n",
    "        border: 2px solid #333333;\n",
    "        width: 200px;\n",
    "        height: 100px;\n",
    "    }\n",
    "</style>\n",
    "<div class=\"overflow4\">Overflow</div>\n",
    "<br>\n",
    "<div class=\"overflow5\">This box has a height and a width. This means that if there is too much content to be displayed within the assigned height, there will be an overflow situation. If overflow is set to hidden then any overflow will not be visible.</div>\n",
    "<p>This content is outside of the box.</p>"
   ]
  },
  {
   "cell_type": "markdown",
   "metadata": {},
   "source": [
    "Con `overflow: scroll` obtenemos barras de desplazamiento en ambas direcciones. Si solo necesitamos desplazarnos en el eje y o en el eje x, podemos usar la propiedad `overflow-y`, y `overflow-x` y establecerlas como `overflow-y: scroll` u `overflow-x: scroll`.\n",
    "\n",
    "> Nota: observa que puedes especificar un desplazamiento en x y en y utilizando la propiedad `overflow` y pasando dos valores. Si especificas dos palabras clave, la primera se aplica a `overflow-x` y la segunda a `overflow-y`. De lo contrario, tanto `overflow-x` como `overflow-y` se fijan en el mismo valor. Por ejemplo, `overflow: scroll hidden` establece `overflow-x` en `scroll` y `overflow-y` en `hidden`.\n",
    "\n",
    "Si deseas que aparezcan barras de desplazamiento solo si hay más contenido del que cabe en la caja, utiliza `overflow: auto`. En este caso, el navegador decide si muestra las barras de desplazamiento o no. Los navegadores de escritorio solo suelen hacerlo cuando hay contenido suficiente para causar desbordamiento."
   ]
  },
  {
   "cell_type": "markdown",
   "metadata": {},
   "source": [
    "## `overflow` establece un contexto de formato de bloque"
   ]
  },
  {
   "cell_type": "markdown",
   "metadata": {},
   "source": [
    "En CSS hay un concepto conocido como __block formatting context__ o __BFC__ (contexto de formato de bloque). Cuando usas un valor de overflow, como scroll o auto, creas un BFC. El resultado es que el contenido de la caja al que acabas de cambiar el valor overflow se convierte en un minidiseño propio. Las cosas que están fuera del contenedor no pueden meterse en él, y nada puede sobresalir de esa caja hacia el diseño circundante. Esto es para permitir un comportamiento con desplazamiento, porque para poder crear una experiencia de desplazamiento consistente todo el contenido de tu caja ha de estar contenido en algo, y no puede superponerse con otros elementos de la página."
   ]
  },
  {
   "cell_type": "markdown",
   "metadata": {},
   "source": [
    "## Desbordamiento no deseado en diseño web"
   ]
  },
  {
   "cell_type": "markdown",
   "metadata": {},
   "source": [
    "Los métodos de diseño modernos gestionan muy bien el desbordamiento. Han sido diseñados para hacer frente al hecho de que tendemos a no poder predecir cuánto contenido habrá en la web. Sin embargo, en el pasado, los desarrolladores a menudo usaban alturas fijas para tratar de alinear los fondos de cajas que en realidad no tenían relación entre sí. Este método era frágil y, en una aplicación heredada, ocasionalmente puede aparecer una caja en que el contenido se superpone a otro contenido de la página. Si ves esto, sabrás que se trata de desbordamiento. Lo ideal sería volver a calcular el diseño para no tener que confiar tamaños de caja fijos.\n",
    "\n",
    "Al desarrollar un sitio web, siempre debes tener en cuenta los problemas de desbordamiento. Debes probar diseños con cantidades grandes y pequeñas de contenido, aumentar el tamaño de letra... y asegurarte de que tu CSS puede hacerle frente sin ningún problema. Es probable que cambiar el valor de `overflow` para ocultar contenido o añadir barras de desplazamiento sea algo que debas reservar solo para unos pocos casos especiales, en que realmente desees una caja con barra de desplazamiento, por ejemplo."
   ]
  }
 ],
 "metadata": {
  "language_info": {
   "name": "python"
  },
  "orig_nbformat": 4
 },
 "nbformat": 4,
 "nbformat_minor": 2
}
