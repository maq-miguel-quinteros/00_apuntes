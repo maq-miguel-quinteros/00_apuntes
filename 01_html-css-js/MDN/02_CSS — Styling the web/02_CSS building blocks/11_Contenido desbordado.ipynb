{
 "cells": [
  {
   "attachments": {},
   "cell_type": "markdown",
   "metadata": {},
   "source": [
    "# Contenido desbordado"
   ]
  },
  {
   "attachments": {},
   "cell_type": "markdown",
   "metadata": {},
   "source": [
    "El __desbordamiento__ es lo que sucede cuando hay demasiado contenido para que pueda caber cómodamente en una caja."
   ]
  },
  {
   "attachments": {},
   "cell_type": "markdown",
   "metadata": {},
   "source": [
    "## ¿Qué es el desbordamiento?"
   ]
  },
  {
   "cell_type": "markdown",
   "metadata": {},
   "source": [
    "Todo en CSS está dentro de una caja y podemos restringir el tamaño de estas cajas asignándoles los valores `width` y `height` (o `inline-size` y `block-size`). __El desbordamiento es lo que sucede cuando hay demasiado contenido en una caja, y no cabe cómodamente en ella__."
   ]
  },
  {
   "cell_type": "markdown",
   "metadata": {},
   "source": [
    "## El CSS trata de evitar «la pérdida de datos»"
   ]
  },
  {
   "cell_type": "markdown",
   "metadata": {},
   "source": [
    "Ejemplos que demuestran cómo se comporta el CSS por defecto cuando ocurre un desbordamiento"
   ]
  },
  {
   "cell_type": "markdown",
   "metadata": {},
   "source": []
  }
 ],
 "metadata": {
  "language_info": {
   "name": "python"
  },
  "orig_nbformat": 4
 },
 "nbformat": 4,
 "nbformat_minor": 2
}
