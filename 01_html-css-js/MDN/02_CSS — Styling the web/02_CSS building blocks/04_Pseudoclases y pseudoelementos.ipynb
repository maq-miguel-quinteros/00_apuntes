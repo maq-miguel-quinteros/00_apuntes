{
 "cells": [
  {
   "attachments": {},
   "cell_type": "markdown",
   "metadata": {},
   "source": [
    "# Pseudoclases y pseudoelementos"
   ]
  },
  {
   "attachments": {},
   "cell_type": "markdown",
   "metadata": {},
   "source": [
    "## ¿Qué es una pseudoclase?"
   ]
  },
  {
   "attachments": {},
   "cell_type": "markdown",
   "metadata": {},
   "source": [
    "Una pseudoclase es un selector que marca los elementos que están en un estado específico, por ejemplo, los que son el primer elemento de su tipo, o aquellos por los que el cursor les pasa por encima. Tienden a actuar como si hubieras aplicado una clase en una parte determinada del documento y, a menudo, ayudan a reducir el exceso de clases y proporcionan un marcado más flexible y fácil de mantener.\n",
    "\n",
    "Las pseudoclases son palabras clave que comienzan con dos puntos: `:pseudo-class-name`.\n",
    "\n",
    "Si queremos el primer párrafo de un artículo en letra más grande y en negrita, podemos añadir una clase a ese párrafo y luego añadirle CSS a esa clase. Sin embargo, podría ser complicado de mantener. ¿Y si añadiésemos un párrafo nuevo en la parte superior del documento? Habría que mover la clase para que quede antes del nuevo párrafo. En lugar de añadir la clase, podríamos utilizar el selector de pseudoclase `:first-child`, que siempre seleccionará el primer elemento hijo del artículo, y de esta forma no tendremos que editar el código HTML."
   ]
  },
  {
   "cell_type": "code",
   "execution_count": 1,
   "metadata": {
    "dotnet_interactive": {
     "language": "html"
    },
    "polyglot_notebook": {
     "kernelName": "html"
    },
    "vscode": {
     "languageId": "polyglot-notebook"
    }
   },
   "outputs": [
    {
     "data": {
      "text/html": [
       "<style>\n",
       "    article p:first-child {\n",
       "        font-size: 120%;\n",
       "        font-weight: bold;\n",
       "    }\n",
       "</style>\n",
       "<article>\n",
       "    <p>Veggies es bonus vobis, proinde vos postulo essum magis kohlrabi welsh onion daikon amaranth tatsoi tomatillo melon azuki bean garlic.</p>\n",
       "    <p>Gumbo beet greens corn soko endive gumbo gourd. Parsley shallot courgette tatsoi pea sprouts fava bean collard greens dandelion okra wakame tomato. Dandelion cucumber earthnut pea peanut soko zucchini.</p>\n",
       "</article>\n",
       "    "
      ]
     },
     "metadata": {},
     "output_type": "display_data"
    }
   ],
   "source": [
    "<style>\n",
    "    article p:first-child {\n",
    "        font-size: 120%;\n",
    "        font-weight: bold;\n",
    "    }\n",
    "</style>\n",
    "<article>\n",
    "    <p>Veggies es bonus vobis, proinde vos postulo essum magis kohlrabi welsh onion daikon amaranth tatsoi tomatillo melon azuki bean garlic.</p>\n",
    "    <p>Gumbo beet greens corn soko endive gumbo gourd. Parsley shallot courgette tatsoi pea sprouts fava bean collard greens dandelion okra wakame tomato. Dandelion cucumber earthnut pea peanut soko zucchini.</p>\n",
    "</article>\n",
    "    "
   ]
  },
  {
   "attachments": {},
   "cell_type": "markdown",
   "metadata": {},
   "source": [
    "Todas las pseudoclases se comportan del mismo modo. Seleccionan un fragmento del documento que está en un estado determinado y se comportan como si se hubiera añadido una clase a su HTML.\n",
    "\n",
    "> Nota: Es válido escribir pseudoclases y pseudoelementos sin que les preceda un selector de elemento. En el ejemplo anterior, podría escribirse `:first-child` y la regla se aplicaría a cualquier elemento que sea el primer hijo de un elemento `<article>`, no solo un párrafo primer hijo. `:first-child` equivale a `*:first-child`."
   ]
  },
  {
   "attachments": {},
   "cell_type": "markdown",
   "metadata": {},
   "source": [
    "### Pseudoclases de acción de usuario"
   ]
  },
  {
   "attachments": {},
   "cell_type": "markdown",
   "metadata": {},
   "source": [
    "Algunas pseudoclases solo intervienen cuando el usuario interactúa con el documento de alguna manera. Estas __pseudoclases de acción__ de usuario, que también reciben el nombre de __pseudoclases dinámicas__, actúan como si se añadiese una clase al elemento cuando el usuario interactúa con él.\n",
    "\n",
    "Algunos ejemplos:\n",
    "* `:hover`: solo interviene si el usuario pasa el cursor sobre un elemento, normalmente un enlace.\n",
    "* `:focus`: solo interviene si el usuario selecciona el elemento con los controles del teclado."
   ]
  },
  {
   "cell_type": "code",
   "execution_count": 2,
   "metadata": {
    "dotnet_interactive": {
     "language": "html"
    },
    "polyglot_notebook": {
     "kernelName": "html"
    },
    "vscode": {
     "languageId": "polyglot-notebook"
    }
   },
   "outputs": [
    {
     "data": {
      "text/html": [
       "<style>\n",
       "    a:link,\n",
       "    a:visited {\n",
       "        color: rebeccapurple;\n",
       "        font-weight: bold;\n",
       "    }\n",
       "    a:hover {\n",
       "        color:hotpink;\n",
       "    }   \n",
       "</style>\n",
       "<p><a href=\"\">Hover over me</a></p>"
      ]
     },
     "metadata": {},
     "output_type": "display_data"
    }
   ],
   "source": [
    "<style>\n",
    "    a:link,\n",
    "    a:visited {\n",
    "        color: rebeccapurple;\n",
    "        font-weight: bold;\n",
    "    }\n",
    "    a:hover {\n",
    "        color:hotpink;\n",
    "    }   \n",
    "</style>\n",
    "<p><a href=\"\">Hover over me</a></p>"
   ]
  },
  {
   "attachments": {},
   "cell_type": "markdown",
   "metadata": {},
   "source": [
    "## ¿Qué es un pseudoelemento?"
   ]
  },
  {
   "attachments": {},
   "cell_type": "markdown",
   "metadata": {},
   "source": [
    "Los pseudoelementos se comportan de manera similar. Sin embargo, actúan como si hubieras añadido un elemento HTML totalmente nuevo en el marcado, en lugar de haber aplicado una clase nueva a los elementos presentes. Los pseudoelementos empiezan con un doble signo de dos puntos `::` de la forma: `::pseudo-element-name`.\n",
    "\n",
    "> Nota: Algunos de los primeros pseudoelementos utilizaban la sintaxis de un solo signo de dos puntos, así que puede ser que en ocasiones los veas escritos de esta forma en algún código o ejemplo. Los navegadores modernos leen tanto los pseudoelementos con la sintaxis de los dos puntos simple como la de los dos puntos doble para garantizar la compatibilidad retrospectiva.\n",
    "\n",
    "Por ejemplo, si deseas seleccionar la primera línea de un párrafo simplemente puedes delimitarlo con el elemento `<span>` y utilizar un selector de elementos. Sin embargo, fallará si el número de palabras que has delimitado resulta ser más largo o más corto que el ancho del elemento padre. Ya que normalmente no sabemos cuántas palabras caben en una línea porque esto cambia con el ancho de la pantalla o con los cambios de tamaño de la letra, no es posible hacer esto introduciendo solo HTML.\n",
    "\n",
    "El pseudoelemento `::first-line` soluciona este problema: no importa si el número de palabras aumenta o disminuye, siempre se selecciona la primera línea."
   ]
  },
  {
   "cell_type": "code",
   "execution_count": 3,
   "metadata": {
    "dotnet_interactive": {
     "language": "html"
    },
    "polyglot_notebook": {
     "kernelName": "html"
    },
    "vscode": {
     "languageId": "polyglot-notebook"
    }
   },
   "outputs": [
    {
     "data": {
      "text/html": [
       "<style>\n",
       "    article p::first-line {\n",
       "        font-size: 120%;\n",
       "        font-weight: bold;\n",
       "    }\n",
       "</style>\n",
       "<article>\n",
       "    <p>Veggies es bonus vobis, proinde vos postulo essum magis kohlrabi welsh onion daikon amaranth tatsoi tomatillo melon azuki bean garlic.</p>\n",
       "    <p>Gumbo beet greens corn soko endive gumbo gourd. Parsley shallot courgette tatsoi pea sprouts fava bean collard greens dandelion okra wakame tomato. Dandelion cucumber earthnut pea peanut soko zucchini.</p>\n",
       "</article>\n",
       "    "
      ]
     },
     "metadata": {},
     "output_type": "display_data"
    }
   ],
   "source": [
    "<style>\n",
    "    article p::first-line {\n",
    "        font-size: 120%;\n",
    "        font-weight: bold;\n",
    "    }\n",
    "</style>\n",
    "<article>\n",
    "    <p>Veggies es bonus vobis, proinde vos postulo essum magis kohlrabi welsh onion daikon amaranth tatsoi tomatillo melon azuki bean garlic.</p>\n",
    "    <p>Gumbo beet greens corn soko endive gumbo gourd. Parsley shallot courgette tatsoi pea sprouts fava bean collard greens dandelion okra wakame tomato. Dandelion cucumber earthnut pea peanut soko zucchini.</p>\n",
    "</article>"
   ]
  },
  {
   "attachments": {},
   "cell_type": "markdown",
   "metadata": {},
   "source": [
    "## Combinar pseudoclases y pseudoelementos"
   ]
  },
  {
   "cell_type": "code",
   "execution_count": 2,
   "metadata": {
    "dotnet_interactive": {
     "language": "html"
    },
    "polyglot_notebook": {
     "kernelName": "html"
    },
    "vscode": {
     "languageId": "polyglot-notebook"
    }
   },
   "outputs": [
    {
     "data": {
      "text/html": [
       "<style>\n",
       "    article p:first-child::first-line {\n",
       "        font-size: 150%;\n",
       "        font-weight: bold;\n",
       "        color: red;\n",
       "    }\n",
       "</style>\n",
       "<article>\n",
       "    <p>Veggies es bonus vobis, proinde vos postulo essum magis kohlrabi welsh onion daikon amaranth tatsoi tomatillo melon azuki bean garlic.</p>\n",
       "    <p>Gumbo beet greens corn soko endive gumbo gourd. Parsley shallot courgette tatsoi pea sprouts fava bean collard greens dandelion okra wakame tomato. Dandelion cucumber earthnut pea peanut soko zucchini.</p>\n",
       "</article>"
      ]
     },
     "metadata": {},
     "output_type": "display_data"
    }
   ],
   "source": [
    "<style>\n",
    "    /* selecciona la primera línea del primer elemento <p> que esté dentro de un elemento <article> */\n",
    "    article p:first-child::first-line {\n",
    "        font-size: 150%;\n",
    "        font-weight: bold;\n",
    "        color: red;\n",
    "    }\n",
    "</style>\n",
    "<article>\n",
    "    <p>Veggies es bonus vobis, proinde vos postulo essum magis kohlrabi welsh onion daikon amaranth tatsoi tomatillo melon azuki bean garlic.</p>\n",
    "    <p>Gumbo beet greens corn soko endive gumbo gourd. Parsley shallot courgette tatsoi pea sprouts fava bean collard greens dandelion okra wakame tomato. Dandelion cucumber earthnut pea peanut soko zucchini.</p>\n",
    "</article>"
   ]
  },
  {
   "attachments": {},
   "cell_type": "markdown",
   "metadata": {},
   "source": [
    "## Generar contenido con `::before` y `::after`"
   ]
  },
  {
   "attachments": {},
   "cell_type": "markdown",
   "metadata": {},
   "source": [
    "Hay un par de pseudoelementos especiales que se utilizan junto con la propiedad de content para introducir contenido en el documento usando el CSS."
   ]
  },
  {
   "cell_type": "code",
   "execution_count": 7,
   "metadata": {
    "dotnet_interactive": {
     "language": "html"
    },
    "polyglot_notebook": {
     "kernelName": "html"
    },
    "vscode": {
     "languageId": "polyglot-notebook"
    }
   },
   "outputs": [
    {
     "data": {
      "text/html": [
       "<style>\n",
       "    /* inserta una cadena de texto antes del contenido original del elemento*/\n",
       "    .box::before {\n",
       "        content: \"This should show before the other content. \";\n",
       "        color: green;\n",
       "    }\n",
       "    /* inserta una cadena de texto después del contenido original del elemento*/\n",
       "    .box::after {\n",
       "        content: \" This should show after the other content.\";\n",
       "        color: red;\n",
       "    }  \n",
       "</style>\n",
       "<p class=\"box\">Content in the box in my HTML page.</p>"
      ]
     },
     "metadata": {},
     "output_type": "display_data"
    }
   ],
   "source": [
    "<style>\n",
    "    /* inserta una cadena de texto antes del contenido original del elemento*/\n",
    "    .box::before {\n",
    "        content: \"This should show before the other content. \";\n",
    "        color: green;\n",
    "    }\n",
    "    /* inserta una cadena de texto después del contenido original del elemento*/\n",
    "    .box::after {\n",
    "        content: \" This should show after the other content.\";\n",
    "        color: red;\n",
    "    }  \n",
    "</style>\n",
    "<p class=\"box\">Content in the box in my HTML page.</p>"
   ]
  },
  {
   "attachments": {},
   "cell_type": "markdown",
   "metadata": {},
   "source": [
    "No es habitual insertar cadenas de texto desde el CSS, porque ese texto resulta inaccesible para algunos lectores de pantalla y puede ser difícil de buscar y modificar en el futuro. Un uso más adecuado de estos pseudoelementos es insertar un icono."
   ]
  },
  {
   "cell_type": "code",
   "execution_count": 9,
   "metadata": {
    "dotnet_interactive": {
     "language": "html"
    },
    "polyglot_notebook": {
     "kernelName": "html"
    },
    "vscode": {
     "languageId": "polyglot-notebook"
    }
   },
   "outputs": [
    {
     "data": {
      "text/html": [
       "<style>\n",
       "    /* la pequeña flecha que añadimos es un indicador visual que no queremos que el lector de pantalla muestre: */\n",
       "    .box2::after {\n",
       "        content: \" ➥\";\n",
       "    } \n",
       "</style>\n",
       "<p class=\"box2\">Content in the box in my HTML page.</p>"
      ]
     },
     "metadata": {},
     "output_type": "display_data"
    }
   ],
   "source": [
    "<style>\n",
    "    /* la pequeña flecha que añadimos es un indicador visual que no queremos que el lector de pantalla muestre: */\n",
    "    .box2::after {\n",
    "        content: \" ➥\";\n",
    "    } \n",
    "</style>\n",
    "<p class=\"box2\">Content in the box in my HTML page.</p>"
   ]
  },
  {
   "attachments": {},
   "cell_type": "markdown",
   "metadata": {},
   "source": [
    "Estos pseudoelementos también se utilizan con frecuencia para insertar una cadena vacía a la que luego se le puede aplicar estilo, como a cualquier otro elemento de la página."
   ]
  },
  {
   "cell_type": "code",
   "execution_count": 11,
   "metadata": {
    "dotnet_interactive": {
     "language": "html"
    },
    "polyglot_notebook": {
     "kernelName": "html"
    },
    "vscode": {
     "languageId": "polyglot-notebook"
    }
   },
   "outputs": [
    {
     "data": {
      "text/html": [
       "<style>\n",
       "    /* creamos el cuadrado mediante una regla css utilizando como punto de partida el contenido vacio que agregamos al elemento de clase box3 */\n",
       "    .box3::before {\n",
       "        content: \"\";\n",
       "        display: block;\n",
       "        width: 100px;\n",
       "        height: 100px;\n",
       "        background-color: rebeccapurple;\n",
       "        border: 1px solid black;\n",
       "    }  \n",
       "</style>\n",
       "<p class=\"box3\">Content in the box in my HTML page.</p>"
      ]
     },
     "metadata": {},
     "output_type": "display_data"
    }
   ],
   "source": [
    "<style>\n",
    "    /* creamos el cuadrado mediante una regla css utilizando como punto de partida el contenido vacio que agregamos al elemento de clase box3 */\n",
    "    .box3::before {\n",
    "        content: \"\";\n",
    "        display: block;\n",
    "        width: 100px;\n",
    "        height: 100px;\n",
    "        background-color: rebeccapurple;\n",
    "        border: 1px solid black;\n",
    "    }  \n",
    "</style>\n",
    "<p class=\"box3\">Content in the box in my HTML page.</p>"
   ]
  },
  {
   "attachments": {},
   "cell_type": "markdown",
   "metadata": {},
   "source": [
    "El uso de los pseudoelementos `::before` y `::after`, junto con la propiedad `content` se conoce como «contenido generado» en CSS."
   ]
  },
  {
   "attachments": {},
   "cell_type": "markdown",
   "metadata": {},
   "source": [
    "## Sección de referencia"
   ]
  },
  {
   "attachments": {},
   "cell_type": "markdown",
   "metadata": {},
   "source": [
    "### Las pseudoclases"
   ]
  },
  {
   "attachments": {},
   "cell_type": "markdown",
   "metadata": {},
   "source": [
    "Selector | Descripción\n",
    "--- | ---\n",
    "`:active` | Selecciona un elemento cuando el usuario lo activa (por ejemplo, con un clic).\n",
    "`:any-link` | Selecciona los estados `:link` y `:visited` de un enlace.\n",
    "`:blank` | Selecciona un elemento `<input>` cuyo valor de entrada está vacío.\n",
    "`:checked` | Selecciona un botón de opción o casilla de verificación en el estado que determines.\n",
    "`:current` | Selecciona el elemento que se muestra en ese momento, o un ancestro de ese elemento.\n",
    "`:default` | Selecciona uno o más elementos de interfaz de usuario cuyo valor es el predeterminado de entre un conjunto de elementos similares.\n",
    "`:dir` | Selecciona un elemento según su direccionalidad (valor del atributo dir de HTML o propiedad direction de CSS).\n",
    "`:disabled` | Selecciona elementos de la interfaz de usuario que están en estado inactivo.\n",
    "`:empty` | Selecciona un elemento que no tiene elementos hijo, excepto por algún espacio en blanco opcional.\n",
    ":enabled\tSelecciona elementos de la interfaz de usuario que están en estado activo.\n",
    ":first\tEn Paged Media (en-US), selecciona la primera página.\n",
    ":first-child\tSelecciona el primero entre elementos hermanos.\n",
    ":first-of-type\tSelecciona el primero entre un tipo determinado de elementos hermanos.\n",
    ":focus\tSelecciona el elemento que tiene el foco.\n",
    ":focus-visible\tSelecciona el elemento que tiene el foco cuando el foco tiene que estar visible para el usuario.\n",
    ":focus-within\tSelecciona el elemento que tiene el foco y el elemento con un descendiente que tiene el foco.\n",
    ":future (en-US)\tSelecciona los elementos que van después del elemento en curso.\n",
    ":hover\tSelecciona un elemento cuando el usuario interactúa con él.\n",
    ":indeterminate\tSelecciona elementos de interfaz de usuario cuyo valor está en un estado no determinado, por lo general se trata de casillas de verificación.\n",
    ":in-range\tSelecciona un elemento cuyo valor se encuentra dentro de un rango de valores determinado.\n",
    ":invalid\tSelecciona un elemento, como por ejemplo un <input>, cuyo estado es no válido.\n",
    ":lang\tSelecciona un elemento según el idioma (valor del atributo lang de HTML).\n",
    ":last-child\tSelecciona el último elemento de entre sus elementos hermanos.\n",
    ":last-of-type\tSelecciona el último de entre los elementos hermanos de un tipo determinado.\n",
    ":left\tEn Paged Media (en-US) selecciona las páginas de la izquierda.\n",
    ":link\tSelecciona los enlaces no visitados.\n",
    ":local-link (en-US)\tSelecciona los enlaces que dirigen a páginas que se encuentran en la misma página web que el documento activo.\n",
    ":is()\tSelecciona cualquiera de los selectores de la lista de selección que se pase como valor de este selector.\n",
    ":not\tSelecciona elementos que otros selectores no han seleccionado antes y que se han pasado como valor de este selector.\n",
    ":nth-child\tSelecciona elementos de entre una lista de elementos hermanos. Los elementos hermanos están relacionados por una fórmula del tipo an + b (por ejemplo, 2n + 1 seleccionaría los elementos 1, 3, 5, 7, etc., es decir, todos los impares).\n",
    ":nth-of-type\tSelecciona elementos de entre una lista de elementos hermanos de un tipo determinado (por ejemplo, todos los elementos <p>). Los elementos hermanos están relacionados por una fórmula del tipo an + b (por ejemplo, 2n + 1 relacionaría en la secuencia ese tipo de elementos, los números 1, 3, 5, 7, etc., es decir, todos los impares).\n",
    ":nth-last-child\tSelecciona elementos de entre una lista de elementos hermanos, contando hacia atrás desde el final. Los elementos hermanos están relacionados por una fórmula del tipo an+b (por ejemplo, 2n + 1 r_elacionaría en la secuencia el último de los elementos de este tipo con el que se encuentra dos por delante, y así sucesivamente. Todos los impares, contando desde el final).\n",
    ":nth-last-of-type\tSelecciona los elementos de entre una lista de elementos hermanos que son de un tipo determinado (por ejemplo, elementos <p>), contando hacia atrás desde el final. Los elementos hermanos están relacionados por una fórmula del tipo an+b (por ejemplo, 2n + 1 relacionaría en la secuencia el último de los elementos de ese tipo con el que se encuentra dos por delante, y así sucesivamente. Todos los impares, contando desde el final).\n",
    ":only-child\tSelecciona un elemento que no tiene elementos hermanos.\n",
    ":only-of-type\tSelecciona un elemento que es el único de su tipo entre sus elementos hermanos.\n",
    ":optional\tSelecciona los elementos de formulario que son innecesarios.\n",
    ":out-of-range\tSelecciona un elemento cuyo valor está fuera de rango.\n",
    ":past (en-US)\tSelecciona los elementos que se encuentran antes del elemento activo.\n",
    ":placeholder-shown\tSelecciona el elemento de entrada que muestra texto de marcador de posición.\n",
    ":playing (en-US)\tSelecciona un elemento que representa un audio, un vídeo o un recurso similar que se puede «reproducir» o «pausar», cuando el elemento está «en reproducción».\n",
    ":paused (en-US)\tSelecciona un elemento que representa un audio, un vídeo o un recurso similar que se puede “«reproducir» o «pausar» cuando el elemento está «pausado».\n",
    ":read-only\tSelecciona los elementos que el usuario no puede modificar.\n",
    ":read-write\tSelecciona los elementos que el usuario puede modificar.\n",
    ":required\tSelecciona los elementos de formulario que son necesarios.\n",
    ":right\tEn Paged Media (en-US) selecciona las páginas de la derecha.\n",
    ":root\tSelecciona un elemento que es la raíz del documento.\n",
    ":scope (en-US)\tSelecciona cualquier elemento de ámbito.\n",
    ":valid\tSelecciona un elemento como <input>, en un estado válido.\n",
    ":target\tSelecciona el elemento al que apunta la URL activa (es decir, cuyo ID coincide con el identificador de fragmento de la URL activo).\n",
    ":visited\tSelecciona los enlaces visitados."
   ]
  },
  {
   "attachments": {},
   "cell_type": "markdown",
   "metadata": {},
   "source": []
  }
 ],
 "metadata": {
  "language_info": {
   "name": "python"
  },
  "orig_nbformat": 4
 },
 "nbformat": 4,
 "nbformat_minor": 2
}
