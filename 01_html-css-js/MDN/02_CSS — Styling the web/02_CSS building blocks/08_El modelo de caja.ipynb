{
 "cells": [
  {
   "attachments": {},
   "cell_type": "markdown",
   "metadata": {},
   "source": [
    "# El modelo de caja"
   ]
  },
  {
   "attachments": {},
   "cell_type": "markdown",
   "metadata": {},
   "source": [
    "Todo en CSS tiene una caja alrededor, y comprender estas cajas es clave para poder crear diseños con CSS o para alinear elementos con otros elementos."
   ]
  },
  {
   "attachments": {},
   "cell_type": "markdown",
   "metadata": {},
   "source": [
    "## Cajas en bloque y en línea"
   ]
  },
  {
   "attachments": {},
   "cell_type": "markdown",
   "metadata": {},
   "source": [
    "En CSS, en general, hay dos tipos de cajas: cajas en bloque y cajas en línea. Estas características se refieren al modo como se comporta la caja en términos de flujo de página y en relación con otras cajas de la página:\n",
    "\n",
    "Si una caja se define como un bloque, `block`, se comportará de las maneras siguientes:\n",
    "\n",
    "* La caja fuerza un salto de línea al llegar al final de la línea.\n",
    "* La caja se extenderá en la dirección de la línea para llenar todo el espacio disponible que haya en su contenedor. En la mayoría de los casos, esto significa que la caja será tan ancha como su contenedor, y llenará el 100% del espacio disponible.\n",
    "* Se respetan las propiedades `width` y `height`.\n",
    "* El relleno, el margen y el borde mantienen a los otros elementos alejados de la caja.\n",
    "\n",
    "A menos que decidamos cambiar el tipo de visualización a en línea, elementos como los encabezados (por ejemplo, `<h1>`) y todos los elementos `<p>` usan por defecto `block` como tipo de visualización externa.\n",
    "\n",
    "Si una caja tiene una visualización externa de tipo `inline`, entonces:\n",
    "\n",
    "* La caja no fuerza ningún salto de línea al llegar al final de la línea.\n",
    "* Las propiedades `width` y `height` no se aplican.\n",
    "* Se aplican relleno, margen y bordes verticales, pero no mantienen alejadas otras cajas en línea.\n",
    "* Se aplican relleno, margen y bordes horizontales, y mantienen alejadas otras cajas en línea.\n",
    "\n",
    "El elemento `<a>`, que se utiliza para los enlaces, y los elementos `<span>`, `<em>` y `<strong>` son ejemplos de elementos que se muestran en línea por defecto.\n",
    "\n",
    "El tipo de caja que se aplica a un elemento está definido por los valores de propiedad `display`, como `block` y `inline`, y se relaciona con el valor externo de visualización (`display`)."
   ]
  },
  {
   "attachments": {},
   "cell_type": "markdown",
   "metadata": {},
   "source": [
    "## Aparte: tipos de visualización interna y externa"
   ]
  },
  {
   "attachments": {},
   "cell_type": "markdown",
   "metadata": {},
   "source": [
    "Las cajas en CSS tienen un tipo de visualización _externa_, que define si se trata de una caja en bloque o en línea. Sin embargo, las cajas también tienen un tipo de visualización _interna_, que determina cómo se disponen los elementos dentro de esa caja. De forma predeterminada, los elementos dentro de una caja se presentan en __flujo normal__, lo que significa que se comportan como otros elementos de tipo en bloque o en línea.\n",
    "\n",
    "Podemos cambiar el tipo de visualización interna utilizando valores de `display`, como `flex`. Si en un elemento establecemos `display: flex;`, el tipo de visualización externa es de tipo bloque (`block`), pero el tipo de visualización interna cambia a flexible (`flex`). Cualquier elemento que sea hijo directo de esta caja pasará a comportarse como un elemento de tipo `flex`, de acuerdo con las reglas que se establecen en la especificación de __Flexbox__.\n",
    "\n",
    "Sin embargo, la disposición en bloque y en línea es la forma predeterminada cómo se comportan las cosas en la web; como ya dijimos, a veces esto se conoce como flujo normal, porque nuestras cajas se dispondrán en bloque o en línea, si no reciben ninguna otra instrucción."
   ]
  },
  {
   "attachments": {},
   "cell_type": "markdown",
   "metadata": {},
   "source": [
    "## Ejemplos de diferentes tipos de visualización"
   ]
  },
  {
   "cell_type": "code",
   "execution_count": 1,
   "metadata": {
    "dotnet_interactive": {
     "language": "html"
    },
    "polyglot_notebook": {
     "kernelName": "html"
    },
    "vscode": {
     "languageId": "polyglot-notebook"
    }
   },
   "outputs": [
    {
     "data": {
      "text/html": [
       "<style>\n",
       "    /* para el elemento p el navegador lo representa como una caja en bloque, por lo que comienza en una línea nueva y se expande por todo el ancho disponible con el border y padding indicado. Este border y padding indicado va a estar presente en el ul también */\n",
       "    p, \n",
       "    ul {\n",
       "        border: 2px solid rebeccapurple;\n",
       "        padding: .5em;\n",
       "    }\n",
       "    .block,\n",
       "    li {\n",
       "        border: 2px solid blue;\n",
       "        padding: .5em;\n",
       "    }\n",
       "    /* display: flex establece una disposición flexible para los elementos que están dentro del contenedor; sin embargo, la lista en sí misma es una caja que se comporta en bloque y, como el párrafo, se expande por todo el ancho del contenedor y fuerza un salto de línea al llegar al final de línea */\n",
       "    ul {\n",
       "        display: flex;\n",
       "        list-style: none;\n",
       "    }\n",
       "    /* los dos elementos span normalmente serían de tipo inline; sin embargo, uno de los elementos tiene una clase de bloque, y lo hemos establecido como display: block */\n",
       "    .block {\n",
       "        display: block;\n",
       "    }  \n",
       "</style>\n",
       "<p>I am a paragraph. A short one.</p>\n",
       "<ul>\n",
       "    <li>Item One</li>\n",
       "    <li>Item Two</li>\n",
       "    <li>Item Three</li>\n",
       "</ul>\n",
       "<p>I am another paragraph. Some of the <span class=\"block\">words</span> have been wrapped in a <span>span element</span>.</p>"
      ]
     },
     "metadata": {},
     "output_type": "display_data"
    }
   ],
   "source": [
    "<style>\n",
    "    /* para el elemento p el navegador lo representa como una caja en bloque, por lo que comienza en una línea nueva y se expande por todo el ancho disponible con el border y padding indicado. Este border y padding indicado va a estar presente en el ul también */\n",
    "    p, \n",
    "    ul {\n",
    "        border: 2px solid rebeccapurple;\n",
    "        padding: .5em;\n",
    "    }\n",
    "    .block,\n",
    "    li {\n",
    "        border: 2px solid blue;\n",
    "        padding: .5em;\n",
    "    }\n",
    "    /* display: flex establece una disposición flexible para los elementos que están dentro del contenedor; sin embargo, la lista en sí misma es una caja que se comporta en bloque y, como el párrafo, se expande por todo el ancho del contenedor y fuerza un salto de línea al llegar al final de línea */\n",
    "    ul {\n",
    "        display: flex;\n",
    "        list-style: none;\n",
    "    }\n",
    "    /* los dos elementos span normalmente serían de tipo inline; sin embargo, uno de los elementos tiene una clase de bloque, y lo hemos establecido como display: block */\n",
    "    .block {\n",
    "        display: block;\n",
    "    }  \n",
    "</style>\n",
    "<p>I am a paragraph. A short one.</p>\n",
    "<ul>\n",
    "    <li>Item One</li>\n",
    "    <li>Item Two</li>\n",
    "    <li>Item Three</li>\n",
    "</ul>\n",
    "<p>I am another paragraph. Some of the <span class=\"block\">words</span> have been wrapped in a <span>span element</span>.</p>"
   ]
  },
  {
   "cell_type": "code",
   "execution_count": 2,
   "metadata": {
    "dotnet_interactive": {
     "language": "html"
    },
    "polyglot_notebook": {
     "kernelName": "html"
    },
    "vscode": {
     "languageId": "polyglot-notebook"
    }
   },
   "outputs": [
    {
     "data": {
      "text/html": [
       "<style>\n",
       "    p, \n",
       "    ul {\n",
       "        border: 2px solid rebeccapurple;\n",
       "    }\n",
       "    span,\n",
       "    li {\n",
       "        border: 2px solid blue;\n",
       "    }\n",
       "    /* el ul que se establece como display: inline-flex, que crea una caja con un comportamiento de tipo en línea alrededor de algunos elementos de tipo flex. */\n",
       "    ul {\n",
       "        display: inline-flex;\n",
       "        list-style: none;\n",
       "        padding: 0;\n",
       "    } \n",
       "    .inline {\n",
       "        display: inline;\n",
       "    }\n",
       "</style>\n",
       "<!-- los elementos span están en línea de manera predeterminada y, por lo tanto, no fuerzan ningún salto de línea -->\n",
       "<p>I am a paragraph. Some of the \n",
       "    <span>words</span> have been wrapped in a \n",
       "    <span>span element</span>.\n",
       "</p>\n",
       "<ul>\n",
       "    <li>Item One</li>\n",
       "    <li>Item Two</li>\n",
       "    <li>Item Three</li>\n",
       "</ul>\n",
       "<!-- para los dos párrafos configurados con display: inline el contenedor flexible en línea y los párrafos fluyen todos juntos en línea, en lugar de dividirse en líneas nuevas como lo harían si se mostraran como elementos de bloque -->\n",
       "<p class=\"inline\">I am a paragraph. A short one.</p>\n",
       "<p class=\"inline\">I am another paragraph. Also a short one.</p>"
      ]
     },
     "metadata": {},
     "output_type": "display_data"
    }
   ],
   "source": [
    "<style>\n",
    "    p, \n",
    "    ul {\n",
    "        border: 2px solid rebeccapurple;\n",
    "    }\n",
    "    span,\n",
    "    li {\n",
    "        border: 2px solid blue;\n",
    "    }\n",
    "    /* el ul que se establece como display: inline-flex, que crea una caja con un comportamiento de tipo en línea alrededor de algunos elementos de tipo flex. */\n",
    "    ul {\n",
    "        display: inline-flex;\n",
    "        list-style: none;\n",
    "        padding: 0;\n",
    "    } \n",
    "    .inline {\n",
    "        display: inline;\n",
    "    }\n",
    "</style>\n",
    "<!-- los elementos span están en línea de manera predeterminada y, por lo tanto, no fuerzan ningún salto de línea -->\n",
    "<p>I am a paragraph. Some of the \n",
    "    <span>words</span> have been wrapped in a \n",
    "    <span>span element</span>.\n",
    "</p>\n",
    "<ul>\n",
    "    <li>Item One</li>\n",
    "    <li>Item Two</li>\n",
    "    <li>Item Three</li>\n",
    "</ul>\n",
    "<!-- para los dos párrafos configurados con display: inline el contenedor flexible en línea y los párrafos fluyen todos juntos en línea, en lugar de dividirse en líneas nuevas como lo harían si se mostraran como elementos de bloque -->\n",
    "<p class=\"inline\">I am a paragraph. A short one.</p>\n",
    "<p class=\"inline\">I am another paragraph. Also a short one.</p>"
   ]
  },
  {
   "attachments": {},
   "cell_type": "markdown",
   "metadata": {},
   "source": [
    "El aspecto clave a recordar es que cambiar el valor de la propiedad `display` puede cambiar entre el modo de visualización exterior en bloque y en línea de una caja, que cambia la forma en que se presenta junto con otros elementos en la disposición en pantalla.\n",
    "\n",
    "En el resto de este artículo, nos concentraremos en el tipo de visualización externa."
   ]
  },
  {
   "attachments": {},
   "cell_type": "markdown",
   "metadata": {},
   "source": [
    "## ¿Qué es el modelo de cajas CSS?"
   ]
  }
 ],
 "metadata": {
  "language_info": {
   "name": "python"
  },
  "orig_nbformat": 4
 },
 "nbformat": 4,
 "nbformat_minor": 2
}
