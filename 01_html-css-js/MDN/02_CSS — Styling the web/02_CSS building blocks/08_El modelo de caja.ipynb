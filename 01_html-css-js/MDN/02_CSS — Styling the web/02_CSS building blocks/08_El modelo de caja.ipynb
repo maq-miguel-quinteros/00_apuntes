{
 "cells": [
  {
   "attachments": {},
   "cell_type": "markdown",
   "metadata": {},
   "source": [
    "# El modelo de caja"
   ]
  },
  {
   "attachments": {},
   "cell_type": "markdown",
   "metadata": {},
   "source": [
    "Todo en CSS tiene una caja alrededor, y comprender estas cajas es clave para poder crear diseños con CSS o para alinear elementos con otros elementos."
   ]
  },
  {
   "attachments": {},
   "cell_type": "markdown",
   "metadata": {},
   "source": [
    "## Cajas en bloque y en línea"
   ]
  },
  {
   "attachments": {},
   "cell_type": "markdown",
   "metadata": {},
   "source": [
    "En CSS, en general, hay dos tipos de cajas: cajas en bloque y cajas en línea. Estas características se refieren al modo como se comporta la caja en términos de flujo de página y en relación con otras cajas de la página:\n",
    "\n",
    "Si una caja se define como un bloque, `block`, se comportará de las maneras siguientes:\n",
    "\n",
    "* La caja fuerza un salto de línea al llegar al final de la línea.\n",
    "* La caja se extenderá en la dirección de la línea para llenar todo el espacio disponible que haya en su contenedor. En la mayoría de los casos, esto significa que la caja será tan ancha como su contenedor, y llenará el 100% del espacio disponible.\n",
    "* Se respetan las propiedades `width` y `height`.\n",
    "* El relleno, el margen y el borde mantienen a los otros elementos alejados de la caja.\n",
    "\n",
    "A menos que decidamos cambiar el tipo de visualización a en línea, elementos como los encabezados (por ejemplo, `<h1>`) y todos los elementos `<p>` usan por defecto `block` como tipo de visualización externa.\n",
    "\n",
    "Si una caja tiene una visualización externa de tipo `inline`, entonces:\n",
    "\n",
    "* La caja no fuerza ningún salto de línea al llegar al final de la línea.\n",
    "* Las propiedades `width` y `height` no se aplican.\n",
    "* Se aplican relleno, margen y bordes verticales, pero no mantienen alejadas otras cajas en línea.\n",
    "* Se aplican relleno, margen y bordes horizontales, y mantienen alejadas otras cajas en línea.\n",
    "\n",
    "El elemento `<a>`, que se utiliza para los enlaces, y los elementos `<span>`, `<em>` y `<strong>` son ejemplos de elementos que se muestran en línea por defecto.\n",
    "\n",
    "El tipo de caja que se aplica a un elemento está definido por los valores de propiedad `display`, como `block` y `inline`, y se relaciona con el valor externo de visualización (`display`)."
   ]
  },
  {
   "attachments": {},
   "cell_type": "markdown",
   "metadata": {},
   "source": [
    "## Aparte: tipos de visualización interna y externa"
   ]
  },
  {
   "attachments": {},
   "cell_type": "markdown",
   "metadata": {},
   "source": []
  }
 ],
 "metadata": {
  "language_info": {
   "name": "python"
  },
  "orig_nbformat": 4
 },
 "nbformat": 4,
 "nbformat_minor": 2
}
