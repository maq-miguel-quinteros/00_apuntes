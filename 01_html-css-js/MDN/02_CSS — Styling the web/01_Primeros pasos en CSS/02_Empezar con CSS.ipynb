{
 "cells": [
  {
   "attachments": {},
   "cell_type": "markdown",
   "metadata": {},
   "source": [
    "# Empezar con CSS"
   ]
  },
  {
   "attachments": {},
   "cell_type": "markdown",
   "metadata": {},
   "source": [
    "## Agregar CSS a un documento"
   ]
  },
  {
   "attachments": {},
   "cell_type": "markdown",
   "metadata": {},
   "source": [
    "Lo primero que se debe hacer es decirle al documento HTML que hay algunas reglas CSS que queremos que use. Hay tres formas diferentes de aplicar CSS a un documento HTML, sin embargo, por ahora, veremos la forma más habitual y útil de hacerlo: vincular el CSS desde el encabezado del documento.\n",
    "\n",
    "Crea un archivo en la misma carpeta que tu documento HTML y guárdalo como `styles.css`. La extensión `.css` muestra que es un archivo CSS.\n",
    "\n",
    "Para vincular `styles.css` a `index.html`, añade la siguiente línea en algún lugar dentro del `<head>` del documento HTML:"
   ]
  },
  {
   "cell_type": "code",
   "execution_count": 1,
   "metadata": {
    "dotnet_interactive": {
     "language": "html"
    },
    "polyglot_notebook": {
     "kernelName": "html"
    },
    "vscode": {
     "languageId": "polyglot-notebook"
    }
   },
   "outputs": [
    {
     "data": {
      "text/html": [
       "<link rel=\"stylesheet\" href=\"styles.css\">"
      ]
     },
     "metadata": {},
     "output_type": "display_data"
    }
   ],
   "source": [
    "<link rel=\"stylesheet\" href=\"styles.css\">"
   ]
  },
  {
   "attachments": {},
   "cell_type": "markdown",
   "metadata": {},
   "source": [
    "Este elemento `<link>` le dice al navegador que hay una hoja de estilo con el atributo rel y la ubicación de esa hoja de estilo como el valor del atributo href."
   ]
  },
  {
   "attachments": {},
   "cell_type": "markdown",
   "metadata": {},
   "source": [
    "## Dar formato a elementos HTML"
   ]
  },
  {
   "attachments": {},
   "cell_type": "markdown",
   "metadata": {},
   "source": [
    "Podemos elegir un elemento HTML y darle formato. Hacemos esto con un _selector de elementos_: un selector que coincide directamente con el nombre de un elemento HTML. Para determinar todos los párrafos del documento, se usa el selector `p`. Para hacer que todos los párrafos se vean verdes se usa:"
   ]
  },
  {
   "cell_type": "code",
   "execution_count": 2,
   "metadata": {
    "dotnet_interactive": {
     "language": "html"
    },
    "polyglot_notebook": {
     "kernelName": "html"
    },
    "vscode": {
     "languageId": "polyglot-notebook"
    }
   },
   "outputs": [
    {
     "data": {
      "text/html": [
       "<style>\n",
       "    p {\n",
       "        color: green;\n",
       "    }\n",
       "</style>\n",
       "<p>Párrafo de prueba</p>"
      ]
     },
     "metadata": {},
     "output_type": "display_data"
    }
   ],
   "source": [
    "<style>\n",
    "    p {\n",
    "        color: green;\n",
    "    }\n",
    "</style>\n",
    "<p>Párrafo de prueba</p>"
   ]
  },
  {
   "attachments": {},
   "cell_type": "markdown",
   "metadata": {},
   "source": [
    "Puedes determinar múltiples selectores a la vez, separándolos con una coma. Si queremos que todos los párrafos y todos los elementos de la lista sean verdes, el código se verá así:"
   ]
  },
  {
   "cell_type": "code",
   "execution_count": 3,
   "metadata": {
    "dotnet_interactive": {
     "language": "html"
    },
    "polyglot_notebook": {
     "kernelName": "html"
    },
    "vscode": {
     "languageId": "polyglot-notebook"
    }
   },
   "outputs": [
    {
     "data": {
      "text/html": [
       "<style>\n",
       "    p, li {\n",
       "        color: green;\n",
       "    }\n",
       "</style>\n",
       "<p>Párrafo de prueba</p>\n",
       "<ul>\n",
       "    <li>Elemento de lista 1</li>\n",
       "    <li>Elemento de lista 2</li>\n",
       "</ul>"
      ]
     },
     "metadata": {},
     "output_type": "display_data"
    }
   ],
   "source": [
    "<style>\n",
    "    p, li {\n",
    "        color: green;\n",
    "    }\n",
    "</style>\n",
    "<p>Párrafo de prueba</p>\n",
    "<ul>\n",
    "    <li>Elemento de lista 1</li>\n",
    "    <li>Elemento de lista 2</li>\n",
    "</ul>"
   ]
  },
  {
   "attachments": {},
   "cell_type": "markdown",
   "metadata": {},
   "source": [
    "## Cambiar el comportamiento predeterminado de los elementos"
   ]
  },
  {
   "attachments": {},
   "cell_type": "markdown",
   "metadata": {},
   "source": [
    "Cuando miramos un documento HTML bien marcado, podemos ver que el navegador facilita la legibilidad de este documento HTML al añadir un estilo predeterminado. Esto sucede porque los navegadores tienen hojas de estilo internas que contienen estilos predeterminados, los cuales se aplican a todas las páginas por defecto. Todos los navegadores modernos muestran el contenido HTML por defecto de la misma manera.\n",
    "\n",
    "A menudo querrás algo diferente a la elección que ha hecho el navegador. Esto se puede solucionar con el simple hecho de escoger el elemento HTML que deseas cambiar y utilizar una regla CSS para cambiar su apariencia. Un buen ejemplo es `<ul>`, que muestra una lista desordenada. Tiene viñetas y, si decidimos que no las queremos, podemos eliminarlas la propiedad `list-style-type`. Es muy conveniente consultar en MDN la propiedad `list-style-type` para ver qué valores admite."
   ]
  },
  {
   "cell_type": "code",
   "execution_count": 4,
   "metadata": {
    "dotnet_interactive": {
     "language": "html"
    },
    "polyglot_notebook": {
     "kernelName": "html"
    },
    "vscode": {
     "languageId": "polyglot-notebook"
    }
   },
   "outputs": [
    {
     "data": {
      "text/html": [
       "<style>\n",
       "    li {\n",
       "        list-style-type: none;\n",
       "    }\n",
       "</style>\n",
       "<ul>\n",
       "    <li>Elemento de lista 1</li>\n",
       "    <li>Elemento de lista 2</li>\n",
       "</ul>"
      ]
     },
     "metadata": {},
     "output_type": "display_data"
    }
   ],
   "source": [
    "<style>\n",
    "    li {\n",
    "        list-style-type: none;\n",
    "    }\n",
    "</style>\n",
    "<ul>\n",
    "    <li>Elemento de lista 1</li>\n",
    "    <li>Elemento de lista 2</li>\n",
    "</ul>"
   ]
  },
  {
   "attachments": {},
   "cell_type": "markdown",
   "metadata": {},
   "source": [
    "## Añadir una clase"
   ]
  },
  {
   "attachments": {},
   "cell_type": "markdown",
   "metadata": {},
   "source": [
    "Hasta ahora, hemos utilizado elementos cuyo nombre se basa en el nombre de elemento que reciben en HTML. Esto funciona siempre que se desee que todos los elementos de ese tipo tengan el mismo aspecto en el documento. Para seleccionar un subconjunto de los elementos, sin que cambien los demás, la forma más común es añadir una clase al elemento HTML y determinarla."
   ]
  },
  {
   "cell_type": "code",
   "execution_count": 1,
   "metadata": {
    "dotnet_interactive": {
     "language": "html"
    },
    "polyglot_notebook": {
     "kernelName": "html"
    },
    "vscode": {
     "languageId": "polyglot-notebook"
    }
   },
   "outputs": [
    {
     "data": {
      "text/html": [
       "<!-- puedes seleccionar una clase special creando un selector que comience con un carácter de punto final -->\n",
       "<style>\n",
       "    .special {\n",
       "        color: orange;\n",
       "        font-weight: bold;\n",
       "    }\n",
       "</style>\n",
       "<ul>\n",
       "    <li>Punto uno</li>\n",
       "    <li class = \"special\">Punto dos</li>\n",
       "    <li>Punto <em>tres</em></li>\n",
       "</ul>"
      ]
     },
     "metadata": {},
     "output_type": "display_data"
    }
   ],
   "source": [
    "<!-- puedes seleccionar una clase special creando un selector que comience con un carácter de punto final -->\n",
    "<style>\n",
    "    .special {\n",
    "        color: orange;\n",
    "        font-weight: bold;\n",
    "    }\n",
    "</style>\n",
    "<ul>\n",
    "    <li>Punto uno</li>\n",
    "    <li class = \"special\">Punto dos</li>\n",
    "    <li>Punto <em>tres</em></li>\n",
    "</ul>"
   ]
  },
  {
   "attachments": {},
   "cell_type": "markdown",
   "metadata": {},
   "source": [
    "Puedes aplicar la clase special a cualquier elemento de la página que desees que tenga el mismo aspecto que este elemento de lista.\n",
    "\n",
    "A veces verás reglas con un selector que enumera el selector de elementos HTML junto con la clase:"
   ]
  },
  {
   "cell_type": "code",
   "execution_count": 2,
   "metadata": {
    "dotnet_interactive": {
     "language": "html"
    },
    "polyglot_notebook": {
     "kernelName": "html"
    },
    "vscode": {
     "languageId": "polyglot-notebook"
    }
   },
   "outputs": [
    {
     "data": {
      "text/html": [
       "<style>\n",
       "    .special {\n",
       "        color: orange;\n",
       "        font-weight: bold;\n",
       "    }\n",
       "</style>"
      ]
     },
     "metadata": {},
     "output_type": "display_data"
    }
   ],
   "source": [
    "<style>\n",
    "    .special {\n",
    "        color: orange;\n",
    "        font-weight: bold;\n",
    "    }\n",
    "</style>"
   ]
  },
  {
   "attachments": {},
   "cell_type": "markdown",
   "metadata": {},
   "source": [
    "Esta sintaxis significa «determina cualquier elemento `li` que tenga una clase special». Si hicieras esto, ya no podrías aplicar la clase a un elemento `<span>` u otro elemento simplemente añadiéndole la clase; tendrías que añadir ese elemento a la lista de selectores:"
   ]
  },
  {
   "cell_type": "code",
   "execution_count": 3,
   "metadata": {
    "dotnet_interactive": {
     "language": "html"
    },
    "polyglot_notebook": {
     "kernelName": "html"
    },
    "vscode": {
     "languageId": "polyglot-notebook"
    }
   },
   "outputs": [
    {
     "data": {
      "text/html": [
       "<style>\n",
       "    li.special, span.special {\n",
       "        color: orange;\n",
       "        font-weight: bold;\n",
       "    }\n",
       "</style>"
      ]
     },
     "metadata": {},
     "output_type": "display_data"
    }
   ],
   "source": [
    "<style>\n",
    "    li.special, span.special {\n",
    "        color: orange;\n",
    "        font-weight: bold;\n",
    "    }\n",
    "</style>"
   ]
  },
  {
   "attachments": {},
   "cell_type": "markdown",
   "metadata": {},
   "source": [
    "Como puedes imaginar, algunas clases pueden aplicarse a muchos elementos y no queremos tener que seguir editando el CSS cada vez que algo nuevo necesita adoptar ese estilo. Por lo tanto, a veces es mejor eludir el elemento y simplemente referirse a la clase, a menos que sepas que vas a querer crear algunas reglas especiales para un solo elemento y tal vez quieras asegurarte de que no se apliquen a otros elementos."
   ]
  },
  {
   "attachments": {},
   "cell_type": "markdown",
   "metadata": {},
   "source": [
    "## Dar formato según la ubicación en un documento"
   ]
  },
  {
   "attachments": {},
   "cell_type": "markdown",
   "metadata": {},
   "source": [
    "Hay momentos en los que querrás que algo se vea diferente en función de dónde esté en el documento. Hay múltiples selectores que pueden hacerlo. Para seleccionar solo un elemento que esté anidado dentro de otro elemento , podemos usar un selector llamado __combinador descendente__, que simplemente toma la forma de un espacio entre otros dos selectores."
   ]
  },
  {
   "cell_type": "code",
   "execution_count": null,
   "metadata": {
    "dotnet_interactive": {
     "language": "html"
    },
    "polyglot_notebook": {
     "kernelName": "html"
    },
    "vscode": {
     "languageId": "polyglot-notebook"
    }
   },
   "outputs": [],
   "source": [
    "<style>\n",
    "    /** modifica el elemento em que esta dentro del elemento li **/\n",
    "    li em {\n",
    "        color: rebeccapurple;\n",
    "    }\n",
    "</style>"
   ]
  },
  {
   "attachments": {},
   "cell_type": "markdown",
   "metadata": {},
   "source": [
    "Para dar formato un elemento que venga directamente a continuación de otro elemento que esté en el mismo nivel de jerarquía en el HTML puedes utilizar un __combinador hermano adyacente__ entre los selectores mediante el signo `+`."
   ]
  },
  {
   "cell_type": "code",
   "execution_count": 2,
   "metadata": {
    "dotnet_interactive": {
     "language": "html"
    },
    "polyglot_notebook": {
     "kernelName": "html"
    },
    "vscode": {
     "languageId": "polyglot-notebook"
    }
   },
   "outputs": [
    {
     "data": {
      "text/html": [
       "<style>\n",
       "    /** **/\n",
       "    h1 + p {\n",
       "        font-size: 200%;\n",
       "        color: red;\n",
       "    }\n",
       "</style>\n",
       "<h1>Título</h1>\n",
       "<p>Párrafo del título</p>"
      ]
     },
     "metadata": {},
     "output_type": "display_data"
    }
   ],
   "source": [
    "<style>\n",
    "    /** **/\n",
    "    h1 + p {\n",
    "        font-size: 200%;\n",
    "        color: red;\n",
    "    }\n",
    "</style>\n",
    "<h1>Título</h1>\n",
    "<p>Párrafo del título</p>"
   ]
  },
  {
   "attachments": {},
   "cell_type": "markdown",
   "metadata": {},
   "source": [
    "## Dar formato según el estado"
   ]
  },
  {
   "attachments": {},
   "cell_type": "markdown",
   "metadata": {},
   "source": [
    "El último tipo de estilo que veremos en este tutorial es la capacidad de dar formato a los elementos en función de su estado. Un ejemplo sencillo es el estilo de los enlaces. Cuando damos formato a un enlace, necesitamos seleccionar el elemento `<a>` (anclaje). Tiene diferentes estados dependiendo de si se ha visitado o no, se pasa por encima, o se presiona con el teclado o se hace clic (se activa)."
   ]
  },
  {
   "cell_type": "code",
   "execution_count": 3,
   "metadata": {
    "dotnet_interactive": {
     "language": "html"
    },
    "polyglot_notebook": {
     "kernelName": "html"
    },
    "vscode": {
     "languageId": "polyglot-notebook"
    }
   },
   "outputs": [
    {
     "data": {
      "text/html": [
       "<style>\n",
       "    /* color rosa para los enlaces que no se visitaron */\n",
       "    a:link {\n",
       "        color: pink;\n",
       "    }\n",
       "    /* color verde parea los enlaces visitados */\n",
       "    a:visited {\n",
       "        color: green;\n",
       "    }\n",
       "    /* cuando pasamos el mouse por el enlace desaparece el subrayado */\n",
       "    a:hover {\n",
       "        text-decoration: none;\n",
       "    }\n",
       "</style>\n",
       "<a href=\"#\">Link</a>"
      ]
     },
     "metadata": {},
     "output_type": "display_data"
    }
   ],
   "source": [
    "<style>\n",
    "    /* color rosa para los enlaces que no se visitaron */\n",
    "    a:link {\n",
    "        color: pink;\n",
    "    }\n",
    "    /* color verde parea los enlaces visitados */\n",
    "    a:visited {\n",
    "        color: green;\n",
    "    }\n",
    "    /* cuando pasamos el mouse por el enlace desaparece el subrayado */\n",
    "    a:hover {\n",
    "        text-decoration: none;\n",
    "    }\n",
    "</style>\n",
    "<a href=\"#\">Link</a>"
   ]
  },
  {
   "attachments": {},
   "cell_type": "markdown",
   "metadata": {},
   "source": [
    "Hemos eliminado el subrayado del enlace cuando el ratón se pasa por encima, y se puede eliminar de todos los estados de un enlace. Sin embargo, vale la pena recordar que en una página web real deberás asegurarte de que los visitantes sepan reconocer que se trata de un enlace. Que aparezca subrayado puede ser una pista importante para que las personas se den cuenta de que pueden hacer clic en una palabra dentro del párrafo, ya que es a lo que están acostumbrados. Al igual que con todo en CSS, existe la posibilidad de que tus cambios resten accesibilidad al documento."
   ]
  },
  {
   "attachments": {},
   "cell_type": "markdown",
   "metadata": {},
   "source": [
    "## Combinaciones de selectores y combinadores"
   ]
  },
  {
   "attachments": {},
   "cell_type": "markdown",
   "metadata": {},
   "source": []
  }
 ],
 "metadata": {
  "language_info": {
   "name": "python"
  },
  "orig_nbformat": 4
 },
 "nbformat": 4,
 "nbformat_minor": 2
}
