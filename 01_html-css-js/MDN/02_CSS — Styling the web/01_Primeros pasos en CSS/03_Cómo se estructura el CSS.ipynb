{
 "cells": [
  {
   "attachments": {},
   "cell_type": "markdown",
   "metadata": {},
   "source": [
    "# Cómo se estructura el CSS"
   ]
  },
  {
   "attachments": {},
   "cell_type": "markdown",
   "metadata": {},
   "source": [
    "## Aplicar CSS al HTML"
   ]
  },
  {
   "attachments": {},
   "cell_type": "markdown",
   "metadata": {},
   "source": [
    "### Hoja de estilo externa"
   ]
  },
  {
   "attachments": {},
   "cell_type": "markdown",
   "metadata": {},
   "source": [
    "Vinculamos una hoja de estilo externa a nuestra página. Este es el método más común y útil para adjuntar CSS a un documento, porque puedes vincular el CSS a varias páginas y dar estilo a todas ellas con la misma hoja de estilo. En la mayoría de los casos, las diferentes páginas de un sitio web se verán más o menos iguales, de modo que puedes usar el mismo conjunto de reglas para el aspecto y la interacción básicos.\n",
    "\n",
    "Una hoja de estilo externa significa que el CSS está escrito en un archivo independiente con una extensión .css y que lo vinculas desde un elemento `<link>` de HTML:"
   ]
  },
  {
   "cell_type": "code",
   "execution_count": 1,
   "metadata": {
    "dotnet_interactive": {
     "language": "html"
    },
    "polyglot_notebook": {
     "kernelName": "html"
    },
    "vscode": {
     "languageId": "polyglot-notebook"
    }
   },
   "outputs": [
    {
     "data": {
      "text/html": [
       "<!DOCTYPE html>\n",
       "<html>\n",
       "    <head>\n",
       "        <meta charset=\"utf-8\">\n",
       "        <title>Mi experimento CSS</title>\n",
       "        <!-- el archivo CSS está en la misma carpeta que el documento HTML, pero puedes colocarlo en otro lugar y especificar la ruta adecuada -->\n",
       "        <link rel=\"stylesheet\" href=\"styles.css\">\n",
       "    </head>\n",
       "    <body>\n",
       "        <h1>¡Hola, mundo!</h1>\n",
       "        <p>Este es mi primer ejemplo de CSS</p>\n",
       "    </body>\n",
       "</html>"
      ]
     },
     "metadata": {},
     "output_type": "display_data"
    }
   ],
   "source": [
    "<!DOCTYPE html>\n",
    "<html>\n",
    "    <head>\n",
    "        <meta charset=\"utf-8\">\n",
    "        <title>Mi experimento CSS</title>\n",
    "        <!-- el archivo CSS está en la misma carpeta que el documento HTML, pero puedes colocarlo en otro lugar y especificar la ruta adecuada -->\n",
    "        <link rel=\"stylesheet\" href=\"styles.css\">\n",
    "    </head>\n",
    "    <body>\n",
    "        <h1>¡Hola, mundo!</h1>\n",
    "        <p>Este es mi primer ejemplo de CSS</p>\n",
    "    </body>\n",
    "</html>"
   ]
  },
  {
   "attachments": {},
   "cell_type": "markdown",
   "metadata": {},
   "source": [
    "Podemos vincular una hoja de estilos de diferentes rutas."
   ]
  },
  {
   "cell_type": "code",
   "execution_count": 2,
   "metadata": {
    "dotnet_interactive": {
     "language": "html"
    },
    "polyglot_notebook": {
     "kernelName": "html"
    },
    "vscode": {
     "languageId": "polyglot-notebook"
    }
   },
   "outputs": [
    {
     "data": {
      "text/html": [
       "<!-- dentro de un subdirectorio llamado styles dentro del directorio de trabajo -->\n",
       "<link rel=\"stylesheet\" href=\"styles/style.css\">\n",
       "\n",
       "<!-- dentro de un subdirectorio llamado general, que está en un subdirectorio llamado styles, dentro del directorio de trabajo -->\n",
       "<link rel=\"stylesheet\" href=\"styles/general/style.css\">\n",
       "\n",
       "<!-- sube un nivel de directorio, y luego dentro de un subdirectorio llamado styles -->\n",
       "<link rel=\"stylesheet\" href=\"../styles/style.css\">"
      ]
     },
     "metadata": {},
     "output_type": "display_data"
    }
   ],
   "source": [
    "<!-- dentro de un subdirectorio llamado styles dentro del directorio de trabajo -->\n",
    "<link rel=\"stylesheet\" href=\"styles/style.css\">\n",
    "\n",
    "<!-- dentro de un subdirectorio llamado general, que está en un subdirectorio llamado styles, dentro del directorio de trabajo -->\n",
    "<link rel=\"stylesheet\" href=\"styles/general/style.css\">\n",
    "\n",
    "<!-- sube un nivel de directorio, y luego dentro de un subdirectorio llamado styles -->\n",
    "<link rel=\"stylesheet\" href=\"../styles/style.css\">"
   ]
  },
  {
   "attachments": {},
   "cell_type": "markdown",
   "metadata": {},
   "source": [
    "### Hoja de estilo interna"
   ]
  },
  {
   "attachments": {},
   "cell_type": "markdown",
   "metadata": {},
   "source": [
    "Una hoja de estilo interna es cuando no hay ningún archivo CSS externo, sino que colocas tu CSS dentro de un elemento `<style>` contenido dentro del elemento `<head>` del HTML."
   ]
  },
  {
   "cell_type": "code",
   "execution_count": 3,
   "metadata": {
    "dotnet_interactive": {
     "language": "html"
    },
    "polyglot_notebook": {
     "kernelName": "html"
    },
    "vscode": {
     "languageId": "polyglot-notebook"
    }
   },
   "outputs": [
    {
     "data": {
      "text/html": [
       "<!DOCTYPE html>\n",
       "<html>\n",
       "    <head>\n",
       "        <meta charset=\"utf-8\">\n",
       "        <title>Mi experimento CSS</title>\n",
       "        <!-- cargamos las reglas de estilos dentro del elemento <style> -->\n",
       "        <style>\n",
       "            h1 {\n",
       "                color: blue;\n",
       "                background-color: yellow;\n",
       "                border: 1px solid black;\n",
       "            }\n",
       "\n",
       "            p {\n",
       "                color: red;\n",
       "            }\n",
       "        </style>\n",
       "    </head>\n",
       "    <body>\n",
       "        <h1>¡Hola, mundo!</h1>\n",
       "        <p>Este es mi primer ejemplo de CSS</p>\n",
       "    </body>\n",
       "</html>"
      ]
     },
     "metadata": {},
     "output_type": "display_data"
    }
   ],
   "source": [
    "<!DOCTYPE html>\n",
    "<html>\n",
    "    <head>\n",
    "        <meta charset=\"utf-8\">\n",
    "        <title>Mi experimento CSS</title>\n",
    "        <!-- cargamos las reglas de estilos dentro del elemento <style> -->\n",
    "        <style>\n",
    "            h1 {\n",
    "                color: blue;\n",
    "                background-color: yellow;\n",
    "                border: 1px solid black;\n",
    "            }\n",
    "            p {\n",
    "                color: red;\n",
    "            }\n",
    "        </style>\n",
    "    </head>\n",
    "    <body>\n",
    "        <h1>¡Hola, mundo!</h1>\n",
    "        <p>Este es mi primer ejemplo de CSS</p>\n",
    "    </body>\n",
    "</html>"
   ]
  },
  {
   "attachments": {},
   "cell_type": "markdown",
   "metadata": {},
   "source": [
    "Esto puede ser útil en algunas circunstancias (tal vez estés trabajando con un sistema de administración de contenido donde no sea posible modificar los archivos CSS directamente), pero no es tan eficiente como las hojas de estilo externas: en una página web, deberías repetir el CSS en cada página y actualizarlo en varios lugares en caso de que hubiera que hacer cambios."
   ]
  },
  {
   "attachments": {},
   "cell_type": "markdown",
   "metadata": {},
   "source": [
    "### Estilos en línea"
   ]
  },
  {
   "attachments": {},
   "cell_type": "markdown",
   "metadata": {},
   "source": [
    "Los estilos en línea son declaraciones CSS que afectan a un solo elemento, contenido dentro de un atributo de `style`:"
   ]
  },
  {
   "cell_type": "code",
   "execution_count": 4,
   "metadata": {
    "dotnet_interactive": {
     "language": "html"
    },
    "polyglot_notebook": {
     "kernelName": "html"
    },
    "vscode": {
     "languageId": "polyglot-notebook"
    }
   },
   "outputs": [
    {
     "data": {
      "text/html": [
       "<!DOCTYPE html>\n",
       "<html>\n",
       "    <head>\n",
       "        <meta charset=\"utf-8\">\n",
       "        <title>Mi experimento CSS</title>\n",
       "    </head>\n",
       "    <body>\n",
       "        <h1 style=\"color: blue;background-color: yellow;border: 1px solid black;\">¡Hola mundo!</h1>\n",
       "        <p style=\"color:red;\">Este es mi primer ejemplo de CSS</p>\n",
       "    </body>\n",
       "</html>"
      ]
     },
     "metadata": {},
     "output_type": "display_data"
    }
   ],
   "source": [
    "<!DOCTYPE html>\n",
    "<html>\n",
    "    <head>\n",
    "        <meta charset=\"utf-8\">\n",
    "        <title>Mi experimento CSS</title>\n",
    "    </head>\n",
    "    <body>\n",
    "        <h1 style=\"color: blue;background-color: yellow;border: 1px solid black;\">¡Hola mundo!</h1>\n",
    "        <p style=\"color:red;\">Este es mi primer ejemplo de CSS</p>\n",
    "    </body>\n",
    "</html>"
   ]
  },
  {
   "attachments": {},
   "cell_type": "markdown",
   "metadata": {},
   "source": [
    "__¡No hagas esto a menos que realmente tengas que hacerlo!__ Es realmente malo a la hora de realizar el mantenimiento (puede que tengas que actualizar la misma información varias veces en un mismo documento), y además mezcla tu información CSS para la presentación con tu información HTML para la estructura, lo que dificulta la lectura y la comprensión del código. Mantener los diferentes tipos de código separados facilita trabajar con ellos."
   ]
  },
  {
   "attachments": {},
   "cell_type": "markdown",
   "metadata": {},
   "source": [
    "## Selectores"
   ]
  },
  {
   "attachments": {},
   "cell_type": "markdown",
   "metadata": {},
   "source": [
    "Un selector es, un elemento de nuestro documento HTML para aplicarle estilo. Si los estilos no se aplican correctamente, es probable que el selector no coincida con lo que crees que debería coincidir.\n",
    "\n",
    "Cada regla CSS comienza con un selector o una lista de selectores que indican al navegador a qué elemento o elementos deben aplicarse dichas reglas. Todos los siguientes son ejemplos de selectores válidos o listas de selectores.\n",
    "```\n",
    "h1\n",
    "a:link\n",
    ".manythings\n",
    "#onething\n",
    "*\n",
    ".box p\n",
    ".box p:first-child\n",
    "h1, h2, .intro\n",
    "```"
   ]
  },
  {
   "attachments": {},
   "cell_type": "markdown",
   "metadata": {},
   "source": [
    "### Especificidad"
   ]
  },
  {
   "attachments": {},
   "cell_type": "markdown",
   "metadata": {},
   "source": [
    "A menudo habrá situaciones en las que dos selectores podrían determinar un mismo elemento HTML. El lenguaje CSS tiene reglas para controlar cuál ganará en caso de colisión; reciben el nombre de __cascada__ y __especificidad__.\n",
    "\n",
    "Definimos dos reglas para el selector p, pero el párrafo termina siendo de color azul. Esto se debe a que la declaración que lo establece en azul aparece más abajo en la hoja de estilo, y los estilos posteriores anulan a los anteriores. Así funciona la regla de la cascada."
   ]
  },
  {
   "cell_type": "code",
   "execution_count": 3,
   "metadata": {
    "dotnet_interactive": {
     "language": "html"
    },
    "polyglot_notebook": {
     "kernelName": "html"
    },
    "vscode": {
     "languageId": "polyglot-notebook"
    }
   },
   "outputs": [
    {
     "data": {
      "text/html": [
       "<style>\n",
       "    p {\n",
       "        color: red;\n",
       "    }\n",
       "    p {\n",
       "        color: blue;\n",
       "    }\n",
       "</style>\n",
       "<p>¿De qué color soy?</p>"
      ]
     },
     "metadata": {},
     "output_type": "display_data"
    }
   ],
   "source": [
    "<style>\n",
    "    p {\n",
    "        color: red;\n",
    "    }\n",
    "    p {\n",
    "        color: blue;\n",
    "    }\n",
    "</style>\n",
    "<p>¿De qué color soy?</p>"
   ]
  },
  {
   "attachments": {},
   "cell_type": "markdown",
   "metadata": {},
   "source": [
    "En el caso que tengamos un selector de clase y otro de elemento, la clase ganará. Esto hará que el párrafo sea rojo, incluso aunque aparezca antes en la hoja de estilo. Una clase se describe de forma más específica o con más especificidad que el selector de elementos, razón por la que gana."
   ]
  },
  {
   "cell_type": "code",
   "execution_count": 4,
   "metadata": {
    "dotnet_interactive": {
     "language": "html"
    },
    "polyglot_notebook": {
     "kernelName": "html"
    },
    "vscode": {
     "languageId": "polyglot-notebook"
    }
   },
   "outputs": [
    {
     "data": {
      "text/html": [
       "<style>\n",
       "    /* definimos una regla con un selector p que establecerá los párrafos en color azul, y también una clase que establecerá los elementos seleccionados en color rojo */\n",
       "    .special {\n",
       "        color: red;\n",
       "    }\n",
       "    p {\n",
       "        color: blue;\n",
       "    }\n",
       "</style>\n",
       "<p class=\"special\">¿De qué color soy?</p>"
      ]
     },
     "metadata": {},
     "output_type": "display_data"
    }
   ],
   "source": [
    "<style>\n",
    "    /* definimos una regla con un selector p que establecerá los párrafos en color azul, y también una clase que establecerá los elementos seleccionados en color rojo */\n",
    "    .special {\n",
    "        color: red;\n",
    "    }\n",
    "    p {\n",
    "        color: blue;\n",
    "    }\n",
    "</style>\n",
    "<p class=\"special\">¿De qué color soy?</p>"
   ]
  },
  {
   "attachments": {},
   "cell_type": "markdown",
   "metadata": {},
   "source": [
    "## Propiedades y valores"
   ]
  },
  {
   "attachments": {},
   "cell_type": "markdown",
   "metadata": {},
   "source": [
    "En su nivel más básico, el CSS consta de dos componentes básicos:\n",
    "\n",
    "* __Propiedades__: identificadores legibles por los humanos que indican qué características de estilo (por ejemplo `font-size`, `width`, `background-color`) deseas cambiar.\n",
    "* __Valores__: a cada propiedad especificada se le asigna un valor que indica cómo quieres que cambien esas características de estilo (por ejemplo, lo que quieres que cambie de la fuente, el ancho o el color de fondo).\n",
    "\n",
    "Una propiedad emparejada con un valor se denomina _declaración CSS_. Las declaraciones CSS se colocan dentro de los bloques de declaración CSS.\n",
    "\n",
    "Los _bloques de declaración CSS_ se combinan con selectores para producir conjuntos de reglas CSS (o reglas CSS).\n",
    "\n",
    "Establecer las propiedades de CSS según valores específicos es la función principal del lenguaje CSS. El motor CSS calcula qué declaraciones se aplican a cada elemento de una página para darle la compaginación y los estilos adecuados.\n",
    "\n",
    "> Advertencia: Las propiedades y valores de CSS son sensibles a mayúsculas y minúsculas. La propiedad y el valor de cada par están separados por dos puntos (`:`)."
   ]
  },
  {
   "cell_type": "code",
   "execution_count": 6,
   "metadata": {
    "dotnet_interactive": {
     "language": "html"
    },
    "polyglot_notebook": {
     "kernelName": "html"
    },
    "vscode": {
     "languageId": "polyglot-notebook"
    }
   },
   "outputs": [
    {
     "data": {
      "text/html": [
       "<style>\n",
       "/* regla CSS */\n",
       "    h1 { /* selector CSS */\n",
       "\n",
       "        /* bloque de declaración CSS */\n",
       "            color: red; \n",
       "            padding: 3px;\n",
       "                /* declaración CSS */\n",
       "                    margin: 10px; /* propiedad: valor */\n",
       "                /* declaración CSS */\n",
       "            font-size: 20px;\n",
       "        /* bloque de declaración CSS */\n",
       "\n",
       "    }\n",
       "/* regla CSS */\n",
       "\n",
       "    p {\n",
       "        color: blue;\n",
       "    }\n",
       "</style>\n",
       "<h1>Título de prueba</h1>"
      ]
     },
     "metadata": {},
     "output_type": "display_data"
    }
   ],
   "source": [
    "<style>\n",
    "/* regla CSS */\n",
    "    h1 { /* selector CSS */\n",
    "\n",
    "        /* bloque de declaración CSS */\n",
    "            color: red; \n",
    "            padding: 3px;\n",
    "                /* declaración CSS */\n",
    "                    margin: 10px; /* propiedad: valor */\n",
    "                /* declaración CSS */\n",
    "            font-size: 20px;\n",
    "        /* bloque de declaración CSS */\n",
    "\n",
    "    }\n",
    "/* regla CSS */\n",
    "\n",
    "    p {\n",
    "        color: blue;\n",
    "    }\n",
    "</style>\n",
    "<h1>Título de prueba</h1>"
   ]
  },
  {
   "attachments": {},
   "cell_type": "markdown",
   "metadata": {},
   "source": [
    "> Advertencia: Si una propiedad es desconocida o si un valor no es válido para una propiedad determinada, la declaración se considera inválida y el motor CSS del navegador la ignora por completo."
   ]
  },
  {
   "attachments": {},
   "cell_type": "markdown",
   "metadata": {},
   "source": [
    "### Las funciones"
   ]
  },
  {
   "attachments": {},
   "cell_type": "markdown",
   "metadata": {},
   "source": [
    "Si bien la mayoría de valores son palabras clave relativamente simples o valores numéricos, es posible que algunos valores tomen la forma de una función. Un ejemplo sería la función calc(). Esta función te permite hacer operaciones matemáticas sencillas desde tu CSS."
   ]
  },
  {
   "cell_type": "code",
   "execution_count": 7,
   "metadata": {
    "dotnet_interactive": {
     "language": "html"
    },
    "polyglot_notebook": {
     "kernelName": "html"
    },
    "vscode": {
     "languageId": "polyglot-notebook"
    }
   },
   "outputs": [
    {
     "data": {
      "text/html": [
       "<style>\n",
       "    .outer {\n",
       "        border: 5px solid black;\n",
       "    }\n",
       "\n",
       "    .box {\n",
       "        padding: 10px;\n",
       "        width: calc(90% - 30px);\n",
       "        background-color: rebeccapurple;\n",
       "        color: white;\n",
       "    }\n",
       "</style>\n",
       "<div class=\"outer\"> <div class=\"box\">La caja interior es del 90% - 30px.</div></div>"
      ]
     },
     "metadata": {},
     "output_type": "display_data"
    }
   ],
   "source": [
    "<style>\n",
    "    .outer {\n",
    "        border: 5px solid black;\n",
    "    }\n",
    "\n",
    "    .box {\n",
    "        padding: 10px;\n",
    "        width: calc(90% - 30px);\n",
    "        background-color: rebeccapurple;\n",
    "        color: white;\n",
    "    }\n",
    "</style>\n",
    "<div class=\"outer\"> <div class=\"box\">La caja interior es del 90% - 30px.</div></div>"
   ]
  },
  {
   "cell_type": "code",
   "execution_count": 9,
   "metadata": {
    "dotnet_interactive": {
     "language": "html"
    },
    "polyglot_notebook": {
     "kernelName": "html"
    },
    "vscode": {
     "languageId": "polyglot-notebook"
    }
   },
   "outputs": [
    {
     "data": {
      "text/html": [
       "<style>\n",
       "    .box2 {\n",
       "        margin: 30px;\n",
       "        width: 100px;\n",
       "        height: 100px;\n",
       "        background-color: rebeccapurple;\n",
       "        transform: rotate(0.8turn)\n",
       "    }\n",
       "</style>\n",
       "<div class=\"box2\"></div>"
      ]
     },
     "metadata": {},
     "output_type": "display_data"
    }
   ],
   "source": [
    "<style>\n",
    "    .box2 {\n",
    "        margin: 30px;\n",
    "        width: 100px;\n",
    "        height: 100px;\n",
    "        background-color: rebeccapurple;\n",
    "        transform: rotate(0.8turn)\n",
    "    }\n",
    "</style>\n",
    "<div class=\"box2\"></div>"
   ]
  },
  {
   "attachments": {},
   "cell_type": "markdown",
   "metadata": {},
   "source": [
    "## @rules"
   ]
  },
  {
   "attachments": {},
   "cell_type": "markdown",
   "metadata": {},
   "source": [
    "Las __@rules__ (leído \"at-rules\" en inglés) dan al CSS algunas instrucciones sobre cómo comportarse. Algunas @rules son simples, con el nombre de la regla y un valor. Por ejemplo, para importar una hoja de estilo adicional a tu hoja de estilo CSS principal, puedes usar `@import`: `@import 'styles2.css';`.\n",
    "\n",
    "Una de las @rules más comunes con las que te encontrarás es `@media`, que permite usar consultas a medios para aplicar CSS solo cuando se dan ciertas condiciones (por ejemplo, cuando la resolución de la pantalla supera un valor determinado o la anchura supera un valor concreto)."
   ]
  },
  {
   "cell_type": "code",
   "execution_count": 12,
   "metadata": {
    "dotnet_interactive": {
     "language": "html"
    },
    "polyglot_notebook": {
     "kernelName": "html"
    },
    "vscode": {
     "languageId": "polyglot-notebook"
    }
   },
   "outputs": [
    {
     "data": {
      "text/html": [
       "<style>\n",
       "    body {\n",
       "        background-color: pink;\n",
       "    }\n",
       "\n",
       "    /* usamos @media para crear una sección de nuestra hoja de estilo que solo se aplicará en los navegadores con una ventana gráfica de más de 30em de ancho. Si el navegador es más ancho que 30em, el color de fondo será azul. */\n",
       "    @media (min-width: 30em) {\n",
       "        body {\n",
       "            background-color: black;\n",
       "        }\n",
       "    }\n",
       "</style>"
      ]
     },
     "metadata": {},
     "output_type": "display_data"
    }
   ],
   "source": [
    "<style>\n",
    "    body {\n",
    "        background-color: pink;\n",
    "    }\n",
    "\n",
    "    /* usamos @media para crear una sección de nuestra hoja de estilo que solo se aplicará en los navegadores con una ventana gráfica de más de 30em de ancho. Si el navegador es más ancho que 30em, el color de fondo será azul. */\n",
    "    @media (min-width: 30em) {\n",
    "        body {\n",
    "            background-color: black;\n",
    "        }\n",
    "    }\n",
    "</style>"
   ]
  },
  {
   "attachments": {},
   "cell_type": "markdown",
   "metadata": {},
   "source": [
    "## Abreviaturas"
   ]
  },
  {
   "attachments": {},
   "cell_type": "markdown",
   "metadata": {},
   "source": [
    "Algunas propiedades como `font`, `background`, `padding`, `border` y `margin` se llaman propiedades abreviadas. Esto se debe a que permiten establecer varios valores de propiedad en una sola línea, lo que ahorra tiempo y ordena el código."
   ]
  },
  {
   "cell_type": "code",
   "execution_count": 13,
   "metadata": {
    "dotnet_interactive": {
     "language": "html"
    },
    "polyglot_notebook": {
     "kernelName": "html"
    },
    "vscode": {
     "languageId": "polyglot-notebook"
    }
   },
   "outputs": [
    {
     "data": {
      "text/html": [
       "<style>\n",
       "    /* en propiedades abreviadas con 4 valores, como margin y padding (relleno), los valores se aplican según el orden: arriba, derecha, abajo e izquierda (en sentido horario desde la parte superior) */\n",
       "    .caja1 {\n",
       "        padding: 10px 15px 15px 5px;\n",
       "    }\n",
       "    /* hace lo mismo que todas estas juntas */\n",
       "    .caja1 {\n",
       "        padding-top: 10px;\n",
       "        padding-right: 15px;\n",
       "        padding-bottom: 15px;\n",
       "        padding-left: 5px;\n",
       "    }\n",
       "\n",
       "    /* las propiedades abreviadas con 2 valores establecen el margin y padding, en los valores de arriba y abajo, y luego los valores de izquierda y derecha */\n",
       "    .caja2 {\n",
       "        padding: 10px 15px;\n",
       "    }\n",
       "\n",
       "    /* las propiedades abreviadas con 1 valor establecen el margin y padding con el mismo valor en las 4 direcciones */\n",
       "    .caja3 {\n",
       "        padding: 10px;\n",
       "    }\n",
       "</style>"
      ]
     },
     "metadata": {},
     "output_type": "display_data"
    }
   ],
   "source": [
    "<style>\n",
    "    /* en propiedades abreviadas con 4 valores, como margin y padding (relleno), los valores se aplican según el orden: arriba, derecha, abajo e izquierda (en sentido horario desde la parte superior) */\n",
    "    .caja1 {\n",
    "        padding: 10px 15px 15px 5px;\n",
    "    }\n",
    "    /* hace lo mismo que todas estas juntas */\n",
    "    .caja1 {\n",
    "        padding-top: 10px;\n",
    "        padding-right: 15px;\n",
    "        padding-bottom: 15px;\n",
    "        padding-left: 5px;\n",
    "    }\n",
    "\n",
    "    /* las propiedades abreviadas con 2 valores establecen el margin y padding, en los valores de arriba y abajo, y luego los valores de izquierda y derecha */\n",
    "    .caja2 {\n",
    "        padding: 10px 15px;\n",
    "    }\n",
    "\n",
    "    /* las propiedades abreviadas con 1 valor establecen el margin y padding con el mismo valor en las 4 direcciones */\n",
    "    .caja3 {\n",
    "        padding: 10px;\n",
    "    }\n",
    "</style>"
   ]
  },
  {
   "cell_type": "code",
   "execution_count": 14,
   "metadata": {
    "dotnet_interactive": {
     "language": "html"
    },
    "polyglot_notebook": {
     "kernelName": "html"
    },
    "vscode": {
     "languageId": "polyglot-notebook"
    }
   },
   "outputs": [
    {
     "data": {
      "text/html": [
       "<style>\n",
       "    /* la siguiente regla css */\n",
       "    .caja4 {\n",
       "        background: red url(bg-graphic.png) 10px 10px repeat-x fixed;\n",
       "    }\n",
       "    /* hace lo mismo que esta regla css */\n",
       "    .caja4 {\n",
       "        background-color: red;\n",
       "        background-image: url(bg-graphic.png);\n",
       "        background-position: 10px 10px;\n",
       "        background-repeat: repeat-x;\n",
       "        background-scroll: fixed;\n",
       "    }\n",
       "</style>"
      ]
     },
     "metadata": {},
     "output_type": "display_data"
    }
   ],
   "source": [
    "<style>\n",
    "    /* la siguiente regla css */\n",
    "    .caja4 {\n",
    "        background: red url(bg-graphic.png) 10px 10px repeat-x fixed;\n",
    "    }\n",
    "    /* hace lo mismo que esta regla css */\n",
    "    .caja4 {\n",
    "        background-color: red;\n",
    "        background-image: url(bg-graphic.png);\n",
    "        background-position: 10px 10px;\n",
    "        background-repeat: repeat-x;\n",
    "        background-scroll: fixed;\n",
    "    }\n",
    "</style>"
   ]
  },
  {
   "attachments": {},
   "cell_type": "markdown",
   "metadata": {},
   "source": [
    "> Advertencia: Si bien las propiedades abreviadas a menudo permiten ahorrarte valores, luego restablecerán a sus valores iniciales cualquier valor que no incluyas. Esto asegura que se use un conjunto de valores razonable. Sin embargo, puede resultar confuso si esperas que la propiedad abreviada solo cambie los valores que has introducido."
   ]
  },
  {
   "cell_type": "markdown",
   "metadata": {},
   "source": [
    "## Comentarios"
   ]
  },
  {
   "attachments": {},
   "cell_type": "markdown",
   "metadata": {},
   "source": [
    "Los comentarios en el CSS comienzan con `/*` y terminan con `*/`. Te recomendamos que hagas comentarios en tu CSS para que te ayuden a comprender cómo funciona su código cuando vuelvas a utilizarlo al cabo de varios meses, así como para ayudar a otros que vayan a trabajar con él a entenderlo. Los comentarios también son útiles para comentar temporalmente ciertas partes del código con fines de prueba, por ejemplo, si tratas de encontrar qué parte de tu código causa un error."
   ]
  },
  {
   "cell_type": "markdown",
   "metadata": {},
   "source": [
    "## Espacio en blanco"
   ]
  },
  {
   "attachments": {},
   "cell_type": "markdown",
   "metadata": {},
   "source": [
    "Por espacio en blanco nos referimos los espacios en sí, tabuladores y retornos de carro o intros. De la misma manera que el HTML, el navegador ignora el espacio en blanco dentro del CSS. El valor del espacio en blanco es que puede mejorar la legibilidad. La manera que elijas para disponer el código suele ser una preferencia personal, aunque cuando comiences a trabajar en equipo es posible que encuentres que el equipo ya tiene su propia guía de estilo que especifica una convención acordada a seguir.\n",
    "\n",
    "> Advertencia: Aunque los valores de las declaraciones CSS se separan por espacios, los nombres de propiedad nunca tienen espacios.\n",
    "\n",
    "Las siguientes declaraciones son válidas:\n",
    "```\n",
    "margin: 0 auto;\n",
    "padding-left: 10px;\n",
    "```\n",
    "Las siguientes declaraciones no son válidas:\n",
    "```\n",
    "margin: 0auto;\n",
    "padding- left: 10px;\n",
    "```\n",
    "\n",
    "Debes asegurarte siempre de separar los valores distintos entre sí por al menos un espacio, pero mantén los nombres de las propiedades y los valores de las propiedades juntos."
   ]
  }
 ],
 "metadata": {
  "language_info": {
   "name": "python"
  },
  "orig_nbformat": 4
 },
 "nbformat": 4,
 "nbformat_minor": 2
}
