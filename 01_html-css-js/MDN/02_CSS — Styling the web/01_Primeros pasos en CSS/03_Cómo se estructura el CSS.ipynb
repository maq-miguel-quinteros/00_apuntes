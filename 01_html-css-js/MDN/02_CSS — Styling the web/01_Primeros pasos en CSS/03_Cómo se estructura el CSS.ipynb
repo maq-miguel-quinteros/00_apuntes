{
 "cells": [
  {
   "attachments": {},
   "cell_type": "markdown",
   "metadata": {},
   "source": [
    "# Cómo se estructura el CSS"
   ]
  },
  {
   "attachments": {},
   "cell_type": "markdown",
   "metadata": {},
   "source": [
    "## Aplicar CSS al HTML"
   ]
  },
  {
   "attachments": {},
   "cell_type": "markdown",
   "metadata": {},
   "source": [
    "### Hoja de estilo externa"
   ]
  },
  {
   "attachments": {},
   "cell_type": "markdown",
   "metadata": {},
   "source": [
    "Vinculamos una hoja de estilo externa a nuestra página. Este es el método más común y útil para adjuntar CSS a un documento, porque puedes vincular el CSS a varias páginas y dar estilo a todas ellas con la misma hoja de estilo. En la mayoría de los casos, las diferentes páginas de un sitio web se verán más o menos iguales, de modo que puedes usar el mismo conjunto de reglas para el aspecto y la interacción básicos.\n",
    "\n",
    "Una hoja de estilo externa significa que el CSS está escrito en un archivo independiente con una extensión .css y que lo vinculas desde un elemento `<link>` de HTML:"
   ]
  },
  {
   "cell_type": "code",
   "execution_count": 1,
   "metadata": {
    "dotnet_interactive": {
     "language": "html"
    },
    "polyglot_notebook": {
     "kernelName": "html"
    },
    "vscode": {
     "languageId": "polyglot-notebook"
    }
   },
   "outputs": [
    {
     "data": {
      "text/html": [
       "<!DOCTYPE html>\n",
       "<html>\n",
       "    <head>\n",
       "        <meta charset=\"utf-8\">\n",
       "        <title>Mi experimento CSS</title>\n",
       "        <!-- el archivo CSS está en la misma carpeta que el documento HTML, pero puedes colocarlo en otro lugar y especificar la ruta adecuada -->\n",
       "        <link rel=\"stylesheet\" href=\"styles.css\">\n",
       "    </head>\n",
       "    <body>\n",
       "        <h1>¡Hola, mundo!</h1>\n",
       "        <p>Este es mi primer ejemplo de CSS</p>\n",
       "    </body>\n",
       "</html>"
      ]
     },
     "metadata": {},
     "output_type": "display_data"
    }
   ],
   "source": [
    "<!DOCTYPE html>\n",
    "<html>\n",
    "    <head>\n",
    "        <meta charset=\"utf-8\">\n",
    "        <title>Mi experimento CSS</title>\n",
    "        <!-- el archivo CSS está en la misma carpeta que el documento HTML, pero puedes colocarlo en otro lugar y especificar la ruta adecuada -->\n",
    "        <link rel=\"stylesheet\" href=\"styles.css\">\n",
    "    </head>\n",
    "    <body>\n",
    "        <h1>¡Hola, mundo!</h1>\n",
    "        <p>Este es mi primer ejemplo de CSS</p>\n",
    "    </body>\n",
    "</html>"
   ]
  },
  {
   "attachments": {},
   "cell_type": "markdown",
   "metadata": {},
   "source": [
    "Podemos vincular una hoja de estilos de diferentes rutas."
   ]
  },
  {
   "cell_type": "code",
   "execution_count": 2,
   "metadata": {
    "dotnet_interactive": {
     "language": "html"
    },
    "polyglot_notebook": {
     "kernelName": "html"
    },
    "vscode": {
     "languageId": "polyglot-notebook"
    }
   },
   "outputs": [
    {
     "data": {
      "text/html": [
       "<!-- dentro de un subdirectorio llamado styles dentro del directorio de trabajo -->\n",
       "<link rel=\"stylesheet\" href=\"styles/style.css\">\n",
       "\n",
       "<!-- dentro de un subdirectorio llamado general, que está en un subdirectorio llamado styles, dentro del directorio de trabajo -->\n",
       "<link rel=\"stylesheet\" href=\"styles/general/style.css\">\n",
       "\n",
       "<!-- sube un nivel de directorio, y luego dentro de un subdirectorio llamado styles -->\n",
       "<link rel=\"stylesheet\" href=\"../styles/style.css\">"
      ]
     },
     "metadata": {},
     "output_type": "display_data"
    }
   ],
   "source": [
    "<!-- dentro de un subdirectorio llamado styles dentro del directorio de trabajo -->\n",
    "<link rel=\"stylesheet\" href=\"styles/style.css\">\n",
    "\n",
    "<!-- dentro de un subdirectorio llamado general, que está en un subdirectorio llamado styles, dentro del directorio de trabajo -->\n",
    "<link rel=\"stylesheet\" href=\"styles/general/style.css\">\n",
    "\n",
    "<!-- sube un nivel de directorio, y luego dentro de un subdirectorio llamado styles -->\n",
    "<link rel=\"stylesheet\" href=\"../styles/style.css\">"
   ]
  },
  {
   "attachments": {},
   "cell_type": "markdown",
   "metadata": {},
   "source": [
    "### Hoja de estilo interna"
   ]
  },
  {
   "attachments": {},
   "cell_type": "markdown",
   "metadata": {},
   "source": [
    "Una hoja de estilo interna es cuando no hay ningún archivo CSS externo, sino que colocas tu CSS dentro de un elemento `<style>` contenido dentro del elemento `<head>` del HTML."
   ]
  },
  {
   "cell_type": "code",
   "execution_count": 3,
   "metadata": {
    "dotnet_interactive": {
     "language": "html"
    },
    "polyglot_notebook": {
     "kernelName": "html"
    },
    "vscode": {
     "languageId": "polyglot-notebook"
    }
   },
   "outputs": [
    {
     "data": {
      "text/html": [
       "<!DOCTYPE html>\n",
       "<html>\n",
       "    <head>\n",
       "        <meta charset=\"utf-8\">\n",
       "        <title>Mi experimento CSS</title>\n",
       "        <!-- cargamos las reglas de estilos dentro del elemento <style> -->\n",
       "        <style>\n",
       "            h1 {\n",
       "                color: blue;\n",
       "                background-color: yellow;\n",
       "                border: 1px solid black;\n",
       "            }\n",
       "\n",
       "            p {\n",
       "                color: red;\n",
       "            }\n",
       "        </style>\n",
       "    </head>\n",
       "    <body>\n",
       "        <h1>¡Hola, mundo!</h1>\n",
       "        <p>Este es mi primer ejemplo de CSS</p>\n",
       "    </body>\n",
       "</html>"
      ]
     },
     "metadata": {},
     "output_type": "display_data"
    }
   ],
   "source": [
    "<!DOCTYPE html>\n",
    "<html>\n",
    "    <head>\n",
    "        <meta charset=\"utf-8\">\n",
    "        <title>Mi experimento CSS</title>\n",
    "        <!-- cargamos las reglas de estilos dentro del elemento <style> -->\n",
    "        <style>\n",
    "            h1 {\n",
    "                color: blue;\n",
    "                background-color: yellow;\n",
    "                border: 1px solid black;\n",
    "            }\n",
    "\n",
    "            p {\n",
    "                color: red;\n",
    "            }\n",
    "        </style>\n",
    "    </head>\n",
    "    <body>\n",
    "        <h1>¡Hola, mundo!</h1>\n",
    "        <p>Este es mi primer ejemplo de CSS</p>\n",
    "    </body>\n",
    "</html>"
   ]
  }
 ],
 "metadata": {
  "language_info": {
   "name": "python"
  },
  "orig_nbformat": 4
 },
 "nbformat": 4,
 "nbformat_minor": 2
}
