{
 "cells": [
  {
   "cell_type": "markdown",
   "metadata": {},
   "source": [
    "# Instalaciones previas\n"
   ]
  },
  {
   "cell_type": "markdown",
   "metadata": {},
   "source": [
    "# NodeJs\n"
   ]
  },
  {
   "cell_type": "markdown",
   "metadata": {},
   "source": [
    "- `node -v `: versión de node.\n",
    "- `npm -v`: versión de npm.\n",
    "\n",
    "- `npx create-react-app`: crea una nueva aplicación de `react`. Podemos sumar los modificadores `.` (punto), para indicar que la aplicación se cree en la carpeta donde estamos parados al momento de ejecutar el comando o podemos indicar un nombre de carpeta que se va a crear para alojar la app de la forma `npx create-react-app .` o `npx create-react-app nombreApp`.\n"
   ]
  },
  {
   "cell_type": "markdown",
   "metadata": {},
   "source": [
    "## Estructura de archivos que se crean\n"
   ]
  },
  {
   "cell_type": "markdown",
   "metadata": {},
   "source": [
    "- `.gitignore`: archivo que se utiliza para indicar que archivos se van a ignorar a la hora de subir la carpeta de la app a un repositorio.\n",
    "- `README.md`: archivo markdown que brinda información del proyecto cuando ingresamos al repositorio del mismo en, por ejemplo, github.\n"
   ]
  },
  {
   "cell_type": "markdown",
   "metadata": {},
   "source": [
    "- `package.json` y `package-lock.json`: archivos con información de los módulos que importa y utiliza el proyecto así como su versión y otros datos propios del proyecto.\n",
    "- carpeta `node_modules`: contiene las librerías o módulos que utiliza el proyecto.\n"
   ]
  }
 ],
 "metadata": {
  "language_info": {
   "name": "python"
  }
 },
 "nbformat": 4,
 "nbformat_minor": 2
}
