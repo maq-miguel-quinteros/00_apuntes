{
 "cells": [
  {
   "cell_type": "markdown",
   "metadata": {},
   "source": [
    "[seguir](https://lenguajejs.com/javascript/arrays/que-es/)"
   ]
  },
  {
   "cell_type": "markdown",
   "metadata": {},
   "source": [
    "# Lista de métodos"
   ]
  },
  {
   "cell_type": "markdown",
   "metadata": {},
   "source": [
    "## Crear un `array`"
   ]
  },
  {
   "cell_type": "markdown",
   "metadata": {},
   "source": [
    "Tipo | Constructor\t| Descripción\n",
    "--- | --- | ---\n",
    "__array__ | `new Array(size)` | Crea un `array` vacío de tamaño `size`. Sus valores no están definidos, pero son `undefined`\n",
    "__array__ | `new Array(e1, e2...)` | Crea un `array` con los elementos indicados.\n",
    "__array__ | `[e1, e2...]` | Simplemente, los elementos dentro de corchetes: `[]`. _Notación preferida_."
   ]
  },
  {
   "cell_type": "markdown",
   "metadata": {},
   "source": [
    "## Acceder a elementos de un array"
   ]
  },
  {
   "cell_type": "markdown",
   "metadata": {},
   "source": [
    "Tipo | Forma | Descripción\n",
    "--- | --- | ---\n",
    "__number__ | `.length` | Propiedad que devuelve el número de elementos del array.\n",
    "__object__ | `[pos]` | Operador que devuelve (o modifica) el elemento número pos del array.\n",
    "__object__ | `.at(pos)` _ES2022_ | Método que devuelve el elemento en la posición `pos`. Números negativos en orden inverso.\n",
    "__?__ | `.with()` _nuevo_ | Permite encadenar múltiples operaciones, pero ten en cuenta que sólo modifica, no se pueden añadir elementos que no existen antes en el array."
   ]
  },
  {
   "cell_type": "code",
   "execution_count": 1,
   "metadata": {
    "dotnet_interactive": {
     "language": "javascript"
    },
    "polyglot_notebook": {
     "kernelName": "javascript"
    },
    "vscode": {
     "languageId": "polyglot-notebook"
    }
   },
   "outputs": [
    {
     "ename": "Error",
     "evalue": "Invalid index : 3",
     "output_type": "error",
     "traceback": [
      "Invalid index : 3"
     ]
    }
   ],
   "source": [
    "const letters =  [\"a\", \"b\", \"c\"];\n",
    "\n",
    "letters.with(1, \"Z\");   // Devuelve \"Z\" y modifica letters a [\"a\", \"Z\", \"c\"]\n",
    "letters.with(1, \"Z\")\n",
    "       .with(3, \"D\");   // No se puede hacer porque la posición 3 no existe\n",
    "letters.with(5, \"A\");   // No se puede hacer porque la posición 5 no existe"
   ]
  },
  {
   "cell_type": "markdown",
   "metadata": {},
   "source": [
    "## Añadir o eliminar elementos"
   ]
  },
  {
   "cell_type": "markdown",
   "metadata": {},
   "source": [
    "Tipo | Método | Descripción\n",
    "--- | --- | ---\n",
    "__number__ | `.push(e1, e2, e3...)` ⚠️ | Añade uno o varios elementos al final del array. Devuelve el tamaño del array.\n",
    "__object__ | `.pop()`⚠️ | Elimina el último elemento del array. Devuelve dicho elemento.\n",
    "__number__ | `.unshift(e1, e2, e3...)` ⚠️ | Añade uno o varios elementos al inicio del array. Devuelve el tamaño del array.\n",
    "__object__ | `.shift()` ⚠️ | Elimina el primer elemento del array. Devuelve dicho elemento."
   ]
  },
  {
   "cell_type": "markdown",
   "metadata": {},
   "source": [
    "> ⚠️ Recuerda que estos métodos sirven para modificar (mutar) el array original. 🍒"
   ]
  }
 ],
 "metadata": {
  "language_info": {
   "name": "python"
  }
 },
 "nbformat": 4,
 "nbformat_minor": 2
}
