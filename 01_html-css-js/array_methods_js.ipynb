{
 "cells": [
  {
   "cell_type": "markdown",
   "metadata": {},
   "source": [
    "[seguir](https://lenguajejs.com/javascript/arrays/que-es/)"
   ]
  },
  {
   "cell_type": "markdown",
   "metadata": {},
   "source": [
    "# Lista de métodos"
   ]
  },
  {
   "cell_type": "markdown",
   "metadata": {},
   "source": [
    "## Crear un `array`"
   ]
  },
  {
   "cell_type": "markdown",
   "metadata": {},
   "source": [
    "Tipo | Constructor\t| Descripción\n",
    "--- | --- | ---\n",
    "__array__ | `new Array(size)` | Crea un `array` vacío de tamaño `size`. Sus valores no están definidos, pero son `undefined`\n",
    "__array__ | `new Array(e1, e2...)` | Crea un `array` con los elementos indicados.\n",
    "__array__ | `[e1, e2...]` | Simplemente, los elementos dentro de corchetes: `[]`. _Notación preferida_."
   ]
  },
  {
   "cell_type": "markdown",
   "metadata": {},
   "source": [
    "## Acceder a elementos de un array"
   ]
  },
  {
   "cell_type": "markdown",
   "metadata": {},
   "source": [
    "Tipo | Forma | Descripción\n",
    "--- | --- | ---\n",
    "__number__ | `.length` | Propiedad que devuelve el número de elementos del array.\n",
    "__object__ | `[pos]` | Operador que devuelve (o modifica) el elemento número pos del array.\n",
    "__object__ | `.at(pos)` _ES2022_ | Método que devuelve el elemento en la posición `pos`. Números negativos en orden inverso.\n",
    "__?__ | `.with()` _nuevo_ | Permite encadenar múltiples operaciones, pero ten en cuenta que sólo modifica, no se pueden añadir elementos que no existen antes en el array."
   ]
  },
  {
   "cell_type": "code",
   "execution_count": 1,
   "metadata": {
    "dotnet_interactive": {
     "language": "javascript"
    },
    "polyglot_notebook": {
     "kernelName": "javascript"
    },
    "vscode": {
     "languageId": "polyglot-notebook"
    }
   },
   "outputs": [
    {
     "ename": "Error",
     "evalue": "Invalid index : 3",
     "output_type": "error",
     "traceback": [
      "Invalid index : 3"
     ]
    }
   ],
   "source": [
    "const letters =  [\"a\", \"b\", \"c\"];\n",
    "\n",
    "letters.with(1, \"Z\");   // Devuelve \"Z\" y modifica letters a [\"a\", \"Z\", \"c\"]\n",
    "letters.with(1, \"Z\")\n",
    "       .with(3, \"D\");   // No se puede hacer porque la posición 3 no existe\n",
    "letters.with(5, \"A\");   // No se puede hacer porque la posición 5 no existe"
   ]
  },
  {
   "cell_type": "markdown",
   "metadata": {},
   "source": [
    "## Añadir o eliminar elementos"
   ]
  },
  {
   "cell_type": "markdown",
   "metadata": {},
   "source": [
    "Tipo | Método | Descripción\n",
    "--- | --- | ---\n",
    "__number__ | `.push(e1, e2, e3...)` ⚠️ | Añade uno o varios elementos al final del array. Devuelve el tamaño del array.\n",
    "__object__ | `.pop()`⚠️ | Elimina el último elemento del array. Devuelve dicho elemento.\n",
    "__number__ | `.unshift(e1, e2, e3...)` ⚠️ | Añade uno o varios elementos al inicio del array. Devuelve el tamaño del array.\n",
    "__object__ | `.shift()` ⚠️ | Elimina el primer elemento del array. Devuelve dicho elemento."
   ]
  },
  {
   "cell_type": "markdown",
   "metadata": {},
   "source": [
    "> ⚠️ Recuerda que estos métodos sirven para modificar (mutar) el array original. 🍒"
   ]
  },
  {
   "cell_type": "markdown",
   "metadata": {},
   "source": [
    "## Alternativas para crear arrays"
   ]
  },
  {
   "cell_type": "markdown",
   "metadata": {},
   "source": [
    "Tipo | Método | Descripción\n",
    "--- | --- | ---\n",
    "__array__ | `Array.from(obj)` | Intenta convertir el `obj` en un array.\n",
    "__array__ | `Array.from(obj, fmap)` | Intenta convertir el `obj` en un array, pero además ejecuta la función `fmap` por cada elemento. Equivalente a `.map()`.\n",
    "__array__ | `Array.from({ length:size})` | Crea un array a partir `object` de un de tamaño `size`, relleno de `undefined`.\n",
    "__array__ | `.concat(e1, e2, e3...)` | Devuelve los elementos pasados por parámetro concatenados al final del array.\n",
    "__string__ | `.join(sep)` | Une los elementos del array mediante separadores `sep` en un `string`."
   ]
  },
  {
   "cell_type": "markdown",
   "metadata": {},
   "source": [
    "## Buscar elementos en un array"
   ]
  },
  {
   "cell_type": "markdown",
   "metadata": {},
   "source": [
    "Tipo| Método | Descripción\n",
    "--- | --- | ---\n",
    "__boolean__ | `.includes(element)` _ES2016_ | Comprueba si `element` está incluido en el array.\n",
    "__boolean__ | `.includes(element, from)` _ES2016_ | Comprueba si `element` está incluido en el array., pero partiendo desde la posición `from` del array.\n",
    "__number__ | `.indexOf(element)` | Devuelve la posición de la primera aparición de `element`. Devuelve `-1` si no existe.\n",
    "__number__ | `.indexOf(element, from)` | Devuelve la posición de la primera aparición de `element`, pero partiendo desde la posición `from` del array. Devuelve `-1` si no existe.\n",
    "__number__ | `.lastIndexOf(element)` | Devuelve la posición de la última aparición de `element`. Devuelve `-1` si no existe.\n",
    "__number__ | `.lastIndexOf(element, from)` | Devuelve la posición de la última aparición de `element`, pero partiendo desde la posición `from` del array. Devuelve `-1` si no existe."
   ]
  },
  {
   "cell_type": "markdown",
   "metadata": {},
   "source": [
    "## Modificar o crear subarrays"
   ]
  },
  {
   "cell_type": "markdown",
   "metadata": {},
   "source": [
    "Tipo | Método | Descripción\n",
    "--- | --- | ---\n",
    "__array__ | `.slice(start, end)` ✅ | Devuelve un nuevo array con los elementos desde la posición `start` hasta `end` (__excluído__).\n",
    "__array__ | `.splice(start, size)` ⚠️ | Devuelve un nuevo array con los `size` siguientes elementos desde la posición `start`. Quita del array original los elementos que devuelve.\n",
    "__array__ | `.splice(start, size, e1, e2...)` ⚠️ | Devuelve un nuevo array con los `size` siguientes elementos desde la posición `start`. Además, luego inserta `e1, e2...` en la posición `start`.\n",
    "__array__ | `.toSpliced(start, size)` _ES2023_ ✅ | Devuelve un nuevo array quitando los `size` siguientes elementos desde la posición `start`, pero sin mutar el array original.\n",
    "__array__ | `.toSpliced(start, size, e1, e2...)` _ES2023_ ✅ | Devuelve un nuevo array quitando los `size` siguientes elementos desde la posición `start`. Además, luego inserta `e1, e2...` en la posición `start`, pero sin mutar el array original.\n",
    "__array__ | `.copyWithin(pos, start, end)` _ES2015_ ⚠️ | Muta el array, cambiando en `pos` y copiando desde `start` a `end`. Devuelve un nuevo array con los elementos de la selección que hacemos mediante `pos`, `start` y `end`.\n",
    "__array__ | `.fill(element, start, end)` _ES2015_ ⚠️ | Cambia los elementos del array por `element` desde `start` hasta `end`. Todos los elementos del array desde `start` hasta `end` van a pasar a tener el valor de `element`.\n",
    "__array__ | `.with(index, item)` _ES2023_ ✅ | Devuelve una copia del array original, con el elemento `index` modificado por el valor de `item`."
   ]
  },
  {
   "cell_type": "markdown",
   "metadata": {},
   "source": [
    "> ✅ El array original está seguro (no muta).\n",
    "\n",
    "> ⚠️ El array original cambia (muta)."
   ]
  },
  {
   "cell_type": "markdown",
   "metadata": {},
   "source": [
    "Podemos insertar elementos en una posición concreta del array de dos formas alternativas:\n",
    "\n",
    "* Utilizando `.slice()` y `.concat()` (no se muta el array original)\n",
    "* Utilizando `.splice()` y `desestructuración` (se muta el array original)"
   ]
  },
  {
   "cell_type": "code",
   "execution_count": 1,
   "metadata": {
    "dotnet_interactive": {
     "language": "javascript"
    },
    "polyglot_notebook": {
     "kernelName": "javascript"
    },
    "vscode": {
     "languageId": "polyglot-notebook"
    }
   },
   "outputs": [
    {
     "ename": "Error",
     "evalue": "Command cancelled.",
     "output_type": "error",
     "traceback": [
      "Command cancelled."
     ]
    }
   ],
   "source": [
    "// .slice() y .concat()\n",
    "const numbers = [1, 2, 3, 8, 9, 10];\n",
    "const middlePart = [4, 5, 6, 7];\n",
    "\n",
    "const firstPart = numbers.slice(0, 3);      // [1, 2, 3]\n",
    "const lastPart = numbers.slice(3, 6);       // [8, 9, 10]\n",
    "\n",
    "firstPart.concat(middlePart, lastPart);     // [1, 2, 3, 4, 5, 6, 7, 8, 9, 10]\n",
    "console.log(numbers);                       // [1, 2, 3, 8, 9, 10] (numbers no ha mutado)\n",
    "\n",
    "\n",
    "// splice() y desestructuracón\n",
    "const numbers = [1, 2, 3, 8, 9, 10];\n",
    "const middlePart = [4, 5, 6, 7];\n",
    "\n",
    "numbers.splice(3, 0, ...middlePart);  // [] (Elementos eliminados, en este caso, ninguno)\n",
    "numbers                               // [1, 2, 3, 4, 5, 6, 7, 8, 9, 10] (numbers ha mutado)"
   ]
  },
  {
   "cell_type": "markdown",
   "metadata": {},
   "source": [
    "## Ordenación de un array"
   ]
  },
  {
   "cell_type": "markdown",
   "metadata": {},
   "source": [
    "Tipo | Método | Descripción\n",
    "--- | --- | ---\n",
    "__array__ | `.reverse()` ⚠️ | Invierte el orden de elementos del array.\n",
    "__array__ | `.toReversed()` ✅ | Devuelve una copia del array, con el orden de los elementos invertido.\n",
    "__array__ | `.sort()` ⚠️ | Ordena los elementos del array bajo un criterio de ordenación alfabética.\n",
    "__array__ | `.sort(criterio)` ⚠️ | Ordena los elementos del array bajo un criterio de ordenación indicado por la `function criterio`.\n",
    "__array__ | `.toSorted()` ✅ | Devuelve una copia del array, con los elementos ordenados.\n",
    "__array__ | `.toSorted(criterio)` ✅ | Devuelve una copia del array ordenado por el `criterio` establecido por parámetro."
   ]
  },
  {
   "cell_type": "markdown",
   "metadata": {},
   "source": [
    "> ✅ El array original está seguro (no muta).\n",
    "\n",
    "> ⚠️ El array original cambia (muta)."
   ]
  },
  {
   "cell_type": "markdown",
   "metadata": {},
   "source": [
    "`function criterio` es una función de ordenación o una función de comparación. Lo que hace es establecer un criterio de ordenación diferente al que actúa por defecto, personalizado a través de una función que se le pasa por parámetro al método `sort()` o `toSorted()`."
   ]
  },
  {
   "cell_type": "code",
   "execution_count": null,
   "metadata": {
    "dotnet_interactive": {
     "language": "javascript"
    },
    "polyglot_notebook": {
     "kernelName": "javascript"
    },
    "vscode": {
     "languageId": "polyglot-notebook"
    }
   },
   "outputs": [],
   "source": [
    "const numbers = [1, 8, 2, 32, 9, 7, 4];\n",
    "\n",
    "const alphabeticOrder = (a, b) => a + b;\n",
    "const naturalOrder = (a, b) => a - b;\n",
    "\n",
    "const alphaNumbers = numbers.toSorted(alphabeticOrder);    // [1, 8, 2, 32, 9, 7, 4]\n",
    "const naturalNumbers = numbers.toSorted(naturalOrder);     // [1, 2, 4, 7, 8, 9, 32]"
   ]
  },
  {
   "cell_type": "markdown",
   "metadata": {},
   "source": [
    "Creamos dos funciones flecha: `alphabeticOrder` y `naturalOrder`. Cada una de ellas tiene un criterio de ordenación diferente. Las pasamos por parámetro al método `toSorted()` para indicarle como debe hacer la ordenación.\n",
    "\n",
    "En el caso de `alphabeticOrder`, esa es la función de ordenación que tiene por defecto el método `.sort()` o `.toSorted()`, es decir, es lo mismo que no pasarle ningún parámetro. Sin embargo, en el caso de `naturalOrder` estamos alterando el criterio de ordenación, y le indicamos como hacerlo para ordenar números bajo un criterio de ordenación natural."
   ]
  },
  {
   "cell_type": "markdown",
   "metadata": {},
   "source": []
  }
 ],
 "metadata": {
  "language_info": {
   "name": "python"
  }
 },
 "nbformat": 4,
 "nbformat_minor": 2
}
