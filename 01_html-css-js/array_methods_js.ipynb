{
 "cells": [
  {
   "cell_type": "markdown",
   "metadata": {},
   "source": [
    "[seguir](https://lenguajejs.com/javascript/arrays/que-es/)"
   ]
  },
  {
   "cell_type": "markdown",
   "metadata": {},
   "source": [
    "# Array methods"
   ]
  },
  {
   "cell_type": "markdown",
   "metadata": {},
   "source": [
    "# Crear un `array`"
   ]
  },
  {
   "cell_type": "markdown",
   "metadata": {},
   "source": [
    "Un `array` es una colección o agrupación de elementos en una misma variable, cada uno de ellos ubicado por la posición que ocupa en el array. En algunas ocasiones también se les suelen llamar arreglos o vectores."
   ]
  },
  {
   "cell_type": "markdown",
   "metadata": {},
   "source": [
    "Constructor\t| Descripción\n",
    "--- | ---\n",
    "`new Array(size)` | Crea un `array` vacío de tamaño `size`. Sus valores no están definidos, pero son `undefined`\n",
    "`new Array(e1, e2...)` | Crea un `array` con los elementos indicados.\n",
    "`[e1, e2...]` | Simplemente, los elementos dentro de corchetes: `[]`. __Notación preferida__."
   ]
  },
  {
   "cell_type": "code",
   "execution_count": 5,
   "metadata": {
    "dotnet_interactive": {
     "language": "javascript"
    },
    "polyglot_notebook": {
     "kernelName": "javascript"
    },
    "vscode": {
     "languageId": "polyglot-notebook"
    }
   },
   "outputs": [],
   "source": [
    "let letters;\n",
    "\n",
    "// Forma tradicional (no se suele usar en Javascript)\n",
    "letters = new Array(\"a\", \"b\", \"c\");   // Array con 3 elementos\n",
    "letters = new Array(3);               // Array vacío de tamaño 3\n",
    "\n",
    "// Mediante literales (notación preferida)\n",
    "letters = [\"a\", \"b\", \"c\"];  // Array con 3 elementos\n",
    "letters = [];               // Array vacío (0 elementos)\n",
    "letters = [\"a\", 5, true];   // Array mixto (String, Number, Boolean)"
   ]
  }
 ],
 "metadata": {
  "language_info": {
   "name": "python"
  }
 },
 "nbformat": 4,
 "nbformat_minor": 2
}
