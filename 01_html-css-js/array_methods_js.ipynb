{
 "cells": [
  {
   "cell_type": "markdown",
   "metadata": {},
   "source": [
    "[seguir](https://lenguajejs.com/javascript/arrays/que-es/)"
   ]
  },
  {
   "cell_type": "markdown",
   "metadata": {},
   "source": [
    "# Lista de métodos"
   ]
  },
  {
   "cell_type": "markdown",
   "metadata": {},
   "source": [
    "## Crear un `array`"
   ]
  },
  {
   "cell_type": "markdown",
   "metadata": {},
   "source": [
    "Tipo | Constructor\t| Descripción\n",
    "--- | --- | ---\n",
    "__array__ | `new Array(size)` | Crea un `array` vacío de tamaño `size`. Sus valores no están definidos, pero son `undefined`\n",
    "__array__ | `new Array(e1, e2...)` | Crea un `array` con los elementos indicados.\n",
    "__array__ | `[e1, e2...]` | Simplemente, los elementos dentro de corchetes: `[]`. _Notación preferida_."
   ]
  },
  {
   "cell_type": "markdown",
   "metadata": {},
   "source": [
    "## Acceder a elementos de un array"
   ]
  },
  {
   "cell_type": "markdown",
   "metadata": {},
   "source": [
    "Tipo | Forma | Descripción\n",
    "--- | --- | ---\n",
    "__number__ | `.length` | Propiedad que devuelve el número de elementos del array.\n",
    "__object__ | `[pos]` | Operador que devuelve (o modifica) el elemento número pos del array.\n",
    "__object__ | `.at(pos)` _ES2022_ | Método que devuelve el elemento en la posición `pos`. Números negativos en orden inverso.\n",
    "__?__ | `.with()` _nuevo_ | Permite encadenar múltiples operaciones, pero ten en cuenta que sólo modifica, no se pueden añadir elementos que no existen antes en el array."
   ]
  },
  {
   "cell_type": "code",
   "execution_count": 1,
   "metadata": {
    "dotnet_interactive": {
     "language": "javascript"
    },
    "polyglot_notebook": {
     "kernelName": "javascript"
    },
    "vscode": {
     "languageId": "polyglot-notebook"
    }
   },
   "outputs": [
    {
     "ename": "Error",
     "evalue": "Invalid index : 3",
     "output_type": "error",
     "traceback": [
      "Invalid index : 3"
     ]
    }
   ],
   "source": [
    "const letters =  [\"a\", \"b\", \"c\"];\n",
    "\n",
    "letters.with(1, \"Z\");   // Devuelve \"Z\" y modifica letters a [\"a\", \"Z\", \"c\"]\n",
    "letters.with(1, \"Z\")\n",
    "       .with(3, \"D\");   // No se puede hacer porque la posición 3 no existe\n",
    "letters.with(5, \"A\");   // No se puede hacer porque la posición 5 no existe"
   ]
  },
  {
   "cell_type": "markdown",
   "metadata": {},
   "source": [
    "## Añadir o eliminar elementos"
   ]
  },
  {
   "cell_type": "markdown",
   "metadata": {},
   "source": [
    "Tipo | Método | Descripción\n",
    "--- | --- | ---\n",
    "__number__ | `.push(e1, e2, e3...)` ⚠️ | Añade uno o varios elementos al final del array. Devuelve el tamaño del array.\n",
    "__object__ | `.pop()`⚠️ | Elimina el último elemento del array. Devuelve dicho elemento.\n",
    "__number__ | `.unshift(e1, e2, e3...)` ⚠️ | Añade uno o varios elementos al inicio del array. Devuelve el tamaño del array.\n",
    "__object__ | `.shift()` ⚠️ | Elimina el primer elemento del array. Devuelve dicho elemento."
   ]
  },
  {
   "cell_type": "markdown",
   "metadata": {},
   "source": [
    "> ⚠️ Recuerda que estos métodos sirven para modificar (mutar) el array original. 🍒"
   ]
  },
  {
   "cell_type": "markdown",
   "metadata": {},
   "source": [
    "## Alternativas para crear arrays"
   ]
  },
  {
   "cell_type": "markdown",
   "metadata": {},
   "source": []
  },
  {
   "cell_type": "markdown",
   "metadata": {},
   "source": [
    "# SEGUIR DESPUES "
   ]
  },
  {
   "cell_type": "markdown",
   "metadata": {},
   "source": [
    "# Array methods"
   ]
  },
  {
   "cell_type": "markdown",
   "metadata": {},
   "source": [
    "# Crear un `array`"
   ]
  },
  {
   "cell_type": "markdown",
   "metadata": {},
   "source": []
  },
  {
   "cell_type": "markdown",
   "metadata": {},
   "source": [
    "Un `array` es una colección o agrupación de elementos en una misma variable, cada uno de ellos ubicado por la posición que ocupa en el array. En algunas ocasiones también se les suelen llamar arreglos o vectores."
   ]
  },
  {
   "cell_type": "markdown",
   "metadata": {},
   "source": [
    "Tipo | Constructor\t| Descripción\n",
    "--- | --- | ---\n",
    "array | `new Array(size)` | Crea un `array` vacío de tamaño `size`. Sus valores no están definidos, pero son `undefined`\n",
    "array | `new Array(e1, e2...)` | Crea un `array` con los elementos indicados.\n",
    "array | `[e1, e2...]` | Simplemente, los elementos dentro de corchetes: `[]`. _Notación preferida_."
   ]
  },
  {
   "cell_type": "code",
   "execution_count": 5,
   "metadata": {
    "dotnet_interactive": {
     "language": "javascript"
    },
    "polyglot_notebook": {
     "kernelName": "javascript"
    },
    "vscode": {
     "languageId": "polyglot-notebook"
    }
   },
   "outputs": [],
   "source": [
    "let letters;\n",
    "\n",
    "// Forma tradicional (no se suele usar en Javascript)\n",
    "letters = new Array(\"a\", \"b\", \"c\");   // Array con 3 elementos\n",
    "letters = new Array(3);               // Array vacío de tamaño 3\n",
    "\n",
    "// Mediante literales (notación preferida)\n",
    "letters = [\"a\", \"b\", \"c\"];  // Array con 3 elementos\n",
    "letters = [];               // Array vacío (0 elementos)\n",
    "letters = [\"a\", 5, true];   // Array mixto (String, Number, Boolean)"
   ]
  },
  {
   "cell_type": "markdown",
   "metadata": {},
   "source": [
    "Al crear un array con `new Array(size)` hay varios matices que merece la pena mencionar. Lo primero, si sólo se indica un parámetro numérico `size`, Javascript creará un array vacío de `size` elementos. Es decir, no es lo mismo que `const a = [3]`, donde creamos un array con un elemento 3. Por otro lado, `new Array(size)` realmente crea un array vacío que aún no ha sido rellenado con nada (esto hace que sea más óptimo para arrays grandes) y aunque es equivalente, no es exactamente igual `new Array(3)` que `[undefined, undefined, undefined]`."
   ]
  },
  {
   "cell_type": "markdown",
   "metadata": {},
   "source": [
    "## Acceder a elementos de un array"
   ]
  },
  {
   "cell_type": "markdown",
   "metadata": {},
   "source": []
  },
  {
   "cell_type": "markdown",
   "metadata": {},
   "source": []
  }
 ],
 "metadata": {
  "language_info": {
   "name": "python"
  }
 },
 "nbformat": 4,
 "nbformat_minor": 2
}
