{
 "cells": [
  {
   "attachments": {},
   "cell_type": "markdown",
   "metadata": {},
   "source": [
    "# JAVA"
   ]
  },
  {
   "cell_type": "markdown",
   "metadata": {},
   "source": [
    "Java es una plataforma informática de lenguaje de programación creada por Sun Microsystems en 1995. Ha evolucionado desde sus humildes comienzos hasta impulsar una gran parte del mundo digital actual, ya que es una plataforma fiable en la que se crean muchos servicios y aplicaciones. Los nuevos e innovadores productos y servicios digitales diseñados para el futuro también siguen basándose en Java.\n",
    "https://www.java.com/es/download/help/whatis_java.html"
   ]
  },
  {
   "attachments": {},
   "cell_type": "markdown",
   "metadata": {},
   "source": [
    "## Requisitos previos"
   ]
  },
  {
   "attachments": {},
   "cell_type": "markdown",
   "metadata": {},
   "source": [
    "Para programar con Java necesitamos instalar lo siguiente:\n",
    "* El JDK (Java Development Kit). Tenemos que descargar la versión llamada Java SE, que es Java Standard Edition.\n",
    "* Un IDE de programación (Integrated Development Enviroment) por ejemplo Apache NetBeans."
   ]
  },
  {
   "attachments": {},
   "cell_type": "markdown",
   "metadata": {},
   "source": [
    "## Primer proyecto"
   ]
  },
  {
   "attachments": {},
   "cell_type": "markdown",
   "metadata": {},
   "source": [
    "En el IDE seleccionamos la opción `new project`. De momento vamos a trabajar con la opción `Java whit Ant` o su equivalente en el IDE que utilicemos. De esta opción vamos a seleccionar `Java Application`. Al crear el nuevo proyecto el IDE puede solicitar instalar algunas características extra, instalamos todo lo que nos solicite. Indicamos el nombre del proyecto y la ruta donde se van a guardar los archivos del mismo. De momento no vamos a crear la clase `main`. Una vez creado el proyecto, sobre la carpeta `Source Package` creamos una nueva clase, ingresamos su nombre con notación Pascal, es decir, de la forma `NombreClase`. El nombre del archivo que creamos tiene el nombre de la clase con la extensión `.java`. "
   ]
  },
  {
   "cell_type": "code",
   "execution_count": null,
   "metadata": {},
   "outputs": [],
   "source": [
    "/* Creamos la clase mediante las palabras reservadas public y class */\n",
    "public class HolaMundo {\n",
    "\n",
    "    /* declaramos el método main, que nos permite ejecutar el programa */\n",
    "    public static void main(String args[]) {\n",
    "\n",
    "        /* el método System.out.println(\"\") nos permite mandar un mensaje a la consola */\n",
    "        System.out.println(\"Hola mundo desde Java\");\n",
    "    }\n",
    "}"
   ]
  },
  {
   "attachments": {},
   "cell_type": "markdown",
   "metadata": {},
   "source": [
    "## Variables y datos"
   ]
  },
  {
   "attachments": {},
   "cell_type": "markdown",
   "metadata": {},
   "source": [
    "Una variable nos permite almacenar datos. Estos datos son los que procesamos en el programa para generar información. Los datos ingresados en la variable pueden cambiar según pasa el tiempo de ejecución del programa y el uso de la misma. Una variable tiene un identificador, que es el nombre de la variable, y un valor, que es el dato que contiene. Las variables pueden almacenar diferentes datos como número, texto, arreglos o referencias a objetos. Estos tipos de datos se agrupan en dos categorias, datos de `tipo primitivo`, y datos de `tipo referenciados (objetos y arreglos)`. Para definir una variable tenemos que especificar su tipo, por ejemplo `int` o `String`, luego viene su identificador, es decir, el nombre de la variables, a continuación escribimos el `=` y después de este indicamos que valor va a guardar esta variable.\n",
    "```\n",
    "int ejemplo = 5;\n",
    "```\n"
   ]
  },
  {
   "attachments": {},
   "cell_type": "markdown",
   "metadata": {},
   "source": [
    "### Datos de tipo primitivo"
   ]
  },
  {
   "attachments": {},
   "cell_type": "markdown",
   "metadata": {},
   "source": [
    "Declaramos variables con datos de tipo primitivo mediante las siguientes palabras reservadas:\n",
    "* `int`: para datos numéricos enteros, es decir, valores positivos, negativos o 0, que no tienen valores decimales. Por Ejemplo:\n",
    "    * `int a = 0;`\n",
    "    * `int b = -3;`"
   ]
  },
  {
   "cell_type": "code",
   "execution_count": 6,
   "metadata": {},
   "outputs": [
    {
     "name": "stdout",
     "output_type": "stream",
     "text": [
      "10\n",
      "15\n"
     ]
    }
   ],
   "source": [
    "/* int define el tipo de la variable, que es entero, variableEntero es el nonbre de la variable, con el = le asignamos el valor de la misma */\n",
    "int variableEntero = 10;\n",
    "System.out.println(variableEntero);\n",
    "\n",
    "/* asignamos un nuevo valor a la variable, que ya fue definida, por lo que no necesitamos volver a definirla con su tipo int */\n",
    "variableEntero = 15;\n",
    "System.out.println(variableEntero);"
   ]
  },
  {
   "attachments": {},
   "cell_type": "markdown",
   "metadata": {},
   "source": [
    "### Datos de tipo referenciado (cadenas de caracteres, arreglos y objetos)"
   ]
  },
  {
   "attachments": {},
   "cell_type": "markdown",
   "metadata": {},
   "source": [
    "Declaramos variables con datos de tipo referenciado mediante las siguientes palabras reservadas:\n",
    "* `String`: para datos de cadenas de caracteres o texto. La palabra reservada `String` comienza con mayúscula por que no se corresponde a un dato de tipo primitivo sino que `String` es una clase de Java. Ejemplo:\n",
    "    * `String texto = \"Cadena de caracteres\";`"
   ]
  },
  {
   "cell_type": "code",
   "execution_count": 7,
   "metadata": {},
   "outputs": [
    {
     "name": "stdout",
     "output_type": "stream",
     "text": [
      "Esto es una cadena de caracteres o texto\n"
     ]
    }
   ],
   "source": [
    "String cadenaCaracteres = \"Esto es una cadena de caracteres o texto\";\n",
    "System.out.println(cadenaCaracteres);"
   ]
  },
  {
   "attachments": {},
   "cell_type": "markdown",
   "metadata": {},
   "source": [
    "### Inferencia de tipos de datos"
   ]
  },
  {
   "attachments": {},
   "cell_type": "markdown",
   "metadata": {},
   "source": [
    "En el ejemplo `int variableEntero = 10` al valor `10,` que asignamos como dato a la variable, se lo conoce como literal. Los literales, así como las propias variables, tienen un tipo, en el caso del ejemplo el tipo del literal `10` tambien es `int`, igual que el tipo de la variable. En el caso de los literales que son cadenas de caracteres, su tipo es `String`. A partir de la versión 10 de Java ya no es necesario indicar el tipo de variable a la hora de declarar la misma, podemos hacer la declaración utilizando la palabra reservada `var`, Java va a inferir el tipo de datos que estamos utilizando a partir del tipo de su literal."
   ]
  },
  {
   "cell_type": "code",
   "execution_count": 8,
   "metadata": {},
   "outputs": [
    {
     "name": "stdout",
     "output_type": "stream",
     "text": [
      "10\n",
      "El valor de variableTexto: Cadena de texto\n"
     ]
    }
   ],
   "source": [
    "var variableEntero = 10;\n",
    "System.out.println(variableEntero);\n",
    "\n",
    "var variableTexto = \"Cadena de texto\";\n",
    "\n",
    "/* en esta salida estamos haciendo además una concatenación de cadenas, para esto utilizamos el operador + entre la frase \"El valor de variableTexto: \" y variableTexto, el operador + indica a Java que tiene que escribir el valor de variableTexto a continuación de la primera cadena */\n",
    "System.out.println(\"El valor de variableTexto: \" + variableTexto);"
   ]
  },
  {
   "cell_type": "code",
   "execution_count": 3,
   "metadata": {},
   "outputs": [
    {
     "name": "stdout",
     "output_type": "stream",
     "text": [
      "Esto es una cadena de caracteres o texto\n"
     ]
    }
   ],
   "source": [
    "String cadenaCaracteres = \"Esto es una cadena de caracteres o texto\";\n",
    "System.out.println(cadenaCaracteres);"
   ]
  },
  {
   "attachments": {},
   "cell_type": "markdown",
   "metadata": {},
   "source": [
    "### Reglas para definir el nombre de variables"
   ]
  },
  {
   "attachments": {},
   "cell_type": "markdown",
   "metadata": {},
   "source": [
    "A la hora de definir una variable, el nombre de la misma tiene que cumplir con ciertas reglas:\n",
    "* El nombre puede comenzar con un caracter alfabético. Por convención los nombres de las variables comienzan con letras minúsculas y, de ser un nombre compuesto, se escriben en el estilo camel case, es decir, de la forma `nombreVariable`.\n",
    "* El nombre no puede comenzar caracteres especiales como por ejemplo `# @ % &`, pero si puede tulizar guión bajo o el símbolo de dolar `_ $`.\n",
    "* El nombre no puede comenzar con números.\n",
    "* No se recomienda usar acentos en las letras o ñ en los nombres de las variables.\n",
    "* El nombre de la variable no puede coincidir con algunas de las palabras reservadas de JAVA."
   ]
  },
  {
   "attachments": {},
   "cell_type": "markdown",
   "metadata": {},
   "source": [
    "### Concatenación de cadenas"
   ]
  },
  {
   "attachments": {},
   "cell_type": "markdown",
   "metadata": {},
   "source": [
    "La concatenación de cadenas de caracteres se hace mediante el operador `+`. Si una sentencia cuenta con varias operaciones de suma, con variables o literales que son número o cadenas, de izquierda a derecha se realiza la suma aritmética, hasta encontrar la primera cadena, a partir se ahí se realiza una concatenación."
   ]
  },
  {
   "cell_type": "code",
   "execution_count": null,
   "metadata": {},
   "outputs": [],
   "source": [
    "var usuario = \"Juan\";\n",
    "var titulo = \"Ingeniero\";\n",
    "\n",
    "/* concatenamos el texto de la variable titulo con un espacio en blanco y luego con el texto de la variable usuario */\n",
    "var union = titulo + \" \" + usuario;\n",
    "\n",
    "/* concatenamos el texto 'union = 'con el contenido de la variable union */\n",
    "System.out.println(\"union = \" + union);\n",
    "\n",
    "var i = 3;\n",
    "var j = 4;\n",
    "\n",
    "/* se realiza la suma de números */\n",
    "System.out.println(i + j);\n",
    "\n",
    "/* la evaluación de las operaciones se realiza de izquierda a derecha, se realiza la suma primero y luego se concatena tomando el resultado de la suma como si fuera una cadena de caracteres */\n",
    "System.out.println(i + j + usuario);\n",
    "\n",
    "/* de izquierda a derecha, si el primer termino de la operación es una cadena todas las siguientes operaciones van a ser tratadas como concatenacón */\n",
    "System.out.println(usuario + i + j);\n",
    "\n",
    "/* el uso de los parentesis modifica la prioridad en la evaluacion, primera se realiza la suma y después se concatena el resultado con el texto de la variable usuario */\n",
    "System.out.println(usuario + (i + j));"
   ]
  },
  {
   "attachments": {},
   "cell_type": "markdown",
   "metadata": {},
   "source": [
    "### Caracteres especiales"
   ]
  },
  {
   "attachments": {},
   "cell_type": "markdown",
   "metadata": {},
   "source": [
    "Estos caracteres especiales se pueden usar para la información que se muestra en la consola. En general utilizamos el caracter de escape `\\` más alguna letra que le indica lo que tiene que imprimir."
   ]
  },
  {
   "cell_type": "code",
   "execution_count": null,
   "metadata": {},
   "outputs": [],
   "source": [
    "\n",
    "var nombre = \"Karla\";\n",
    "\n",
    "System.out.println(\"Nueva linea: \\n\" + nombre);\n",
    "System.out.println(\"Tabulador: \\t\" + nombre);\n",
    "\n",
    "/* vuelve dos espacios hacia atrás la impresión de la variable */\n",
    "System.out.println(\"Retroceso: \\b\\b\" + nombre);\n",
    "System.out.println(\"Comilla simple: \\'\" + nombre + \"\\'\");\n",
    "System.out.println(\" Comilla doble: \\\"\" + nombre + \"\\\"\");"
   ]
  },
  {
   "attachments": {},
   "cell_type": "markdown",
   "metadata": {},
   "source": [
    "### Clase Scanner"
   ]
  },
  {
   "attachments": {},
   "cell_type": "markdown",
   "metadata": {},
   "source": [
    "La clase Scanner nos permite leer información de la consola. Esta clase se encuentra definida en otro espacio de clases de JAVA por lo que, para poder utilizarla, tenemos que importarla primero con la palabra reservada `import`."
   ]
  },
  {
   "cell_type": "code",
   "execution_count": null,
   "metadata": {},
   "outputs": [],
   "source": [
    "/* importamos a nuestro proyecto la clase Scanner */\n",
    "import java.util.Scanner;\n",
    "\n",
    "System.out.println(\"Escribe tu nombre:\");\n",
    "\n",
    "/* creamos una variable de tipo Scanner llamada consola, a la que le asignamos la referencia a un nuevo objeto de tipo Scanner, al constructor de este objeto le pasamos por parámetro System.in con lo que indicamos que va a leer información de la consola */\n",
    "Scanner consola = new Scanner(System.in); \n",
    "\n",
    "/* mediante el método nextLine del objeto consola podemos leer la siguiente linea completa que se ingrese, que en este caso será lo que escribamos por teclado hasta antes de dar enter */\n",
    "var usuario = consola.nextLine();\n",
    "System.out.println(\"usuario = \" + usuario);\n",
    "\n",
    "System.out.println(\"Escribe el titulo:\");\n",
    "var titulo = consola.nextLine();\n",
    "\n",
    "System.out.println(\"Resultado: \" + titulo + \" \" + usuario);"
   ]
  }
 ],
 "metadata": {
  "kernelspec": {
   "display_name": "Java",
   "language": "java",
   "name": "java"
  },
  "language_info": {
   "codemirror_mode": "java",
   "file_extension": ".jshell",
   "mimetype": "text/x-java-source",
   "name": "java",
   "pygments_lexer": "java",
   "version": "18.0.2.1+1-1"
  },
  "orig_nbformat": 4,
  "vscode": {
   "interpreter": {
    "hash": "5238573367df39f7286bb46f9ff5f08f63a01a80960060ce41e3c79b190280fa"
   }
  }
 },
 "nbformat": 4,
 "nbformat_minor": 2
}
