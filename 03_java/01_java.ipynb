{
 "cells": [
  {
   "attachments": {},
   "cell_type": "markdown",
   "metadata": {},
   "source": [
    "# JAVA"
   ]
  },
  {
   "cell_type": "markdown",
   "metadata": {},
   "source": [
    "Java es una plataforma informática de lenguaje de programación creada por Sun Microsystems en 1995. Ha evolucionado desde sus humildes comienzos hasta impulsar una gran parte del mundo digital actual, ya que es una plataforma fiable en la que se crean muchos servicios y aplicaciones. Los nuevos e innovadores productos y servicios digitales diseñados para el futuro también siguen basándose en Java.\n",
    "https://www.java.com/es/download/help/whatis_java.html"
   ]
  },
  {
   "attachments": {},
   "cell_type": "markdown",
   "metadata": {},
   "source": [
    "## Requisitos previos"
   ]
  },
  {
   "attachments": {},
   "cell_type": "markdown",
   "metadata": {},
   "source": [
    "Para programar con Java necesitamos instalar lo siguiente:\n",
    "* El JDK (Java Development Kit). Tenemos que descargar la versión llamada Java SE, que es Java Standard Edition.\n",
    "* Un IDE de programación (Integrated Development Enviroment) por ejemplo Apache NetBeans."
   ]
  },
  {
   "attachments": {},
   "cell_type": "markdown",
   "metadata": {},
   "source": [
    "## Primer proyecto"
   ]
  },
  {
   "attachments": {},
   "cell_type": "markdown",
   "metadata": {},
   "source": [
    "En el IDE seleccionamos la opción `new proyect`. De momento vamos a trabajar con la opción `Java whit Ant` o su equivalente en el IDE que utilicemos. De esta opción vamos a seleccionar `Java Application`. Al crear el nuevo proyecto el IDE puede solicitar instalar algunas características extra, instalamos todo lo que nos solicite. Indicamos el nombre del proyecto y la ruta donde se van a guardar los archivos del mismo. De momento no vamos a crear la clase `main`. Una vez creado el proyecto, sobre la carpeta `Source Package` creamos una nueva clase, ingresamos su nombre con notación Pascal, es decir, de la forma `NombreClase`."
   ]
  },
  {
   "cell_type": "code",
   "execution_count": null,
   "metadata": {
    "vscode": {
     "languageId": "java"
    }
   },
   "outputs": [],
   "source": [
    "public class HolaMundo {\n",
    "\n",
    "}"
   ]
  }
 ],
 "metadata": {
  "kernelspec": {
   "display_name": "Java",
   "language": "java",
   "name": "java"
  },
  "language_info": {
   "codemirror_mode": "java",
   "file_extension": ".jshell",
   "mimetype": "text/x-java-source",
   "name": "Java",
   "pygments_lexer": "java",
   "version": "18.0.2.1+1-1"
  },
  "orig_nbformat": 4,
  "vscode": {
   "interpreter": {
    "hash": "5238573367df39f7286bb46f9ff5f08f63a01a80960060ce41e3c79b190280fa"
   }
  }
 },
 "nbformat": 4,
 "nbformat_minor": 2
}
