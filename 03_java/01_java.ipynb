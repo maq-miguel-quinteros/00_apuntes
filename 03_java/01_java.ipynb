{
 "cells": [
  {
   "attachments": {},
   "cell_type": "markdown",
   "metadata": {},
   "source": [
    "# JAVA"
   ]
  },
  {
   "cell_type": "markdown",
   "metadata": {},
   "source": [
    "Java es una plataforma informática de lenguaje de programación creada por Sun Microsystems en 1995. Ha evolucionado desde sus humildes comienzos hasta impulsar una gran parte del mundo digital actual, ya que es una plataforma fiable en la que se crean muchos servicios y aplicaciones. Los nuevos e innovadores productos y servicios digitales diseñados para el futuro también siguen basándose en Java.\n",
    "https://www.java.com/es/download/help/whatis_java.html"
   ]
  },
  {
   "attachments": {},
   "cell_type": "markdown",
   "metadata": {},
   "source": [
    "## Requisitos previos"
   ]
  },
  {
   "attachments": {},
   "cell_type": "markdown",
   "metadata": {},
   "source": [
    "Para programar con Java necesitamos instalar lo siguiente:\n",
    "* El JDK (Java Development Kit). Tenemos que descargar la versión llamada Java SE, que es Java Standard Edition.\n",
    "* Un IDE de programación (Integrated Development Enviroment) por ejemplo Apache NetBeans."
   ]
  },
  {
   "attachments": {},
   "cell_type": "markdown",
   "metadata": {},
   "source": [
    "## Primer proyecto"
   ]
  },
  {
   "attachments": {},
   "cell_type": "markdown",
   "metadata": {},
   "source": [
    "En el IDE seleccionamos la opción `new project`. De momento vamos a trabajar con la opción `Java whit Ant` o su equivalente en el IDE que utilicemos. De esta opción vamos a seleccionar `Java Application`. Al crear el nuevo proyecto el IDE puede solicitar instalar algunas características extra, instalamos todo lo que nos solicite. Indicamos el nombre del proyecto y la ruta donde se van a guardar los archivos del mismo. De momento no vamos a crear la clase `main`. Una vez creado el proyecto, sobre la carpeta `Source Package` creamos una nueva clase, ingresamos su nombre con notación Pascal, es decir, de la forma `NombreClase`. El nombre del archivo que creamos tiene el nombre de la clase con la extensión `.java`. "
   ]
  },
  {
   "cell_type": "code",
   "execution_count": null,
   "metadata": {},
   "outputs": [],
   "source": [
    "/* Creamos la clase mediante las palabras reservadas public y class */\n",
    "public class HolaMundo {\n",
    "\n",
    "    /* declaramos el método main, que nos permite ejecutar el programa */\n",
    "    public static void main(String args[]) {\n",
    "\n",
    "        /* el método System.out.println(\"\") nos permite mandar un mensaje a la consola */\n",
    "        System.out.println(\"Hola mundo desde Java\");\n",
    "    }\n",
    "}"
   ]
  },
  {
   "attachments": {},
   "cell_type": "markdown",
   "metadata": {},
   "source": [
    "## Variables y datos"
   ]
  },
  {
   "attachments": {},
   "cell_type": "markdown",
   "metadata": {},
   "source": [
    "Una variable nos permite almacenar datos. Estos datos son los que procesamos en el programa para generar información. Los datos ingresados en la variable pueden cambiar según pasa el tiempo de ejecución del programa y el uso de la misma. Una variable tiene un identificador, que es el nombre de la variable, y un valor, que es el dato que contiene. Las variables pueden almacenar diferentes datos como número, texto, arreglos o referencias a objetos. Estos tipos de datos se agrupan en dos categorias, datos de `tipo primitivo`, y datos de `tipo referenciados (objetos y arreglos)`. Para definir una variable tenemos que especificar su tipo, por ejemplo `int` o `String`, luego viene su identificador, es decir, el nombre de la variables, a continuación escribimos el `=` y después de este indicamos que valor va a guardar esta variable.\n",
    "```\n",
    "int ejemplo = 5;\n",
    "```\n"
   ]
  },
  {
   "attachments": {},
   "cell_type": "markdown",
   "metadata": {},
   "source": [
    "### Datos de tipo primitivo"
   ]
  },
  {
   "attachments": {},
   "cell_type": "markdown",
   "metadata": {},
   "source": [
    "Declaramos variables con datos de tipo primitivo mediante las siguientes palabras reservadas:\n",
    "* `int`: para datos numéricos enteros, es decir, valores positivos, negativos o 0, que no tienen valores decimales. Por Ejemplo:\n",
    "    * `int a = 0;`\n",
    "    * `int b = -3;`"
   ]
  },
  {
   "cell_type": "code",
   "execution_count": 6,
   "metadata": {},
   "outputs": [
    {
     "name": "stdout",
     "output_type": "stream",
     "text": [
      "10\n",
      "15\n"
     ]
    }
   ],
   "source": [
    "/* int define el tipo de la variable, que es entero, variableEntero es el nonbre de la variable, con el = le asignamos el valor de la misma */\n",
    "int variableEntero = 10;\n",
    "System.out.println(variableEntero);\n",
    "\n",
    "/* asignamos un nuevo valor a la variable, que ya fue definida, por lo que no necesitamos volver a definirla con su tipo int */\n",
    "variableEntero = 15;\n",
    "System.out.println(variableEntero);"
   ]
  },
  {
   "attachments": {},
   "cell_type": "markdown",
   "metadata": {},
   "source": [
    "### Datos de tipo referenciado (cadenas de caracteres, arreglos y objetos)"
   ]
  },
  {
   "attachments": {},
   "cell_type": "markdown",
   "metadata": {},
   "source": [
    "Declaramos variables con datos de tipo referenciado mediante las siguientes palabras reservadas:\n",
    "* `String`: para datos de cadenas de caracteres o texto. La palabra reservada `String` comienza con mayúscula por que no se corresponde a un dato de tipo primitivo sino que `String` es una clase de Java. Ejemplo:\n",
    "    * `String texto = \"Cadena de caracteres\";`"
   ]
  },
  {
   "cell_type": "code",
   "execution_count": 7,
   "metadata": {},
   "outputs": [
    {
     "name": "stdout",
     "output_type": "stream",
     "text": [
      "Esto es una cadena de caracteres o texto\n"
     ]
    }
   ],
   "source": [
    "String cadenaCaracteres = \"Esto es una cadena de caracteres o texto\";\n",
    "System.out.println(cadenaCaracteres);"
   ]
  },
  {
   "attachments": {},
   "cell_type": "markdown",
   "metadata": {},
   "source": [
    "### Inferencia de tipos de datos"
   ]
  },
  {
   "attachments": {},
   "cell_type": "markdown",
   "metadata": {},
   "source": [
    "En el ejemplo `int variableEntero = 10` al valor `10,` que asignamos como dato a la variable, se lo conoce como literal. Los literales, así como las propias variables, tienen un tipo, en el caso del ejemplo el tipo del literal `10` tambien es `int`, igual que el tipo de la variable. En el caso de los literales que son cadenas de caracteres, su tipo es `String`. A partir de la versión 10 de Java ya no es necesario indicar el tipo de variable a la hora de declarar la misma, podemos hacer la declaración utilizando la palabra reservada `var`, Java va a inferir el tipo de datos que estamos utilizando a partir del tipo de su literal."
   ]
  },
  {
   "cell_type": "code",
   "execution_count": 8,
   "metadata": {},
   "outputs": [
    {
     "name": "stdout",
     "output_type": "stream",
     "text": [
      "10\n",
      "El valor de variableTexto: Cadena de texto\n"
     ]
    }
   ],
   "source": [
    "var variableEntero = 10;\n",
    "System.out.println(variableEntero);\n",
    "\n",
    "var variableTexto = \"Cadena de texto\";\n",
    "\n",
    "/* en esta salida estamos haciendo además una concatenación de cadenas, para esto utilizamos el operador + entre la frase \"El valor de variableTexto: \" y variableTexto, el operador + indica a Java que tiene que escribir el valor de variableTexto a continuación de la primera cadena */\n",
    "System.out.println(\"El valor de variableTexto: \" + variableTexto);"
   ]
  },
  {
   "cell_type": "code",
   "execution_count": 3,
   "metadata": {},
   "outputs": [
    {
     "name": "stdout",
     "output_type": "stream",
     "text": [
      "Esto es una cadena de caracteres o texto\n"
     ]
    }
   ],
   "source": [
    "String cadenaCaracteres = \"Esto es una cadena de caracteres o texto\";\n",
    "System.out.println(cadenaCaracteres);"
   ]
  }
 ],
 "metadata": {
  "kernelspec": {
   "display_name": "Java",
   "language": "java",
   "name": "java"
  },
  "language_info": {
   "codemirror_mode": "java",
   "file_extension": ".jshell",
   "mimetype": "text/x-java-source",
   "name": "java",
   "pygments_lexer": "java",
   "version": "18.0.2.1+1-1"
  },
  "orig_nbformat": 4,
  "vscode": {
   "interpreter": {
    "hash": "5238573367df39f7286bb46f9ff5f08f63a01a80960060ce41e3c79b190280fa"
   }
  }
 },
 "nbformat": 4,
 "nbformat_minor": 2
}
