{
 "cells": [
  {
   "cell_type": "markdown",
   "metadata": {},
   "source": [
    "# Controllers test\n"
   ]
  },
  {
   "cell_type": "markdown",
   "metadata": {},
   "source": [
    "## BookController\n"
   ]
  },
  {
   "cell_type": "markdown",
   "metadata": {},
   "source": [
    "Probamos le método `readAll` del controlador `BookController` al que accedemos con el método `HTTP GET` desde la ruta `http://localhost:8080/api/books`. Es importante resaltar que el servidor tiene que estar iniciado. Si la respuesta no es la esperada, con el servidor iniciado, debemos revisar el método en el controlador.\n"
   ]
  },
  {
   "cell_type": "code",
   "execution_count": 17,
   "metadata": {
    "dotnet_interactive": {
     "language": "html"
    },
    "polyglot_notebook": {
     "kernelName": "html"
    },
    "tags": [],
    "vscode": {
     "languageId": "http"
    }
   },
   "outputs": [
    {
     "data": {
      "message/http": "{\n\t\"name\": \"200 - GET http://localhost:8080/api/books\",\n\t\"protocol\": \"HTTP/1.1\",\n\t\"statusCode\": 200,\n\t\"statusMessage\": \"OK\",\n\t\"httpVersion\": \"1.1\",\n\t\"headers\": {\n\t\t\"content-type\": \"application/json\",\n\t\t\"transfer-encoding\": \"chunked\",\n\t\t\"date\": \"Tue, 10 Oct 2023 23:06:44 GMT\",\n\t\t\"connection\": \"close\"\n\t},\n\t\"body\": \"[ {\\r\\n  \\\"id\\\" : 1,\\r\\n  \\\"isbn\\\" : \\\"9788466619523\\\",\\r\\n  \\\"title\\\" : \\\"A través del tiempo\\\",\\r\\n  \\\"date\\\" : \\\"2018-11-22\\\",\\r\\n  \\\"synopsis\\\" : \\\"El doctor Brian Weiss, analiza en este libro la capacidad de curación de la terapia de regresión a vidas pasadas.\\\",\\r\\n  \\\"pagesNumber\\\" : 240,\\r\\n  \\\"bookGenres\\\" : [ \\\"POLICE\\\", \\\"ADVENTURE\\\" ],\\r\\n  \\\"authors\\\" : [ {\\r\\n    \\\"id\\\" : 1,\\r\\n    \\\"author_name\\\" : \\\"Brian\\\",\\r\\n    \\\"author_lastName\\\" : \\\"Weiss\\\",\\r\\n    \\\"author_birthdate\\\" : \\\"1994-11-06\\\",\\r\\n    \\\"author_deathDate\\\" : null\\r\\n  } ]\\r\\n}, {\\r\\n  \\\"id\\\" : 2,\\r\\n  \\\"isbn\\\" : \\\"9789875505681\\\",\\r\\n  \\\"title\\\" : \\\"Los Miserables\\\",\\r\\n  \\\"date\\\" : \\\"2010-07-02\\\",\\r\\n  \\\"synopsis\\\" : \\\"Es la historia de Jean Valjean, un convicto que estuvo injustamente encarcelado por 19 años por haberse robado una rebanada de pan. Al ser liberado de su injusta condena, Valjean trata de escapar de su pasado, lleno de maldad y depravación, para vivir una vida digna y honesta. Sin embargo, esto se ve truncado al ser reconocido por el inspector Javert, quien lo persigue obsesionadamente para enviarlo de nuevo a prisión. Esta persecución consume la vida de ambos hombres, terminando en un inesperado desenlace.\\\",\\r\\n  \\\"pagesNumber\\\" : 1090,\\r\\n  \\\"bookGenres\\\" : [ \\\"POLICE\\\", \\\"ADVENTURE\\\" ],\\r\\n  \\\"authors\\\" : [ {\\r\\n    \\\"id\\\" : 2,\\r\\n    \\\"author_name\\\" : \\\"Victor\\\",\\r\\n    \\\"author_lastName\\\" : \\\"Hugo\\\",\\r\\n    \\\"author_birthdate\\\" : \\\"1802-02-25\\\",\\r\\n    \\\"author_deathDate\\\" : \\\"1885-05-21\\\"\\r\\n  } ]\\r\\n}, {\\r\\n  \\\"id\\\" : 3,\\r\\n  \\\"isbn\\\" : \\\"9788416788712\\\",\\r\\n  \\\"title\\\" : \\\"La Bolsa o la Vida\\\",\\r\\n  \\\"date\\\" : \\\"1992-09-01\\\",\\r\\n  \\\"synopsis\\\" : \\\"El libro definitivo para dejar de ser esclavo del dinero y mejorar tu vida. Hazte las siguientes preguntas: ¿Tienes bastante dinero? ¿Pasas suficiente tiempo con tu familia y amigos? ¿Vuelves a casa del trabajo lleno de energía? ¿Tienes una vida completa y estás satisfecho? Si has respondido que no a alguna de estas preguntas, este libro es para ti. Vicki Robin ofrece en La bolsa o la vida un programa de nueve pasos con el que descubrirás el valor real de tu tiempo, transformarás tu relación con el dinero, aprenderás a simplificar y a vivir bien gastando menos y, además, recuperarás el control de tu vida. «Este libro te cambiará la vida.» OPRAH WINFREY\\\",\\r\\n  \\\"pagesNumber\\\" : 360,\\r\\n  \\\"bookGenres\\\" : [ \\\"POLICE\\\", \\\"ADVENTURE\\\" ],\\r\\n  \\\"authors\\\" : [ {\\r\\n    \\\"id\\\" : 3,\\r\\n    \\\"author_name\\\" : \\\"Vicki\\\",\\r\\n    \\\"author_lastName\\\" : \\\"Robin\\\",\\r\\n    \\\"author_birthdate\\\" : \\\"1945-07-06\\\",\\r\\n    \\\"author_deathDate\\\" : null\\r\\n  }, {\\r\\n    \\\"id\\\" : 4,\\r\\n    \\\"author_name\\\" : \\\"Joe\\\",\\r\\n    \\\"author_lastName\\\" : \\\"Domínguez\\\",\\r\\n    \\\"author_birthdate\\\" : \\\"1938-02-02\\\",\\r\\n    \\\"author_deathDate\\\" : \\\"1997-01-11\\\"\\r\\n  } ]\\r\\n}, {\\r\\n  \\\"id\\\" : 4,\\r\\n  \\\"isbn\\\" : \\\"9788466619523\\\",\\r\\n  \\\"title\\\" : \\\"A través del tiempo\\\",\\r\\n  \\\"date\\\" : \\\"2018-11-22\\\",\\r\\n  \\\"synopsis\\\" : \\\"El doctor Brian Weiss, analiza en este libro la capacidad de curación de la terapia de regresión a vidas pasadas.\\\",\\r\\n  \\\"pagesNumber\\\" : 240,\\r\\n  \\\"bookGenres\\\" : [ \\\"POLICE\\\", \\\"ADVENTURE\\\" ],\\r\\n  \\\"authors\\\" : [ ]\\r\\n}, {\\r\\n  \\\"id\\\" : 5,\\r\\n  \\\"isbn\\\" : \\\"9788466619523\\\",\\r\\n  \\\"title\\\" : \\\"A través del tiempo\\\",\\r\\n  \\\"date\\\" : \\\"2018-11-22\\\",\\r\\n  \\\"synopsis\\\" : \\\"El doctor Brian Weiss, analiza en este libro la capacidad de curación de la terapia de regresión a vidas pasadas.\\\",\\r\\n  \\\"pagesNumber\\\" : 240,\\r\\n  \\\"bookGenres\\\" : [ \\\"POLICE\\\", \\\"ADVENTURE\\\" ],\\r\\n  \\\"authors\\\" : [ ]\\r\\n}, {\\r\\n  \\\"id\\\" : 6,\\r\\n  \\\"isbn\\\" : \\\"9788466619523\\\",\\r\\n  \\\"title\\\" : \\\"A través del tiempo\\\",\\r\\n  \\\"date\\\" : \\\"2018-11-22\\\",\\r\\n  \\\"synopsis\\\" : \\\"El doctor Brian Weiss, analiza en este libro la capacidad de curación de la terapia de regresión a vidas pasadas.\\\",\\r\\n  \\\"pagesNumber\\\" : 240,\\r\\n  \\\"bookGenres\\\" : [ \\\"POLICE\\\", \\\"ADVENTURE\\\" ],\\r\\n  \\\"authors\\\" : [ ]\\r\\n}, {\\r\\n  \\\"id\\\" : 7,\\r\\n  \\\"isbn\\\" : \\\"9788466619523\\\",\\r\\n  \\\"title\\\" : \\\"A través del tiempo\\\",\\r\\n  \\\"date\\\" : \\\"2018-11-22\\\",\\r\\n  \\\"synopsis\\\" : \\\"El doctor Brian Weiss, analiza en este libro la capacidad de curación de la terapia de regresión a vidas pasadas.\\\",\\r\\n  \\\"pagesNumber\\\" : 240,\\r\\n  \\\"bookGenres\\\" : [ \\\"POLICE\\\", \\\"ADVENTURE\\\" ],\\r\\n  \\\"authors\\\" : [ ]\\r\\n} ]\",\n\t\"rawHeaders\": [\n\t\t\"Content-Type\",\n\t\t\"application/json\",\n\t\t\"Transfer-Encoding\",\n\t\t\"chunked\",\n\t\t\"Date\",\n\t\t\"Tue, 10 Oct 2023 23:06:44 GMT\",\n\t\t\"Connection\",\n\t\t\"close\"\n\t],\n\t\"prettyPrintBody\": \"[\\n  {\\n    \\\"id\\\": 1,\\n    \\\"isbn\\\": \\\"9788466619523\\\",\\n    \\\"title\\\": \\\"A través del tiempo\\\",\\n    \\\"date\\\": \\\"2018-11-22\\\",\\n    \\\"synopsis\\\": \\\"El doctor Brian Weiss, analiza en este libro la capacidad de curación de la terapia de regresión a vidas pasadas.\\\",\\n    \\\"pagesNumber\\\": 240,\\n    \\\"bookGenres\\\": [\\n      \\\"POLICE\\\",\\n      \\\"ADVENTURE\\\"\\n    ],\\n    \\\"authors\\\": [\\n      {\\n        \\\"id\\\": 1,\\n        \\\"author_name\\\": \\\"Brian\\\",\\n        \\\"author_lastName\\\": \\\"Weiss\\\",\\n        \\\"author_birthdate\\\": \\\"1994-11-06\\\",\\n        \\\"author_deathDate\\\": null\\n      }\\n    ]\\n  },\\n  {\\n    \\\"id\\\": 2,\\n    \\\"isbn\\\": \\\"9789875505681\\\",\\n    \\\"title\\\": \\\"Los Miserables\\\",\\n    \\\"date\\\": \\\"2010-07-02\\\",\\n    \\\"synopsis\\\": \\\"Es la historia de Jean Valjean, un convicto que estuvo injustamente encarcelado por 19 años por haberse robado una rebanada de pan. Al ser liberado de su injusta condena, Valjean trata de escapar de su pasado, lleno de maldad y depravación, para vivir una vida digna y honesta. Sin embargo, esto se ve truncado al ser reconocido por el inspector Javert, quien lo persigue obsesionadamente para enviarlo de nuevo a prisión. Esta persecución consume la vida de ambos hombres, terminando en un inesperado desenlace.\\\",\\n    \\\"pagesNumber\\\": 1090,\\n    \\\"bookGenres\\\": [\\n      \\\"POLICE\\\",\\n      \\\"ADVENTURE\\\"\\n    ],\\n    \\\"authors\\\": [\\n      {\\n        \\\"id\\\": 2,\\n        \\\"author_name\\\": \\\"Victor\\\",\\n        \\\"author_lastName\\\": \\\"Hugo\\\",\\n        \\\"author_birthdate\\\": \\\"1802-02-25\\\",\\n        \\\"author_deathDate\\\": \\\"1885-05-21\\\"\\n      }\\n    ]\\n  },\\n  {\\n    \\\"id\\\": 3,\\n    \\\"isbn\\\": \\\"9788416788712\\\",\\n    \\\"title\\\": \\\"La Bolsa o la Vida\\\",\\n    \\\"date\\\": \\\"1992-09-01\\\",\\n    \\\"synopsis\\\": \\\"El libro definitivo para dejar de ser esclavo del dinero y mejorar tu vida. Hazte las siguientes preguntas: ¿Tienes bastante dinero? ¿Pasas suficiente tiempo con tu familia y amigos? ¿Vuelves a casa del trabajo lleno de energía? ¿Tienes una vida completa y estás satisfecho? Si has respondido que no a alguna de estas preguntas, este libro es para ti. Vicki Robin ofrece en La bolsa o la vida un programa de nueve pasos con el que descubrirás el valor real de tu tiempo, transformarás tu relación con el dinero, aprenderás a simplificar y a vivir bien gastando menos y, además, recuperarás el control de tu vida. «Este libro te cambiará la vida.» OPRAH WINFREY\\\",\\n    \\\"pagesNumber\\\": 360,\\n    \\\"bookGenres\\\": [\\n      \\\"POLICE\\\",\\n      \\\"ADVENTURE\\\"\\n    ],\\n    \\\"authors\\\": [\\n      {\\n        \\\"id\\\": 3,\\n        \\\"author_name\\\": \\\"Vicki\\\",\\n        \\\"author_lastName\\\": \\\"Robin\\\",\\n        \\\"author_birthdate\\\": \\\"1945-07-06\\\",\\n        \\\"author_deathDate\\\": null\\n      },\\n      {\\n        \\\"id\\\": 4,\\n        \\\"author_name\\\": \\\"Joe\\\",\\n        \\\"author_lastName\\\": \\\"Domínguez\\\",\\n        \\\"author_birthdate\\\": \\\"1938-02-02\\\",\\n        \\\"author_deathDate\\\": \\\"1997-01-11\\\"\\n      }\\n    ]\\n  },\\n  {\\n    \\\"id\\\": 4,\\n    \\\"isbn\\\": \\\"9788466619523\\\",\\n    \\\"title\\\": \\\"A través del tiempo\\\",\\n    \\\"date\\\": \\\"2018-11-22\\\",\\n    \\\"synopsis\\\": \\\"El doctor Brian Weiss, analiza en este libro la capacidad de curación de la terapia de regresión a vidas pasadas.\\\",\\n    \\\"pagesNumber\\\": 240,\\n    \\\"bookGenres\\\": [\\n      \\\"POLICE\\\",\\n      \\\"ADVENTURE\\\"\\n    ],\\n    \\\"authors\\\": []\\n  },\\n  {\\n    \\\"id\\\": 5,\\n    \\\"isbn\\\": \\\"9788466619523\\\",\\n    \\\"title\\\": \\\"A través del tiempo\\\",\\n    \\\"date\\\": \\\"2018-11-22\\\",\\n    \\\"synopsis\\\": \\\"El doctor Brian Weiss, analiza en este libro la capacidad de curación de la terapia de regresión a vidas pasadas.\\\",\\n    \\\"pagesNumber\\\": 240,\\n    \\\"bookGenres\\\": [\\n      \\\"POLICE\\\",\\n      \\\"ADVENTURE\\\"\\n    ],\\n    \\\"authors\\\": []\\n  },\\n  {\\n    \\\"id\\\": 6,\\n    \\\"isbn\\\": \\\"9788466619523\\\",\\n    \\\"title\\\": \\\"A través del tiempo\\\",\\n    \\\"date\\\": \\\"2018-11-22\\\",\\n    \\\"synopsis\\\": \\\"El doctor Brian Weiss, analiza en este libro la capacidad de curación de la terapia de regresión a vidas pasadas.\\\",\\n    \\\"pagesNumber\\\": 240,\\n    \\\"bookGenres\\\": [\\n      \\\"POLICE\\\",\\n      \\\"ADVENTURE\\\"\\n    ],\\n    \\\"authors\\\": []\\n  },\\n  {\\n    \\\"id\\\": 7,\\n    \\\"isbn\\\": \\\"9788466619523\\\",\\n    \\\"title\\\": \\\"A través del tiempo\\\",\\n    \\\"date\\\": \\\"2018-11-22\\\",\\n    \\\"synopsis\\\": \\\"El doctor Brian Weiss, analiza en este libro la capacidad de curación de la terapia de regresión a vidas pasadas.\\\",\\n    \\\"pagesNumber\\\": 240,\\n    \\\"bookGenres\\\": [\\n      \\\"POLICE\\\",\\n      \\\"ADVENTURE\\\"\\n    ],\\n    \\\"authors\\\": []\\n  }\\n]\",\n\t\"contentType\": {\n\t\t\"mimeType\": \"application/json\",\n\t\t\"contentType\": \"application/json\"\n\t},\n\t\"timings\": {\n\t\t\"wait\": 1,\n\t\t\"dns\": 0,\n\t\t\"tcp\": 0,\n\t\t\"request\": 0,\n\t\t\"firstByte\": 8,\n\t\t\"download\": 1,\n\t\t\"total\": 10\n\t},\n\t\"meta\": {\n\t\t\"ip\": \"127.0.0.1\",\n\t\t\"redirectUrls\": [],\n\t\t\"size\": \"4.04 kB\"\n\t},\n\t\"tags\": [\n\t\t\"httpRegion\",\n\t\t\"mainResponse\"\n\t],\n\t\"request\": {\n\t\t\"url\": \"http://localhost:8080/api/books\",\n\t\t\"method\": \"GET\",\n\t\t\"headers\": {\n\t\t\t\"user-agent\": \"httpyac\",\n\t\t\t\"accept\": \"*/*\",\n\t\t\t\"accept-encoding\": \"gzip, deflate, br\"\n\t\t}\n\t}\n}",
      "text/x-json": [
       "[\n",
       "\t{\n",
       "\t\t\"id\": 1,\n",
       "\t\t\"isbn\": \"9788466619523\",\n",
       "\t\t\"title\": \"A través del tiempo\",\n",
       "\t\t\"date\": \"2018-11-22\",\n",
       "\t\t\"synopsis\": \"El doctor Brian Weiss, analiza en este libro la capacidad de curación de la terapia de regresión a vidas pasadas.\",\n",
       "\t\t\"pagesNumber\": 240,\n",
       "\t\t\"bookGenres\": [\n",
       "\t\t\t\"POLICE\",\n",
       "\t\t\t\"ADVENTURE\"\n",
       "\t\t],\n",
       "\t\t\"authors\": [\n",
       "\t\t\t{\n",
       "\t\t\t\t\"id\": 1,\n",
       "\t\t\t\t\"author_name\": \"Brian\",\n",
       "\t\t\t\t\"author_lastName\": \"Weiss\",\n",
       "\t\t\t\t\"author_birthdate\": \"1994-11-06\",\n",
       "\t\t\t\t\"author_deathDate\": null\n",
       "\t\t\t}\n",
       "\t\t]\n",
       "\t},\n",
       "\t{\n",
       "\t\t\"id\": 2,\n",
       "\t\t\"isbn\": \"9789875505681\",\n",
       "\t\t\"title\": \"Los Miserables\",\n",
       "\t\t\"date\": \"2010-07-02\",\n",
       "\t\t\"synopsis\": \"Es la historia de Jean Valjean, un convicto que estuvo injustamente encarcelado por 19 años por haberse robado una rebanada de pan. Al ser liberado de su injusta condena, Valjean trata de escapar de su pasado, lleno de maldad y depravación, para vivir una vida digna y honesta. Sin embargo, esto se ve truncado al ser reconocido por el inspector Javert, quien lo persigue obsesionadamente para enviarlo de nuevo a prisión. Esta persecución consume la vida de ambos hombres, terminando en un inesperado desenlace.\",\n",
       "\t\t\"pagesNumber\": 1090,\n",
       "\t\t\"bookGenres\": [\n",
       "\t\t\t\"POLICE\",\n",
       "\t\t\t\"ADVENTURE\"\n",
       "\t\t],\n",
       "\t\t\"authors\": [\n",
       "\t\t\t{\n",
       "\t\t\t\t\"id\": 2,\n",
       "\t\t\t\t\"author_name\": \"Victor\",\n",
       "\t\t\t\t\"author_lastName\": \"Hugo\",\n",
       "\t\t\t\t\"author_birthdate\": \"1802-02-25\",\n",
       "\t\t\t\t\"author_deathDate\": \"1885-05-21\"\n",
       "\t\t\t}\n",
       "\t\t]\n",
       "\t},\n",
       "\t{\n",
       "\t\t\"id\": 3,\n",
       "\t\t\"isbn\": \"9788416788712\",\n",
       "\t\t\"title\": \"La Bolsa o la Vida\",\n",
       "\t\t\"date\": \"1992-09-01\",\n",
       "\t\t\"synopsis\": \"El libro definitivo para dejar de ser esclavo del dinero y mejorar tu vida. Hazte las siguientes preguntas: ¿Tienes bastante dinero? ¿Pasas suficiente tiempo con tu familia y amigos? ¿Vuelves a casa del trabajo lleno de energía? ¿Tienes una vida completa y estás satisfecho? Si has respondido que no a alguna de estas preguntas, este libro es para ti. Vicki Robin ofrece en La bolsa o la vida un programa de nueve pasos con el que descubrirás el valor real de tu tiempo, transformarás tu relación con el dinero, aprenderás a simplificar y a vivir bien gastando menos y, además, recuperarás el control de tu vida. «Este libro te cambiará la vida.» OPRAH WINFREY\",\n",
       "\t\t\"pagesNumber\": 360,\n",
       "\t\t\"bookGenres\": [\n",
       "\t\t\t\"POLICE\",\n",
       "\t\t\t\"ADVENTURE\"\n",
       "\t\t],\n",
       "\t\t\"authors\": [\n",
       "\t\t\t{\n",
       "\t\t\t\t\"id\": 3,\n",
       "\t\t\t\t\"author_name\": \"Vicki\",\n",
       "\t\t\t\t\"author_lastName\": \"Robin\",\n",
       "\t\t\t\t\"author_birthdate\": \"1945-07-06\",\n",
       "\t\t\t\t\"author_deathDate\": null\n",
       "\t\t\t},\n",
       "\t\t\t{\n",
       "\t\t\t\t\"id\": 4,\n",
       "\t\t\t\t\"author_name\": \"Joe\",\n",
       "\t\t\t\t\"author_lastName\": \"Domínguez\",\n",
       "\t\t\t\t\"author_birthdate\": \"1938-02-02\",\n",
       "\t\t\t\t\"author_deathDate\": \"1997-01-11\"\n",
       "\t\t\t}\n",
       "\t\t]\n",
       "\t},\n",
       "\t{\n",
       "\t\t\"id\": 4,\n",
       "\t\t\"isbn\": \"9788466619523\",\n",
       "\t\t\"title\": \"A través del tiempo\",\n",
       "\t\t\"date\": \"2018-11-22\",\n",
       "\t\t\"synopsis\": \"El doctor Brian Weiss, analiza en este libro la capacidad de curación de la terapia de regresión a vidas pasadas.\",\n",
       "\t\t\"pagesNumber\": 240,\n",
       "\t\t\"bookGenres\": [\n",
       "\t\t\t\"POLICE\",\n",
       "\t\t\t\"ADVENTURE\"\n",
       "\t\t],\n",
       "\t\t\"authors\": []\n",
       "\t},\n",
       "\t{\n",
       "\t\t\"id\": 5,\n",
       "\t\t\"isbn\": \"9788466619523\",\n",
       "\t\t\"title\": \"A través del tiempo\",\n",
       "\t\t\"date\": \"2018-11-22\",\n",
       "\t\t\"synopsis\": \"El doctor Brian Weiss, analiza en este libro la capacidad de curación de la terapia de regresión a vidas pasadas.\",\n",
       "\t\t\"pagesNumber\": 240,\n",
       "\t\t\"bookGenres\": [\n",
       "\t\t\t\"POLICE\",\n",
       "\t\t\t\"ADVENTURE\"\n",
       "\t\t],\n",
       "\t\t\"authors\": []\n",
       "\t},\n",
       "\t{\n",
       "\t\t\"id\": 6,\n",
       "\t\t\"isbn\": \"9788466619523\",\n",
       "\t\t\"title\": \"A través del tiempo\",\n",
       "\t\t\"date\": \"2018-11-22\",\n",
       "\t\t\"synopsis\": \"El doctor Brian Weiss, analiza en este libro la capacidad de curación de la terapia de regresión a vidas pasadas.\",\n",
       "\t\t\"pagesNumber\": 240,\n",
       "\t\t\"bookGenres\": [\n",
       "\t\t\t\"POLICE\",\n",
       "\t\t\t\"ADVENTURE\"\n",
       "\t\t],\n",
       "\t\t\"authors\": []\n",
       "\t},\n",
       "\t{\n",
       "\t\t\"id\": 7,\n",
       "\t\t\"isbn\": \"9788466619523\",\n",
       "\t\t\"title\": \"A través del tiempo\",\n",
       "\t\t\"date\": \"2018-11-22\",\n",
       "\t\t\"synopsis\": \"El doctor Brian Weiss, analiza en este libro la capacidad de curación de la terapia de regresión a vidas pasadas.\",\n",
       "\t\t\"pagesNumber\": 240,\n",
       "\t\t\"bookGenres\": [\n",
       "\t\t\t\"POLICE\",\n",
       "\t\t\t\"ADVENTURE\"\n",
       "\t\t],\n",
       "\t\t\"authors\": []\n",
       "\t}\n",
       "]"
      ]
     },
     "metadata": {},
     "output_type": "display_data"
    }
   ],
   "source": [
    "GET http://localhost:8080/api/books"
   ]
  },
  {
   "cell_type": "code",
   "execution_count": 5,
   "metadata": {
    "vscode": {
     "languageId": "http"
    }
   },
   "outputs": [
    {
     "data": {
      "message/http": "{\n\t\"name\": \"200 - GET http://localhost:8080/api/books/3\",\n\t\"protocol\": \"HTTP/1.1\",\n\t\"statusCode\": 200,\n\t\"statusMessage\": \"OK\",\n\t\"httpVersion\": \"1.1\",\n\t\"headers\": {\n\t\t\"content-type\": \"application/json\",\n\t\t\"transfer-encoding\": \"chunked\",\n\t\t\"date\": \"Tue, 10 Oct 2023 02:00:41 GMT\",\n\t\t\"connection\": \"close\"\n\t},\n\t\"body\": \"{\\r\\n  \\\"id\\\" : 3,\\r\\n  \\\"isbn\\\" : \\\"9788416788712\\\",\\r\\n  \\\"title\\\" : \\\"La Bolsa o la Vida\\\",\\r\\n  \\\"date\\\" : \\\"1992-09-01\\\",\\r\\n  \\\"synopsis\\\" : \\\"El libro definitivo para dejar de ser esclavo del dinero y mejorar tu vida. Hazte las siguientes preguntas: ¿Tienes bastante dinero? ¿Pasas suficiente tiempo con tu familia y amigos? ¿Vuelves a casa del trabajo lleno de energía? ¿Tienes una vida completa y estás satisfecho? Si has respondido que no a alguna de estas preguntas, este libro es para ti. Vicki Robin ofrece en La bolsa o la vida un programa de nueve pasos con el que descubrirás el valor real de tu tiempo, transformarás tu relación con el dinero, aprenderás a simplificar y a vivir bien gastando menos y, además, recuperarás el control de tu vida. «Este libro te cambiará la vida.» OPRAH WINFREY\\\",\\r\\n  \\\"pagesNumber\\\" : 360,\\r\\n  \\\"bookGenres\\\" : [ \\\"POLICE\\\", \\\"ADVENTURE\\\" ],\\r\\n  \\\"authors\\\" : [ {\\r\\n    \\\"id\\\" : 3,\\r\\n    \\\"author_name\\\" : \\\"Vicki\\\",\\r\\n    \\\"author_lastName\\\" : \\\"Robin\\\",\\r\\n    \\\"author_birthdate\\\" : \\\"1945-07-06\\\",\\r\\n    \\\"author_deathDate\\\" : null\\r\\n  }, {\\r\\n    \\\"id\\\" : 4,\\r\\n    \\\"author_name\\\" : \\\"Joe\\\",\\r\\n    \\\"author_lastName\\\" : \\\"Domínguez\\\",\\r\\n    \\\"author_birthdate\\\" : \\\"1938-02-02\\\",\\r\\n    \\\"author_deathDate\\\" : \\\"1997-01-11\\\"\\r\\n  } ]\\r\\n}\",\n\t\"rawHeaders\": [\n\t\t\"Content-Type\",\n\t\t\"application/json\",\n\t\t\"Transfer-Encoding\",\n\t\t\"chunked\",\n\t\t\"Date\",\n\t\t\"Tue, 10 Oct 2023 02:00:41 GMT\",\n\t\t\"Connection\",\n\t\t\"close\"\n\t],\n\t\"prettyPrintBody\": \"{\\n  \\\"id\\\": 3,\\n  \\\"isbn\\\": \\\"9788416788712\\\",\\n  \\\"title\\\": \\\"La Bolsa o la Vida\\\",\\n  \\\"date\\\": \\\"1992-09-01\\\",\\n  \\\"synopsis\\\": \\\"El libro definitivo para dejar de ser esclavo del dinero y mejorar tu vida. Hazte las siguientes preguntas: ¿Tienes bastante dinero? ¿Pasas suficiente tiempo con tu familia y amigos? ¿Vuelves a casa del trabajo lleno de energía? ¿Tienes una vida completa y estás satisfecho? Si has respondido que no a alguna de estas preguntas, este libro es para ti. Vicki Robin ofrece en La bolsa o la vida un programa de nueve pasos con el que descubrirás el valor real de tu tiempo, transformarás tu relación con el dinero, aprenderás a simplificar y a vivir bien gastando menos y, además, recuperarás el control de tu vida. «Este libro te cambiará la vida.» OPRAH WINFREY\\\",\\n  \\\"pagesNumber\\\": 360,\\n  \\\"bookGenres\\\": [\\n    \\\"POLICE\\\",\\n    \\\"ADVENTURE\\\"\\n  ],\\n  \\\"authors\\\": [\\n    {\\n      \\\"id\\\": 3,\\n      \\\"author_name\\\": \\\"Vicki\\\",\\n      \\\"author_lastName\\\": \\\"Robin\\\",\\n      \\\"author_birthdate\\\": \\\"1945-07-06\\\",\\n      \\\"author_deathDate\\\": null\\n    },\\n    {\\n      \\\"id\\\": 4,\\n      \\\"author_name\\\": \\\"Joe\\\",\\n      \\\"author_lastName\\\": \\\"Domínguez\\\",\\n      \\\"author_birthdate\\\": \\\"1938-02-02\\\",\\n      \\\"author_deathDate\\\": \\\"1997-01-11\\\"\\n    }\\n  ]\\n}\",\n\t\"contentType\": {\n\t\t\"mimeType\": \"application/json\",\n\t\t\"contentType\": \"application/json\"\n\t},\n\t\"timings\": {\n\t\t\"wait\": 0,\n\t\t\"dns\": 0,\n\t\t\"tcp\": 1,\n\t\t\"request\": 0,\n\t\t\"firstByte\": 12,\n\t\t\"download\": 0,\n\t\t\"total\": 13\n\t},\n\t\"meta\": {\n\t\t\"ip\": \"127.0.0.1\",\n\t\t\"redirectUrls\": [],\n\t\t\"size\": \"1.32 kB\"\n\t},\n\t\"tags\": [\n\t\t\"httpRegion\",\n\t\t\"mainResponse\"\n\t],\n\t\"request\": {\n\t\t\"url\": \"http://localhost:8080/api/books/3\",\n\t\t\"method\": \"GET\",\n\t\t\"headers\": {\n\t\t\t\"user-agent\": \"httpyac\",\n\t\t\t\"accept\": \"*/*\",\n\t\t\t\"accept-encoding\": \"gzip, deflate, br\"\n\t\t}\n\t}\n}",
      "text/x-json": [
       "{\n",
       "\t\"id\": 3,\n",
       "\t\"isbn\": \"9788416788712\",\n",
       "\t\"title\": \"La Bolsa o la Vida\",\n",
       "\t\"date\": \"1992-09-01\",\n",
       "\t\"synopsis\": \"El libro definitivo para dejar de ser esclavo del dinero y mejorar tu vida. Hazte las siguientes preguntas: ¿Tienes bastante dinero? ¿Pasas suficiente tiempo con tu familia y amigos? ¿Vuelves a casa del trabajo lleno de energía? ¿Tienes una vida completa y estás satisfecho? Si has respondido que no a alguna de estas preguntas, este libro es para ti. Vicki Robin ofrece en La bolsa o la vida un programa de nueve pasos con el que descubrirás el valor real de tu tiempo, transformarás tu relación con el dinero, aprenderás a simplificar y a vivir bien gastando menos y, además, recuperarás el control de tu vida. «Este libro te cambiará la vida.» OPRAH WINFREY\",\n",
       "\t\"pagesNumber\": 360,\n",
       "\t\"bookGenres\": [\n",
       "\t\t\"POLICE\",\n",
       "\t\t\"ADVENTURE\"\n",
       "\t],\n",
       "\t\"authors\": [\n",
       "\t\t{\n",
       "\t\t\t\"id\": 3,\n",
       "\t\t\t\"author_name\": \"Vicki\",\n",
       "\t\t\t\"author_lastName\": \"Robin\",\n",
       "\t\t\t\"author_birthdate\": \"1945-07-06\",\n",
       "\t\t\t\"author_deathDate\": null\n",
       "\t\t},\n",
       "\t\t{\n",
       "\t\t\t\"id\": 4,\n",
       "\t\t\t\"author_name\": \"Joe\",\n",
       "\t\t\t\"author_lastName\": \"Domínguez\",\n",
       "\t\t\t\"author_birthdate\": \"1938-02-02\",\n",
       "\t\t\t\"author_deathDate\": \"1997-01-11\"\n",
       "\t\t}\n",
       "\t]\n",
       "}"
      ]
     },
     "metadata": {},
     "output_type": "display_data"
    }
   ],
   "source": [
    "GET http://localhost:8080/api/books/3"
   ]
  },
  {
   "cell_type": "code",
   "execution_count": 3,
   "metadata": {
    "vscode": {
     "languageId": "http"
    }
   },
   "outputs": [
    {
     "data": {
      "message/http": "{\n\t\"name\": \"201 - POST http://localhost:8080/api/books/?isbn=9789506446949&title=Holly&date=2023-09-01&synopsis=Holly Gibney; uno de los personajes más cautivadores e ingeniosos de Stephen King; regresa en esta trepidante novela para descubrir la verdad que se esconde tras múltiples desapariciones en una ciudad del Medio Oeste. Cuando Penny Dahl contacta con Finders Keepers para que la ayuden a encontrar a su hija; algo en la voz desesperada de la mujer hace que Holly Gibney se vea obligada a aceptar el trabajo. A poca distancia del lugar en el que Bonnie Dahl desapareció; viven los profesores Rodney y Emily Harris. Son la quintaesencia de la respetabilidad burguesa: un matrimonio octogenario y dedicado de académicos semirretirados. Nadie diría que; en el sótano de su impecable casa forrada de libros; esconden un secreto directamente relacionado con la desaparición de Bonnie. Sin embargo; los Harris son astutos; pacientes y despiadados; y obligarán a Holly a emplear sus habilidades al máximo y a arriesgarlo todo si quiere cerrar el caso más oscuro al que se ha enfrentado jamás. «No podía olvidarme de Holly Gibney. Se suponía que solo iba a ser un personaje secundario en Mr. Mercedes; pero se llevó toda la atención y mi corazón. Holly es ella en estado puro». Stephen King&pagesNumber=624&bookGenres=TERROR, MYSTERY, ADVENTURE\",\n\t\"protocol\": \"HTTP/1.1\",\n\t\"statusCode\": 201,\n\t\"statusMessage\": \"Created\",\n\t\"httpVersion\": \"1.1\",\n\t\"headers\": {\n\t\t\"content-length\": \"0\",\n\t\t\"date\": \"Tue, 10 Oct 2023 02:00:06 GMT\",\n\t\t\"connection\": \"close\"\n\t},\n\t\"body\": \"\",\n\t\"rawHeaders\": [\n\t\t\"Content-Length\",\n\t\t\"0\",\n\t\t\"Date\",\n\t\t\"Tue, 10 Oct 2023 02:00:06 GMT\",\n\t\t\"Connection\",\n\t\t\"close\"\n\t],\n\t\"timings\": {\n\t\t\"wait\": 1,\n\t\t\"dns\": 0,\n\t\t\"tcp\": 0,\n\t\t\"request\": 0,\n\t\t\"firstByte\": 4,\n\t\t\"download\": 1,\n\t\t\"total\": 6\n\t},\n\t\"meta\": {\n\t\t\"ip\": \"127.0.0.1\",\n\t\t\"redirectUrls\": [],\n\t\t\"size\": \"63 B\"\n\t},\n\t\"tags\": [\n\t\t\"httpRegion\",\n\t\t\"mainResponse\"\n\t],\n\t\"request\": {\n\t\t\"url\": \"http://localhost:8080/api/books/?isbn=9789506446949&title=Holly&date=2023-09-01&synopsis=Holly%20Gibney;%20uno%20de%20los%20personajes%20m%C3%A1s%20cautivadores%20e%20ingeniosos%20de%20Stephen%20King;%20regresa%20en%20esta%20trepidante%20novela%20para%20descubrir%20la%20verdad%20que%20se%20esconde%20tras%20m%C3%BAltiples%20desapariciones%20en%20una%20ciudad%20del%20Medio%20Oeste.%20Cuando%20Penny%20Dahl%20contacta%20con%20Finders%20Keepers%20para%20que%20la%20ayuden%20a%20encontrar%20a%20su%20hija;%20algo%20en%20la%20voz%20desesperada%20de%20la%20mujer%20hace%20que%20Holly%20Gibney%20se%20vea%20obligada%20a%20aceptar%20el%20trabajo.%20A%20poca%20distancia%20del%20lugar%20en%20el%20que%20Bonnie%20Dahl%20desapareci%C3%B3;%20viven%20los%20profesores%20Rodney%20y%20Emily%20Harris.%20Son%20la%20quintaesencia%20de%20la%20respetabilidad%20burguesa:%20un%20matrimonio%20octogenario%20y%20dedicado%20de%20acad%C3%A9micos%20semirretirados.%20Nadie%20dir%C3%ADa%20que;%20en%20el%20s%C3%B3tano%20de%20su%20impecable%20casa%20forrada%20de%20libros;%20esconden%20un%20secreto%20directamente%20relacionado%20con%20la%20desaparici%C3%B3n%20de%20Bonnie.%20Sin%20embargo;%20los%20Harris%20son%20astutos;%20pacientes%20y%20despiadados;%20y%20obligar%C3%A1n%20a%20Holly%20a%20emplear%20sus%20habilidades%20al%20m%C3%A1ximo%20y%20a%20arriesgarlo%20todo%20si%20quiere%20cerrar%20el%20caso%20m%C3%A1s%20oscuro%20al%20que%20se%20ha%20enfrentado%20jam%C3%A1s.%20%C2%ABNo%20pod%C3%ADa%20olvidarme%20de%20Holly%20Gibney.%20Se%20supon%C3%ADa%20que%20solo%20iba%20a%20ser%20un%20personaje%20secundario%20en%20Mr.%20Mercedes;%20pero%20se%20llev%C3%B3%20toda%20la%20atenci%C3%B3n%20y%20mi%20coraz%C3%B3n.%20Holly%20es%20ella%20en%20estado%20puro%C2%BB.%20Stephen%20King&pagesNumber=624&bookGenres=TERROR,%20MYSTERY,%20ADVENTURE\",\n\t\t\"method\": \"POST\",\n\t\t\"headers\": {\n\t\t\t\"user-agent\": \"httpyac\",\n\t\t\t\"accept\": \"*/*\",\n\t\t\t\"accept-encoding\": \"gzip, deflate, br\"\n\t\t}\n\t}\n}"
     },
     "metadata": {},
     "output_type": "display_data"
    }
   ],
   "source": [
    "POST http://localhost:8080/api/book/?isbn=9789506446949&title=Holly&date=2023-09-01&synopsis=Holly Gibney; uno de los personajes más cautivadores e ingeniosos de Stephen King; regresa en esta trepidante novela para descubrir la verdad que se esconde tras múltiples desapariciones en una ciudad del Medio Oeste. Cuando Penny Dahl contacta con Finders Keepers para que la ayuden a encontrar a su hija; algo en la voz desesperada de la mujer hace que Holly Gibney se vea obligada a aceptar el trabajo. A poca distancia del lugar en el que Bonnie Dahl desapareció; viven los profesores Rodney y Emily Harris. Son la quintaesencia de la respetabilidad burguesa: un matrimonio octogenario y dedicado de académicos semirretirados. Nadie diría que; en el sótano de su impecable casa forrada de libros; esconden un secreto directamente relacionado con la desaparición de Bonnie. Sin embargo; los Harris son astutos; pacientes y despiadados; y obligarán a Holly a emplear sus habilidades al máximo y a arriesgarlo todo si quiere cerrar el caso más oscuro al que se ha enfrentado jamás. «No podía olvidarme de Holly Gibney. Se suponía que solo iba a ser un personaje secundario en Mr. Mercedes; pero se llevó toda la atención y mi corazón. Holly es ella en estado puro»&pagesNumber=624&bookGenres=TERROR, MYSTERY, ADVENTURE"
   ]
  },
  {
   "cell_type": "code",
   "execution_count": 16,
   "metadata": {
    "vscode": {
     "languageId": "http"
    }
   },
   "outputs": [
    {
     "data": {
      "message/http": "{\n\t\"name\": \"201 - POST http://localhost:8080/api/books/\",\n\t\"protocol\": \"HTTP/1.1\",\n\t\"statusCode\": 201,\n\t\"statusMessage\": \"Created\",\n\t\"httpVersion\": \"1.1\",\n\t\"headers\": {\n\t\t\"content-length\": \"0\",\n\t\t\"date\": \"Tue, 10 Oct 2023 23:05:50 GMT\",\n\t\t\"connection\": \"close\"\n\t},\n\t\"body\": \"\",\n\t\"rawHeaders\": [\n\t\t\"Content-Length\",\n\t\t\"0\",\n\t\t\"Date\",\n\t\t\"Tue, 10 Oct 2023 23:05:50 GMT\",\n\t\t\"Connection\",\n\t\t\"close\"\n\t],\n\t\"timings\": {\n\t\t\"wait\": 0,\n\t\t\"dns\": 0,\n\t\t\"tcp\": 1,\n\t\t\"request\": 0,\n\t\t\"firstByte\": 4,\n\t\t\"download\": 1,\n\t\t\"total\": 6\n\t},\n\t\"meta\": {\n\t\t\"ip\": \"127.0.0.1\",\n\t\t\"redirectUrls\": [],\n\t\t\"size\": \"63 B\"\n\t},\n\t\"tags\": [\n\t\t\"httpRegion\",\n\t\t\"mainResponse\"\n\t],\n\t\"request\": {\n\t\t\"url\": \"http://localhost:8080/api/books/\",\n\t\t\"method\": \"POST\",\n\t\t\"headers\": {\n\t\t\t\"user-agent\": \"httpyac\",\n\t\t\t\"host\": \"localhost:8080\",\n\t\t\t\"content-type\": \"application/json\",\n\t\t\t\"accept\": \"*/*\",\n\t\t\t\"content-length\": \"328\",\n\t\t\t\"accept-encoding\": \"gzip, deflate, br\"\n\t\t}\n\t}\n}"
     },
     "metadata": {},
     "output_type": "display_data"
    }
   ],
   "source": [
    "POST http://localhost:8080/api/books/\n",
    "Host: localhost:8080\n",
    "Content-Type: application/json\n",
    "\n",
    "{\n",
    "    \"isbn\": \"9788466619523\",\n",
    "    \"title\": \"A través del tiempo\",\n",
    "    \"date\": \"2018-11-22\",\n",
    "    \"synopsis\": \"El doctor Brian Weiss, analiza en este libro la capacidad de curación de la terapia de regresión a vidas pasadas.\",\n",
    "    \"pagesNumber\": 240,\n",
    "    \"bookGenres\": [\n",
    "        \"POLICE\",\n",
    "        \"ADVENTURE\"\n",
    "    ]\n",
    "}"
   ]
  }
 ],
 "metadata": {
  "language_info": {
   "name": "python"
  },
  "orig_nbformat": 4
 },
 "nbformat": 4,
 "nbformat_minor": 2
}
