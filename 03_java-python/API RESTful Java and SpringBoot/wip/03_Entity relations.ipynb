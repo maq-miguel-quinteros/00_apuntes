{
 "cells": [
  {
   "cell_type": "markdown",
   "metadata": {},
   "source": [
    "# Entity Relationship Diagram (erd_v2)\n"
   ]
  },
  {
   "cell_type": "markdown",
   "metadata": {},
   "source": [
    "Actualizamos el diagrama de entidad relación agregando algunos atributos a las entidades `Book` y `Author`.\n"
   ]
  },
  {
   "cell_type": "markdown",
   "metadata": {},
   "source": [
    "![erd_02](https://raw.githubusercontent.com/maq-miguel-quinteros/00_apuntes/main/03_java-python/API%20RESTful%20Java%20and%20SpringBoot/wip/img/erd_02.png)\n"
   ]
  },
  {
   "cell_type": "markdown",
   "metadata": {},
   "source": [
    "# New `Author` entity, repository & service\n"
   ]
  },
  {
   "cell_type": "markdown",
   "metadata": {},
   "source": [
    "## Entity\n"
   ]
  },
  {
   "cell_type": "markdown",
   "metadata": {},
   "source": [
    "Dentro del `package models` creamos una nueva clase llamada `Author` y la configuramos de forma similar a la clase `Book`.\n"
   ]
  },
  {
   "cell_type": "code",
   "execution_count": null,
   "metadata": {},
   "outputs": [],
   "source": [
    "@Entity\n",
    "public class Author {\n",
    "\n",
    "    @Id\n",
    "    @GeneratedValue(strategy = GenerationType.AUTO, generator = \"native\")\n",
    "    @GenericGenerator(name = \"native\")\n",
    "    private Long id;\n",
    "    private String name;\n",
    "    private String lastName;\n",
    "    private LocalDate birthdate;\n",
    "    private LocalDate deathDate;  \n",
    "\n",
    "    public Author() {\n",
    "    }\n",
    "\n",
    "    public Author(String name, String lastName, LocalDate birthdate, LocalDate deathDate) {\n",
    "        this.name = name;\n",
    "        this.lastName = lastName;\n",
    "        this.birthdate = birthdate;\n",
    "        this.deathDate = deathDate;\n",
    "    }\n",
    "\n",
    "    // GETTERS Y SETTERS EXCEPTO EL setId\n",
    "}"
   ]
  },
  {
   "cell_type": "markdown",
   "metadata": {},
   "source": [
    "## Respostory & service\n"
   ]
  },
  {
   "cell_type": "markdown",
   "metadata": {},
   "source": [
    "### Repository\n"
   ]
  },
  {
   "cell_type": "markdown",
   "metadata": {},
   "source": [
    "Dentro de la `package repositories` creamos la interface llamada `AuthorRepository`.\n"
   ]
  },
  {
   "cell_type": "code",
   "execution_count": null,
   "metadata": {},
   "outputs": [],
   "source": [
    "@RepositoryRestResource\n",
    "public interface AuthorRepository extends JpaRepository <Author, Long> {\n",
    "}"
   ]
  },
  {
   "cell_type": "markdown",
   "metadata": {},
   "source": [
    "### DTO\n"
   ]
  },
  {
   "cell_type": "markdown",
   "metadata": {},
   "source": [
    "Dentro de la `package dtos` creamos la clase llamada `AuthorDTO`\n"
   ]
  },
  {
   "cell_type": "code",
   "execution_count": null,
   "metadata": {},
   "outputs": [],
   "source": [
    "public class AuthorDTO {\n",
    "\n",
    "    private Long id;\n",
    "    private String name;\n",
    "    private String lastName;\n",
    "    private LocalDate birthdate;\n",
    "    private LocalDate deathDate;\n",
    "\n",
    "    public AuthorDTO() {\n",
    "    }\n",
    "    public AuthorDTO(Author author) {\n",
    "        this.id = author.getId();\n",
    "        this.name = author.getName();\n",
    "        this.lastName = author.getLastName();\n",
    "        this.birthdate = author.getBirthdate();\n",
    "        this.deathDate = author.getDeathDate();\n",
    "    }\n",
    "\n",
    "    // SOLO GETTERS\n",
    "}"
   ]
  },
  {
   "cell_type": "markdown",
   "metadata": {},
   "source": [
    "### Service\n"
   ]
  },
  {
   "cell_type": "markdown",
   "metadata": {},
   "source": [
    "Dentro de la `package services` creamos la interface llamada `AuthorService`.\n"
   ]
  },
  {
   "cell_type": "code",
   "execution_count": null,
   "metadata": {},
   "outputs": [],
   "source": [
    "public interface AuthorService {\n",
    "\n",
    "    // CREATE\n",
    "    void create(Author author);\n",
    "\n",
    "    // READ\n",
    "    List<AuthorDTO> readAll();\n",
    "}"
   ]
  },
  {
   "cell_type": "markdown",
   "metadata": {},
   "source": [
    "#### Implement\n"
   ]
  },
  {
   "cell_type": "markdown",
   "metadata": {},
   "source": [
    "Dentro del `package implement` creamos la clase llamada `AuthorServiceImplement`.\n"
   ]
  },
  {
   "cell_type": "code",
   "execution_count": null,
   "metadata": {},
   "outputs": [],
   "source": [
    "@Service\n",
    "public class AuthorServiceImplement implements AuthorService {\n",
    "\n",
    "    @Autowired\n",
    "    AuthorRepository authorRepository;\n",
    "    \n",
    "    @Override\n",
    "    public void create(Author author) {\n",
    "        authorRepository.save(author);\n",
    "    }\n",
    "\n",
    "    @Override\n",
    "    public List<AuthorDTO> readAll() {\n",
    "        return authorRepository.findAll().stream()\n",
    "                .map(author -> new AuthorDTO(author))\n",
    "                .collect(Collectors.toList());\n",
    "    }\n",
    "}"
   ]
  },
  {
   "cell_type": "markdown",
   "metadata": {},
   "source": [
    "# Update `Book` entity\n"
   ]
  },
  {
   "cell_type": "markdown",
   "metadata": {},
   "source": [
    "Actualizamos la definición de la clase `Book` agregando el atributo `pagesNumber` de tipo `int`, sumando el mismo al constructor de la clase y creando su `getter` y `setter`.\n"
   ]
  },
  {
   "cell_type": "code",
   "execution_count": null,
   "metadata": {},
   "outputs": [],
   "source": [
    "@Entity\n",
    "public class Book {\n",
    "\n",
    "    @Id\n",
    "    @GeneratedValue(strategy = GenerationType.AUTO, generator = \"native\")\n",
    "    @GenericGenerator(name = \"native\")\n",
    "    private Long id;\n",
    "    private String isbn;\n",
    "    private String title;\n",
    "    private LocalDate date;\n",
    "    @Lob\n",
    "    private String synopsis;\n",
    "    private int pagesNumber;\n",
    "\n",
    "    public Book() {}\n",
    "    public Book(String isbn, String title, LocalDate date ,String synopsis, int pagesNumber) {\n",
    "        this.isbn = isbn;\n",
    "        this.title = title;\n",
    "        this.date = date;\n",
    "        this.synopsis = synopsis;\n",
    "        this.pagesNumber = pagesNumber;\n",
    "    }\n",
    "\n",
    "    // GETTERS & SETTERS EXCEPTO setId\n",
    "\n",
    "}"
   ]
  },
  {
   "cell_type": "markdown",
   "metadata": {},
   "source": [
    "# Entity relations\n"
   ]
  },
  {
   "cell_type": "markdown",
   "metadata": {},
   "source": [
    "Como podemos observar en el diagrama de entidad relación erd_v2, del comienzo del documento, y tomando en cuenta la lógica con la que desarrollamos el diagrama, que nos dice que un libro `Book` puede tener uno o mas autores `Author`, estableciendo una relación de uno a muchos (`1...N`) de libro a autor, y que un autor lo puede ser de uno o muchos libros, estableciendo el mismo tipo de relación (`1...N`) de autor a libro, nos vemos en la necesidad de crear una entidad intermedia, que denominamos `BookAuthor`, para establecer la relación entre libros y autores, y normalizar estas tablas en la base de datos.\n"
   ]
  },
  {
   "cell_type": "markdown",
   "metadata": {},
   "source": [
    "## `BookAuthor` entity\n"
   ]
  },
  {
   "cell_type": "markdown",
   "metadata": {},
   "source": [
    "Dentro del `package models` creamos una nueva clase llamada `BookAuthor` y la configuramos de la siguiente manera.\n",
    "\n",
    "- `@ManyToOne`: mediante la `annotation @ManyToOne` indicamos que la entidad generada a partir de la clase `BookAuthor` va a tener una relación de muchos a uno (`N...1`) con el tipo del atributo que está debajo de la `annotation`, que en ejemplo son `book` y `author`, quiere decir que, mediante esta `annotation`, estamos configurando la relación de muchos a uno entre la entidad `BookAuthor` con respecto a la entidad `Book`, por un lado, y la entidad `Author` por el otro.\n",
    "\n",
    "- `fetch = FetchType.EAGER`: mediante el parámetro `fetch`, que pasamos a la `annotation`, indicamos la forma en que va a ser cargada la entidad. Al parámetro le asignamos el valor `FetchType.EAGER` que indica que la relación debe ser cargada al momento de cargar la entidad.\n",
    "- `@JoinColumn`(name = \"book_id\"): mediante la `annotation @JoinColumn` indicamos que el atributo que está debajo va a requerir de un `Join` para poder acceder al mismo, es decir que el atributo viene dado por una relación con otra entidad, en este caso por la entidad `Book`, y la columna en la base de datos correspondiente a este atributo se configura a partir de esa relación.\n",
    "- `name = \"book_id\"` y `name = \"book_id\"`: mediante el parámetro `name` que pasamos a la `annotation` indicamos el nombre de la columna en la base de datos para los atributos de tipo `Book` y tipo `Author`, que en el ejemplo va a ser `\"book_id\"` y `author_id`.\n",
    "- No generamos el constructor con parámetros para la clase por que el único atributo propio de la misma, `id`, se genera de forma automática por la `annotation @GeneratedValue`. Los atributos `book` y `author` pertenecen a la relación con las entidades de `Book` y `Author` por lo que no se le asignan atributos desde un constructor. Si la clase tuviese atributos propios además de `id` correspondería generar el constructor.\n"
   ]
  },
  {
   "cell_type": "code",
   "execution_count": null,
   "metadata": {},
   "outputs": [],
   "source": [
    "@Entity\n",
    "public class BookAuthor {\n",
    "\n",
    "    @Id\n",
    "    @GeneratedValue(strategy = GenerationType.AUTO, generator = \"native\")\n",
    "    @GenericGenerator(name = \"native\")\n",
    "    private Long id;\n",
    "\n",
    "    @ManyToOne(fetch = FetchType.EAGER)\n",
    "    @JoinColumn(name = \"book_id\")\n",
    "    private Book book;\n",
    "\n",
    "    @ManyToOne(fetch = FetchType.EAGER)\n",
    "    @JoinColumn(name = \"author_id\")\n",
    "    private Author author;\n",
    "\n",
    "    public BookAuthor() {\n",
    "    }\n",
    "    // GETTERS & SETTERS EXCEPTO EL setId\n",
    "}"
   ]
  },
  {
   "cell_type": "markdown",
   "metadata": {},
   "source": [
    "## `BookAuthor` repository & service\n"
   ]
  },
  {
   "cell_type": "markdown",
   "metadata": {},
   "source": [
    "### Repository\n"
   ]
  },
  {
   "cell_type": "markdown",
   "metadata": {},
   "source": [
    "Dentro de la `package repositories` creamos la interface llamada `BookAuthorRepository`.\n"
   ]
  },
  {
   "cell_type": "code",
   "execution_count": null,
   "metadata": {},
   "outputs": [],
   "source": [
    "@RepositoryRestResource\n",
    "public interface BookAuthorRepository extends JpaRepository <BookAuthor, Long> {\n",
    "}"
   ]
  },
  {
   "cell_type": "markdown",
   "metadata": {},
   "source": [
    "### DTO\n"
   ]
  },
  {
   "cell_type": "markdown",
   "metadata": {},
   "source": [
    "Dentro de la `package dtos` creamos la clase llamada `BookAuthorDTO` y la configuramos de la siguiente manera.\n",
    "\n",
    "- Los atributos del dto no tienen que ser, necesariamente, los atributos de la clase a la que refiere el mismo. La definición de estos atributos va a depender de cuales sean los datos que necesitemos pasar al frontend, esto quiere decir que usamos el dto como su nombre indica, data transfer object, para pasar mediante un objeto los datos que queremos pasar.\n",
    "\n",
    "- La clase del dto tiene atributos propios del dto como `author_name`, `author_lastName`, `author_birthdate` y `author_deathDate` que van a ser asignados en base al atributo de tipo `Author` del objeto `BookAuthor` que pasamos a la constructor del dto.\n",
    "- `bookAuthor.getAuthor().getName()`: mediante este método `getAuthor()`, del objeto `bookAuthor`, traemos del objeto de tipo `Author` que este tiene, y mediante el método `getName()` del objeto de tipo `Author` traemos el atributo `name` de este.\n"
   ]
  },
  {
   "cell_type": "code",
   "execution_count": null,
   "metadata": {},
   "outputs": [],
   "source": [
    "public class BookAuthorDTO {\n",
    "\n",
    "    private Long id;\n",
    "    private String author_name;\n",
    "    private String author_lastName;\n",
    "    private LocalDate author_birthdate;\n",
    "    private LocalDate author_deathDate;\n",
    "\n",
    "    public BookAuthorDTO() {\n",
    "    }\n",
    "\n",
    "    public BookAuthorDTO(BookAuthor bookAuthor) {\n",
    "        this.id = bookAuthor.getId();\n",
    "        this.author_name = bookAuthor.getAuthor().getName();\n",
    "        this.author_lastName = bookAuthor.getAuthor().getLastName();\n",
    "        this.author_birthdate = bookAuthor.getAuthor().getBirthdate();\n",
    "        this.author_deathDate = bookAuthor.getAuthor().getDeathDate();\n",
    "    }\n",
    "\n",
    "    // SOLO GETTERS\n",
    "}"
   ]
  },
  {
   "cell_type": "markdown",
   "metadata": {},
   "source": [
    "### Service\n"
   ]
  },
  {
   "cell_type": "markdown",
   "metadata": {},
   "source": [
    "Dentro de la `package services` creamos la interface llamada `BookAuthorService`.\n"
   ]
  },
  {
   "cell_type": "code",
   "execution_count": null,
   "metadata": {},
   "outputs": [],
   "source": [
    "public interface BookAuthorService {\n",
    "\n",
    "    // CREATE\n",
    "    void create(BookAuthor bookAuthor);\n",
    "\n",
    "}"
   ]
  },
  {
   "cell_type": "markdown",
   "metadata": {},
   "source": [
    "#### Implement\n"
   ]
  },
  {
   "cell_type": "markdown",
   "metadata": {},
   "source": [
    "Dentro del `package implement` creamos la clase llamada `BookAuthorServiceImplement`.\n"
   ]
  },
  {
   "cell_type": "code",
   "execution_count": null,
   "metadata": {},
   "outputs": [],
   "source": [
    "@Service\n",
    "public class BookAuthorServiceImplement implements BookAuthorService {\n",
    "\n",
    "    @Autowired\n",
    "    BookAuthorRepository bookAuthorRepository;\n",
    "\n",
    "    @Override\n",
    "    public void create(BookAuthor bookAuthor) {\n",
    "        bookAuthorRepository.save(bookAuthor);\n",
    "    }\n",
    "}"
   ]
  },
  {
   "cell_type": "markdown",
   "metadata": {},
   "source": [
    "## Update `Book` entity\n"
   ]
  },
  {
   "cell_type": "markdown",
   "metadata": {},
   "source": [
    "Actualizamos la definición de la clase `Book` de la siguiente manera.\n",
    "\n",
    "- `@OneToMany`: mediante la `annotation @OneToMany` indicamos que la entidad generada a partir de la clase `Book` va a tener una relación de uno a muchos (`1...N`) con el tipo del atributo que está debajo de la `annotation`, que en ejemplo es `BookAuthor`, quiere decir que, mediante esta `annotation`, estamos configurando la relación de uno a muchos entre la entidad `Book` con respecto a la entidad `BookAuthor`.\n",
    "\n",
    "- `mappedBy = \"book\"`: mediante el parámetro `mappedBy`, que pasamos a la `annotation`, indicamos el nombre de la columna que, en la base de datos, van a tener las entradas correspondientes al listado de autores del libro, listado que puede tener uno o muchos autores.\n",
    "- `Set<BookAuthor> authors`: al indicar que el tipo de datos del atributo `author` es `Set<BookAuthor>` indicamos que el mismo va a ser un `Set`, un tipo de datos que representa un listado, de objetos de tipo `BookAuthor`.\n",
    "- `new HashSet<>()`: mediante la interface `HashSet` generamos los objetos para el listado de tipo `Set`.\n",
    "- El atributo `authors` pertenece a la relación con la entidad `BookAuthor` por lo que no se le asignan valores desde un constructor.\n",
    "- `addBookAuthor(BookAuthor bookAuthor)`: generamos el método `addBookAuthor`, que recibe como parámetro un objeto de tipo `BookAuthor`, mediante el cual vamos a sumar autores al listado de estos que se corresponde con el atributo `authors`.\n",
    "- `bookAuthor.setBook(this)`: llamamos al método `setBook`, del objeto `BookAuthor` que pasamos por parámetro, y mediante el parámetro `this` indicamos que se asigne el valor del libro actual, con todos sus atributos, al atributo de tipo `book` del objeto de tipo `BookAuthor`.\n",
    "- `authors.add(bookAuthor)`: el método `add`, que hereda el atributo `authors` por ser de tipo `Set`, agrega un nuevo objeto de tipo `BookAuthor` al listado de autores del libro.\n"
   ]
  },
  {
   "cell_type": "code",
   "execution_count": null,
   "metadata": {},
   "outputs": [],
   "source": [
    "@Entity\n",
    "public class Book {\n",
    "\n",
    "    @Id\n",
    "    @GeneratedValue(strategy = GenerationType.AUTO, generator = \"native\")\n",
    "    @GenericGenerator(name = \"native\")\n",
    "    private Long id;\n",
    "    private String isbn;\n",
    "    private String title;\n",
    "    private LocalDate date;\n",
    "    @Lob\n",
    "    private String synopsis;\n",
    "    private int pagesNumber;\n",
    "    @OneToMany(mappedBy = \"book\", fetch = FetchType.EAGER)\n",
    "    private Set<BookAuthor> authors = new HashSet<>();\n",
    "\n",
    "    public Book() {}\n",
    "    public Book(String isbn, String title, LocalDate date ,String synopsis, int pagesNumber) {\n",
    "        this.isbn = isbn;\n",
    "        this.title = title;\n",
    "        this.date = date;\n",
    "        this.synopsis = synopsis;\n",
    "        this.pagesNumber = pagesNumber;\n",
    "    }\n",
    "\n",
    "    public void addBookAuthor(BookAuthor bookAuthor){\n",
    "        bookAuthor.setBook(this);\n",
    "        authors.add(bookAuthor);\n",
    "    }\n",
    "\n",
    "    // GETTERS & SETTERS EXCEPTO setId\n",
    "}"
   ]
  },
  {
   "cell_type": "markdown",
   "metadata": {},
   "source": [
    "## Update `Author` entity\n"
   ]
  },
  {
   "cell_type": "markdown",
   "metadata": {},
   "source": [
    "Actualizamos la definición de la clase `Author` de la misma forma que la clase `Book`, creando un atributo llamado `books` definido como un listado `Set` de objetos `BookAuthor`.\n"
   ]
  },
  {
   "cell_type": "code",
   "execution_count": null,
   "metadata": {},
   "outputs": [],
   "source": [
    "@Entity\n",
    "public class Author {\n",
    "\n",
    "    @Id\n",
    "    @GeneratedValue(strategy = GenerationType.AUTO, generator = \"native\")\n",
    "    @GenericGenerator(name = \"native\")\n",
    "    private Long id;\n",
    "    private String name;\n",
    "    private String lastName;\n",
    "    private LocalDate birthdate;\n",
    "    private LocalDate deathDate;\n",
    "    @OneToMany(mappedBy = \"author\", fetch = FetchType.EAGER)\n",
    "    private Set<BookAuthor> books = new HashSet<>();\n",
    "\n",
    "    public Author() { }\n",
    "    public Author(String name, String lastName, LocalDate birthdate, LocalDate deathDate) {\n",
    "        this.name = name;\n",
    "        this.lastName = lastName;\n",
    "        this.birthdate = birthdate;\n",
    "        this.deathDate = deathDate;\n",
    "    }\n",
    "\n",
    "    public void addBookAuthor(BookAuthor bookAuthor){\n",
    "        bookAuthor.setAuthor(this);\n",
    "        books.add(bookAuthor);\n",
    "    }\n",
    "\n",
    "    // \n",
    "}"
   ]
  },
  {
   "cell_type": "markdown",
   "metadata": {},
   "source": [
    "## Update `BookDTO` class\n"
   ]
  },
  {
   "cell_type": "markdown",
   "metadata": {},
   "source": [
    "Actualizamos la definición de la clase `BookDTO` de la siguiente manera.\n",
    "\n",
    "- `Set<BookAuthorDTO> authors`: al indicar que el tipo de datos del atributo `authors` es `Set<BookAuthorDTO>` indicamos que el mismo va a ser un `Set`, un tipo de datos que representa un listado, de objetos de tipo `BookAuthorDTO`.\n",
    "\n",
    "- `book.getAuthors()`: mediante el método `getAuthors` del objeto de tipo `Book`, que pasamos por parámetro al constructor del DTO, vamos a generar el listado `Set` de objetos de tipo de objetos de tipo `BookAuthorDTO`. Como la clase `BookAuthorDTO` ya está configurada para devolver los datos que queremos del objeto BookAuthor, que son los datos de el o los autores del libro, es que utilizamos este para generar el listado de autores del atributo `authors`.\n"
   ]
  },
  {
   "cell_type": "code",
   "execution_count": null,
   "metadata": {},
   "outputs": [],
   "source": [
    "public class BookDTO {\n",
    "\n",
    "    private Long id;\n",
    "    private String isbn;\n",
    "    private String title;\n",
    "    private LocalDate date;\n",
    "    private String synopsis;\n",
    "    private int pagesNumber;\n",
    "    private Set<BookAuthorDTO> authors;\n",
    "\n",
    "    public BookDTO() {\n",
    "    }\n",
    "    public BookDTO(Book book) {\n",
    "        this.id = book.getId();\n",
    "        this.isbn = book.getIsbn();\n",
    "        this.title = book.getTitle();\n",
    "        this.date = book.getDate();\n",
    "        this.synopsis = book.getSynopsis();\n",
    "        this.pagesNumber = book.getPagesNumber();\n",
    "\n",
    "        this.authors = book.getAuthors().stream()\n",
    "                .map(bookAuthor -> new BookAuthorDTO(bookAuthor))\n",
    "                .collect(Collectors.toSet());\n",
    "    }\n",
    "\n",
    "    // SOLO LOS GETTERS\n",
    "}"
   ]
  },
  {
   "cell_type": "markdown",
   "metadata": {},
   "source": [
    "# H2 database test\n"
   ]
  },
  {
   "cell_type": "markdown",
   "metadata": {},
   "source": [
    "Actualizamos la clase principal del proyecto, en este caso llamada `StockApplication`, para crear las tablas y registros de prueba mediante la base de datos de H2.\n",
    "\n",
    "- `bookAuthor02 = new BookAuthor()`: creamos un nuevo objeto de tipo `BookAutor`. Esta clase, de momento, no tiene atributos exclusivos, solo el `id` que se genera en forma automática y los `Set` de `Book` y `Author`, por esto no pasamos parámetros al constructor.\n",
    "\n",
    "- `addBookAuthor`: después de crear el objeto de tipo `BookAuthor` utilizamos el método `addBookAuthor`, presente en el objeto de tipo `Book` y el objeto de tipo `Author`, para sumar a sus respectivos listados `Set` este objeto. Ese mismo método, a su vez, establece la relación del objeto de tipo `Book`m o `Author` con respecto al objeto `BookAuthor`, en la base de datos, mediante el método add presente en la definición de `addBookAuthor`.\n",
    "\n",
    "- En el tercer ejemplo creamos un objeto de tipo `Book`, un libro, y dos objetos de tipo `Author`, dos autores. Después creamos dos objetos de tipo `BookAuthor`, entendiendo por esto que vamos a sumar dos filas a la tabla de la entidad `book_author` en la base de datos. Sabemos que el libro del ejemplo 3 tiene dos autores, los dos que creamos, por ende, al llamar al método `addBookAuthor`, en el caso del libro, lo hacemos dos veces para el mismo libro, dos veces para el objeto `book03` pasando como parámetro los objetos `bookAuthor03` y `bookAuthor04`. En el caso de los autores, sabemos que ambos autores lo son del mismo libro, del libro del objeto `book03`, al que relacionamos mediante el método `addBookAuthor` con los dos objetos de tipo `BookAuthor`. Sabiendo eso vamos a establecer la relación del autor con la entidad `book_autor`, de la base de datos, mediante el método `addBookAuthor` del objeto `author03`, con respecto al objeto bookAuthor03, y mediante el método `addBookAuthor` del objeto `author04`, con respecto al objeto `bookAuthor04`.\n",
    "\n",
    "- En la tabla `book_author`, de la base de datos, vamos a tener dos filas donde el valor de la columna `book_id` va a ser el mismo, va a ser el valor del atributo `id` del objeto `book03`. Mientras que, para estas dos filas, vamos a tener dos valores distintos en la columna `author_id`, estos valores van a ser los de los atributos `id` de los objetos `author03` y `author04`.\n"
   ]
  },
  {
   "cell_type": "code",
   "execution_count": null,
   "metadata": {},
   "outputs": [],
   "source": [
    "@SpringBootApplication\n",
    "public class StockApplication {\n",
    "\n",
    "    @Autowired\n",
    "    BookService bookService;\n",
    "    @Autowired\n",
    "    AuthorService authorService;\n",
    "\n",
    "    @Autowired\n",
    "    BookAuthorService bookAuthorService;\n",
    "\n",
    "    public static void main(String[] args) {\n",
    "        SpringApplication.run(StockApplication.class, args);\n",
    "    }\n",
    "\n",
    "    @Bean\n",
    "    public CommandLineRunner initData() {\n",
    "        return (args -> {\n",
    "            // CREAMOS UN NUEVO LIBRO MEDIANTE LA CLASE Book\n",
    "            Book book01 = new Book(\"9788466619523\", \"A través del tiempo\", LocalDate.of(2018, 11, 22),\n",
    "                    \"El doctor Brian Weiss, analiza en este libro la capacidad de curación de la terapia de regresión a vidas pasadas.\",\n",
    "                    240);\n",
    "            bookService.create(book01);\n",
    "\n",
    "            // CREAMOS UN NUEVO AUTOR mediante la clase Author\n",
    "            Author author01 = new Author(\"Brian\", \"Weiss\", LocalDate.of(1994, 11, 6), null);\n",
    "            authorService.create(author01);\n",
    "\n",
    "            // CREAMOS LA RELACIÓN ENTRE LIBRO Y AUTOR MEDIANTE LA CLASE BookAutor\n",
    "            BookAuthor bookAuthor01 = new BookAuthor();\n",
    "            book01.addBookAuthor(bookAuthor01);\n",
    "            author01.addBookAuthor(bookAuthor01);\n",
    "            bookAuthorService.create(bookAuthor01);\n",
    "\n",
    "            /** *********************************************************** */\n",
    "\n",
    "            Book book02 = new Book(\"9789875505681\", \"Los Miserables\", LocalDate.of(2010, 07, 02),\n",
    "                    \"Es la historia de Jean Valjean, un convicto que estuvo injustamente encarcelado por 19 años por haberse robado una rebanada de pan. Al ser liberado de su injusta condena, Valjean trata de escapar de su pasado, lleno de maldad y depravación, para vivir una vida digna y honesta. Sin embargo, esto se ve truncado al ser reconocido por el inspector Javert, quien lo persigue obsesionadamente para enviarlo de nuevo a prisión. Esta persecución consume la vida de ambos hombres, terminando en un inesperado desenlace.\",\n",
    "                    1090);\n",
    "            bookService.create(book02);\n",
    "\n",
    "            Author author02 = new Author(\"Victor\", \"Hugo\", LocalDate.of(1802, 2, 26), LocalDate.of(1885, 5, 22));\n",
    "            authorService.create(author02);\n",
    "\n",
    "            BookAuthor bookAuthor02 = new BookAuthor();\n",
    "            book02.addBookAuthor(bookAuthor02);\n",
    "            author02.addBookAuthor(bookAuthor02);\n",
    "            bookAuthorService.create(bookAuthor02);\n",
    "\n",
    "            /** *********************************************************** */\n",
    "\n",
    "            Book book03 = new Book(\"9788416788712\", \"La Bolsa o la Vida\", LocalDate.of(1992, 9, 01),\n",
    "                    \"El libro definitivo para dejar de ser esclavo del dinero y mejorar tu vida. Hazte las siguientes preguntas: ¿Tienes bastante dinero? ¿Pasas suficiente tiempo con tu familia y amigos? ¿Vuelves a casa del trabajo lleno de energía? ¿Tienes una vida completa y estás satisfecho? Si has respondido que no a alguna de estas preguntas, este libro es para ti. Vicki Robin ofrece en La bolsa o la vida un programa de nueve pasos con el que descubrirás el valor real de tu tiempo, transformarás tu relación con el dinero, aprenderás a simplificar y a vivir bien gastando menos y, además, recuperarás el control de tu vida. «Este libro te cambiará la vida.» OPRAH WINFREY\",\n",
    "                    360);\n",
    "            bookService.create(book03);\n",
    "\n",
    "            Author author03 = new Author(\"Vicki\", \"Robin\", LocalDate.of(1945, 7, 6), null);\n",
    "            authorService.create(author03);\n",
    "            Author author04 = new Author(\"Joe\", \"Domínguez\", LocalDate.of(1938, 2, 2), LocalDate.of(1997, 1, 11));\n",
    "            authorService.create(author04);\n",
    "\n",
    "            BookAuthor bookAuthor03 = new BookAuthor();\n",
    "            book03.addBookAuthor(bookAuthor03);\n",
    "            author03.addBookAuthor(bookAuthor03);\n",
    "            bookAuthorService.create(bookAuthor03);\n",
    "\n",
    "            BookAuthor bookAuthor04 = new BookAuthor();\n",
    "            book03.addBookAuthor(bookAuthor04);\n",
    "            author04.addBookAuthor(bookAuthor04);\n",
    "            bookAuthorService.create(bookAuthor04);\n",
    "        });\n",
    "    }\n",
    "}"
   ]
  },
  {
   "cell_type": "markdown",
   "metadata": {},
   "source": [
    "# Test controller\n"
   ]
  },
  {
   "cell_type": "markdown",
   "metadata": {},
   "source": [
    "Mediante el archivo `Controller test.ipynb`, que es un documento de jupyter notebook, corremos el primer test para probar el método `readAll` del controlador `BookController`. Ya que la respuesta de este método va a cambiar, a medida que modifiquemos el controlador, es que traemos una imagen de lo que nos devuelve la prueba. Para llamar al método `readAll` utilizamos el método `HTTP GET` como sigue. Si hacemos clic sobre la ruta también vamos a poder ver la respuesta en el navegador. En caso de que la respuesta sea de error debemos verificar que esté iniciado el servidor y como está configurado el método en el controlador.\n"
   ]
  },
  {
   "cell_type": "markdown",
   "metadata": {},
   "source": [
    "> GET http://localhost:8080/api/books\n"
   ]
  },
  {
   "cell_type": "markdown",
   "metadata": {},
   "source": [
    "![http_get_books_03](https://raw.githubusercontent.com/maq-miguel-quinteros/00_apuntes/main/03_java-python/API%20RESTful%20Java%20and%20SpringBoot/wip/img/http_get_books_03.png)\n"
   ]
  }
 ],
 "metadata": {
  "kernelspec": {
   "display_name": "Java",
   "language": "java",
   "name": "java"
  },
  "language_info": {
   "name": "java"
  },
  "orig_nbformat": 4
 },
 "nbformat": 4,
 "nbformat_minor": 2
}
