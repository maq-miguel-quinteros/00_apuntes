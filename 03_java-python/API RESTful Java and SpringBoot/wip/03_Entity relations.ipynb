{
 "cells": [
  {
   "cell_type": "markdown",
   "metadata": {},
   "source": [
    "# Entity Relationship Diagram (erd_v2)"
   ]
  },
  {
   "cell_type": "markdown",
   "metadata": {},
   "source": [
    "Actualizamos el diagrama de entidad relación agregando algunos atributos a las entidades `Book` y `Author`."
   ]
  },
  {
   "cell_type": "markdown",
   "metadata": {},
   "source": [
    "![erd_02]()"
   ]
  },
  {
   "cell_type": "markdown",
   "metadata": {},
   "source": [
    "# New `Author` entity, repository & service"
   ]
  },
  {
   "cell_type": "markdown",
   "metadata": {},
   "source": [
    "## Entity"
   ]
  },
  {
   "cell_type": "markdown",
   "metadata": {},
   "source": [
    "Dentro del `package models` creamos una nueva clase llamada `Author` y la configuramos de forma similar a la clase `Book`."
   ]
  },
  {
   "cell_type": "code",
   "execution_count": null,
   "metadata": {},
   "outputs": [],
   "source": [
    "@Entity\n",
    "public class Author {\n",
    "\n",
    "    @Id\n",
    "    @GeneratedValue(strategy = GenerationType.AUTO, generator = \"native\")\n",
    "    @GenericGenerator(name = \"native\")\n",
    "    private Long id;\n",
    "    private String name;\n",
    "    private String lastName;\n",
    "    private LocalDate birthdate;\n",
    "    private LocalDate deathDate;  \n",
    "\n",
    "    public Author() {\n",
    "    }\n",
    "\n",
    "    public Author(String name, String lastName, LocalDate birthdate, LocalDate deathDate) {\n",
    "        this.name = name;\n",
    "        this.lastName = lastName;\n",
    "        this.birthdate = birthdate;\n",
    "        this.deathDate = deathDate;\n",
    "    }\n",
    "\n",
    "    // GETTERS Y SETTERS EXCEPTO EL setId\n",
    "}"
   ]
  },
  {
   "cell_type": "markdown",
   "metadata": {},
   "source": [
    "## Respostory & service"
   ]
  },
  {
   "cell_type": "markdown",
   "metadata": {},
   "source": [
    "### Repository"
   ]
  },
  {
   "cell_type": "markdown",
   "metadata": {},
   "source": [
    "Dentro de la `package repositories` creamos la interface llamada `AuthorRepository`."
   ]
  },
  {
   "cell_type": "code",
   "execution_count": null,
   "metadata": {},
   "outputs": [],
   "source": [
    "@RepositoryRestResource\n",
    "public interface AuthorRepository extends JpaRepository <Author, Long> {\n",
    "}"
   ]
  },
  {
   "cell_type": "markdown",
   "metadata": {},
   "source": [
    "### DTO"
   ]
  },
  {
   "cell_type": "markdown",
   "metadata": {},
   "source": [
    "Dentro de la `package dtos` creamos la clase llamada `AuthorDTO`"
   ]
  },
  {
   "cell_type": "code",
   "execution_count": null,
   "metadata": {},
   "outputs": [],
   "source": [
    "public class AuthorDTO {\n",
    "\n",
    "    private Long id;\n",
    "    private String name;\n",
    "    private String lastName;\n",
    "    private LocalDate birthdate;\n",
    "    private LocalDate deathDate;\n",
    "\n",
    "    public AuthorDTO() {\n",
    "    }\n",
    "    public AuthorDTO(Author author) {\n",
    "        this.id = author.getId();\n",
    "        this.name = author.getName();\n",
    "        this.lastName = author.getLastName();\n",
    "        this.birthdate = author.getBirthdate();\n",
    "        this.deathDate = author.getDeathDate();\n",
    "    }\n",
    "\n",
    "    // SOLO GETTERS\n",
    "}"
   ]
  },
  {
   "cell_type": "markdown",
   "metadata": {},
   "source": [
    "### Service"
   ]
  },
  {
   "cell_type": "markdown",
   "metadata": {},
   "source": [
    "entro de la `package services` creamos la interface llamada `AuthorService`."
   ]
  },
  {
   "cell_type": "code",
   "execution_count": null,
   "metadata": {},
   "outputs": [],
   "source": [
    "public interface AuthorService {\n",
    "\n",
    "    // CREATE\n",
    "    void create(Author author);\n",
    "\n",
    "    // READ\n",
    "    List<AuthorDTO> readAll();\n",
    "}"
   ]
  },
  {
   "cell_type": "markdown",
   "metadata": {},
   "source": [
    "#### Implement"
   ]
  },
  {
   "cell_type": "markdown",
   "metadata": {},
   "source": [
    "Dentro del `package implement` creamos la clase llamada `AuthorServiceImplement`."
   ]
  },
  {
   "cell_type": "code",
   "execution_count": null,
   "metadata": {},
   "outputs": [],
   "source": [
    "@Service\n",
    "public class AuthorServiceImplement implements AuthorService {\n",
    "\n",
    "    @Autowired\n",
    "    AuthorRepository authorRepository;\n",
    "    \n",
    "    @Override\n",
    "    public void create(Author author) {\n",
    "        authorRepository.save(author);\n",
    "    }\n",
    "\n",
    "    @Override\n",
    "    public List<AuthorDTO> readAll() {\n",
    "        return authorRepository.findAll().stream()\n",
    "                .map(author -> new AuthorDTO(author))\n",
    "                .collect(Collectors.toList());\n",
    "    }\n",
    "}"
   ]
  },
  {
   "cell_type": "markdown",
   "metadata": {},
   "source": [
    "# Update `Book` entity "
   ]
  },
  {
   "cell_type": "markdown",
   "metadata": {},
   "source": [
    "Actualizamos la definición de la clase `Book` agregando el atributo `pagesNumber` de tipo `int`, sumando el mismo al constructor de la clase y creando su `getter` y `setter`."
   ]
  },
  {
   "cell_type": "code",
   "execution_count": null,
   "metadata": {},
   "outputs": [],
   "source": [
    "@Entity\n",
    "public class Book {\n",
    "\n",
    "    @Id\n",
    "    @GeneratedValue(strategy = GenerationType.AUTO, generator = \"native\")\n",
    "    @GenericGenerator(name = \"native\")\n",
    "    private Long id;\n",
    "    private String isbn;\n",
    "    private String title;\n",
    "    private LocalDate date;\n",
    "    @Lob\n",
    "    private String synopsis;\n",
    "    private int pagesNumber;\n",
    "\n",
    "    public Book() {}\n",
    "    public Book(String isbn, String title, LocalDate date ,String synopsis, int pagesNumber) {\n",
    "        this.isbn = isbn;\n",
    "        this.title = title;\n",
    "        this.date = date;\n",
    "        this.synopsis = synopsis;\n",
    "        this.pagesNumber = pagesNumber;\n",
    "    }\n",
    "\n",
    "    // GETTERS & SETTERS EXCEPTO setId\n",
    "\n",
    "}"
   ]
  }
 ],
 "metadata": {
  "kernelspec": {
   "display_name": "Java",
   "language": "java",
   "name": "java"
  },
  "language_info": {
   "name": "java"
  },
  "orig_nbformat": 4
 },
 "nbformat": 4,
 "nbformat_minor": 2
}
