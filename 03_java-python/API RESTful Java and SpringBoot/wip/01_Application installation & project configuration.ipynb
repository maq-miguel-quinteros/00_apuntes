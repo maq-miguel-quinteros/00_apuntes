{
 "cells": [
  {
   "cell_type": "markdown",
   "metadata": {},
   "source": [
    "# Development environment configuration"
   ]
  },
  {
   "cell_type": "markdown",
   "metadata": {},
   "source": [
    "Para empezar a trabajar tenemos que hacer la configuración del ambiente de desarrollo, es decir, instalar los programas necesarios para poder programar en JAVA con SpringBoot."
   ]
  },
  {
   "cell_type": "markdown",
   "metadata": {},
   "source": [
    "## JDK (JAVA Development Kit)"
   ]
  },
  {
   "cell_type": "markdown",
   "metadata": {},
   "source": [
    "JDK (JAVA Development Kit) es un paquete con programas para compilar, interpretar y ejecutar el código java así como también un compendio de código pre diseñado para facilitar la creación de aplicaciones java. Contiene:\n",
    "\n",
    "1. __JRE__ (Java Runtime Environment): es el conjunto de programas y librerías necesarias para ejecutar las aplicaciones java, este programa se puede instalar de manera independiente y es posible que ya lo tengas en tu computadora.\n",
    "\n",
    "2. __Javac__ (Java compiler): es el programa encargado de compilar el código java y pasarlo a bytecode, que es el lenguaje que interpreta la máquina virtual de java JVM que es parte de JRE.\n",
    "\n",
    "3. __Java Archive Tool__: es el programa encargado de ensamblar en un paquete las clases java compiladas en un programa ejecutable llamado JAR."
   ]
  },
  {
   "cell_type": "markdown",
   "metadata": {},
   "source": [
    "### Amazon Corretto OpenJDK 17"
   ]
  },
  {
   "cell_type": "markdown",
   "metadata": {},
   "source": [
    "Java SE: Java Standard Edition es la plataforma central de programación de Java. Contiene todas las bibliotecas y API que cualquier programador necesita para el desarrollo de Java. Open Java Development Kit (OpenJDK) es la implementación gratuita y de código abierto de Java SE.\n",
    "\n",
    "Amazon Corretto es una distribución de OpenJDK sin costo, multiplataforma y lista para producción. Se puede usar como un reemplazo directo para muchas distribuciones de Java SE y cuenta con soporte a largo plazo y gratuito de Amazon. Le permite ejecutar el mismo entorno en la nube, en las instalaciones y en su máquina local.\n",
    "\n",
    "> Descargar [Amazon Corretto 17](https://docs.aws.amazon.com/corretto/latest/corretto-17-ug/downloads-list.html)"
   ]
  },
  {
   "cell_type": "markdown",
   "metadata": {},
   "source": [
    "## IntelliJ IDEA"
   ]
  },
  {
   "cell_type": "markdown",
   "metadata": {},
   "source": [
    "IntelliJ IDEA es un programa conocido como IDE (Integrated Development Environment) el cual contiene herramientas útiles para programar tales como un editor de código, explorador de archivos, depurador de código, plugins para trabajar con sistemas de versionado como git, compilador y ejecutor de código, visor de base de datos, entre otras, la idea de estos programas es que como desarrollador no tengas que usar ningún otro programa para trabajar.\n",
    "\n",
    "Para instalar IntellIJ deberás ir a su sitio web. Recuerda seleccionar la versión community que es gratis aunque carece de algunas características que tiene la versión de pago.\n",
    "\n",
    "> Descargar [IntellIJ](https://www.jetbrains.com/idea/download)"
   ]
  },
  {
   "cell_type": "markdown",
   "metadata": {},
   "source": [
    "## Gradle Build Tool"
   ]
  },
  {
   "cell_type": "markdown",
   "metadata": {},
   "source": [
    "Gradle Build Tool es una herramienta de __automatización de compilación__ de código abierto rápida, confiable y adaptable, con un lenguaje de compilación declarativo elegante y extensible. Tiene un gestor de dependencias que se encarga de la descarga y configuración de las mismas.\n",
    "\n",
    "> La automatización de compilación es el proceso de automatizar la creación de una compilación de software y los procesos asociados, que incluyen: compilar el código fuente de la computadora en código binario , empaquetar código binario y ejecutar pruebas automatizadas."
   ]
  },
  {
   "cell_type": "markdown",
   "metadata": {},
   "source": [
    "### Instalar Gradle"
   ]
  },
  {
   "cell_type": "markdown",
   "metadata": {},
   "source": [
    "Para instalar Gradle descargamos el archivo comprimido desde la su web. Creamos una carpeta en la unidad C del equipo de la forma `C:\\Gradle`. Descomprimimos el archivo descargado en esta carpeta (puede demorar varios minutos). Quedará una estructura de la forma `C:\\Gradle\\gradle-8...`.\n",
    "\n",
    "> Descargar [Gradle Build Tool](https://gradle.org/releases/)"
   ]
  },
  {
   "cell_type": "markdown",
   "metadata": {},
   "source": [
    "### Configurar las variables de entorno"
   ]
  },
  {
   "cell_type": "markdown",
   "metadata": {},
   "source": [
    "En el explorador de archivos tenemos que hacer clic derecho sobre `Equipo`, seleccionar `propiedades` y dirigirnos a `configuración avanzada del sistema`, después de esto hacemos clic en el botón `Variables de entorno`.\n",
    "\n",
    "En la ventana de `Variables de entorno` vamos a la fila `Path` y tocamos en el botón `Editar`. Agregamos el la ruta `C:\\Gradle\\gradle-8.3\\bin` y aceptamos todos los cambios."
   ]
  },
  {
   "cell_type": "markdown",
   "metadata": {},
   "source": [
    "## Spring Initializr"
   ]
  },
  {
   "cell_type": "markdown",
   "metadata": {},
   "source": [
    "Para crear el proyecto vamos a utilizar Spring Initializr, mediante este creamos los archivos básicos necesarios así como la estructura de directorios recomendada para comenzar a trabajar en una aplicación de Java que utilice el Spring Framework implementado con Spring Boot."
   ]
  },
  {
   "cell_type": "code",
   "execution_count": 1,
   "metadata": {},
   "outputs": [],
   "source": [
    "public class Prueba{\n",
    "    \n",
    "    private Long id;\n",
    "}"
   ]
  }
 ],
 "metadata": {
  "kernelspec": {
   "display_name": "Java",
   "language": "java",
   "name": "java"
  },
  "language_info": {
   "codemirror_mode": "java",
   "file_extension": ".jshell",
   "mimetype": "text/x-java-source",
   "name": "java",
   "pygments_lexer": "java",
   "version": "17.0.8.1+8-LTS"
  },
  "orig_nbformat": 4
 },
 "nbformat": 4,
 "nbformat_minor": 2
}
