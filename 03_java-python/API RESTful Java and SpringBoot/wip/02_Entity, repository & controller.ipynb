{
 "cells": [
  {
   "cell_type": "markdown",
   "metadata": {},
   "source": [
    "# Entity"
   ]
  },
  {
   "cell_type": "markdown",
   "metadata": {},
   "source": [
    "Generamos un nuevo `package` llamado `models`. En este vamos a guardar guardar las clases de datos con las que vamos a trabajar. Estas clases a su vez van a ser entidades en la base de datos. Dentro del `package models` creamos una nueva clase llamada `Book` y la configuramos de la siguiente manera.\n",
    "\n",
    "* `@Entity`: la clase va a tener las `annotation @Entity` que indica que la clase va a ser una entidad. A partir de está se va a generar una tabla en la base de datos con el nombre de la clase, en el ejemplo una tabla con el nombre `book`.\n",
    "\n",
    "* `@Id`: la `annotation @Id` indica que el atributo `private Long id` va a ser la clave primaria de la tabla en la base de datos.\n",
    "\n",
    "* Mediante `@GeneratedValue(strategy = GenerationType.AUTO, generator = \"native\")` y `@GenericGenerator(name = \"native\", strategy = \"native\")` indicamos la forma en que se van a generar los valores para el atributo `id`. Básicamente indicamos que los valores se generen de forma automática con funcionalidades de la base de datos utilizadas para esto.\n",
    "* Atributos de la clase: los atributos de la clase van a representar columnas en la tabla que se genera en la base de datos.\n",
    "\n",
    "* `@Lob`: mediante la `annotation @Lob` indicamos que el atributo siguiente va a ser una un `String` de muchos más caracteres de los que la base de datos asigna a las variables de texto en general.\n",
    "\n",
    "* `Constructor, Getters y Setters`: tienen que estar declarados el constructor vacío y el que permite generar objetos del tipo de la clase. Nótese que el constructor no asigna valores al atributo `id` por que los valores de mismo se generan en forma automática en la base de datos. Tienen que estar declarados todos los `getters` y `setters` a excepción del `setter` de id."
   ]
  },
  {
   "cell_type": "code",
   "execution_count": null,
   "metadata": {},
   "outputs": [],
   "source": [
    "@Entity\n",
    "public class Book {\n",
    "    \n",
    "    @Id\n",
    "    @GeneratedValue(strategy = GenerationType.AUTO, generator = \"native\")\n",
    "    @GenericGenerator(name = \"native\", strategy = \"native\")\n",
    "    private Long id;\n",
    "    private String isbn;\n",
    "    private String title;\n",
    "    private LocalDate date;\n",
    "    \n",
    "    @Lob\n",
    "    private String synopsis;\n",
    "\n",
    "    public Book() {}\n",
    "    public Book(String isbn, String title, LocalDate date ,String synopsis) {\n",
    "        this.isbn = isbn;\n",
    "        this.title = title;\n",
    "        this.date = date;\n",
    "        this.synopsis = synopsis;\n",
    "    }\n",
    "\n",
    "    // AQUÍ CORRESPONDEN LOS GETTERS Y SETTERS\n",
    "}"
   ]
  },
  {
   "cell_type": "markdown",
   "metadata": {},
   "source": [
    "# Respostory & service"
   ]
  },
  {
   "cell_type": "markdown",
   "metadata": {},
   "source": [
    "## Repository"
   ]
  },
  {
   "cell_type": "markdown",
   "metadata": {},
   "source": [
    "Generamos un nuevo `package` llamado `repositories`. En este vamos a guardar `interfaces` con las que vamos a extender a la clase `JpaRepository`. Mediante la clase `JpaRepository` vamos a acceder a métodos que nos permiten crear, leer, actualizar y borrar datos de la base de datos (CRUD). Dentro de la `package repositories` creamos la interface llamada `BookRepository`. Configuramos la interface de la siguiente manera.\n",
    "\n",
    "* `@RepositoryRestResource`: mediante la `annotation @RepositoryRestResource` indicamos que la interface va a ser utilizada para construir una arquitectura `REST`, que conecta sistemas mediante el protocolo `HTTP`.\n",
    "\n",
    "* `extends JpaRepository`: mediante `extends` indicamos que la interface `BookRepository` hereda o es hija de la clase `JpaRepository`. Esto quiere decir que hereda y puede sobrescribir sus atributos y métodos.\n",
    "* `<Book, Long>`: entre las `<>` indicamos primero el tipo de objeto para el que creamos la interface, en este caso son objetos de la clase `Book` y segundo indicamos el tipo de datos del atributo con la `annotation @id` de la clase `Book`, que en este caso es `Long`.\n",
    "* De momento no necesitamos declarar métodos en la interface, podemos trabajar directamente con los que hereda de `JpaRepository`."
   ]
  },
  {
   "cell_type": "code",
   "execution_count": null,
   "metadata": {},
   "outputs": [],
   "source": [
    "@RepositoryRestResource\n",
    "public interface BookRepository extends JpaRepository <Book, Long>{\n",
    "}"
   ]
  },
  {
   "cell_type": "markdown",
   "metadata": {},
   "source": [
    "### DTO"
   ]
  },
  {
   "cell_type": "markdown",
   "metadata": {},
   "source": [
    "Generamos un nuevo `package` llamado `dtos`. En este vamos a guardar clases con las que vamos manipular los datos entran y salen de la API. DTO significa Data Transfer Objects, u objetos de transferencia de datos, y se utilizan para esto mismo, para el envío y recepción de datos. Dentro de la `package dtos` creamos la clase llamada `BookDTO`. Configuramos la clase de la siguiente manera.\n",
    "\n",
    "* Los atributos son los mismos que los de la clase para la cual creamos el DTO, es decir, los mismos atributos de la clase `Book`.\n",
    "\n",
    "* Tiene que tener el constructor vacío declarado.\n",
    "* El constructor con parámetros solo recibe un objeto de clase `Book` llamado `book`. De ese objeto vamos a sacar los valores de los atributos para construir un objeto de tipo `BookDTO`.\n",
    "* Solo tenemos que generar los métodos `getters` ya que no vamos a hacer `setters` de los atributos del DTO, los mismos toman sus valores en el constructor a partir de un objeto de tipo `Book`.\n"
   ]
  },
  {
   "cell_type": "code",
   "execution_count": null,
   "metadata": {},
   "outputs": [],
   "source": [
    "public class BookDTO {\n",
    "\n",
    "    private Long id;\n",
    "    private String isbn;\n",
    "    private String title;\n",
    "    private LocalDate date;\n",
    "    private String synopsis;\n",
    "\n",
    "    public BookDTO() {\n",
    "    }\n",
    "    public BookDTO(Book book) {\n",
    "        this.id = book.getId();\n",
    "        this.isbn = book.getIsbn();\n",
    "        this.title = book.getTitle();\n",
    "        this.date = book.getDate();\n",
    "        this.synopsis = book.getSynopsis();\n",
    "    }\n",
    "\n",
    "    // SOLO GETTERS\n",
    "}"
   ]
  },
  {
   "cell_type": "markdown",
   "metadata": {},
   "source": [
    "## Service"
   ]
  },
  {
   "cell_type": "markdown",
   "metadata": {},
   "source": [
    "Generamos un nuevo `package` llamado `services`. En este vamos a guardar `interfaces` que van a ser implementadas por clases que van a sobrescribir sus métodos. Dentro de la `package services` creamos la interface llamada `BookService`. Configuramos la interface de la siguiente manera.\n",
    "\n",
    "* `void createBook(Book book)`: utilizamos el método `createBook`, que no devuelve nada, para crear un nuevo registro en la tabla `Book` de la base de datos, con los atributos del objeto `book` que le pasamos por parámetro. El nombre `createBook` del método es una elección personal. El método puede tener el nombre que queramos.\n",
    "\n",
    "* `List<BookDTO> readAll()`: utilizamos el método `readAll`, que devuelve una lista de objetos de tipo `BookDTO`, para traer todos los registros de la tabla `Book`. El nombre `readAllBooks` del método es una elección personal. El método puede tener el nombre que queramos.\n",
    "* `BookService` es una interface, por lo que solo tenemos que declarar los métodos, su implementación la vamos a hacer en una clase creada para esto."
   ]
  },
  {
   "cell_type": "code",
   "execution_count": null,
   "metadata": {},
   "outputs": [],
   "source": [
    "public interface BookService {\n",
    "    \n",
    "    // CREATE\n",
    "    void create(Book book);\n",
    "    \n",
    "    // READ\n",
    "    List<BookDTO> readAll();\n",
    "}"
   ]
  },
  {
   "cell_type": "markdown",
   "metadata": {},
   "source": [
    "### Implement"
   ]
  },
  {
   "cell_type": "markdown",
   "metadata": {},
   "source": [
    "Generamos un nuevo `package` llamado `implement` dentro del `package services`. En este vamos a guardar clases que van a implementar los `services` que generamos en el `package services`. Llamamos al `package implement` y no `implements` por esta es una palabra reservada que se utilizar para la herencia. Dentro del `package implement` creamos la clase llamada `BookServiceImplement`. Configuramos la clase de la siguiente manera.\n",
    "\n",
    "* `@Service`: mediante `@Service` indicamos que estamos creando una clase de servicio con la que vamos a acceder a funcionalidades de los repositorios.\n",
    "\n",
    "* `implements BookService`: mediante `implements` indicamos que la clase implementa la interface `BookService`. Las clases pueden heredar solo de otra clase pero puede implementar de varias interfaces. Cuando implementamos una interface tenemos que, si o si, sobrescribir los métodos de la interface.\n",
    "\n",
    "* `@Autowired`: mediante `@Autowired` instanciamos un objeto de la clase que indicamos inmediatamente abajo. En este caso, un objeto de la clase `BookRepository` al que llamamos `bookRepository`. Mediante este objeto vamos a acceder a los métodos que la clase BookRepository hereda de `JpaRepository`.\n",
    "\n",
    "* `@Override`: mediante la `annotation @Override` indicamos que la linea a continuación no solo va a sobrescribir el método de la interface que implementa la clase sino que además va a anular este método. De esa forma, al llamar al método desde la interface `BookService` vamos a estar llamando al método sobrescrito en la clase `BookServiceImplement`.\n",
    "\n",
    "* `bookRepository.save(book)`: mediante el método `save`, heredado por `BookRepository` de `JpaRepository`, guardamos un objeto de la clase `Book` en la base de datos.\n",
    "\n",
    "* `List<BookDTO> readAll()`: mediante `List<BookDTO>` indicamos que el método va a devolver un listado de objetos de la clase BookDTO.\n",
    "\n",
    "* `bookRepository.findAll().stream()`: mediante el método `findAll`, heredado por `BookRepository` de `JpaRepository`, traemos todos los registros guardados en la tabla Book de la base de datos. El método `.stream()` que acompaña a `findAll` nos permite tratar a los datos devueltos por `findAll` como una colección.\n",
    "\n",
    "* `.map(book -> new BookDTO(book))`: el método `.map` nos permite manipular uno a uno los elementos de la colección que generamos mediante `.stream()`. Utilizamos la función flecha `book -> new BookDTO(book)` para tratar a cada elemento de la colección, al que llamamos `book` solo por coherencia, ya que podría llamarse `element`, y con cada uno de estos creamos un nuevo objeto de la clase `BookDTO`.\n",
    "\n",
    "* `.collect(Collectors.toList())`: mediante el método `.collect` indicamos que hacer con los objetos de la clase `BookDTO` que devuelve `map`. El método `Collectors.toList()`, que pasamos como parámetro de `collect`, indica a `collect` que devuelva un listado de los objetos devueltos por `map`, es decir, un listado de objetos de tipo `BookDTO`, que es lo que el método `readALl` tiene que devolver según la definición del mismo."
   ]
  },
  {
   "cell_type": "code",
   "execution_count": null,
   "metadata": {},
   "outputs": [],
   "source": [
    "@Service\n",
    "public class BookServiceImplement implements BookService {\n",
    "\n",
    "    @Autowired\n",
    "    private BookRepository bookRepository;\n",
    "\n",
    "    @Override\n",
    "    public void create(Book book) {\n",
    "        bookRepository.save(book);\n",
    "    }\n",
    "\n",
    "    @Override\n",
    "    public List<BookDTO> readAll() {\n",
    "        return bookRepository.findAll().stream()\n",
    "                .map(book -> new BookDTO(book))\n",
    "                .collect(Collectors.toList());\n",
    "    }\n",
    "}"
   ]
  },
  {
   "cell_type": "markdown",
   "metadata": {},
   "source": [
    "# H2 database test"
   ]
  },
  {
   "cell_type": "markdown",
   "metadata": {},
   "source": [
    "Configuramos la clase principal del proyecto, en este caso llamada `StockApplication`, para crear las tablas y registros de prueba mediante la base de datos de H2.\n",
    "\n",
    "* `@SpringBootApplication`: mediante la `annotation @SpringBootApplication` indicamos que el proyecto es, justamente, una aplicación de SpringBoot.\n",
    "\n",
    "* `@Bean`: mediante la `annotation @Bean` indicamos que el método de la siguiente línea se ejecute al momento de iniciar la aplicación.\n",
    "\n",
    "* Lo que indicamos entre `{...}` de la función flecha que trabaja sobre `args`, del `return` del método `initData`, se va a ejecutar al iniciar la aplicación. Es decir, todo lo indicado entre las llaves de esta estructura se ejecutara al momento del levantar el servidor.\n",
    "\n",
    "* `Book book01 = new Book(...)`: mediante esta sentencia creamos un objeto de la clase Book, con los parámetros correspondientes, y lo guardamos en la variable `book01` de tipo `Book`.\n",
    "\n",
    "* `bookService.createBook(book01)`: llamamos al método `createBook` de la interface `bookService` y pasamos como parámetro el objeto `book01` que creamos anteriormente. El método `createBook` va a generar un nuevo registro en la tabla book de la base de datos con los atributos del objeto `book01`."
   ]
  },
  {
   "cell_type": "code",
   "execution_count": null,
   "metadata": {},
   "outputs": [],
   "source": [
    "@SpringBootApplication\n",
    "public class StockApplication {\n",
    "\n",
    "    @Autowired\n",
    "    BookService bookService;\n",
    "\n",
    "    public static void main(String[] args) {\n",
    "        SpringApplication.run(StockApplication.class, args);\n",
    "    }\n",
    "\n",
    "    @Bean\n",
    "    public CommandLineRunner initData() {\n",
    "        return (args -> {\n",
    "\n",
    "            Book book01 = new Book(\"9788466619523\", \"A través del tiempo\", LocalDate.of(2018, 11, 22), \"El doctor Brian Weiss, analiza en este libro la capacidad de curación de la terapia de regresión a vidas pasadas.\");\n",
    "            \n",
    "            bookService.createBook(book01);\n",
    "\n",
    "        });\n",
    "    }\n",
    "}"
   ]
  },
  {
   "cell_type": "markdown",
   "metadata": {},
   "source": [
    "# Controller"
   ]
  },
  {
   "cell_type": "markdown",
   "metadata": {},
   "source": [
    "Generamos un nuevo `package` llamado `controllers`. En este vamos a guardar clases que van a responder peticiones de métodos HTTP. Dentro del `package controllers` creamos la clase llamada `BookController`. Configuramos la clase de la siguiente manera.\n",
    "\n",
    "* `@RestController`: la `annotation @RestController` indica que la clase a continuación va a recibir peticiones de una arquitectura `REST` mediante métodos `HTTP`.\n",
    "\n",
    "* `@RequestMapping(\"/api\")`: mediante la `annotation @RequestMapping` indicamos que la clase a continuación va a recibir solicitudes web desde la ruta que indicamos en el parámetro del método `(\"/api\")`.\n",
    "\n",
    "* `@GetMapping(\"/books\")`: la `annotation @GetMapping` funciona de la misma manera que `@RequestMapping` solo que en este caso es específica para peticiones `HTTP` de tipo `GET` para el método que tiene declarado a continuación. La ruta que pasamos como parámetro del método, `(\"/books\")`, se complementa con la ruta del `@RequestMapping` de la clase, por lo que la llamada a este método se hará desde la ruta \"/api/books\" y deberá ser de tipo `GET`."
   ]
  },
  {
   "cell_type": "code",
   "execution_count": null,
   "metadata": {},
   "outputs": [],
   "source": [
    "@RestController\n",
    "@RequestMapping(\"/api\")\n",
    "public class BookController {\n",
    "\n",
    "    @Autowired\n",
    "    BookService bookService;\n",
    "\n",
    "    @GetMapping(\"/books\")\n",
    "    public List<BookDTO> readAll(){\n",
    "        return bookService.readAll();\n",
    "    }\n",
    "}"
   ]
  },
  {
   "cell_type": "markdown",
   "metadata": {},
   "source": [
    "# Test controller"
   ]
  },
  {
   "cell_type": "markdown",
   "metadata": {},
   "source": [
    "Mediante el archivo `Controller test.ipynb`, que es un documento de jupyter notebook, corremos el primer test para probar el método `readAll` del controlador `BookController`. Ya que la respuesta de este método va a cambiar a medida que modifiquemos el controlador es que traemos una imagen de lo que nos devuelve la prueba. Para llamar al método `readAll` utilizamos el método `HTTP GET` como sigue. Si hacemos clic sobre la ruta también vamos a poder ver la respuesta en el navegador. En caso de que la respuesta sea de error debemos verificar que esté iniciado el servidor y como está configurado el método en el controlador"
   ]
  },
  {
   "cell_type": "markdown",
   "metadata": {},
   "source": [
    "> GET http://localhost:8080/api/books"
   ]
  },
  {
   "cell_type": "markdown",
   "metadata": {},
   "source": [
    "![http_get_books_01]()"
   ]
  },
  {
   "cell_type": "markdown",
   "metadata": {},
   "source": [
    "![http_get_books_02]()"
   ]
  },
  {
   "cell_type": "markdown",
   "metadata": {},
   "source": []
  }
 ],
 "metadata": {
  "kernelspec": {
   "display_name": "Java",
   "language": "java",
   "name": "java"
  },
  "language_info": {
   "codemirror_mode": "java",
   "file_extension": ".jshell",
   "mimetype": "text/x-java-source",
   "name": "java",
   "pygments_lexer": "java",
   "version": "3.11.4"
  },
  "orig_nbformat": 4,
  "polyglot_notebook": {
   "kernelInfo": {
    "defaultKernelName": "csharp",
    "items": [
     {
      "aliases": [],
      "name": "csharp"
     }
    ]
   }
  }
 },
 "nbformat": 4,
 "nbformat_minor": 2
}
