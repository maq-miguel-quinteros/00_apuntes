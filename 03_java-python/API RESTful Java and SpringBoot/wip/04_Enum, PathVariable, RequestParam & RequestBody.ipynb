{
 "cells": [
  {
   "cell_type": "markdown",
   "metadata": {},
   "source": [
    "# Enums\n"
   ]
  },
  {
   "cell_type": "markdown",
   "metadata": {},
   "source": [
    "Generamos un nuevo `package` llamado `enums`. Los enums son un tipo de dato que, en las bases de datos, solo puede tomar el valor de una lista de `String` predefinida para este. Dentro del `package enums` creamos una nuevo enum llamado `BookGenres` y le asignamos la siguiente lista de valores.\n"
   ]
  },
  {
   "cell_type": "code",
   "execution_count": null,
   "metadata": {},
   "outputs": [],
   "source": [
    "public enum BookGenres {\n",
    "\n",
    "    ADVENTURE, SCIENCE_FICTION, POLICE, TERROR, MYSTERY, ROMANCE, MYTHOLOGY, THEATER, TALE, SELF_HELP, FINANCE\n",
    "}"
   ]
  },
  {
   "cell_type": "markdown",
   "metadata": {},
   "source": [
    "# PathVariable\n"
   ]
  },
  {
   "cell_type": "markdown",
   "metadata": {},
   "source": [
    "## Update BookService\n"
   ]
  },
  {
   "cell_type": "markdown",
   "metadata": {},
   "source": [
    "Actualizamos la definición de la interface `BookService` agregando el método `findById` que, en su implementación, nos va a permitir encontrar un libro por su `id`. Por razones de extensión del documento solo copiamos el método que se agrega y no la totalidad de la interface.\n"
   ]
  },
  {
   "cell_type": "code",
   "execution_count": null,
   "metadata": {},
   "outputs": [],
   "source": [
    "public interface BookService {\n",
    "\n",
    "    // READ:  FIND BY\n",
    "    BookDTO findById(Long id);\n",
    "}"
   ]
  },
  {
   "cell_type": "markdown",
   "metadata": {},
   "source": [
    "### Update BookServiceImplement\n"
   ]
  },
  {
   "cell_type": "markdown",
   "metadata": {},
   "source": [
    "Actualizamos la definición de la clase `BookServiceImplement` implementando el método `findById` y lo configuramos como sigue. Por razones de extensión del documento solo copiamos el método que se agrega y no la totalidad de la interface.\n",
    "\n",
    "- `bookRepository.findById().map()`: mediante el método `findById`, heredado por `BookRepository` de `JpaRepository`, traemos el registro guardado en la tabla Book de la base de datos cuyo campo `id` sea el pasado por parámetro al método. El método `.map()` que acompaña a `findAll` nos permite trabajar sobre el objeto devuelto y generar con él un nuevo objeto de la clase BookDTO.\n",
    "\n",
    "- `.orElse(null)`: mediante el método `.orElse()` indicamos que, si la búsqueda por id anterior no devuelve un resultado, el método principal devuelve lo que pasamos por parámetro a `.orElse()`, que en este caso es `null`.\n"
   ]
  },
  {
   "cell_type": "code",
   "execution_count": null,
   "metadata": {},
   "outputs": [],
   "source": [
    "@Service\n",
    "public class BookServiceImplement implements BookService {\n",
    "\n",
    "    @Autowired\n",
    "    private BookRepository bookRepository;\n",
    "\n",
    "    @Override\n",
    "    public BookDTO findById(Long id) {\n",
    "        return bookRepository.findById(id)\n",
    "                .map(book -> new BookDTO(book))\n",
    "                .orElse(null);\n",
    "    }\n",
    "}"
   ]
  }
 ],
 "metadata": {
  "kernelspec": {
   "display_name": "Java",
   "language": "java",
   "name": "java"
  },
  "language_info": {
   "name": "java"
  },
  "orig_nbformat": 4
 },
 "nbformat": 4,
 "nbformat_minor": 2
}
