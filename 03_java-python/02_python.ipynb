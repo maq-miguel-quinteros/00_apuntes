{
 "cells": [
  {
   "attachments": {},
   "cell_type": "markdown",
   "metadata": {},
   "source": [
    "# Python"
   ]
  },
  {
   "attachments": {},
   "cell_type": "markdown",
   "metadata": {},
   "source": [
    "## Día 01"
   ]
  },
  {
   "attachments": {},
   "cell_type": "markdown",
   "metadata": {},
   "source": [
    "### Instalar Python"
   ]
  },
  {
   "attachments": {},
   "cell_type": "markdown",
   "metadata": {},
   "source": [
    "Desde la siguiente web descargamos [Python](https://www.python.org/). La misma reconoce el sistema operativo que tenemos instalado y recomienda la versión a descargar. En las opciones de instalación tenemos que tildar la que dice _agregar Python 3.10 a la ruta_ o similar. Puede aparecer una opción preguntando si queremos _desactivar el límite para el largo de la ruta_ o similar, tildamos esta opción también."
   ]
  },
  {
   "attachments": {},
   "cell_type": "markdown",
   "metadata": {},
   "source": [
    "### Instalar un IDE"
   ]
  },
  {
   "attachments": {},
   "cell_type": "markdown",
   "metadata": {},
   "source": [
    "Python, como cualquier otro lenguaje de programación, puede ser escritor en cualquier programa de edición de texto. Existen aplicaciones especificas que usamos para programar con python llamadas IDE, que significa, Entorno Integrado de Desarrollo. Son entornos virtuales que integran todas las funcionalidades de python y permiten desarrollar código en ellas. El IDE con el que trabajamos en el curso es `PyCharm`. Desde la siguiente web descargamos [PyCharm](https://www.jetbrains.com/pycharm/download/?source=google&medium=cpc&campaign=14127625370&gclid=CjwKCAiAv_KMBhAzEiwAs-rX1E69P0BVt7lxCoibh3yc-_pm1cxARFzrlXOhX_Gm3pTbTP5pqkZILBoCBgYQAvD_BwE#section=windows). Al ejecutar el IDE por primera vez nos consulta si queremos importar los ajustes de PyCharm, indicamos que no."
   ]
  },
  {
   "attachments": {},
   "cell_type": "markdown",
   "metadata": {},
   "source": [
    "### Declaración `print`"
   ]
  },
  {
   "attachments": {},
   "cell_type": "markdown",
   "metadata": {},
   "source": [
    "La declaración `print` al ejecutarse muestra (o imprime) en pantalla el argumento que se introduce dentro de los paréntesis. Esta declaración puede imprimir texto, números o funciones."
   ]
  },
  {
   "attachments": {},
   "cell_type": "markdown",
   "metadata": {},
   "source": [
    "_Mostrar texto_: ingresamos entre comillas simples o dobles los caracteres de texto que deben mostrarse en pantalla. Si necesitamos que el texto que se imprime además tenga comillas en alguna palabra podemos, por ejemplo, a las comillas exteriores que indican cual es el texto a imprimir, hacerlas simples, y a las comillas interiores, que son parte del texto a imprimir, hacerlas dobles, o viceversa."
   ]
  },
  {
   "cell_type": "code",
   "execution_count": null,
   "metadata": {},
   "outputs": [],
   "source": [
    "print(\"Hola mundo\")\n",
    "print('Hola mundo con \"algo\" entre comillas en el texto')"
   ]
  },
  {
   "attachments": {},
   "cell_type": "markdown",
   "metadata": {},
   "source": [
    "_Mostrar números_: Podemos entregarle a print() el número que debe mostrar, o una operación matemática a resolver. No empleamos comillas en estos casos."
   ]
  },
  {
   "cell_type": "code",
   "execution_count": null,
   "metadata": {},
   "outputs": [],
   "source": [
    "print(100)\n",
    "print(150 + 50)"
   ]
  },
  {
   "attachments": {},
   "cell_type": "markdown",
   "metadata": {},
   "source": [
    "### Tipo de dato `string`"
   ]
  },
  {
   "attachments": {},
   "cell_type": "markdown",
   "metadata": {},
   "source": [
    "Los strings en Python son un tipo de dato formado por cadenas (o secuencias) de caracteres de cualquier tipo, es decir, letras, números, símbolos matemáticos, signos de puntuación, etc., formando un texto. Usamos las comillas `\"\"` para indicar donde comienza y donde termina nuestra cadena de caracteres. Todo lo que sea un `string`, es decir, una cadena de caracteres, va a ser tratado como texto, por lo que sobre estos tipos de datos no vamos a poder realizar operaciones matemáticas por ejemplo."
   ]
  },
  {
   "attachments": {},
   "cell_type": "markdown",
   "metadata": {},
   "source": [
    "La _concatenación_ es la unificación de `string` o cadenas de caracteres. Para hacer esta concatenación utilizamos el operador `+`."
   ]
  },
  {
   "cell_type": "code",
   "execution_count": null,
   "metadata": {},
   "outputs": [],
   "source": [
    "print(\"Hola\" + \" \" + \"mundo\")"
   ]
  },
  {
   "attachments": {},
   "cell_type": "markdown",
   "metadata": {},
   "source": [
    "Con los _Caracteres especiales_: Indicamos a la consola que el carácter a continuación del símbolo `\\` debe ser tratado como un carácter especial.\n",
    "* `\\\"`: Imprime comillas\n",
    "* `\\n`: Separa texto en una nueva linea\n",
    "* `\\t`: Imprime un tabulador\n",
    "* `\\\\`: Imprime la barra invertida textualmente"
   ]
  },
  {
   "cell_type": "code",
   "execution_count": null,
   "metadata": {},
   "outputs": [],
   "source": [
    "print(\"Hola mundo con \\\"algo\\\" entre comillas\")\n",
    "print(\"Esta es una línea\\nY esta es otra línea\")"
   ]
  },
  {
   "attachments": {},
   "cell_type": "markdown",
   "metadata": {},
   "source": [
    "### Función `input`"
   ]
  },
  {
   "attachments": {},
   "cell_type": "markdown",
   "metadata": {},
   "source": [
    "La función `input` que permite al usuario introducir información por medio del teclado al ejecutarse, otorgándole una instrucción acerca del ingreso solicitado. El código continuará ejecutándose luego de que el usuario realice la acción. Para solicitar datos al usuario utilizamos la función `input` y entre `()` podemos poner un menaje que va a ver el usuario antes del espacio para ingresar los datos."
   ]
  },
  {
   "cell_type": "code",
   "execution_count": null,
   "metadata": {},
   "outputs": [],
   "source": [
    "input(\"Dime tu nombre: \")"
   ]
  },
  {
   "attachments": {},
   "cell_type": "markdown",
   "metadata": {},
   "source": [
    "Podemos utilizar la función `input` junto con la declaración `print` para solicitar datos y mostrarlos en pantalla."
   ]
  },
  {
   "cell_type": "code",
   "execution_count": 1,
   "metadata": {},
   "outputs": [
    {
     "name": "stdout",
     "output_type": "stream",
     "text": [
      "Tu nombre es miguel\n"
     ]
    }
   ],
   "source": [
    "print(\"Tu nombre es \" + input(\"Dime tu nombre: \"))"
   ]
  },
  {
   "attachments": {},
   "cell_type": "markdown",
   "metadata": {},
   "source": [
    "### Proyecto día 01"
   ]
  },
  {
   "attachments": {},
   "cell_type": "markdown",
   "metadata": {},
   "source": [
    "__Llegó el momento más esperado de tu primer día de estudio. Vas a crear tu primer programa  solo y lo vas a hacer aplicando todo lo que has aprendido a lo largo de esta jornada.__ Imagina  esta situación: tu mejor amigo ha puesto una fábrica de cerveza y tiene todo listo. Su producto  es fantástico, tiene cuerpo, buen sabor, buen color, el nivel justo de espuma… pero le falta una identidad. No se le ocurre qué nombre ponerle su cerveza para que tenga una identidad única y original. Entonces vienes tú y le dices \"No te preocupes, yo voy a crear un programa que te  va a hacer dos preguntas y luego te va a decir cuál es el nombre de tu cerveza\". Así de simple.\n",
    "\n",
    "Ya sé que en el mundo real no necesitaríamos desarrollar un software solo para hacer dos preguntas, pero hasta que aprendamos más funcionalidades los programas van a tener que mantenerse en el terreno de lo simple. Igualmente, si está recién comenzando, este va a ser todo un desafío.\n",
    "\n",
    "__Vas a crear un código en Python que le pida a tu amigo que responda dos preguntas que requieran una sola palabra cada una y que luego le muestre en pantalla esas palabras combinadas, para formar una marca creativa.__\n",
    "\n",
    "Puedes usar las preguntas que quieras. La idea es que el resultado sea original, creativo, y hasta cómico, y si quieres agregar dificultad al desafío, te sugiero que intentes que el nombre de la cerveza se imprima entre comillas. Recuerda que hay diferentes formas de que la función `print` muestre las comillas sin cortar el `string`, y que ingrese la impresión final en al menos dos líneas utilizando saltos de línea dentro del código.\n",
    "\n",
    "Intenta hacerlo por tu cuenta y si se complica, no te preocupes, en la próxima elección lo vamos a resolver juntos."
   ]
  },
  {
   "cell_type": "code",
   "execution_count": 5,
   "metadata": {},
   "outputs": [
    {
     "name": "stdout",
     "output_type": "stream",
     "text": [
      "Cerveza\n",
      "\"Gato de Batman\"\n",
      "Superheróica\n"
     ]
    }
   ],
   "source": [
    "print('Cerveza\\n\"' + input(\"¿Tu animal favorito?\") + ' de ' + input(\"¿Tu super héroe favorito?\") + '\"\\n Es superheróica')"
   ]
  },
  {
   "attachments": {},
   "cell_type": "markdown",
   "metadata": {},
   "source": [
    "## Día 02"
   ]
  },
  {
   "attachments": {},
   "cell_type": "markdown",
   "metadata": {},
   "source": [
    "### Tipos de datos"
   ]
  },
  {
   "attachments": {},
   "cell_type": "markdown",
   "metadata": {},
   "source": [
    "En Python tenemos varios tipos o estructuras de datos, que son fundamentales en programación ya que almacenan información, y nos permiten manipularla.\n",
    "* Texto: se definen como `str`. Cualquier palabra, símbolo o número que este entre `\"\"` es un tipo de dato de texto o string.\n",
    "\n",
    "* Números: se definen como:\n",
    "    * `int`: cualquier número entero, positivo o negativo, es un integer o `int`.\n",
    "    \n",
    "    * `float`: cualquier número real, es decir, con coma decimal, positivo o negativo es un floating o `float`.\n",
    "* Booleanos: se definen como `bool`. Pueden tomar el valor de `true` o `false`. Se utiliza para tomar decisiones, permitiendo conocer si una condición dentro del programa se cumple o no."
   ]
  },
  {
   "attachments": {},
   "cell_type": "markdown",
   "metadata": {},
   "source": [
    "* Listas: se definen como `list`. Es una colección ordenada de objetos. Las listas se escriben entre `[]` y puede tener muchos datos del mismo tipo o una colección de datos de distinto tipo. Las listas tiene un orden en sus elementos, es decir, que cada elemento tiene un lugar numerado dentro de la lista, o índice, que va desde 0 hasta el último elemento de la lista.\n",
    "\n",
    "* Diccionarios: se definen como `dic`. Los diccionarios se escriben entre `{}` y consiste en pares de palabras agrupados. Cada par de palabras tiene 2 elementos `clave : valor`. Los pares no están ordenados mediante un índice dentro del diccionario.\n",
    "* Tuples: se definen como `tuple`. Es una colección ordenada de elementos. Los tuples se escriben entre `()` y puede tener muchos datos del mismo tipo o una colección de datos de distinto tipo. Los tuples tiene un orden en sus elementos, es decir, que cada elemento tiene un lugar numerado dentro del tuple, o índice, que va desde 0 hasta el último elemento del tuple, pero a diferencia de las listas, este lugar es inmutable, es decir, que no se pueden agregar quitar o modificar el orden de elementos del tuple.\n",
    "* Sets: se definen como `set`. Es una colección ordenada de elementos únicos. Los sets se escriben entre `{}` y puede tener muchos datos del mismo tipo o una colección de datos de distinto tipo, solo que cada uno de estos elementos es único, es decir, que solo puede haber uno solo de cada elemento en el set, los elementos son irrepetibles."
   ]
  },
  {
   "attachments": {},
   "cell_type": "markdown",
   "metadata": {},
   "source": [
    "| Estructuras | mutable | ordenado | duplicados |\n",
    "| --- | --- | --- | --- |\n",
    "| listas [] | si | si | si |\n",
    "| tuples () | no | si | si |\n",
    "| sets {} | si | no | no |\n",
    "| diccionarios {} | si | no * | no : si *** |\n",
    "\n",
    "\\* En Python 3.7+, existen consideraciones. ** `key` es única, `value` puede repetirse."
   ]
  },
  {
   "attachments": {},
   "cell_type": "markdown",
   "metadata": {},
   "source": [
    "### Variables"
   ]
  },
  {
   "attachments": {},
   "cell_type": "markdown",
   "metadata": {},
   "source": [
    "Las variables son espacios de memoria que almacenan valores o datos de distintos tipos, y (como su nombre indica) pueden variar. Las variables se crean en el momento que se les asigna un valor, por lo cual en Python no requerimos declararlas previamente."
   ]
  },
  {
   "cell_type": "code",
   "execution_count": 1,
   "metadata": {},
   "outputs": [
    {
     "name": "stdout",
     "output_type": "stream",
     "text": [
      "México\n",
      "100\n",
      "Tu nombre es Miguel\n"
     ]
    }
   ],
   "source": [
    "pais = \"México\"\n",
    "print(pais)\n",
    "\n",
    "pais = \"Argentina\"\n",
    "print(pais)\n",
    "\n",
    "num1 = 55\n",
    "num2 = 45\n",
    "print(num1 + num2)\n",
    "\n",
    "nombre = input(\"Escribe tu nombre: \")\n",
    "print(\"Tu nombre es \" + nombre)"
   ]
  },
  {
   "attachments": {},
   "cell_type": "markdown",
   "metadata": {},
   "source": [
    "#### Nombres de variables"
   ]
  },
  {
   "attachments": {},
   "cell_type": "markdown",
   "metadata": {},
   "source": [
    "Existen convenciones y buenas prácticas asociadas al nombre de las variables creadas en Python. Las mismas tienen la intención de facilitar la interpretabilidad y mantenimiento del código creado. Las reglas son:\n",
    "1. __Legible__: nombre de la variable es relevante según su contenido.\n",
    "\n",
    "2. __Unidad__: no existen espacios (puedes incorporar guiones bajos).\n",
    "3. __Hispanismos__: omitir signos específicos del idioma español, como tildes o la letra `ñ`.\n",
    "4. __Números__: los nombres de las variables no deben empezar por números (aunque pueden contenerlos al final)\n",
    "5. __Signos/símbolos__: no se deben incluir : `\" ' , < > / ? | \\ ( ) ! @ # $ % ^ & * ~ - +`.\n",
    "6. __Palabras clave__: no utilizamos palabras reservadas por Python."
   ]
  },
  {
   "attachments": {},
   "cell_type": "markdown",
   "metadata": {},
   "source": [
    "### Tipos de datos `int` y `float`"
   ]
  },
  {
   "attachments": {},
   "cell_type": "markdown",
   "metadata": {},
   "source": [
    "Existen dos tipos de datos numéricos básicos en Python: `int` y `float`. Como toda variable en Python, su tipo queda definido al asignarle un valor a una variable. La función `type()` nos permite obtener el tipo de valor almacenado en una variable."
   ]
  },
  {
   "attachments": {},
   "cell_type": "markdown",
   "metadata": {},
   "source": [
    "#### Tipo de dato `int`"
   ]
  },
  {
   "attachments": {},
   "cell_type": "markdown",
   "metadata": {},
   "source": [
    "EL tipo de dato `int`, o `integer`, es un número entero, positivo o negativo, sin decimales, de un largo indeterminado. Podemos utilizarlo para indicar edades, cantidades de población, días restantes o un número de cliente."
   ]
  },
  {
   "cell_type": "code",
   "execution_count": 4,
   "metadata": {},
   "outputs": [
    {
     "name": "stdout",
     "output_type": "stream",
     "text": [
      "<class 'int'>\n",
      "10\n",
      "<class 'int'>\n"
     ]
    }
   ],
   "source": [
    "num1 = 7\n",
    "print(type(num1))\n",
    "\n",
    "num1 = 7 + 3\n",
    "print(num1)\n",
    "print(type(num1))"
   ]
  },
  {
   "attachments": {},
   "cell_type": "markdown",
   "metadata": {},
   "source": [
    "#### Tipo de dato `float`"
   ]
  },
  {
   "attachments": {},
   "cell_type": "markdown",
   "metadata": {},
   "source": [
    "El tipo de dato `float`, o \"número de punto flotante\", es un número que puede ser positivo o negativo, que a su vez contiene una o más posiciones decimales. Podemos utilizar para temperaturas, precios o medidas."
   ]
  },
  {
   "cell_type": "code",
   "execution_count": 3,
   "metadata": {},
   "outputs": [
    {
     "name": "stdout",
     "output_type": "stream",
     "text": [
      "<class 'float'>\n",
      "10.525587\n",
      "<class 'float'>\n"
     ]
    }
   ],
   "source": [
    "num2 = 7.525587\n",
    "print(type(num2))\n",
    "\n",
    "num2 = 7.525587 + 3\n",
    "print(num2)\n",
    "print(type(num2))"
   ]
  },
  {
   "attachments": {},
   "cell_type": "markdown",
   "metadata": {},
   "source": [
    "### Conversiones entre tipos de datos"
   ]
  },
  {
   "attachments": {},
   "cell_type": "markdown",
   "metadata": {},
   "source": [
    "Todos los valores que ingresamos por `input()` son tomados como cadenas de texto `string` o `str`. Esto puede generar que, si tratamos de sumar un valor `int` al valor que obtenemos mediante la función `input()` tengamos un error."
   ]
  },
  {
   "cell_type": "code",
   "execution_count": 6,
   "metadata": {},
   "outputs": [
    {
     "name": "stdout",
     "output_type": "stream",
     "text": [
      "Tu edad es: 37\n",
      "<class 'str'>\n"
     ]
    },
    {
     "ename": "TypeError",
     "evalue": "unsupported operand type(s) for +: 'int' and 'str'",
     "output_type": "error",
     "traceback": [
      "\u001b[0;31m---------------------------------------------------------------------------\u001b[0m",
      "\u001b[0;31mTypeError\u001b[0m                                 Traceback (most recent call last)",
      "Cell \u001b[0;32mIn[6], line 6\u001b[0m\n\u001b[1;32m      3\u001b[0m \u001b[39mprint\u001b[39m(\u001b[39mtype\u001b[39m(edad))\n\u001b[1;32m      5\u001b[0m \u001b[39m# va a dar un error por que no podemos sumar a un número int una cadena de texto str\u001b[39;00m\n\u001b[0;32m----> 6\u001b[0m nueva_edad \u001b[39m=\u001b[39m \u001b[39m1\u001b[39;49m \u001b[39m+\u001b[39;49m edad\n\u001b[1;32m      7\u001b[0m \u001b[39mprint\u001b[39m(\u001b[39m\"\u001b[39m\u001b[39mTu edad en un año va a ser: \u001b[39m\u001b[39m\"\u001b[39m \u001b[39m+\u001b[39m nueva_edad)\n",
      "\u001b[0;31mTypeError\u001b[0m: unsupported operand type(s) for +: 'int' and 'str'"
     ]
    }
   ],
   "source": [
    "edad = input(\"Ingresa tu edad: \")\n",
    "print(\"Tu edad es: \" + edad)\n",
    "print(type(edad))\n",
    "\n",
    "# va a dar un error por que no podemos sumar a un número int una cadena de texto str\n",
    "nueva_edad = 1 + edad\n",
    "print(\"Tu edad en un año va a ser: \" + nueva_edad)"
   ]
  },
  {
   "attachments": {},
   "cell_type": "markdown",
   "metadata": {},
   "source": [
    "EL proceso de convertir un tipo de dato en otro se llama _casting_. Existen 2 tipos de conversiones, las implícitas y las explÍcitas. Python realiza conversiones implícitas de tipos de datos automáticamente para operar con valores numéricos. En otros casos, necesitaremos generar una conversión de manera explícita, es decir, nosotros indicamos a Python realizar la conversión."
   ]
  },
  {
   "cell_type": "code",
   "execution_count": 2,
   "metadata": {},
   "outputs": [
    {
     "name": "stdout",
     "output_type": "stream",
     "text": [
      "<class 'int'>\n",
      "<class 'float'>\n",
      "<class 'float'>\n",
      "<class 'float'>\n",
      "5.8\n",
      "<class 'float'>\n",
      "5\n",
      "<class 'int'>\n",
      "Tu edad es: 37\n",
      "<class 'str'>\n",
      "Tu edad en un año va a ser: 38\n",
      "<class 'str'>\n"
     ]
    }
   ],
   "source": [
    "\"\"\" CONVERSIÓN IMPLÍCITA \"\"\"\n",
    "num1 = 30\n",
    "num2 = 30.5\n",
    "print(type(num1))\n",
    "print(type(num2))\n",
    "\n",
    "# hace un conversión implícita de num1\n",
    "num1 = num1 + num2\n",
    "\n",
    "print(type(num1))\n",
    "print(type(num2))\n",
    "\n",
    "\n",
    "\"\"\" CONVERSIÓN EXPLÍCITA\"\"\"\n",
    "num1 = 5.8\n",
    "print(num1)\n",
    "print(type(num1))\n",
    "\n",
    "# mediante la función int() hacemos la conversión explícita del valor de num1 a integer\n",
    "num2 = int(num1)\n",
    "print(num2)\n",
    "print(type(num2))\n",
    "\n",
    "\n",
    "\"\"\" EJEMPLO ANTERIOR \"\"\"\n",
    "edad = input(\"Ingresa tu edad: \")\n",
    "print(\"Tu edad es: \" + edad)\n",
    "print(type(edad))\n",
    "\n",
    "# convertimos edad en integer\n",
    "nueva_edad = 1 + int(edad)\n",
    "\n",
    "# convertimos nueva_edad en string\n",
    "print(\"Tu edad en un año va a ser: \" + str(nueva_edad))\n",
    "print(type(edad))\n",
    "print(type(nueva_edad))"
   ]
  },
  {
   "attachments": {},
   "cell_type": "markdown",
   "metadata": {},
   "source": [
    "### Formatear cadenas"
   ]
  },
  {
   "attachments": {},
   "cell_type": "markdown",
   "metadata": {},
   "source": [
    "Para facilitar la concatenación de variables y texto en Python, contamos con dos herramientas que nos evitan manipular las variables, para incorporarlas directamente al texto:\n",
    "* __Función format__: se encierra las posiciones de las variables entre corchetes `{}`, y a continuación del `string` llamamos a las variables con la función `format`.\n",
    "    * `print(\"Mi auto es {} y de matrícula {}\".format(color_auto,matricula))`.\n",
    "* __Cadenas literales__ `f-strings`: a partir de Python 3.8, podemos anticipar la concatenación de variables anteponiendo `f` al `string`\n",
    "    * `print(f\"Mi auto es {color_auto} y de matrícula {matricula}\")`."
   ]
  },
  {
   "cell_type": "code",
   "execution_count": 3,
   "metadata": {},
   "outputs": [
    {
     "name": "stdout",
     "output_type": "stream",
     "text": [
      "Mis números son 10 y 5\n",
      "Mis números son 10 y 5\n",
      "La suma de 10 y 5 es igual a 15\n",
      "Mis números son 10 y 5\n",
      "La suma de 10 y 5 es igual a 15\n"
     ]
    }
   ],
   "source": [
    "x = 10\n",
    "y = 5\n",
    "\n",
    "# mediante concatenaciones y conversiones\n",
    "print(\"Mis números son \" + str(x) + \" y \" + str(y))\n",
    "\n",
    "# mediante la función format\n",
    "print(\"Mis números son {} y {}\".format(x,y))\n",
    "print(\"La suma de {} y {} es igual a {}\".format(x,y,x+y))\n",
    "\n",
    "# mediante cadenas literales\n",
    "print(f\"Mis números son {x} y {y}\")\n",
    "print(f\"La suma de {x} y {y} es igual a {x+y}\")"
   ]
  },
  {
   "attachments": {},
   "cell_type": "markdown",
   "metadata": {},
   "source": [
    "### Operadores matemáticos"
   ]
  },
  {
   "attachments": {},
   "cell_type": "markdown",
   "metadata": {},
   "source": [
    "Veamos cuáles son los operadores matemáticos básicos de Python, que utilizaremos para realizar cálculos:\n",
    "* Suma: `+`\n",
    "\n",
    "* Resta: `-`\n",
    "* Multiplicación: `*`\n",
    "* División: `/`, que devuelve un valor de tipo `float` aunque su divisor y dividendo sean `int`.\n",
    "* Cociente (división \"al piso\"): `//`, que devuelve un valor de tipo `int` en lugar de `float`, a los valores decimales del resultado de la división los descarta.\n",
    "* Resto (módulo): `%`, que es útil para detectar valores pares.\n",
    "* Potencia: `**`\n",
    "* Raíz cuadrada: `**0.5`, que es un caso especial de la potencia."
   ]
  },
  {
   "attachments": {},
   "cell_type": "markdown",
   "metadata": {},
   "source": [
    "### Redondeo"
   ]
  },
  {
   "attachments": {},
   "cell_type": "markdown",
   "metadata": {},
   "source": [
    "El redondeo facilita la interpretación de los valores calculados al limitar la cantidad de decimales que se muestran en pantalla. También, nos permite aproximar valores decimales al entero más próximo. Para hacerlo utilizamos la función `round(valor_variable, cantidad_decimales)`, donde `valor_variable` puede ser un número, una operación, una variable o una función, y `cantidad_decimales` son la cantidad de dígitos decimales que va a tener nuestro resultado y que, si no pasamos ningún valor, el resultado del redondeo va a ser un entero. El redondeo se hace hacia arriba o hacia abajo según sea el número mas cercano a 0 o a 9 redondeando el 5 hacia arriba."
   ]
  },
  {
   "cell_type": "code",
   "execution_count": 4,
   "metadata": {},
   "outputs": [
    {
     "name": "stdout",
     "output_type": "stream",
     "text": [
      "12.857142857142858\n",
      "13\n",
      "13\n",
      "12.86\n",
      "13\n",
      "<class 'int'>\n",
      "13\n",
      "<class 'float'>\n",
      "12.857142857142858\n"
     ]
    }
   ],
   "source": [
    "print(90/7)\n",
    "print(round(90/7))\n",
    "\n",
    "resultado = 90/7\n",
    "\n",
    "redondeo = round(resultado)\n",
    "print(redondeo)\n",
    "\n",
    "redondeo = round(resultado,2)\n",
    "print(redondeo)\n",
    "\n",
    "# el tipo de valor es int y cambia el contenido de la variable cuando hacemos round en una asignación\n",
    "valor = round(12.857142857142858)\n",
    "print(valor)\n",
    "print(type(valor))\n",
    "\n",
    "# el tipo de valor es float y no cambia el contenido de la variable ya que el round solo lo hacemos para mostrar por pantalla\n",
    "valor = 12.857142857142858\n",
    "print(round(valor))\n",
    "print(type(valor))\n",
    "print(valor)"
   ]
  },
  {
   "attachments": {},
   "cell_type": "markdown",
   "metadata": {},
   "source": [
    "### Proyecto día 02"
   ]
  },
  {
   "attachments": {},
   "cell_type": "markdown",
   "metadata": {},
   "source": [
    "__Felicitaciones.__ Ya terminaste de aprender todos los contenidos del segundo día y por eso estás en condiciones de crear un programa un poco más complejo. Ya sabes hacer operaciones matemáticas, conversiones de tipos de datos, formateo de cadenas de texto, redondeos... __Así que vamos, lo celebremos con un nuevo desafío.__\n",
    "\n",
    "__La situación es esta: tú trabajas en una empresa donde los vendedores reciben comisiones del 13% por sus ventas totales, y tu jefe quiere que ayudes a los vendedores a calcular sus comisiones creando un programa que les pregunte su nombre y cuánto han vendido en este mes. Tu programa le va a responder con una frase que incluya su nombre y el monto que le corresponde por las comisiones.__\n",
    "\n",
    "Esto no es un programa complejo, pero es entendible que pueda complicarse cuando estás aprendiendo. Por más que lo que has aprendido hasta ahora es muy simple, ponerlo todo junto en un solo programa puede ser complejo, por lo que te doy un par de ayudas:\n",
    "\n",
    "* Este programa debería comenzar preguntando cosas al usuario, por lo tanto, vas a necesitar `input` para poder recibir los ingresos del usuario y deberías usar variables para almacenar esos ingresos. Recuerda que los ingresos de usuarios se almacenan como `strings`. Por lo tanto, deberías convertir uno de esos ingresos en un `float` para poder hacer operaciones con él.\n",
    "\n",
    "* ¿Y qué operaciones necesitas hacer? Bueno, calcular el 13% del número que haya ingresado el usuario. Es decir, que debes multiplicar ese número por 13 y luego dividirlo por 100. Recuerda almacenar ese resultado en una variable.\n",
    "* Sería bueno que para imprimir en pantalla el resultado te asegures de que esa información no tenga más de dos decimales, para que sea fácil de leer, y luego organiza todo eso en un `string` al que debes dar formato. Recuerda que conocimos dos maneras de hacerlo y cualquiera de ellas es válida.\n",
    "\n",
    "No dejes de intentar resolverlo, y si se te complica, en la próxima lección lo hacemos juntos."
   ]
  },
  {
   "cell_type": "code",
   "execution_count": 5,
   "metadata": {},
   "outputs": [
    {
     "name": "stdout",
     "output_type": "stream",
     "text": [
      "Miguel, el día de hoy vendiste 2653.22517. Te corresponde una comisión de 344.92\n"
     ]
    }
   ],
   "source": [
    "nombre = input(\"¿Cual es tu nombre?\")\n",
    "venta = input(\"¿Cuanto vendiste hoy?\")\n",
    "print(f\"{nombre}, el día de hoy vendiste {venta}. Te corresponde una comisión de {(round(13*float(venta)/100,2))}\")"
   ]
  }
 ],
 "metadata": {
  "kernelspec": {
   "display_name": "Python 3",
   "language": "python",
   "name": "python3"
  },
  "language_info": {
   "codemirror_mode": {
    "name": "ipython",
    "version": 3
   },
   "file_extension": ".py",
   "mimetype": "text/x-python",
   "name": "python",
   "nbconvert_exporter": "python",
   "pygments_lexer": "ipython3",
   "version": "3.10.4"
  },
  "orig_nbformat": 4,
  "vscode": {
   "interpreter": {
    "hash": "3ad933181bd8a04b432d3370b9dc3b0662ad032c4dfaa4e4f1596c548f763858"
   }
  }
 },
 "nbformat": 4,
 "nbformat_minor": 2
}
