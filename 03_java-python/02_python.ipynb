{
 "cells": [
  {
   "attachments": {},
   "cell_type": "markdown",
   "metadata": {},
   "source": [
    "# Python"
   ]
  },
  {
   "attachments": {},
   "cell_type": "markdown",
   "metadata": {},
   "source": [
    "## Día 01"
   ]
  },
  {
   "attachments": {},
   "cell_type": "markdown",
   "metadata": {},
   "source": [
    "### Instalar Python"
   ]
  },
  {
   "attachments": {},
   "cell_type": "markdown",
   "metadata": {},
   "source": [
    "Desde la siguiente web descargamos [Python](https://www.python.org/). La misma reconoce el sistema operativo que tenemos instalado y recomienda la versión a descargar. En las opciones de instalación tenemos que tildar la que dice _agregar Python 3.10 a la ruta_ o similar. Puede aparecer una opción preguntando si queremos _desactivar el límite para el largo de la ruta_ o similar, tildamos esta opción también."
   ]
  },
  {
   "attachments": {},
   "cell_type": "markdown",
   "metadata": {},
   "source": [
    "### Instalar un IDE"
   ]
  },
  {
   "attachments": {},
   "cell_type": "markdown",
   "metadata": {},
   "source": [
    "Python, como cualquier otro lenguaje de programación, puede ser escritor en cualquier programa de edición de texto. Existen aplicaciones especificas que usamos para programar con python llamadas IDE, que significa, Entorno Integrado de Desarrollo. Son entornos virtuales que integran todas las funcionalidades de python y permiten desarrollar código en ellas. El IDE con el que trabajamos en el curso es `PyCharm`. Desde la siguiente web descargamos [PyCharm](https://www.jetbrains.com/pycharm/download/?source=google&medium=cpc&campaign=14127625370&gclid=CjwKCAiAv_KMBhAzEiwAs-rX1E69P0BVt7lxCoibh3yc-_pm1cxARFzrlXOhX_Gm3pTbTP5pqkZILBoCBgYQAvD_BwE#section=windows). Al ejecutar el IDE por primera vez nos consulta si queremos importar los ajustes de PyCharm, indicamos que no."
   ]
  },
  {
   "attachments": {},
   "cell_type": "markdown",
   "metadata": {},
   "source": [
    "### Declaración `print`"
   ]
  },
  {
   "attachments": {},
   "cell_type": "markdown",
   "metadata": {},
   "source": [
    "La declaración `print` al ejecutarse muestra (o imprime) en pantalla el argumento que se introduce dentro de los paréntesis. Esta declaración puede imprimir texto, números o funciones."
   ]
  },
  {
   "attachments": {},
   "cell_type": "markdown",
   "metadata": {},
   "source": [
    "_Mostrar texto_: ingresamos entre comillas simples o dobles los caracteres de texto que deben mostrarse en pantalla. Si necesitamos que el texto que se imprime además tenga comillas en alguna palabra podemos, por ejemplo, a las comillas exteriores que indican cual es el texto a imprimir, hacerlas simples, y a las comillas interiores, que son parte del texto a imprimir, hacerlas dobles, o viceversa."
   ]
  },
  {
   "cell_type": "code",
   "execution_count": 2,
   "metadata": {},
   "outputs": [
    {
     "name": "stdout",
     "output_type": "stream",
     "text": [
      "Hola mundo\n",
      "Hola mundo con \"algo\" entre comillas en el texto\n"
     ]
    }
   ],
   "source": [
    "print(\"Hola mundo\")\n",
    "print('Hola mundo con \"algo\" entre comillas en el texto')"
   ]
  },
  {
   "attachments": {},
   "cell_type": "markdown",
   "metadata": {},
   "source": [
    "_Mostrar números_: Podemos entregarle a print() el número que debe mostrar, o una operación matemática a resolver. No empleamos comillas en estos casos."
   ]
  },
  {
   "cell_type": "code",
   "execution_count": 3,
   "metadata": {},
   "outputs": [
    {
     "name": "stdout",
     "output_type": "stream",
     "text": [
      "100\n",
      "200\n"
     ]
    }
   ],
   "source": [
    "print(100)\n",
    "print(150 + 50)"
   ]
  },
  {
   "attachments": {},
   "cell_type": "markdown",
   "metadata": {},
   "source": [
    "### Tipo de dato `string`"
   ]
  },
  {
   "attachments": {},
   "cell_type": "markdown",
   "metadata": {},
   "source": [
    "Los strings en Python son un tipo de dato formado por cadenas (o secuencias) de caracteres de cualquier tipo, es decir, letras, números, símbolos matemáticos, signos de puntuación, etc., formando un texto. Usamos las comillas `\"\"` para indicar donde comienza y donde termina nuestra cadena de caracteres. Todo lo que sea un `string`, es decir, una cadena de caracteres, va a ser tratado como texto, por lo que sobre estos tipos de datos no vamos a poder realizar operaciones matemáticas por ejemplo."
   ]
  },
  {
   "attachments": {},
   "cell_type": "markdown",
   "metadata": {},
   "source": [
    "La _concatenación_ es la unificación de `string` o cadenas de caracteres. Para hacer esta concatenación utilizamos el operador `+`."
   ]
  },
  {
   "cell_type": "code",
   "execution_count": 4,
   "metadata": {},
   "outputs": [
    {
     "name": "stdout",
     "output_type": "stream",
     "text": [
      "Hola mundo\n"
     ]
    }
   ],
   "source": [
    "print(\"Hola\" + \" \" + \"mundo\")"
   ]
  },
  {
   "attachments": {},
   "cell_type": "markdown",
   "metadata": {},
   "source": [
    "Con los _Caracteres especiales_: Indicamos a la consola que el carácter a continuación del símbolo `\\` debe ser tratado como un carácter especial.\n",
    "* `\\\"`: Imprime comillas\n",
    "* `\\n`: Separa texto en una nueva linea\n",
    "* `\\t`: Imprime un tabulador\n",
    "* `\\\\`: Imprime la barra invertida textualmente"
   ]
  },
  {
   "cell_type": "code",
   "execution_count": 6,
   "metadata": {},
   "outputs": [
    {
     "name": "stdout",
     "output_type": "stream",
     "text": [
      "Hola mundo con \"algo\" entre comillas\n",
      "Esta es una línea\n",
      "Y esta es otra línea\n"
     ]
    }
   ],
   "source": [
    "print(\"Hola mundo con \\\"algo\\\" entre comillas\")\n",
    "print(\"Esta es una línea\\nY esta es otra línea\")"
   ]
  },
  {
   "attachments": {},
   "cell_type": "markdown",
   "metadata": {},
   "source": [
    "### Función `input`"
   ]
  },
  {
   "attachments": {},
   "cell_type": "markdown",
   "metadata": {},
   "source": [
    "La función `input` que permite al usuario introducir información por medio del teclado al ejecutarse, otorgándole una instrucción acerca del ingreso solicitado. El código continuará ejecutándose luego de que el usuario realice la acción. Para solicitar datos al usuario utilizamos la función `input` y entre `()` podemos poner un menaje que va a ver el usuario antes del espacio para ingresar los datos."
   ]
  },
  {
   "cell_type": "code",
   "execution_count": 2,
   "metadata": {},
   "outputs": [
    {
     "data": {
      "text/plain": [
       "'Miguel'"
      ]
     },
     "execution_count": 2,
     "metadata": {},
     "output_type": "execute_result"
    }
   ],
   "source": [
    "input(\"Dime tu nombre: \")"
   ]
  },
  {
   "attachments": {},
   "cell_type": "markdown",
   "metadata": {},
   "source": [
    "Podemos utilizar la función `input` junto con la declaración `print` para solicitar datos y mostrarlos en pantalla."
   ]
  },
  {
   "cell_type": "code",
   "execution_count": 3,
   "metadata": {},
   "outputs": [
    {
     "name": "stdout",
     "output_type": "stream",
     "text": [
      "Tu nombre es Miguel\n"
     ]
    }
   ],
   "source": [
    "print(\"Tu nombre es \" + input(\"Dime tu nombre: \"))"
   ]
  }
 ],
 "metadata": {
  "kernelspec": {
   "display_name": "Python 3",
   "language": "python",
   "name": "python3"
  },
  "language_info": {
   "codemirror_mode": {
    "name": "ipython",
    "version": 3
   },
   "file_extension": ".py",
   "mimetype": "text/x-python",
   "name": "python",
   "nbconvert_exporter": "python",
   "pygments_lexer": "ipython3",
   "version": "3.10.4"
  },
  "orig_nbformat": 4,
  "vscode": {
   "interpreter": {
    "hash": "3ad933181bd8a04b432d3370b9dc3b0662ad032c4dfaa4e4f1596c548f763858"
   }
  }
 },
 "nbformat": 4,
 "nbformat_minor": 2
}
