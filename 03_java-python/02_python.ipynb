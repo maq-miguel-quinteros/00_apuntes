{
 "cells": [
  {
   "attachments": {},
   "cell_type": "markdown",
   "metadata": {},
   "source": [
    "# Python"
   ]
  },
  {
   "attachments": {},
   "cell_type": "markdown",
   "metadata": {},
   "source": [
    "## Día 01"
   ]
  },
  {
   "attachments": {},
   "cell_type": "markdown",
   "metadata": {},
   "source": [
    "### Instalar Python"
   ]
  },
  {
   "attachments": {},
   "cell_type": "markdown",
   "metadata": {},
   "source": [
    "Desde la siguiente web descargamos [Python](https://www.python.org/). La misma reconoce el sistema operativo que tenemos instalado y recomienda la versión a descargar. En las opciones de instalación tenemos que tildar la que dice _agregar Python 3.10 a la ruta_ o similar. Puede aparecer una opción preguntando si queremos _desactivar el límite para el largo de la ruta_ o similar, tildamos esta opción también."
   ]
  },
  {
   "attachments": {},
   "cell_type": "markdown",
   "metadata": {},
   "source": [
    "### Instalar un IDE"
   ]
  },
  {
   "attachments": {},
   "cell_type": "markdown",
   "metadata": {},
   "source": [
    "Python, como cualquier otro lenguaje de programación, puede ser escritor en cualquier programa de edición de texto. Existen aplicaciones especificas que usamos para programar con python llamadas IDE, que significa, Entorno Integrado de Desarrollo. Son entornos virtuales que integran todas las funcionalidades de python y permiten desarrollar código en ellas. El IDE con el que trabajamos en el curso es `PyCharm`. Desde la siguiente web descargamos [PyCharm](https://www.jetbrains.com/pycharm/download/?source=google&medium=cpc&campaign=14127625370&gclid=CjwKCAiAv_KMBhAzEiwAs-rX1E69P0BVt7lxCoibh3yc-_pm1cxARFzrlXOhX_Gm3pTbTP5pqkZILBoCBgYQAvD_BwE#section=windows). Al ejecutar el IDE por primera vez nos consulta si queremos importar los ajustes de PyCharm, indicamos que no."
   ]
  },
  {
   "attachments": {},
   "cell_type": "markdown",
   "metadata": {},
   "source": [
    "### Declaración `print`"
   ]
  },
  {
   "attachments": {},
   "cell_type": "markdown",
   "metadata": {},
   "source": [
    "La declaración `print` al ejecutarse muestra (o imprime) en pantalla el argumento que se introduce dentro de los paréntesis. Esta declaración puede imprimir texto, números o funciones."
   ]
  },
  {
   "attachments": {},
   "cell_type": "markdown",
   "metadata": {},
   "source": [
    "_Mostrar texto_: ingresamos entre comillas simples o dobles los caracteres de texto que deben mostrarse en pantalla. Si necesitamos que el texto que se imprime además tenga comillas en alguna palabra podemos, por ejemplo, a las comillas exteriores que indican cual es el texto a imprimir, hacerlas simples, y a las comillas interiores, que son parte del texto a imprimir, hacerlas dobles, o viceversa."
   ]
  },
  {
   "cell_type": "code",
   "execution_count": null,
   "metadata": {},
   "outputs": [],
   "source": [
    "print(\"Hola mundo\")\n",
    "print('Hola mundo con \"algo\" entre comillas en el texto')"
   ]
  },
  {
   "attachments": {},
   "cell_type": "markdown",
   "metadata": {},
   "source": [
    "_Mostrar números_: Podemos entregarle a print() el número que debe mostrar, o una operación matemática a resolver. No empleamos comillas en estos casos."
   ]
  },
  {
   "cell_type": "code",
   "execution_count": null,
   "metadata": {},
   "outputs": [],
   "source": [
    "print(100)\n",
    "print(150 + 50)"
   ]
  },
  {
   "attachments": {},
   "cell_type": "markdown",
   "metadata": {},
   "source": [
    "### Tipo de dato `string`"
   ]
  },
  {
   "attachments": {},
   "cell_type": "markdown",
   "metadata": {},
   "source": [
    "Los strings en Python son un tipo de dato formado por cadenas (o secuencias) de caracteres de cualquier tipo, es decir, letras, números, símbolos matemáticos, signos de puntuación, etc., formando un texto. Usamos las comillas `\"\"` para indicar donde comienza y donde termina nuestra cadena de caracteres. Todo lo que sea un `string`, es decir, una cadena de caracteres, va a ser tratado como texto, por lo que sobre estos tipos de datos no vamos a poder realizar operaciones matemáticas por ejemplo."
   ]
  },
  {
   "attachments": {},
   "cell_type": "markdown",
   "metadata": {},
   "source": [
    "La _concatenación_ es la unificación de `string` o cadenas de caracteres. Para hacer esta concatenación utilizamos el operador `+`."
   ]
  },
  {
   "cell_type": "code",
   "execution_count": null,
   "metadata": {},
   "outputs": [],
   "source": [
    "print(\"Hola\" + \" \" + \"mundo\")"
   ]
  },
  {
   "attachments": {},
   "cell_type": "markdown",
   "metadata": {},
   "source": [
    "Con los _Caracteres especiales_: Indicamos a la consola que el carácter a continuación del símbolo `\\` debe ser tratado como un carácter especial.\n",
    "* `\\\"`: Imprime comillas\n",
    "* `\\n`: Separa texto en una nueva linea\n",
    "* `\\t`: Imprime un tabulador\n",
    "* `\\\\`: Imprime la barra invertida textualmente"
   ]
  },
  {
   "cell_type": "code",
   "execution_count": null,
   "metadata": {},
   "outputs": [],
   "source": [
    "print(\"Hola mundo con \\\"algo\\\" entre comillas\")\n",
    "print(\"Esta es una línea\\nY esta es otra línea\")"
   ]
  },
  {
   "attachments": {},
   "cell_type": "markdown",
   "metadata": {},
   "source": [
    "### Función `input`"
   ]
  },
  {
   "attachments": {},
   "cell_type": "markdown",
   "metadata": {},
   "source": [
    "La función `input` que permite al usuario introducir información por medio del teclado al ejecutarse, otorgándole una instrucción acerca del ingreso solicitado. El código continuará ejecutándose luego de que el usuario realice la acción. Para solicitar datos al usuario utilizamos la función `input` y entre `()` podemos poner un menaje que va a ver el usuario antes del espacio para ingresar los datos."
   ]
  },
  {
   "cell_type": "code",
   "execution_count": null,
   "metadata": {},
   "outputs": [],
   "source": [
    "input(\"Dime tu nombre: \")"
   ]
  },
  {
   "attachments": {},
   "cell_type": "markdown",
   "metadata": {},
   "source": [
    "Podemos utilizar la función `input` junto con la declaración `print` para solicitar datos y mostrarlos en pantalla."
   ]
  },
  {
   "cell_type": "code",
   "execution_count": 1,
   "metadata": {},
   "outputs": [
    {
     "name": "stdout",
     "output_type": "stream",
     "text": [
      "Tu nombre es miguel\n"
     ]
    }
   ],
   "source": [
    "print(\"Tu nombre es \" + input(\"Dime tu nombre: \"))"
   ]
  },
  {
   "attachments": {},
   "cell_type": "markdown",
   "metadata": {},
   "source": [
    "## Día 02"
   ]
  },
  {
   "attachments": {},
   "cell_type": "markdown",
   "metadata": {},
   "source": [
    "### Tipos de datos"
   ]
  },
  {
   "attachments": {},
   "cell_type": "markdown",
   "metadata": {},
   "source": [
    "En Python tenemos varios tipos o estructuras de datos, que son fundamentales en programación ya que almacenan información, y nos permiten manipularla.\n",
    "* Texto: se definen como `str`. Cualquier palabra, símbolo o número que este entre `\"\"` es un tipo de dato de texto o string.\n",
    "\n",
    "* Números: se definen como:\n",
    "    * `int`: cualquier número entero, positivo o negativo, es un integer o `int`.\n",
    "    \n",
    "    * `float`: cualquier número real, es decir, con coma decimal, positivo o negativo es un floating o `float`.\n",
    "* Booleanos: se definen como `bool`. Pueden tomar el valor de `true` o `false`. Se utiliza para tomar decisiones, permitiendo conocer si una condición dentro del programa se cumple o no."
   ]
  },
  {
   "attachments": {},
   "cell_type": "markdown",
   "metadata": {},
   "source": [
    "* Listas: se definen como `list`. Es una colección ordenada de objetos. Las listas se escriben entre `[]` y puede tener muchos datos del mismo tipo o una colección de datos de distinto tipo. Las listas tiene un orden en sus elementos, es decir, que cada elemento tiene un lugar numerado dentro de la lista, o índice, que va desde 0 hasta el último elemento de la lista.\n",
    "\n",
    "* Diccionarios: se definen como `dic`. Los diccionarios se escriben entre `{}` y consiste en pares de palabras agrupados. Cada par de palabras tiene 2 elementos `clave : valor`. Los pares no están ordenados mediante un índice dentro del diccionario.\n",
    "* Tuples: se definen como `tuple`. Es una colección ordenada de elementos. Los tuples se escriben entre `()` y puede tener muchos datos del mismo tipo o una colección de datos de distinto tipo. Los tuples tiene un orden en sus elementos, es decir, que cada elemento tiene un lugar numerado dentro del tuple, o índice, que va desde 0 hasta el último elemento del tuple, pero a diferencia de las listas, este lugar es inmutable, es decir, que no se pueden agregar quitar o modificar el orden de elementos del tuple.\n",
    "* Sets: se definen como `set`. Es una colección ordenada de elementos únicos. Los sets se escriben entre `{}` y puede tener muchos datos del mismo tipo o una colección de datos de distinto tipo, solo que cada uno de estos elementos es único, es decir, que solo puede haber uno solo de cada elemento en el set, los elementos son irrepetibles."
   ]
  },
  {
   "attachments": {},
   "cell_type": "markdown",
   "metadata": {},
   "source": [
    "| Estructuras | mutable | ordenado | duplicados |\n",
    "| --- | --- | --- | --- |\n",
    "| listas [] | si | si | si |\n",
    "| tuples () | no | si | si |\n",
    "| sets {} | si | no | no |\n",
    "| diccionarios {} | si | no * | no : si *** |\n",
    "\n",
    "\\* En Python 3.7+, existen consideraciones. ** `key` es única, `value` puede repetirse."
   ]
  },
  {
   "attachments": {},
   "cell_type": "markdown",
   "metadata": {},
   "source": [
    "### Variables"
   ]
  },
  {
   "attachments": {},
   "cell_type": "markdown",
   "metadata": {},
   "source": [
    "Las variables son espacios de memoria que almacenan valores o datos de distintos tipos, y (como su nombre indica) pueden variar. Las variables se crean en el momento que se les asigna un valor, por lo cual en Python no requerimos declararlas previamente."
   ]
  },
  {
   "cell_type": "code",
   "execution_count": 1,
   "metadata": {},
   "outputs": [
    {
     "name": "stdout",
     "output_type": "stream",
     "text": [
      "México\n",
      "100\n",
      "Tu nombre es Miguel\n"
     ]
    }
   ],
   "source": [
    "pais = \"México\"\n",
    "print(pais)\n",
    "\n",
    "pais = \"Argentina\"\n",
    "print(pais)\n",
    "\n",
    "num1 = 55\n",
    "num2 = 45\n",
    "print(num1 + num2)\n",
    "\n",
    "nombre = input(\"Escribe tu nombre: \")\n",
    "print(\"Tu nombre es \" + nombre)"
   ]
  },
  {
   "attachments": {},
   "cell_type": "markdown",
   "metadata": {},
   "source": [
    "#### Nombres de variables"
   ]
  },
  {
   "attachments": {},
   "cell_type": "markdown",
   "metadata": {},
   "source": [
    "Existen convenciones y buenas prácticas asociadas al nombre de las variables creadas en Python. Las mismas tienen la intención de facilitar la interpretabilidad y mantenimiento del código creado. Las reglas son:\n",
    "1. __Legible__: nombre de la variable es relevante según su contenido.\n",
    "\n",
    "2. __Unidad__: no existen espacios (puedes incorporar guiones bajos).\n",
    "3. __Hispanismos__: omitir signos específicos del idioma español, como tildes o la letra `ñ`.\n",
    "4. __Números__: los nombres de las variables no deben empezar por números (aunque pueden contenerlos al final)\n",
    "5. __Signos/símbolos__: no se deben incluir : `\" ' , < > / ? | \\ ( ) ! @ # $ % ^ & * ~ - +`.\n",
    "6. __Palabras clave__: no utilizamos palabras reservadas por Python."
   ]
  },
  {
   "attachments": {},
   "cell_type": "markdown",
   "metadata": {},
   "source": [
    "### Tipos de datos `int` y `float`"
   ]
  },
  {
   "attachments": {},
   "cell_type": "markdown",
   "metadata": {},
   "source": [
    "Existen dos tipos de datos numéricos básicos en Python: `int` y `float`. Como toda variable en Python, su tipo queda definido al asignarle un valor a una variable. La función `type()` nos permite obtener el tipo de valor almacenado en una variable."
   ]
  },
  {
   "attachments": {},
   "cell_type": "markdown",
   "metadata": {},
   "source": [
    "#### Tipo de dato `int`"
   ]
  },
  {
   "attachments": {},
   "cell_type": "markdown",
   "metadata": {},
   "source": [
    "EL tipo de dato `int`, o `integer`, es un número entero, positivo o negativo, sin decimales, de un largo indeterminado. Podemos utilizarlo para indicar edades, cantidades de población, días restantes o un número de cliente."
   ]
  },
  {
   "cell_type": "code",
   "execution_count": 4,
   "metadata": {},
   "outputs": [
    {
     "name": "stdout",
     "output_type": "stream",
     "text": [
      "<class 'int'>\n",
      "10\n",
      "<class 'int'>\n"
     ]
    }
   ],
   "source": [
    "num1 = 7\n",
    "print(type(num1))\n",
    "\n",
    "num1 = 7 + 3\n",
    "print(num1)\n",
    "print(type(num1))"
   ]
  },
  {
   "attachments": {},
   "cell_type": "markdown",
   "metadata": {},
   "source": [
    "#### Tipo de dato `float`"
   ]
  },
  {
   "attachments": {},
   "cell_type": "markdown",
   "metadata": {},
   "source": [
    "El tipo de dato `float`, o \"número de punto flotante\", es un número que puede ser positivo o negativo, que a su vez contiene una o más posiciones decimales. Podemos utilizar para temperaturas, precios o medidas."
   ]
  },
  {
   "cell_type": "code",
   "execution_count": 3,
   "metadata": {},
   "outputs": [
    {
     "name": "stdout",
     "output_type": "stream",
     "text": [
      "<class 'float'>\n",
      "10.525587\n",
      "<class 'float'>\n"
     ]
    }
   ],
   "source": [
    "num2 = 7.525587\n",
    "print(type(num2))\n",
    "\n",
    "num2 = 7.525587 + 3\n",
    "print(num2)\n",
    "print(type(num2))"
   ]
  },
  {
   "attachments": {},
   "cell_type": "markdown",
   "metadata": {},
   "source": [
    "#### Error al ingresar datos por `input()`"
   ]
  },
  {
   "attachments": {},
   "cell_type": "markdown",
   "metadata": {},
   "source": [
    "Todos los valores que ingresamos por `input()` son tomados como cadenas de texto `string` o `str`."
   ]
  },
  {
   "cell_type": "code",
   "execution_count": 6,
   "metadata": {},
   "outputs": [
    {
     "name": "stdout",
     "output_type": "stream",
     "text": [
      "Tu edad es: 37\n",
      "<class 'str'>\n"
     ]
    },
    {
     "ename": "TypeError",
     "evalue": "unsupported operand type(s) for +: 'int' and 'str'",
     "output_type": "error",
     "traceback": [
      "\u001b[0;31m---------------------------------------------------------------------------\u001b[0m",
      "\u001b[0;31mTypeError\u001b[0m                                 Traceback (most recent call last)",
      "Cell \u001b[0;32mIn[6], line 6\u001b[0m\n\u001b[1;32m      3\u001b[0m \u001b[39mprint\u001b[39m(\u001b[39mtype\u001b[39m(edad))\n\u001b[1;32m      5\u001b[0m \u001b[39m# va a dar un error por que no podemos sumar a un número int una cadena de texto str\u001b[39;00m\n\u001b[0;32m----> 6\u001b[0m nueva_edad \u001b[39m=\u001b[39m \u001b[39m1\u001b[39;49m \u001b[39m+\u001b[39;49m edad\n\u001b[1;32m      7\u001b[0m \u001b[39mprint\u001b[39m(\u001b[39m\"\u001b[39m\u001b[39mTu edad en un año va a ser: \u001b[39m\u001b[39m\"\u001b[39m \u001b[39m+\u001b[39m nueva_edad)\n",
      "\u001b[0;31mTypeError\u001b[0m: unsupported operand type(s) for +: 'int' and 'str'"
     ]
    }
   ],
   "source": [
    "edad = input(\"Ingresa tu edad: \")\n",
    "print(\"Tu edad es: \" + edad)\n",
    "print(type(edad))\n",
    "\n",
    "# va a dar un error por que no podemos sumar a un número int una cadena de texto str\n",
    "nueva_edad = 1 + edad\n",
    "print(\"Tu edad en un año va a ser: \" + nueva_edad)"
   ]
  }
 ],
 "metadata": {
  "kernelspec": {
   "display_name": "Python 3",
   "language": "python",
   "name": "python3"
  },
  "language_info": {
   "codemirror_mode": {
    "name": "ipython",
    "version": 3
   },
   "file_extension": ".py",
   "mimetype": "text/x-python",
   "name": "python",
   "nbconvert_exporter": "python",
   "pygments_lexer": "ipython3",
   "version": "3.10.4"
  },
  "orig_nbformat": 4,
  "vscode": {
   "interpreter": {
    "hash": "3ad933181bd8a04b432d3370b9dc3b0662ad032c4dfaa4e4f1596c548f763858"
   }
  }
 },
 "nbformat": 4,
 "nbformat_minor": 2
}
