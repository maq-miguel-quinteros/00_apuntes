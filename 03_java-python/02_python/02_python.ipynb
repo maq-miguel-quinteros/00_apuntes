{
 "cells": [
  {
   "attachments": {},
   "cell_type": "markdown",
   "metadata": {},
   "source": [
    "# Python"
   ]
  },
  {
   "attachments": {},
   "cell_type": "markdown",
   "metadata": {},
   "source": [
    "## Día 01"
   ]
  },
  {
   "attachments": {},
   "cell_type": "markdown",
   "metadata": {},
   "source": [
    "### Instalar Python"
   ]
  },
  {
   "attachments": {},
   "cell_type": "markdown",
   "metadata": {},
   "source": [
    "Desde la siguiente web descargamos [Python](https://www.python.org/). La misma reconoce el sistema operativo que tenemos instalado y recomienda la versión a descargar. En las opciones de instalación tenemos que tildar la que dice _agregar Python 3.10 a la ruta_ o similar. Puede aparecer una opción preguntando si queremos _desactivar el límite para el largo de la ruta_ o similar, tildamos esta opción también."
   ]
  },
  {
   "attachments": {},
   "cell_type": "markdown",
   "metadata": {},
   "source": [
    "### Instalar un IDE"
   ]
  },
  {
   "attachments": {},
   "cell_type": "markdown",
   "metadata": {},
   "source": [
    "Python, como cualquier otro lenguaje de programación, puede ser escritor en cualquier programa de edición de texto. Existen aplicaciones especificas que usamos para programar con python llamadas IDE, que significa, Entorno Integrado de Desarrollo. Son entornos virtuales que integran todas las funcionalidades de python y permiten desarrollar código en ellas. El IDE con el que trabajamos en el curso es `PyCharm`. Desde la siguiente web descargamos [PyCharm](https://www.jetbrains.com/pycharm/download/?source=google&medium=cpc&campaign=14127625370&gclid=CjwKCAiAv_KMBhAzEiwAs-rX1E69P0BVt7lxCoibh3yc-_pm1cxARFzrlXOhX_Gm3pTbTP5pqkZILBoCBgYQAvD_BwE#section=windows). Al ejecutar el IDE por primera vez nos consulta si queremos importar los ajustes de PyCharm, indicamos que no."
   ]
  },
  {
   "attachments": {},
   "cell_type": "markdown",
   "metadata": {},
   "source": [
    "### Declaración `print`"
   ]
  },
  {
   "attachments": {},
   "cell_type": "markdown",
   "metadata": {},
   "source": [
    "La declaración `print` al ejecutarse muestra (o imprime) en pantalla el argumento que se introduce dentro de los paréntesis. Esta declaración puede imprimir texto, números o funciones."
   ]
  },
  {
   "attachments": {},
   "cell_type": "markdown",
   "metadata": {},
   "source": [
    "_Mostrar texto_: ingresamos entre comillas simples o dobles los caracteres de texto que deben mostrarse en pantalla. Si necesitamos que el texto que se imprime además tenga comillas en alguna palabra podemos, por ejemplo, a las comillas exteriores que indican cual es el texto a imprimir, hacerlas simples, y a las comillas interiores, que son parte del texto a imprimir, hacerlas dobles, o viceversa."
   ]
  },
  {
   "cell_type": "code",
   "execution_count": null,
   "metadata": {},
   "outputs": [],
   "source": [
    "print(\"Hola mundo\")\n",
    "print('Hola mundo con \"algo\" entre comillas en el texto')"
   ]
  },
  {
   "attachments": {},
   "cell_type": "markdown",
   "metadata": {},
   "source": [
    "_Mostrar números_: Podemos entregarle a print() el número que debe mostrar, o una operación matemática a resolver. No empleamos comillas en estos casos."
   ]
  },
  {
   "cell_type": "code",
   "execution_count": null,
   "metadata": {},
   "outputs": [],
   "source": [
    "print(100)\n",
    "print(150 + 50)"
   ]
  },
  {
   "attachments": {},
   "cell_type": "markdown",
   "metadata": {},
   "source": [
    "### Tipo de dato `string`"
   ]
  },
  {
   "attachments": {},
   "cell_type": "markdown",
   "metadata": {},
   "source": [
    "Los strings en Python son un tipo de dato formado por cadenas (o secuencias) de caracteres de cualquier tipo, es decir, letras, números, símbolos matemáticos, signos de puntuación, etc., formando un texto. Usamos las comillas `\"\"` para indicar donde comienza y donde termina nuestra cadena de caracteres. Todo lo que sea un `string`, es decir, una cadena de caracteres, va a ser tratado como texto, por lo que sobre estos tipos de datos no vamos a poder realizar operaciones matemáticas por ejemplo."
   ]
  },
  {
   "attachments": {},
   "cell_type": "markdown",
   "metadata": {},
   "source": [
    "La _concatenación_ es la unificación de `string` o cadenas de caracteres. Para hacer esta concatenación utilizamos el operador `+`."
   ]
  },
  {
   "cell_type": "code",
   "execution_count": null,
   "metadata": {},
   "outputs": [],
   "source": [
    "print(\"Hola\" + \" \" + \"mundo\")"
   ]
  },
  {
   "attachments": {},
   "cell_type": "markdown",
   "metadata": {},
   "source": [
    "Con los _Caracteres especiales_: Indicamos a la consola que el carácter a continuación del símbolo `\\` debe ser tratado como un carácter especial.\n",
    "* `\\\"`: Imprime comillas\n",
    "* `\\n`: Separa texto en una nueva linea\n",
    "* `\\t`: Imprime un tabulador\n",
    "* `\\\\`: Imprime la barra invertida textualmente"
   ]
  },
  {
   "cell_type": "code",
   "execution_count": null,
   "metadata": {},
   "outputs": [],
   "source": [
    "print(\"Hola mundo con \\\"algo\\\" entre comillas\")\n",
    "print(\"Esta es una línea\\nY esta es otra línea\")"
   ]
  },
  {
   "attachments": {},
   "cell_type": "markdown",
   "metadata": {},
   "source": [
    "### Función `input`"
   ]
  },
  {
   "attachments": {},
   "cell_type": "markdown",
   "metadata": {},
   "source": [
    "La función `input` que permite al usuario introducir información por medio del teclado al ejecutarse, otorgándole una instrucción acerca del ingreso solicitado. El código continuará ejecutándose luego de que el usuario realice la acción. Para solicitar datos al usuario utilizamos la función `input` y entre `()` podemos poner un menaje que va a ver el usuario antes del espacio para ingresar los datos."
   ]
  },
  {
   "cell_type": "code",
   "execution_count": null,
   "metadata": {},
   "outputs": [],
   "source": [
    "input(\"Dime tu nombre: \")"
   ]
  },
  {
   "attachments": {},
   "cell_type": "markdown",
   "metadata": {},
   "source": [
    "Podemos utilizar la función `input` junto con la declaración `print` para solicitar datos y mostrarlos en pantalla."
   ]
  },
  {
   "cell_type": "code",
   "execution_count": 1,
   "metadata": {},
   "outputs": [
    {
     "name": "stdout",
     "output_type": "stream",
     "text": [
      "Tu nombre es miguel\n"
     ]
    }
   ],
   "source": [
    "print(\"Tu nombre es \" + input(\"Dime tu nombre: \"))"
   ]
  },
  {
   "attachments": {},
   "cell_type": "markdown",
   "metadata": {},
   "source": [
    "### Proyecto día 01"
   ]
  },
  {
   "attachments": {},
   "cell_type": "markdown",
   "metadata": {},
   "source": [
    "__Llegó el momento más esperado de tu primer día de estudio. Vas a crear tu primer programa  solo y lo vas a hacer aplicando todo lo que has aprendido a lo largo de esta jornada.__ Imagina  esta situación: tu mejor amigo ha puesto una fábrica de cerveza y tiene todo listo. Su producto  es fantástico, tiene cuerpo, buen sabor, buen color, el nivel justo de espuma… pero le falta una identidad. No se le ocurre qué nombre ponerle su cerveza para que tenga una identidad única y original. Entonces vienes tú y le dices \"No te preocupes, yo voy a crear un programa que te  va a hacer dos preguntas y luego te va a decir cuál es el nombre de tu cerveza\". Así de simple.\n",
    "\n",
    "Ya sé que en el mundo real no necesitaríamos desarrollar un software solo para hacer dos preguntas, pero hasta que aprendamos más funcionalidades los programas van a tener que mantenerse en el terreno de lo simple. Igualmente, si está recién comenzando, este va a ser todo un desafío.\n",
    "\n",
    "__Vas a crear un código en Python que le pida a tu amigo que responda dos preguntas que requieran una sola palabra cada una y que luego le muestre en pantalla esas palabras combinadas, para formar una marca creativa.__\n",
    "\n",
    "Puedes usar las preguntas que quieras. La idea es que el resultado sea original, creativo, y hasta cómico, y si quieres agregar dificultad al desafío, te sugiero que intentes que el nombre de la cerveza se imprima entre comillas. Recuerda que hay diferentes formas de que la función `print` muestre las comillas sin cortar el `string`, y que ingrese la impresión final en al menos dos líneas utilizando saltos de línea dentro del código.\n",
    "\n",
    "Intenta hacerlo por tu cuenta y si se complica, no te preocupes, en la próxima elección lo vamos a resolver juntos."
   ]
  },
  {
   "cell_type": "code",
   "execution_count": 5,
   "metadata": {},
   "outputs": [
    {
     "name": "stdout",
     "output_type": "stream",
     "text": [
      "Cerveza\n",
      "\"Gato de Batman\"\n",
      "Superheróica\n"
     ]
    }
   ],
   "source": [
    "print('Cerveza\\n\"' + input(\"¿Tu animal favorito?\") + ' de ' + input(\"¿Tu super héroe favorito?\") + '\"\\n Es superheróica')"
   ]
  },
  {
   "attachments": {},
   "cell_type": "markdown",
   "metadata": {},
   "source": [
    "## Día 02"
   ]
  },
  {
   "attachments": {},
   "cell_type": "markdown",
   "metadata": {},
   "source": [
    "### Tipos de datos"
   ]
  },
  {
   "attachments": {},
   "cell_type": "markdown",
   "metadata": {},
   "source": [
    "En Python tenemos varios tipos o estructuras de datos, que son fundamentales en programación ya que almacenan información, y nos permiten manipularla.\n",
    "* Texto: se definen como `str`. Cualquier palabra, símbolo o número que este entre `\"\"` es un tipo de dato de texto o string.\n",
    "\n",
    "* Números: se definen como:\n",
    "    * `int`: cualquier número entero, positivo o negativo, es un integer o `int`.\n",
    "    \n",
    "    * `float`: cualquier número real, es decir, con coma decimal, positivo o negativo es un floating o `float`.\n",
    "* Booleanos: se definen como `bool`. Pueden tomar el valor de `true` o `false`. Se utiliza para tomar decisiones, permitiendo conocer si una condición dentro del programa se cumple o no."
   ]
  },
  {
   "attachments": {},
   "cell_type": "markdown",
   "metadata": {},
   "source": [
    "* Listas: se definen como `list`. Es una colección ordenada de objetos. Las listas se escriben entre `[]` y puede tener muchos datos del mismo tipo o una colección de datos de distinto tipo. Las listas tiene un orden en sus elementos, es decir, que cada elemento tiene un lugar numerado dentro de la lista, o índice, que va desde 0 hasta el último elemento de la lista.\n",
    "\n",
    "* Diccionarios: se definen como `dic`. Los diccionarios se escriben entre `{}` y consiste en pares de palabras agrupados. Cada par de palabras tiene 2 elementos `clave : valor`. Los pares no están ordenados mediante un índice dentro del diccionario.\n",
    "* Tuples: se definen como `tuple`. Es una colección ordenada de elementos. Los tuples se escriben entre `()` y puede tener muchos datos del mismo tipo o una colección de datos de distinto tipo. Los tuples tiene un orden en sus elementos, es decir, que cada elemento tiene un lugar numerado dentro del tuple, o índice, que va desde 0 hasta el último elemento del tuple, pero a diferencia de las listas, este lugar es inmutable, es decir, que no se pueden agregar quitar o modificar el orden de elementos del tuple.\n",
    "* Sets: se definen como `set`. Es una colección ordenada de elementos únicos. Los sets se escriben entre `{}` y puede tener muchos datos del mismo tipo o una colección de datos de distinto tipo, solo que cada uno de estos elementos es único, es decir, que solo puede haber uno solo de cada elemento en el set, los elementos son irrepetibles."
   ]
  },
  {
   "attachments": {},
   "cell_type": "markdown",
   "metadata": {},
   "source": [
    "| Estructuras | mutable | ordenado | duplicados |\n",
    "| --- | --- | --- | --- |\n",
    "| listas [] | si | si | si |\n",
    "| tuples () | no | si | si |\n",
    "| sets {} | si | no | no |\n",
    "| diccionarios {} | si | no * | no : si *** |\n",
    "\n",
    "\\* En Python 3.7+, existen consideraciones. ** `key` es única, `value` puede repetirse."
   ]
  },
  {
   "attachments": {},
   "cell_type": "markdown",
   "metadata": {},
   "source": [
    "### Variables"
   ]
  },
  {
   "attachments": {},
   "cell_type": "markdown",
   "metadata": {},
   "source": [
    "Las variables son espacios de memoria que almacenan valores o datos de distintos tipos, y (como su nombre indica) pueden variar. Las variables se crean en el momento que se les asigna un valor, por lo cual en Python no requerimos declararlas previamente."
   ]
  },
  {
   "cell_type": "code",
   "execution_count": 1,
   "metadata": {},
   "outputs": [
    {
     "name": "stdout",
     "output_type": "stream",
     "text": [
      "México\n",
      "100\n",
      "Tu nombre es Miguel\n"
     ]
    }
   ],
   "source": [
    "pais = \"México\"\n",
    "print(pais)\n",
    "\n",
    "pais = \"Argentina\"\n",
    "print(pais)\n",
    "\n",
    "num1 = 55\n",
    "num2 = 45\n",
    "print(num1 + num2)\n",
    "\n",
    "nombre = input(\"Escribe tu nombre: \")\n",
    "print(\"Tu nombre es \" + nombre)"
   ]
  },
  {
   "attachments": {},
   "cell_type": "markdown",
   "metadata": {},
   "source": [
    "#### Nombres de variables"
   ]
  },
  {
   "attachments": {},
   "cell_type": "markdown",
   "metadata": {},
   "source": [
    "Existen convenciones y buenas prácticas asociadas al nombre de las variables creadas en Python. Las mismas tienen la intención de facilitar la interpretabilidad y mantenimiento del código creado. Las reglas son:\n",
    "1. __Legible__: nombre de la variable es relevante según su contenido.\n",
    "\n",
    "2. __Unidad__: no existen espacios (puedes incorporar guiones bajos).\n",
    "3. __Hispanismos__: omitir signos específicos del idioma español, como tildes o la letra `ñ`.\n",
    "4. __Números__: los nombres de las variables no deben empezar por números (aunque pueden contenerlos al final)\n",
    "5. __Signos/símbolos__: no se deben incluir : `\" ' , < > / ? | \\ ( ) ! @ # $ % ^ & * ~ - +`.\n",
    "6. __Palabras clave__: no utilizamos palabras reservadas por Python."
   ]
  },
  {
   "attachments": {},
   "cell_type": "markdown",
   "metadata": {},
   "source": [
    "### Tipos de datos `int` y `float`"
   ]
  },
  {
   "attachments": {},
   "cell_type": "markdown",
   "metadata": {},
   "source": [
    "Existen dos tipos de datos numéricos básicos en Python: `int` y `float`. Como toda variable en Python, su tipo queda definido al asignarle un valor a una variable. La función `type()` nos permite obtener el tipo de valor almacenado en una variable."
   ]
  },
  {
   "attachments": {},
   "cell_type": "markdown",
   "metadata": {},
   "source": [
    "#### Tipo de dato `int`"
   ]
  },
  {
   "attachments": {},
   "cell_type": "markdown",
   "metadata": {},
   "source": [
    "EL tipo de dato `int`, o `integer`, es un número entero, positivo o negativo, sin decimales, de un largo indeterminado. Podemos utilizarlo para indicar edades, cantidades de población, días restantes o un número de cliente."
   ]
  },
  {
   "cell_type": "code",
   "execution_count": 4,
   "metadata": {},
   "outputs": [
    {
     "name": "stdout",
     "output_type": "stream",
     "text": [
      "<class 'int'>\n",
      "10\n",
      "<class 'int'>\n"
     ]
    }
   ],
   "source": [
    "num1 = 7\n",
    "print(type(num1))\n",
    "\n",
    "num1 = 7 + 3\n",
    "print(num1)\n",
    "print(type(num1))"
   ]
  },
  {
   "attachments": {},
   "cell_type": "markdown",
   "metadata": {},
   "source": [
    "#### Tipo de dato `float`"
   ]
  },
  {
   "attachments": {},
   "cell_type": "markdown",
   "metadata": {},
   "source": [
    "El tipo de dato `float`, o \"número de punto flotante\", es un número que puede ser positivo o negativo, que a su vez contiene una o más posiciones decimales. Podemos utilizar para temperaturas, precios o medidas."
   ]
  },
  {
   "cell_type": "code",
   "execution_count": 3,
   "metadata": {},
   "outputs": [
    {
     "name": "stdout",
     "output_type": "stream",
     "text": [
      "<class 'float'>\n",
      "10.525587\n",
      "<class 'float'>\n"
     ]
    }
   ],
   "source": [
    "num2 = 7.525587\n",
    "print(type(num2))\n",
    "\n",
    "num2 = 7.525587 + 3\n",
    "print(num2)\n",
    "print(type(num2))"
   ]
  },
  {
   "attachments": {},
   "cell_type": "markdown",
   "metadata": {},
   "source": [
    "### Conversiones entre tipos de datos"
   ]
  },
  {
   "attachments": {},
   "cell_type": "markdown",
   "metadata": {},
   "source": [
    "Todos los valores que ingresamos por `input()` son tomados como cadenas de texto `string` o `str`. Esto puede generar que, si tratamos de sumar un valor `int` al valor que obtenemos mediante la función `input()` tengamos un error."
   ]
  },
  {
   "cell_type": "code",
   "execution_count": 6,
   "metadata": {},
   "outputs": [
    {
     "name": "stdout",
     "output_type": "stream",
     "text": [
      "Tu edad es: 37\n",
      "<class 'str'>\n"
     ]
    },
    {
     "ename": "TypeError",
     "evalue": "unsupported operand type(s) for +: 'int' and 'str'",
     "output_type": "error",
     "traceback": [
      "\u001b[0;31m---------------------------------------------------------------------------\u001b[0m",
      "\u001b[0;31mTypeError\u001b[0m                                 Traceback (most recent call last)",
      "Cell \u001b[0;32mIn[6], line 6\u001b[0m\n\u001b[1;32m      3\u001b[0m \u001b[39mprint\u001b[39m(\u001b[39mtype\u001b[39m(edad))\n\u001b[1;32m      5\u001b[0m \u001b[39m# va a dar un error por que no podemos sumar a un número int una cadena de texto str\u001b[39;00m\n\u001b[0;32m----> 6\u001b[0m nueva_edad \u001b[39m=\u001b[39m \u001b[39m1\u001b[39;49m \u001b[39m+\u001b[39;49m edad\n\u001b[1;32m      7\u001b[0m \u001b[39mprint\u001b[39m(\u001b[39m\"\u001b[39m\u001b[39mTu edad en un año va a ser: \u001b[39m\u001b[39m\"\u001b[39m \u001b[39m+\u001b[39m nueva_edad)\n",
      "\u001b[0;31mTypeError\u001b[0m: unsupported operand type(s) for +: 'int' and 'str'"
     ]
    }
   ],
   "source": [
    "edad = input(\"Ingresa tu edad: \")\n",
    "print(\"Tu edad es: \" + edad)\n",
    "print(type(edad))\n",
    "\n",
    "# va a dar un error por que no podemos sumar a un número int una cadena de texto str\n",
    "nueva_edad = 1 + edad\n",
    "print(\"Tu edad en un año va a ser: \" + nueva_edad)"
   ]
  },
  {
   "attachments": {},
   "cell_type": "markdown",
   "metadata": {},
   "source": [
    "EL proceso de convertir un tipo de dato en otro se llama _casting_. Existen 2 tipos de conversiones, las implícitas y las explÍcitas. Python realiza conversiones implícitas de tipos de datos automáticamente para operar con valores numéricos. En otros casos, necesitaremos generar una conversión de manera explícita, es decir, nosotros indicamos a Python realizar la conversión."
   ]
  },
  {
   "cell_type": "code",
   "execution_count": 2,
   "metadata": {},
   "outputs": [
    {
     "name": "stdout",
     "output_type": "stream",
     "text": [
      "<class 'int'>\n",
      "<class 'float'>\n",
      "<class 'float'>\n",
      "<class 'float'>\n",
      "5.8\n",
      "<class 'float'>\n",
      "5\n",
      "<class 'int'>\n",
      "Tu edad es: 37\n",
      "<class 'str'>\n",
      "Tu edad en un año va a ser: 38\n",
      "<class 'str'>\n"
     ]
    }
   ],
   "source": [
    "\"\"\" CONVERSIÓN IMPLÍCITA \"\"\"\n",
    "num1 = 30\n",
    "num2 = 30.5\n",
    "print(type(num1))\n",
    "print(type(num2))\n",
    "\n",
    "# hace un conversión implícita de num1\n",
    "num1 = num1 + num2\n",
    "\n",
    "print(type(num1))\n",
    "print(type(num2))\n",
    "\n",
    "\n",
    "\"\"\" CONVERSIÓN EXPLÍCITA\"\"\"\n",
    "num1 = 5.8\n",
    "print(num1)\n",
    "print(type(num1))\n",
    "\n",
    "# mediante la función int() hacemos la conversión explícita del valor de num1 a integer\n",
    "num2 = int(num1)\n",
    "print(num2)\n",
    "print(type(num2))\n",
    "\n",
    "\n",
    "\"\"\" EJEMPLO ANTERIOR \"\"\"\n",
    "edad = input(\"Ingresa tu edad: \")\n",
    "print(\"Tu edad es: \" + edad)\n",
    "print(type(edad))\n",
    "\n",
    "# convertimos edad en integer\n",
    "nueva_edad = 1 + int(edad)\n",
    "\n",
    "# convertimos nueva_edad en string\n",
    "print(\"Tu edad en un año va a ser: \" + str(nueva_edad))\n",
    "print(type(edad))\n",
    "print(type(nueva_edad))"
   ]
  },
  {
   "attachments": {},
   "cell_type": "markdown",
   "metadata": {},
   "source": [
    "### Formatear cadenas"
   ]
  },
  {
   "attachments": {},
   "cell_type": "markdown",
   "metadata": {},
   "source": [
    "Para facilitar la concatenación de variables y texto en Python, contamos con dos herramientas que nos evitan manipular las variables, para incorporarlas directamente al texto:\n",
    "* __Función format__: se encierra las posiciones de las variables entre corchetes `{}`, y a continuación del `string` llamamos a las variables con la función `format`.\n",
    "    * `print(\"Mi auto es {} y de matrícula {}\".format(color_auto,matricula))`.\n",
    "* __Cadenas literales__ `f-strings`: a partir de Python 3.8, podemos anticipar la concatenación de variables anteponiendo `f` al `string`\n",
    "    * `print(f\"Mi auto es {color_auto} y de matrícula {matricula}\")`."
   ]
  },
  {
   "cell_type": "code",
   "execution_count": 3,
   "metadata": {},
   "outputs": [
    {
     "name": "stdout",
     "output_type": "stream",
     "text": [
      "Mis números son 10 y 5\n",
      "Mis números son 10 y 5\n",
      "La suma de 10 y 5 es igual a 15\n",
      "Mis números son 10 y 5\n",
      "La suma de 10 y 5 es igual a 15\n"
     ]
    }
   ],
   "source": [
    "x = 10\n",
    "y = 5\n",
    "\n",
    "# mediante concatenaciones y conversiones\n",
    "print(\"Mis números son \" + str(x) + \" y \" + str(y))\n",
    "\n",
    "# mediante la función format\n",
    "print(\"Mis números son {} y {}\".format(x,y))\n",
    "print(\"La suma de {} y {} es igual a {}\".format(x,y,x+y))\n",
    "\n",
    "# mediante cadenas literales\n",
    "print(f\"Mis números son {x} y {y}\")\n",
    "print(f\"La suma de {x} y {y} es igual a {x+y}\")"
   ]
  },
  {
   "attachments": {},
   "cell_type": "markdown",
   "metadata": {},
   "source": [
    "### Operadores matemáticos"
   ]
  },
  {
   "attachments": {},
   "cell_type": "markdown",
   "metadata": {},
   "source": [
    "Veamos cuáles son los operadores matemáticos básicos de Python, que utilizaremos para realizar cálculos:\n",
    "* Suma: `+`\n",
    "\n",
    "* Resta: `-`\n",
    "* Multiplicación: `*`\n",
    "* División: `/`, que devuelve un valor de tipo `float` aunque su divisor y dividendo sean `int`.\n",
    "* Cociente (división \"al piso\"): `//`, que devuelve un valor de tipo `int` en lugar de `float`, a los valores decimales del resultado de la división los descarta.\n",
    "* Resto (módulo): `%`, que es útil para detectar valores pares.\n",
    "* Potencia: `**`\n",
    "* Raíz cuadrada: `**0.5`, que es un caso especial de la potencia."
   ]
  },
  {
   "attachments": {},
   "cell_type": "markdown",
   "metadata": {},
   "source": [
    "### Redondeo"
   ]
  },
  {
   "attachments": {},
   "cell_type": "markdown",
   "metadata": {},
   "source": [
    "El redondeo facilita la interpretación de los valores calculados al limitar la cantidad de decimales que se muestran en pantalla. También, nos permite aproximar valores decimales al entero más próximo. Para hacerlo utilizamos la función `round(valor_variable, cantidad_decimales)`, donde `valor_variable` puede ser un número, una operación, una variable o una función, y `cantidad_decimales` son la cantidad de dígitos decimales que va a tener nuestro resultado y que, si no pasamos ningún valor, el resultado del redondeo va a ser un entero. El redondeo se hace hacia arriba o hacia abajo según sea el número mas cercano a 0 o a 9 redondeando el 5 hacia arriba."
   ]
  },
  {
   "cell_type": "code",
   "execution_count": 4,
   "metadata": {},
   "outputs": [
    {
     "name": "stdout",
     "output_type": "stream",
     "text": [
      "12.857142857142858\n",
      "13\n",
      "13\n",
      "12.86\n",
      "13\n",
      "<class 'int'>\n",
      "13\n",
      "<class 'float'>\n",
      "12.857142857142858\n"
     ]
    }
   ],
   "source": [
    "print(90/7)\n",
    "print(round(90/7))\n",
    "\n",
    "resultado = 90/7\n",
    "\n",
    "redondeo = round(resultado)\n",
    "print(redondeo)\n",
    "\n",
    "redondeo = round(resultado,2)\n",
    "print(redondeo)\n",
    "\n",
    "# el tipo de valor es int y cambia el contenido de la variable cuando hacemos round en una asignación\n",
    "valor = round(12.857142857142858)\n",
    "print(valor)\n",
    "print(type(valor))\n",
    "\n",
    "# el tipo de valor es float y no cambia el contenido de la variable ya que el round solo lo hacemos para mostrar por pantalla\n",
    "valor = 12.857142857142858\n",
    "print(round(valor))\n",
    "print(type(valor))\n",
    "print(valor)"
   ]
  },
  {
   "attachments": {},
   "cell_type": "markdown",
   "metadata": {},
   "source": [
    "### Proyecto día 02"
   ]
  },
  {
   "attachments": {},
   "cell_type": "markdown",
   "metadata": {},
   "source": [
    "__Felicitaciones.__ Ya terminaste de aprender todos los contenidos del segundo día y por eso estás en condiciones de crear un programa un poco más complejo. Ya sabes hacer operaciones matemáticas, conversiones de tipos de datos, formateo de cadenas de texto, redondeos... __Así que vamos, lo celebremos con un nuevo desafío.__\n",
    "\n",
    "__La situación es esta: tú trabajas en una empresa donde los vendedores reciben comisiones del 13% por sus ventas totales, y tu jefe quiere que ayudes a los vendedores a calcular sus comisiones creando un programa que les pregunte su nombre y cuánto han vendido en este mes. Tu programa le va a responder con una frase que incluya su nombre y el monto que le corresponde por las comisiones.__\n",
    "\n",
    "Esto no es un programa complejo, pero es entendible que pueda complicarse cuando estás aprendiendo. Por más que lo que has aprendido hasta ahora es muy simple, ponerlo todo junto en un solo programa puede ser complejo, por lo que te doy un par de ayudas:\n",
    "\n",
    "* Este programa debería comenzar preguntando cosas al usuario, por lo tanto, vas a necesitar `input` para poder recibir los ingresos del usuario y deberías usar variables para almacenar esos ingresos. Recuerda que los ingresos de usuarios se almacenan como `strings`. Por lo tanto, deberías convertir uno de esos ingresos en un `float` para poder hacer operaciones con él.\n",
    "\n",
    "* ¿Y qué operaciones necesitas hacer? Bueno, calcular el 13% del número que haya ingresado el usuario. Es decir, que debes multiplicar ese número por 13 y luego dividirlo por 100. Recuerda almacenar ese resultado en una variable.\n",
    "* Sería bueno que para imprimir en pantalla el resultado te asegures de que esa información no tenga más de dos decimales, para que sea fácil de leer, y luego organiza todo eso en un `string` al que debes dar formato. Recuerda que conocimos dos maneras de hacerlo y cualquiera de ellas es válida.\n",
    "\n",
    "No dejes de intentar resolverlo, y si se te complica, en la próxima lección lo hacemos juntos."
   ]
  },
  {
   "cell_type": "code",
   "execution_count": 5,
   "metadata": {},
   "outputs": [
    {
     "name": "stdout",
     "output_type": "stream",
     "text": [
      "Miguel, el día de hoy vendiste 2653.22517. Te corresponde una comisión de 344.92\n"
     ]
    }
   ],
   "source": [
    "nombre = input(\"¿Cual es tu nombre?\")\n",
    "venta = input(\"¿Cuanto vendiste hoy?\")\n",
    "print(f\"Hola {nombre}, este mes vendiste {venta}. Te corresponde una comisión de ${(round(13*float(venta)/100,2))}\")"
   ]
  },
  {
   "attachments": {},
   "cell_type": "markdown",
   "metadata": {},
   "source": [
    "## Día 03"
   ]
  },
  {
   "attachments": {},
   "cell_type": "markdown",
   "metadata": {},
   "source": [
    "### Tipo de datos `string`"
   ]
  },
  {
   "attachments": {},
   "cell_type": "markdown",
   "metadata": {},
   "source": [
    "#### El método `index()`"
   ]
  },
  {
   "attachments": {},
   "cell_type": "markdown",
   "metadata": {},
   "source": [
    "Cada carácter de una cadena de caracteres tiene un número de índice que comienza con el primer carácter de izquierda a derecha, contando desde el 0. Los espacios en blanco y los signos de puntuación también cuentan como un carácter y tiene un número de índice. De esta forma en el `string` `\"¡Hola mundo!\"` el carácter `¡` tiene el indice 0, el carácter `H` tiene el indice 1 y continua, teniendo el espacio en blanco el indice 5. Existe el indice reverso, en el cual el carácter `¡` tiene el indice 0, pero a partir de ahí los siguientes caracteres van a tener índice negativos donde la `H` tiene el indice -11, la `o` tiene indice -10 y continua hasta el -1, teniendo el espacio en blanco el índice -7.\n",
    "\n",
    "Utilizamos el método `index()` para explorar `strings`, ya que permite hallar el índice de aparición de un carácter o cadena de caracteres dentro de un texto dado. El método `index()` es un método que pertenece a todos los `string`. Para utilizar el método escribimos el nombre de la variable que contiene el `string` seguido de punto, luego el método `index()` y entre paréntesis pasamos al método el valor de el o los caracteres que estamos buscando, seguido por comas un valor desde donde se indica desde que índice se comienza a hacer la búsqueda y, seguido por coma, otro valor indicando el índice hasta donde vamos a hacer la búsqueda. La sentencia queda de la forma `string.index(value, start, end)`."
   ]
  },
  {
   "cell_type": "code",
   "execution_count": 1,
   "metadata": {},
   "outputs": [
    {
     "name": "stdout",
     "output_type": "stream",
     "text": [
      "E\n",
      "u\n",
      "9\n",
      "8\n"
     ]
    },
    {
     "ename": "ValueError",
     "evalue": "substring not found",
     "output_type": "error",
     "traceback": [
      "\u001b[0;31m---------------------------------------------------------------------------\u001b[0m",
      "\u001b[0;31mValueError\u001b[0m                                Traceback (most recent call last)",
      "Cell \u001b[0;32mIn[1], line 16\u001b[0m\n\u001b[1;32m     13\u001b[0m \u001b[39mprint\u001b[39m(resultado)\n\u001b[1;32m     15\u001b[0m \u001b[39m# si buscamos un carácter o cadena de caracteres que no existe da un error\u001b[39;00m\n\u001b[0;32m---> 16\u001b[0m resultado \u001b[39m=\u001b[39m mi_texto\u001b[39m.\u001b[39;49mindex(\u001b[39m\"\u001b[39;49m\u001b[39mx\u001b[39;49m\u001b[39m\"\u001b[39;49m)\n",
      "\u001b[0;31mValueError\u001b[0m: substring not found"
     ]
    }
   ],
   "source": [
    "mi_texto = \"Esta es una prueba\"\n",
    "\n",
    "# accedemos a un carácter del string indicando entre [] su índice\n",
    "resultado = mi_texto[0]\n",
    "print(resultado)\n",
    "resultado = mi_texto[-10]\n",
    "print(resultado)\n",
    "\n",
    "# buscamos el índice de el o los caracteres dentro del string\n",
    "resultado = mi_texto.index(\"n\")\n",
    "print(resultado)\n",
    "\n",
    "# cuando buscamos una cadena el método nos devuelve el índice donde comienza esa cadena dentro del string explorado\n",
    "resultado = mi_texto.index(\"una\")\n",
    "print(resultado)\n",
    "\n",
    "# agregamos parámetros para indicar desde donde y hasta donde hacer la búsqueda dentro del string. En el ejemplo buscará desde el indice 4 al 15 no inclusivo, lo que significa que evalúa hasta el indice 14 del string\n",
    "resultado = mi_texto.index(\"una\")\n",
    "print(resultado)\n",
    "\n",
    "# funciona como el método index() pero realiza la búsqueda de derecha a izquierda, aunque el número de indice que devuelve es el que se genera contando de izquierda a derecha\n",
    "resultado = mi_texto.rindex(\"una\")\n",
    "print(resultado)\n",
    "\n",
    "# si el carácter que buscamos se encuentra en mayúsculas o minúsculas y estamos buscando el contrario, dará error. El método index() es sensible a mayúsculas o minúsculas\n",
    "resultado = mi_texto.index(\"Es\")\n",
    "\n",
    "# si buscamos un carácter o cadena de caracteres que no existe da un error\n",
    "resultado = mi_texto.index(\"x\")"
   ]
  },
  {
   "attachments": {},
   "cell_type": "markdown",
   "metadata": {},
   "source": [
    "#### Extraer un substring"
   ]
  },
  {
   "attachments": {},
   "cell_type": "markdown",
   "metadata": {},
   "source": [
    "Podemos extraer porciones de texto utilizando las herramientas de manipulación de strings conocidas como slicing (rebanar). Para hacerlo indicamos el nombre de la variable que contiene el `string` y entre `[]` el valor indicando desde que indice vamos a crear el substring, seguido por `:` y el valor indicando en que indice lo vamos a terminar, sin incluir este último, es decir, si el substring termina en el indice 15 del string original, el último carácter que tome va a ser el del indice 14 de este. La sentencia quedaría de la forma `string[2:13]` tomando los caracteres desde el indice 2 al 12 del string original. Podemos incluir un tercer valor indicando cada cuantos caracteres vamos a tomar uno para el substring de la forma `string[2:13:2]`."
   ]
  },
  {
   "cell_type": "code",
   "execution_count": null,
   "metadata": {},
   "outputs": [],
   "source": [
    "texto = \"ABCDEFGHIJKLM\"\n",
    "\n",
    "# extrae solo un carácter del string original\n",
    "fragmento = texto[2]\n",
    "print(fragmento)\n",
    "\n",
    "# extrae los caracteres que van desde el índice 2 al 4 del string original\n",
    "fragmento = texto[2:5]\n",
    "print(fragmento)\n",
    "\n",
    "# extrae los caracteres desde el índice 2 hasta el final del string original\n",
    "fragmento = texto[2:]\n",
    "print(fragmento)\n",
    "\n",
    "# extrae los caracteres desde el índice 0, es decir, desde el comienzo del string hasta el carácter del indice 4\n",
    "fragmento = texto[:5]\n",
    "print(fragmento)\n",
    "\n",
    "# extrae los caracteres desde el índice 2 hasta el carácter del índice 9, pero salteando uno, es decir, extrae un carácter salta el siguiente y extrae el carácter que sigue a ese. Esto sucede por que con el último parámetro, el 2 del final del método, indicamos que extraiga del string cada 2 caracteres\n",
    "fragmento = texto[2:10:2]\n",
    "print(fragmento)\n",
    "\n",
    "# extrae los caracteres de todo el string pero lo hace cada 3 caracteres\n",
    "fragmento = texto[::3]\n",
    "print(fragmento)\n",
    "\n",
    "# extrae toda la cadena, de uno en un carácter, pero guardándolos en orden invertido\n",
    "fragmento = texto[::-1]\n",
    "print(fragmento)"
   ]
  },
  {
   "attachments": {},
   "cell_type": "markdown",
   "metadata": {},
   "source": [
    "#### Métodos de `string`"
   ]
  },
  {
   "attachments": {},
   "cell_type": "markdown",
   "metadata": {},
   "source": [
    "##### Métodos de análisis"
   ]
  },
  {
   "cell_type": "code",
   "execution_count": null,
   "metadata": {},
   "outputs": [],
   "source": [
    "texto = \"hola mundo\"\n",
    "\n",
    "# count(): retorna el número de veces que se repite un conjunto de caracteres especificado.\n",
    "resultado = texto.count(\"Hola\")\n",
    "print(resultado)\n",
    "\n",
    "# find() e index() retornan la ubicación (comenzando desde el cero) en la que se encuentra el argumento indicado. Difieren en que index lanza ValueError cuando el argumento no es encontrado, mientras find retorna -1.\n",
    "resultado = texto.find(\"world\")\n",
    "print(resultado)\n",
    "\n",
    "# rfind() y rindex(). Para buscar un conjunto de caracteres pero desde el final.\n",
    "resultado = texto.rfind(\"m\")\n",
    "print(resultado)\n",
    "\n",
    "# startswith() y endswith() indican si la cadena en cuestión comienza o termina con el conjunto de caracteres pasados como argumento, y retornan True o False en función de ello.\n",
    "resultado = texto.startswith(\"hola\")\n",
    "print(resultado)\n",
    "\n",
    "texto = \"abc123\"\n",
    "\n",
    "# isdigit(): determina si todos los caracteres de la cadena son dígitos, o pueden formar números, incluidos aquellos correspondientes a lenguas orientales.\n",
    "resultado = texto.isdigit()\n",
    "print(resultado)\n",
    "\n",
    "# isnumeric(): determina si todos los caracteres de la cadena son números, incluye también caracteres de connotación numérica que no necesariamente son dígitos (por ejemplo, una fracción).\n",
    "resultado = texto.isnumeric()\n",
    "print(resultado)\n",
    "\n",
    "# isdecimal(): determina si todos los caracteres de la cadena son decimales; esto es, formados por dígitos del 0 al 9.\n",
    "resultado = texto.isdecimal()\n",
    "print(resultado)\n",
    "\n",
    "# isalnum(): determina si todos los caracteres de la cadena son alfanuméricos.\n",
    "resultado = texto.isalnum()\n",
    "print(resultado)\n",
    "\n",
    "# isalpha(): determina si todos los caracteres de la cadena son alfabéticos.\n",
    "resultado = texto.isalpha()\n",
    "print(resultado)\n",
    "\n",
    "# islower(): determina si todos los caracteres de la cadena son minúsculas.\n",
    "resultado = texto.islower()\n",
    "print(resultado)\n",
    "\n",
    "# isupper(): determina si todos los caracteres de la cadena son mayúsculas.\n",
    "resultado = texto.isupper()\n",
    "print(resultado)\n",
    "\n",
    "# isprintable(): determina si todos los caracteres de la cadena son imprimibles (es decir, no son caracteres especiales indicados por \\...).\n",
    "resultado = texto.isprintable()\n",
    "print(resultado)\n",
    "\n",
    "texto = \"hola mundo\"\n",
    "\n",
    "# isspace(): determina si todos los caracteres de la cadena son espacios.\n",
    "resultado = texto.isspace()\n",
    "print(resultado)"
   ]
  },
  {
   "attachments": {},
   "cell_type": "markdown",
   "metadata": {},
   "source": [
    "##### Métodos de transformación"
   ]
  },
  {
   "attachments": {},
   "cell_type": "markdown",
   "metadata": {},
   "source": [
    "En realidad los strings son inmutables; por ende, todos los métodos a continuación no actúan sobre el objeto original sino que retornan uno nuevo."
   ]
  },
  {
   "cell_type": "code",
   "execution_count": 2,
   "metadata": {},
   "outputs": [
    {
     "name": "stdout",
     "output_type": "stream",
     "text": [
      "Hola mundo\n",
      "b'hola mundo'\n",
      "hola world\n",
      "hola mundo\n",
      "HOLA MUNDO\n",
      "hOLA mUNDO\n",
      "Hola Mundo\n",
      "********  Hola Mundo *********\n"
     ]
    }
   ],
   "source": [
    "texto = \"hola mundo\"\n",
    "\n",
    "# capitalize() retorna la cadena con su primera letra en mayúscula.\n",
    "resultado = texto.capitalize()\n",
    "print(resultado)\n",
    "\n",
    "# encode() codifica la cadena con el mapa de caracteres especificado y retorna una instancia del tipo bytes.\n",
    "resultado = texto.encode(\"utf-8\")\n",
    "print(resultado)\n",
    "\n",
    "# replace( ) reemplaza una cadena por otra.\n",
    "resultado = texto.replace(\"mundo\", \"world\")\n",
    "print(resultado)\n",
    "\n",
    "texto = \"Hola Mundo\"\n",
    "\n",
    "# lower() retorna una copia de la cadena con todas sus letras en minúsculas.\n",
    "resultado = texto.lower()\n",
    "print(resultado)\n",
    "\n",
    "# upper() retorna una copia de la cadena con todas sus letras en mayúsculas.\n",
    "resultado = texto.upper()\n",
    "print(resultado)\n",
    "\n",
    "# swapcase() cambia las mayúsculas por minúsculas y viceversa.\n",
    "resultado = texto.swapcase()\n",
    "print(resultado)\n",
    "\n",
    "texto = \"  Hola Mundo \"\n",
    "\n",
    "# strip(), lstrip() y rstrip() remueven los espacios en blanco que preceden y/o suceden a la cadena.\n",
    "resultado = texto.strip()\n",
    "print(resultado)\n",
    "\n",
    "# Los métodos center(), ljust() y rjust() alinean una cadena en el centro, la izquierda o la derecha. Un segundo argumento indica con qué carácter se deben llenar los espacios vacíos (por defecto un espacio en blanco).\n",
    "resultado = texto.center(30,\"*\")\n",
    "print(resultado)"
   ]
  },
  {
   "attachments": {},
   "cell_type": "markdown",
   "metadata": {},
   "source": [
    "##### Métodos de separación y unión"
   ]
  },
  {
   "cell_type": "code",
   "execution_count": null,
   "metadata": {},
   "outputs": [],
   "source": [
    "texto = \"Hola mundo\\nHello world\"\n",
    "\n",
    "# split() divide una cadena según un carácter separador (por defecto son espacios en blanco). Un segundo argumento en split( ) indica cuál es el máximo de divisiones que puede tener lugar (-1 por defecto para representar una cantidad ilimitada).\n",
    "resultado = texto.split()\n",
    "print(resultado)\n",
    "\n",
    "# splitlines() divide una cadena con cada aparición de un salto de línea.\n",
    "resultado = texto.splitlines()\n",
    "print(resultado)\n",
    "\n",
    "# partition() retorna una tupla de tres elementos: el bloque de caracteres anterior a la primera ocurrencia del separador, el separador mismo, y el bloque posterior.\n",
    "resultado = texto.partition(\" \")\n",
    "print(resultado)\n",
    "\n",
    "# rpartition() opera del mismo modo que el anterior, pero partiendo de derecha a izquierda.\n",
    "resultado = texto.rpartition(\" \")\n",
    "print(resultado)\n",
    "\n",
    "texto = \", \"\n",
    "\n",
    "# join() debe ser llamado desde una cadena que actúa como separador para unir dentro de una misma cadena resultante los elementos de una lista.\n",
    "resultado = texto.join([\"Hola Mundo\", \"Hello world\"])\n",
    "print(resultado)"
   ]
  },
  {
   "attachments": {},
   "cell_type": "markdown",
   "metadata": {},
   "source": [
    "#### Propiedades de `string`"
   ]
  },
  {
   "attachments": {},
   "cell_type": "markdown",
   "metadata": {},
   "source": [
    "Esto es lo que debes tener presente al trabajar con strings en Python:\n",
    "* __son inmutables__: una vez creados, no pueden modificarse sus partes, es decir, cambiar su orden interno o alterar su contenido, pero sí pueden reasignarse los valores de las variables a través de métodos de strings.\n",
    "\n",
    "* __concatenable__: es posible unir strings con el símbolo +.\n",
    "* __multiplicable__: es posible concatenar repeticiones de un string con el símbolo *.\n",
    "* __multilineales__: pueden escribirse en varias líneas al encerrarse entre triples comillas simples `''' '''` o dobles `\"\"\" \"\"\"`.\n",
    "* __determinar su longitud__: a través de la función `len(mi_string)`. Esto incluye letras, números, símbolos y espacios en blanco.\n",
    "* __verificar su contenido__: a través de las palabras clave `in` y `not in`. El resultado de esta verificación es un booleano `true / false`."
   ]
  },
  {
   "cell_type": "code",
   "execution_count": 7,
   "metadata": {},
   "outputs": [
    {
     "name": "stdout",
     "output_type": "stream",
     "text": [
      "Carina Carina Carina Carina Carina \n",
      "Mil pequeños pese blancos\n",
      "comosi hirviera\n",
      "el color del agua\n",
      "\n",
      "True\n",
      "True\n"
     ]
    },
    {
     "ename": "TypeError",
     "evalue": "'str' object does not support item assignment",
     "output_type": "error",
     "traceback": [
      "\u001b[0;31m---------------------------------------------------------------------------\u001b[0m",
      "\u001b[0;31mTypeError\u001b[0m                                 Traceback (most recent call last)",
      "Cell \u001b[0;32mIn[7], line 18\u001b[0m\n\u001b[1;32m     15\u001b[0m \u001b[39mprint\u001b[39m(\u001b[39m\"\u001b[39m\u001b[39msol\u001b[39m\u001b[39m\"\u001b[39m \u001b[39mnot\u001b[39;00m \u001b[39min\u001b[39;00m poema)\n\u001b[1;32m     17\u001b[0m \u001b[39m# los string son inmutables, por eso el siguiente código dará error\u001b[39;00m\n\u001b[0;32m---> 18\u001b[0m nombre[\u001b[39m0\u001b[39;49m] \u001b[39m=\u001b[39m \u001b[39m\"\u001b[39m\u001b[39mK\u001b[39m\u001b[39m\"\u001b[39m\n\u001b[1;32m     19\u001b[0m \u001b[39mprint\u001b[39m(nombre)\n\u001b[1;32m     21\u001b[0m \u001b[39m# si asignamos el nombre correcto a la variable no estamos modificando el string original sino asignando uno nuevo a la variable\u001b[39;00m\n",
      "\u001b[0;31mTypeError\u001b[0m: 'str' object does not support item assignment"
     ]
    }
   ],
   "source": [
    "nombre = \"Carina\"\n",
    "\n",
    "# concatenamos el string con un espacio en blanco y lo multiplicamos\n",
    "print((nombre + \" \") * 5)\n",
    "\n",
    "# podemos asignar string con saltos de línea usando las tres comillas\n",
    "poema = '''Mil pequeños pese blancos\n",
    "comosi hirviera\n",
    "el color del agua\n",
    "'''\n",
    "print(poema)\n",
    "\n",
    "# verificamos el contenido por medio de in y not in\n",
    "print(\"agua\" in poema)\n",
    "print(\"sol\" not in poema)\n",
    "\n",
    "# los string son inmutables, por eso el siguiente código dará error\n",
    "nombre[0] = \"K\"\n",
    "print(nombre)\n",
    "\n",
    "# si asignamos el nombre correcto a la variable no estamos modificando el string original sino asignando uno nuevo a la variable\n",
    "nombre = \"Karina\""
   ]
  },
  {
   "attachments": {},
   "cell_type": "markdown",
   "metadata": {},
   "source": [
    "### Tipo de dato `list`"
   ]
  },
  {
   "attachments": {},
   "cell_type": "markdown",
   "metadata": {},
   "source": [
    "Las listas son secuencias ordenadas de objetos. Estos objetos pueden ser datos de cualquier tipo: strings, integers, floats, booleanos, listas, entre otros. Son tipos de datos mutables, es decir, podemos poner, sacar o modificar sus elementos, y admiten datos duplicados."
   ]
  },
  {
   "cell_type": "code",
   "execution_count": 1,
   "metadata": {},
   "outputs": [
    {
     "name": "stdout",
     "output_type": "stream",
     "text": [
      "<class 'list'>\n",
      "[['C', 'C++', 'Python', 'Java'], 5, 3.5, 'prueba', 5]\n",
      "['C++', 'Python']\n",
      "4\n",
      "['C', 'C++', 'Python', 'Java', 'PHP', 'SQL', 'Visual Basic']\n",
      "['C', 'C++', 'Python', 'Java', 'R']\n",
      "R\n",
      "['a', 'b', 'c', 'd', 'e']\n",
      "[9, 1, 7, 4, 5]\n"
     ]
    }
   ],
   "source": [
    "lista_1 = [\"C\", \"C++\", \"Python\", \"Java\"]\n",
    "lista_2 = [\"PHP\", \"SQL\", \"Visual Basic\"]\n",
    "\n",
    "# los datos de tipo list son objetos que pertenecen a la clase list\n",
    "print(type(lista_1))\n",
    "\n",
    "# las listas pueden tener diferentes tipos de datos\n",
    "lista_prueba = [lista_1, 5, 3.5, \"prueba\", 5]\n",
    "print(lista_prueba)\n",
    "\n",
    "# indexado: podemos acceder a los elementos de una lista a través de sus índices [inicio:fin:paso]\n",
    "print(lista_1[1:3])\n",
    "\n",
    "# cantidad de elementos: a través de la propiedad len()\n",
    "print(len(lista_1))\n",
    "\n",
    "# concatenación: sumamos los elementos de varias listas con el símbolo +\n",
    "print(lista_1 + lista_2)\n",
    "\n",
    "lista_3 = [\"d\", \"a\", \"c\", \"b\", \"e\"]\n",
    "lista_4 = [5, 4, 7, 1, 9]\n",
    "\n",
    "# función append(): agrega un elemento a una lista en el lugar\n",
    "lista_1.append(\"R\")\n",
    "print(lista_1)\n",
    "\n",
    "# función pop(): elimina un elemento de la lista dado el índice, y devuelve el valor quitado. Si no indicamos ningún valor en los parámetros del método elimina el último elemento de la lista\n",
    "print(lista_1.pop(4))\n",
    "\n",
    "# función sort(): ordena los elementos de la lista alfabéticamente o en orden ascendente si se trata de números. El método no devuelve valores, el ordenamiento de los elementos de la lista se hace sobre la propia variable que contiene la lista\n",
    "lista_3.sort()\n",
    "print(lista_3)\n",
    "\n",
    "# función reverse(): invierte el orden de los elementos que se encuentran en la lista, no los ordena, es decir, no hace que los elementos se muestren en orden alfabético invertido, solo invierte el orden que ya tiene la lista de elementos. Reverse no es lo opuesto a sort()\n",
    "lista_4.reverse()\n",
    "print(lista_4)"
   ]
  },
  {
   "attachments": {},
   "cell_type": "markdown",
   "metadata": {},
   "source": [
    "### Tipo de dato `dict`"
   ]
  },
  {
   "attachments": {},
   "cell_type": "markdown",
   "metadata": {},
   "source": [
    "Los diccionarios son estructuras de datos que almacenan información en pares `clave:valor`. Son especialmente útiles para guardar y recuperar información a partir de los nombres de sus claves (no utilizan índices). Los diccionarios son mutables, es decir, podemos sacar, poner o modificar sus elementos. No son ordenados, es decir, no cuentan con un índice y no admiten duplicados en sus claves, pero si en los valores que estás tienen asignados. Los diccionarios se escriben entre `{}`. Las claves se escriben entre `''`, el valor en el formato que le corresponde. La clave y el valor están separados por `:` y cada elemento del diccionario esta separado por coma.\n",
    "\n",
    "*: A partir de Python 3.7+, los diccionarios son tipos de datos ordenados, en el sentido que dicho orden se mantiene según su orden de inserción para aumentar la eficiencia en el uso de la memoria."
   ]
  },
  {
   "cell_type": "code",
   "execution_count": 2,
   "metadata": {},
   "outputs": [
    {
     "name": "stdout",
     "output_type": "stream",
     "text": [
      "ejercicios\n",
      "dict_keys(['curso', 'clase', 'recursos'])\n",
      "dict_values(['Python TOTAL', 'Diccionarios', ['notas', 'ejercicios']])\n",
      "dict_items([('curso', 'Python TOTAL'), ('clase', 'Diccionarios'), ('recursos', ['notas', 'ejercicios'])])\n"
     ]
    }
   ],
   "source": [
    "mi_diccionario = {\"curso\":\"Python TOTAL\", \"clase\":\"Diccionarios\"}\n",
    "print(type(mi_diccionario))\n",
    "\n",
    "# agregar nuevos datos, o modificarlos\n",
    "mi_diccionario[\"recursos\"] = [\"notas\", \"ejercicios\"]\n",
    "\n",
    "# acceso a valores a través del nombre de las claves\n",
    "print(mi_diccionario[\"curso\"])\n",
    "print(mi_diccionario[\"recursos\"][1])\n",
    "\n",
    "# métodos para listar los nombres de las claves keys(), valores values(), y pares clave:valor items()\n",
    "print(mi_diccionario.keys())\n",
    "print(mi_diccionario.values())\n",
    "print(mi_diccionario.items())"
   ]
  },
  {
   "attachments": {},
   "cell_type": "markdown",
   "metadata": {},
   "source": [
    "### Tipo de dato `tuple`"
   ]
  },
  {
   "attachments": {},
   "cell_type": "markdown",
   "metadata": {},
   "source": [
    "Los tuples o tuplas, son estructuras de datos que almacenan múltiples elementos en una única variable. Se caracterizan por ser ordenadas e inmutables, es decir, no se puede modificar el valor de sus elementos, además admiten duplicados. Esta característica las hace más eficientes en memoria y a prueba de daños. Se escriben entre `()` o sin encerrarlas en nada. sus elementos van separados por coma."
   ]
  },
  {
   "cell_type": "code",
   "execution_count": 1,
   "metadata": {},
   "outputs": [
    {
     "name": "stdout",
     "output_type": "stream",
     "text": [
      "<class 'tuple'>\n",
      "5.0\n",
      "[1, 'dos', [3.33, 'cuatro'], (5.0, 6)]\n",
      "[3.33, 'cuatro']\n"
     ]
    },
    {
     "name": "stderr",
     "output_type": "stream",
     "text": [
      "Bad pipe message: %s [b'\\x0c\\xa8\\xfe{x\\xbf\\xaa\\xb8\\t\\xd9f\\x9f#HC\\x18\\xda\\x04 \\x88\\xd1\\xe2\\xb8\\x99\\x9f\\xbe{\\xb6\\xaa<\\xd8\\xe0LUf\\xc4\\x8b0\\x85\\x0f\\xca\\xe53^z\\xf8]A\\xbcO0\\x00\\x08\\x13\\x02\\x13\\x03\\x13\\x01\\x00\\xff\\x01\\x00\\x00\\x8f\\x00\\x00\\x00\\x0e\\x00\\x0c\\x00\\x00\\t127.0.0.1\\x00\\x0b\\x00\\x04\\x03\\x00\\x01\\x02\\x00\\n\\x00\\x0c\\x00\\n\\x00\\x1d\\x00\\x17\\x00\\x1e\\x00\\x19\\x00\\x18\\x00#\\x00\\x00\\x00\\x16\\x00\\x00\\x00\\x17\\x00\\x00\\x00\\r\\x00\\x1e\\x00\\x1c\\x04\\x03\\x05\\x03\\x06\\x03\\x08\\x07\\x08\\x08\\x08\\t\\x08\\n\\x08\\x0b\\x08\\x04\\x08\\x05\\x08\\x06\\x04\\x01\\x05\\x01\\x06\\x01\\x00+\\x00\\x03\\x02\\x03\\x04\\x00-\\x00\\x02\\x01\\x01\\x003\\x00&\\x00$']\n",
      "Bad pipe message: %s [b'\\x19\\x13\\x0f\\x08\\xbc!J\\xec\\x0b6\\xbb\\xd2h\\xd7w\\x8b\\x19\\xf6 [\\xb6.\\xb1\\xd5\\x9e\\x97\\x9a\\xc3\\xe3j\\x8e\\x91\\x95q\\xb1\\xa90>\\xd7caj\\x8b\\x9bHn$v:x\\xc8\\x00\\x08\\x13\\x02\\x13\\x03\\x13\\x01\\x00\\xff\\x01\\x00\\x00\\x8f\\x00\\x00\\x00\\x0e\\x00\\x0c\\x00\\x00\\t127.0.0.1\\x00\\x0b\\x00\\x04\\x03\\x00\\x01\\x02\\x00\\n\\x00\\x0c\\x00\\n\\x00', b'\\x17\\x00\\x1e\\x00\\x19\\x00\\x18\\x00#\\x00\\x00\\x00\\x16\\x00\\x00\\x00\\x17\\x00\\x00\\x00\\r\\x00\\x1e\\x00\\x1c\\x04\\x03\\x05']\n",
      "Bad pipe message: %s [b'a\\x91\\xbdeaepE\\xb6\\xd9\\x81\\xcd$v\\xff\\xb8\\x8d\\xba\\x00\\x00|\\xc0,\\xc00\\x00\\xa3\\x00\\x9f\\xcc\\xa9\\xcc\\xa8\\xcc\\xaa\\xc0\\xaf\\xc0\\xad\\xc0\\xa3\\xc0', b\"]\\xc0a\\xc0W\\xc0S\\xc0+\\xc0/\\x00\\xa2\\x00\\x9e\\xc0\\xae\\xc0\\xac\\xc0\\xa2\\xc0\\x9e\\xc0\\\\\\xc0`\\xc0V\\xc0R\\xc0$\\xc0(\\x00k\\x00j\\xc0#\\xc0'\\x00g\\x00@\\xc0\\n\\xc0\\x14\\x009\\x008\\xc0\\t\\xc0\\x13\\x003\\x002\\x00\\x9d\\xc0\\xa1\\xc0\\x9d\\xc0Q\\x00\\x9c\\xc0\\xa0\\xc0\\x9c\\xc0P\\x00=\\x00<\\x005\\x00/\\x00\\x9a\\x00\\x99\\xc0\\x07\\xc0\\x11\\x00\\x96\\x00\\x05\\x00\\xff\\x01\\x00\\x00j\\x00\\x00\\x00\\x0e\\x00\\x0c\\x00\\x00\\t127.0.0.1\\x00\\x0b\\x00\\x04\\x03\\x00\\x01\\x02\\x00\\n\\x00\\x0c\\x00\\n\\x00\\x1d\\x00\\x17\\x00\\x1e\\x00\\x19\\x00\\x18\\x00#\\x00\\x00\\x00\\x16\\x00\\x00\\x00\\x17\\x00\"]\n",
      "Bad pipe message: %s [b\"Y\\xe7\\x84\\xd6\\x8e\\x88<F\\x88o\\xf2\\xe2\\xb9t\\t\\x87\\xb3s\\x00\\x00\\xa6\\xc0,\\xc00\\x00\\xa3\\x00\\x9f\\xcc\\xa9\\xcc\\xa8\\xcc\\xaa\\xc0\\xaf\\xc0\\xad\\xc0\\xa3\\xc0\\x9f\\xc0]\\xc0a\\xc0W\\xc0S\\xc0+\\xc0/\\x00\\xa2\\x00\\x9e\\xc0\\xae\\xc0\\xac\\xc0\\xa2\\xc0\\x9e\\xc0\\\\\\xc0`\\xc0V\\xc0R\\xc0$\\xc0(\\x00k\\x00j\\xc0s\\xc0w\\x00\\xc4\\x00\\xc3\\xc0#\\xc0'\\x00g\\x00@\\xc0r\\xc0v\\x00\\xbe\\x00\\xbd\\xc0\\n\\xc0\\x14\\x009\\x008\\x00\\x88\\x00\\x87\\xc0\\t\\xc0\\x13\\x00\"]\n",
      "Bad pipe message: %s [b'\\xce\\xad\\xdb\\x89\\t\\xc8x\\x05\\xf6,\\xae\\x9f\\x03\\x16\\x11^\\xd0R\\x00\\x00>\\xc0\\x14\\xc0\\n\\x009\\x008\\x007\\x006\\xc0\\x0f\\xc0', b'5\\xc0\\x13\\xc0']\n",
      "Bad pipe message: %s [b'\\xbd\\xd1$=\\xe9H8\\xd4\\x87\\x0b[c\\xe0\\x1c\\x82K F\\x00\\x00\\xf4\\xc00\\xc0,\\xc0(\\xc0$\\xc0\\x14\\xc0\\n']\n",
      "Bad pipe message: %s [b'Y\\x99\\xbb\\xd1\\x16\\xac\\x81@m\\xd8d\\xd9\\xa6~\\xf7\\x11\\xda\\xad\\x00\\x00>\\xc0\\x14\\xc0\\n\\x009\\x008\\x007\\x006\\xc0\\x0f\\xc0\\x05\\x005\\xc0\\x13\\xc0\\t\\x003\\x002\\x001\\x000\\xc0\\x0e\\xc0\\x04\\x00/\\x00\\x9a\\x00\\x99\\x00\\x98\\x00\\x97\\x00\\x96\\x00\\x07\\xc0\\x11\\xc0\\x07\\xc0\\x0c\\xc0\\x02\\x00\\x05\\x00\\x04\\x00\\xff\\x02\\x01\\x00\\x00C\\x00\\x00\\x00\\x0e\\x00\\x0c\\x00\\x00\\t127.', b'0.1\\x00\\x0b\\x00\\x04\\x03\\x00\\x01\\x02\\x00\\n\\x00\\x1c\\x00\\x1a\\x00\\x17\\x00\\x19\\x00\\x1c\\x00\\x1b\\x00\\x18\\x00\\x1a\\x00\\x16\\x00\\x0e\\x00\\r\\x00\\x0b\\x00\\x0c\\x00\\t\\x00\\n\\x00#\\x00\\x00']\n",
      "Bad pipe message: %s [b\"T\\xb2\\x95\\x82\\xfd%\\xd7\\xd9f\\x01P*8\\xa7\\xe7}Z7\\x00\\x00\\x86\\xc00\\xc0,\\xc0(\\xc0$\\xc0\\x14\\xc0\\n\\x00\\xa5\\x00\\xa3\\x00\\xa1\\x00\\x9f\\x00k\\x00j\\x00i\\x00h\\x009\\x008\\x007\\x006\\xc02\\xc0.\\xc0*\\xc0&\\xc0\\x0f\\xc0\\x05\\x00\\x9d\\x00=\\x005\\xc0/\\xc0+\\xc0'\\xc0#\\xc0\\x13\\xc0\\t\\x00\\xa4\\x00\\xa2\\x00\\xa0\\x00\\x9e\\x00g\\x00@\\x00?\\x00>\\x003\\x002\\x001\\x000\\xc01\\xc0-\\xc0)\\xc0%\\xc0\\x0e\\xc0\\x04\"]\n",
      "Bad pipe message: %s [b'y\\x81\\x97\\x80\\x9aku\\xa37G\\n\\xcf\\x0c(\\x10h', b'\\x00\\x00\\xa2\\xc0\\x14\\xc0\\n\\x009\\x008\\x007\\x006\\x00\\x88\\x00\\x87\\x00\\x86\\x00\\x85\\xc0\\x19\\x00:\\x00\\x89\\xc0\\x0f\\xc0\\x05\\x005\\x00\\x84\\xc0\\x13\\xc0\\t\\x003\\x002\\x001\\x000\\x00\\x9a\\x00\\x99\\x00\\x98\\x00\\x97\\x00E\\x00D\\x00C\\x00B\\xc0\\x18\\x004\\x00\\x9b\\x00F\\xc0\\x0e\\xc0\\x04\\x00', b'\\x96\\x00A\\x00\\x07\\xc0\\x11\\xc0\\x07\\xc0\\x16\\x00\\x18\\xc0\\x0c\\xc0\\x02\\x00\\x05\\x00\\x04\\xc0\\x12\\xc0\\x08\\x00\\x16\\x00\\x13\\x00\\x10\\x00\\r\\xc0\\x17\\x00\\x1b\\xc0\\r\\xc0\\x03\\x00\\n\\x00\\x15\\x00']\n",
      "Bad pipe message: %s [b'\\x0f\\x00\\x0c\\x00\\x1a\\x00\\t\\x00\\x14\\x00\\x11\\x00\\x19\\x00\\x08\\x00\\x06']\n",
      "Bad pipe message: %s [b'\\x03\\x08']\n",
      "Bad pipe message: %s [b'3\\x002\\x001\\x000\\xc0']\n",
      "Bad pipe message: %s [b'2\\x00\\x9a\\x00\\x99\\x00E\\x00D\\xc0\\x07\\xc0\\x11\\xc0\\x08\\xc0\\x12\\x00\\x16\\x00\\x13\\x00\\x9d\\xc0\\xa1\\xc0\\x9d\\xc0Q\\x00\\x9c\\xc0\\xa0\\xc0\\x9c\\xc0P\\x00=\\x00\\xc0\\x00<\\x00\\xba\\x005\\x00\\x84\\x00']\n",
      "Bad pipe message: %s [b'\\x96\\x00A\\x00\\x05\\x00\\n\\x00\\xff\\x01\\x00\\x00j\\x00\\x00\\x00\\x0e\\x00\\x0c\\x00\\x00\\t127.0.0.1\\x00\\x0b\\x00\\x04\\x03\\x00\\x01\\x02\\x00\\n\\x00\\x0c\\x00\\n\\x00']\n",
      "Bad pipe message: %s [b'\\x08\\x08\\t\\x08\\n\\x08']\n",
      "Bad pipe message: %s [b'\\x04\\x00/\\x00\\x9a\\x00\\x99\\x00\\x98\\x00\\x97\\x00\\x96']\n",
      "Bad pipe message: %s [b'\\x17\\x00\\x1e\\x00\\x19\\x00\\x18\\x00#\\x00\\x00\\x00\\x16\\x00\\x00\\x00\\x17\\x00\\x00\\x00\\r\\x000\\x00.\\x04\\x03\\x05']\n",
      "Bad pipe message: %s [b'\\x04\\x08\\x05\\x08\\x06\\x04\\x01\\x05\\x01\\x06']\n",
      "Bad pipe message: %s [b'\\x03\\x08']\n",
      "Bad pipe message: %s [b'']\n",
      "Bad pipe message: %s [b'\\x08\\x08\\t\\x08\\n\\x08']\n",
      "Bad pipe message: %s [b'\\x03\\x02\\x03\\x04\\x00-\\x00\\x02\\x01\\x01\\x003\\x00&\\x00$\\x00\\x1d\\x00 \\xef@\\xa5\\xa8}\\x96]+\\xc5=\\xc1\\x81!\\xaf-\\xf3\\xb9\\xdd\\x84\\x8b%0']\n",
      "Bad pipe message: %s [b'\\x04\\x08\\x05\\x08\\x06\\x04\\x01\\x05\\x01\\x06']\n",
      "Bad pipe message: %s [b'', b'\\x03\\x03']\n",
      "Bad pipe message: %s [b'']\n",
      "Bad pipe message: %s [b'', b'\\x02']\n",
      "Bad pipe message: %s [b'\\x05\\x02\\x06']\n"
     ]
    }
   ],
   "source": [
    "mi_tuple = (1, \"dos\" , [3.33, \"cuatro\"], (5.0, 6))\n",
    "print(type(mi_tuple))\n",
    "\n",
    "# indexado (acceso a datos)\n",
    "print(mi_tuple[3][0])\n",
    "\n",
    "# casting (conversión de tipos de datos), convertimos la tupla en una lista para poder modificar sus elementos\n",
    "lista_1 = list(mi_tuple)\n",
    "print(lista_1)\n",
    "\n",
    "# unpacking (extracción de datos\n",
    "a, b, c, d = mi_tuple\n",
    "print(c)"
   ]
  }
 ],
 "metadata": {
  "kernelspec": {
   "display_name": "Python 3",
   "language": "python",
   "name": "python3"
  },
  "language_info": {
   "codemirror_mode": {
    "name": "ipython",
    "version": 3
   },
   "file_extension": ".py",
   "mimetype": "text/x-python",
   "name": "python",
   "nbconvert_exporter": "python",
   "pygments_lexer": "ipython3",
   "version": "3.10.4"
  },
  "orig_nbformat": 4,
  "vscode": {
   "interpreter": {
    "hash": "3ad933181bd8a04b432d3370b9dc3b0662ad032c4dfaa4e4f1596c548f763858"
   }
  }
 },
 "nbformat": 4,
 "nbformat_minor": 2
}
