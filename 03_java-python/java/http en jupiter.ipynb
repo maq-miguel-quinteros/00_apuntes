{
 "cells": [
  {
   "cell_type": "code",
   "execution_count": 20,
   "metadata": {
    "dotnet_interactive": {
     "language": "html"
    },
    "polyglot_notebook": {
     "kernelName": "html"
    },
    "vscode": {
     "languageId": "http"
    }
   },
   "outputs": [
    {
     "data": {
      "message/http": "{\n\t\"name\": \"200 - GET http://localhost:8080/api/books\",\n\t\"protocol\": \"HTTP/1.1\",\n\t\"statusCode\": 200,\n\t\"statusMessage\": \"OK\",\n\t\"httpVersion\": \"1.1\",\n\t\"headers\": {\n\t\t\"content-type\": \"application/json\",\n\t\t\"transfer-encoding\": \"chunked\",\n\t\t\"date\": \"Sat, 23 Sep 2023 23:13:52 GMT\",\n\t\t\"connection\": \"close\"\n\t},\n\t\"body\": \"[ {\\r\\n  \\\"id\\\" : 1,\\r\\n  \\\"isbn\\\" : \\\"9788466619523\\\",\\r\\n  \\\"title\\\" : \\\"A través del tiempo\\\",\\r\\n  \\\"date\\\" : \\\"2018-11-22\\\",\\r\\n  \\\"synopsis\\\" : \\\"El doctor Brian Weiss, analiza en este libro la capacidad de curación de la terapia de regresión a vidas pasadas.\\\"\\r\\n} ]\",\n\t\"rawHeaders\": [\n\t\t\"Content-Type\",\n\t\t\"application/json\",\n\t\t\"Transfer-Encoding\",\n\t\t\"chunked\",\n\t\t\"Date\",\n\t\t\"Sat, 23 Sep 2023 23:13:52 GMT\",\n\t\t\"Connection\",\n\t\t\"close\"\n\t],\n\t\"prettyPrintBody\": \"[\\n  {\\n    \\\"id\\\": 1,\\n    \\\"isbn\\\": \\\"9788466619523\\\",\\n    \\\"title\\\": \\\"A través del tiempo\\\",\\n    \\\"date\\\": \\\"2018-11-22\\\",\\n    \\\"synopsis\\\": \\\"El doctor Brian Weiss, analiza en este libro la capacidad de curación de la terapia de regresión a vidas pasadas.\\\"\\n  }\\n]\",\n\t\"contentType\": {\n\t\t\"mimeType\": \"application/json\",\n\t\t\"contentType\": \"application/json\"\n\t},\n\t\"timings\": {\n\t\t\"wait\": 1,\n\t\t\"dns\": 0,\n\t\t\"tcp\": 0,\n\t\t\"request\": 0,\n\t\t\"firstByte\": 3,\n\t\t\"download\": 1,\n\t\t\"total\": 5\n\t},\n\t\"meta\": {\n\t\t\"ip\": \"127.0.0.1\",\n\t\t\"redirectUrls\": [],\n\t\t\"size\": \"347 B\"\n\t},\n\t\"tags\": [\n\t\t\"httpRegion\",\n\t\t\"mainResponse\"\n\t],\n\t\"request\": {\n\t\t\"url\": \"http://localhost:8080/api/books\",\n\t\t\"method\": \"GET\",\n\t\t\"headers\": {\n\t\t\t\"user-agent\": \"httpyac\",\n\t\t\t\"accept\": \"*/*\",\n\t\t\t\"accept-encoding\": \"gzip, deflate, br\"\n\t\t}\n\t}\n}",
      "text/x-json": [
       "[\n",
       "\t{\n",
       "\t\t\"id\": 1,\n",
       "\t\t\"isbn\": \"9788466619523\",\n",
       "\t\t\"title\": \"A través del tiempo\",\n",
       "\t\t\"date\": \"2018-11-22\",\n",
       "\t\t\"synopsis\": \"El doctor Brian Weiss, analiza en este libro la capacidad de curación de la terapia de regresión a vidas pasadas.\"\n",
       "\t}\n",
       "]"
      ]
     },
     "metadata": {},
     "output_type": "display_data"
    }
   ],
   "source": [
    "GET http://localhost:8080/api/books"
   ]
  }
 ],
 "metadata": {
  "language_info": {
   "name": "python"
  },
  "orig_nbformat": 4
 },
 "nbformat": 4,
 "nbformat_minor": 2
}
