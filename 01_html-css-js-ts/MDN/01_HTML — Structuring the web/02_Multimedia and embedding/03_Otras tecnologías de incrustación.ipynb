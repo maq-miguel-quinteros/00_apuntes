{
 "cells": [
  {
   "attachments": {},
   "cell_type": "markdown",
   "metadata": {},
   "source": [
    "# Desde object hasta iframe - otras tecnologías de incrustación"
   ]
  },
  {
   "attachments": {},
   "cell_type": "markdown",
   "metadata": {},
   "source": [
    "Los elementos `<iframe>` son para incrustar otras páginas web, los elementos `<embed>` y `<object>` permiten incrustar PDFs, SVG e incluso Flash, una tecnología que está en su camino de despedida, pero la cual seguirás viendo semi-regularmente."
   ]
  },
  {
   "attachments": {},
   "cell_type": "markdown",
   "metadata": {},
   "source": [
    "## Enlace a la sección: Una breve historia de incrustación"
   ]
  },
  {
   "attachments": {},
   "cell_type": "markdown",
   "metadata": {},
   "source": [
    "Hace mucho tiempo en la Web, era popular usar marcos (frames) para crear sitios web, pequeñas partes de un sitio web almacenadas en páginas HTML individuales. Estos estaban incrustados en un documento maestro llamado conjunto de marcos (frameset), que le permitía especificar el área en la pantalla que ocupaba cada cuadro, como el tamaño de las columnas y las filas de una tabla. Había evidencia de que tener una página web dividida en trozos más pequeños como este era mejor para velocidades de descarga, especialmente notable con conexiones de red tan lentas en ese momento. Sin embargo, tuvieron muchos problemas, que superaron con creces cualquier aspecto positivo ya que las velocidades de red se hicieron más rápidas, por lo que ya no se ve que se usen.\n",
    "\n",
    "Poco tiempo después (finales de los 90, principios de 2000), las tecnologías de complementos se volvieron muy populares, como los Applets de Java y Flash . Esto permitió a los desarrolladores web incorporar contenido enriquecido en páginas web como videos y animaciones, que simplemente no estaban disponibles solo a través de HTML. La incrustación de estas tecnologías se logró a través de elementos como `<object>` y el menos utilizado `<embed>`. Desde entonces, pasaron de moda debido a muchos problemas, incluidos el acceso, la seguridad, el tamaño del archivo y entre otros; en la actualidad, la mayoría de los dispositivos móviles ya no son compatibles con estos complementos, y el soporte de escritorio está en camino de desaparecer.\n",
    "\n",
    "Finalmente, apareció el elemento `<iframe>` (junto con otras formas de incrustación de contenido, como `<canvas>` , `<video>` , etc.). Esto proporciona una forma de insertar un documento web entero dentro de otro, como si fuera un `<img>` u otro elemento similar, y asi es como se usa en la actualidad."
   ]
  },
  {
   "attachments": {},
   "cell_type": "markdown",
   "metadata": {},
   "source": [
    "## Iframes en detalle"
   ]
  },
  {
   "attachments": {},
   "cell_type": "markdown",
   "metadata": {},
   "source": [
    "Los elementos `<iframe>` están diseñados para permitirte incrustar documentos web en el documento actual. Esto es excelente para incorporar contenido de terceros en tu sitio web sobre el que no tengas control directo y no quieras tener que implementar tu propia versión, como vídeo de proveedores de vídeo en línea, sistemas de comentarios como Disqus, mapas de proveedores de mapas en línea, banners publicitarios, etc.\n",
    "\n",
    "Hay algunos serios __Security concerns__ a considerar con `<iframe>`. Supongamos que quieres incluir el glosario de MDN en una de tus páginas web — podrías intentar algo como esto:"
   ]
  },
  {
   "cell_type": "code",
   "execution_count": 1,
   "metadata": {
    "dotnet_interactive": {
     "language": "html"
    },
    "polyglot_notebook": {
     "kernelName": "html"
    },
    "vscode": {
     "languageId": "polyglot-notebook"
    }
   },
   "outputs": [
    {
     "data": {
      "text/html": [
       "<iframe src=\"https://developer.mozilla.org/en-US/docs/Glossary\"\n",
       "    width=\"100%\" height=\"500\" frameborder=\"0\"\n",
       "    allowfullscreen sandbox>\n",
       "        <p><a href=\"https://developer.mozilla.org/en-US/docs/Glossary\">\n",
       "            Fallback link for browsers that don't support iframes\n",
       "        </a></p>\n",
       "</iframe>"
      ]
     },
     "metadata": {},
     "output_type": "display_data"
    }
   ],
   "source": [
    "<iframe src=\"https://developer.mozilla.org/en-US/docs/Glossary\"\n",
    "    width=\"100%\" height=\"500\" frameborder=\"0\"\n",
    "    allowfullscreen sandbox>\n",
    "        <p><a href=\"https://developer.mozilla.org/en-US/docs/Glossary\">\n",
    "            Fallback link for browsers that don't support iframes\n",
    "        </a></p>\n",
    "</iframe>"
   ]
  },
  {
   "attachments": {},
   "cell_type": "markdown",
   "metadata": {},
   "source": [
    "Este ejemplo incluye los elementos básicos necesarios para usar un `<iframe>`:\n",
    "\n",
    "* `allowfullscreen`: si está configurado, el `<iframe>` se puede colocar en modo pantalla completa usando el Full Screen API.\n",
    "\n",
    "* `frameborder`: si se establece en 1, esto le indica al navegador que dibuje un borde entre este marco y otros marcos, que es el comportamiento predeterminado. 0 elimina el borde. Usar esto ya no es realmente recomendable, ya que el mismo efecto se puede lograr mejor usando `border: none`; en tu CSS.\n",
    "* `src`: este atributo, como con `<video>`/`<img>`,contiene una ruta que apunta a la URL del documento que se va a incrustar.\n",
    "* `width` y `height`: estos atributos especifican el ancho y la altura (width y height) que quieres que tenga el iframe.\n",
    "* Contenido de reserva: de la misma manera que otros elementos similares, puedes incluir contenido alternativo entre las etiquetas de apertura y cierre `<iframe></iframe>` que aparecerán si el navegador no admite el `<iframe>`. En este caso hemos incluido un enlace a la página. Es poco probable que encuentres algún navegador que no admita `<iframe>` en estos días.\n",
    "* `sandbox`: este atributo, que funciona en navegadores un poco más modernos que el resto de la funciones de `<iframe>` solicita una mayor configuración de seguridad."
   ]
  },
  {
   "attachments": {},
   "cell_type": "markdown",
   "metadata": {},
   "source": [
    "> Nota: Para mejorar la velocidad, es una buena idea establecer el atributo src de iframes con JavaScript después de que se cargue el contenido principal. Esto hace que tu página pueda utilizarse antes y disminuye el tiempo de carga de tu página principal (an important SEO.)"
   ]
  },
  {
   "attachments": {},
   "cell_type": "markdown",
   "metadata": {},
   "source": [
    "### Con respecto a la seguridad"
   ]
  },
  {
   "attachments": {},
   "cell_type": "markdown",
   "metadata": {},
   "source": [
    "Los creadores de navegadores y los desarrolladores web han aprendido por las malas que los `<iframes>` son un objetivo común (término oficial: __vector de ataque__) para los \"malos\" de la Web (a menudo denominados __hackers__, o más exactamente, __crackers__) para atacar si están tratando de modificar maliciosamente tu página web, o engañar a las personas para que hagan algo que no quieren hacer, como revelar información confidencial como nombre de usuario o contraseña. Debido a esto, los ingenieros de especificaciones y los desarrolladores de navegadores han desarrollado varios mecanismos para hacer que los `<iframe>` sean más seguros, y también hay mejores prácticas a considerar.\n",
    "> Nota: Clickjacking es un tipo de ataque de iframe común en el que los piratas informáticos incrustan un iframe invisible en tu documento (o incrustan tu documento en su propio sitio web malicioso) y lo utilizan para capturar las interacciones de los ususarios. Esta es una forma común de engañar a los usuarios o robar datos sensibles."
   ]
  },
  {
   "attachments": {},
   "cell_type": "markdown",
   "metadata": {},
   "source": [
    "#### Solo incrusta cuando sea necesario"
   ]
  },
  {
   "attachments": {},
   "cell_type": "markdown",
   "metadata": {},
   "source": [
    "Algunas veces tiene sentido embeber contenido de terceros— como vídeos de youtube y mapas, pero puedes ahorrarte muchos dolores de cabeza si tu solo embebes contenido de terceros solo cuando es necesario. Una buena regla de oro para la seguridad web es \"Nunca puedes ser demasiado cauteloso. Si lo hizo, verifíquelo de todos modos. Si alguien más lo hizo, asuma que es peligroso hasta que se demuestre lo contrario\".\n",
    "\n",
    "Además de la seguridad, debes ser consciente de los temas de propiedad intelectual. La mayoría del contenido tiene derechos de autor, en línea y fuera de línea, incluso contenido que no te esperas. Nunca muestres en tu pagina contenido a menos que te pertenezca o que el dueño te haya dado por escrito su permiso inequívoco. Las penalidades por derechos de autor son severas. De nuevo, tu nunca puedes ser demasiado cauteloso.\n",
    "\n",
    "Si el contenido es licenciado, debes obedecer los terminos de la licencia."
   ]
  },
  {
   "attachments": {},
   "cell_type": "markdown",
   "metadata": {},
   "source": [
    "#### Usa HTTPS"
   ]
  },
  {
   "attachments": {},
   "cell_type": "markdown",
   "metadata": {},
   "source": [
    "HTTPS es la versión encriptada de HTTP. Deberias cumplir con tu página web usando HTTPS siempre que sea posible:\n",
    "\n",
    "1. HTTPS reduce la oportunidad de que contenido remoto haya sido manipulado en el tránsito.\n",
    "2. HTTPS previene que el contenido embebido acceda al documento padre y viceversa.\n",
    "\n",
    "Usar HTTPS requiere un certificado de seguridad, el cual puede ser costoso (Aunque __Let's Encrypt__ hace las cosas más fáciles). Debido al segundo beneficio de HTTPS expuesto arriba, no importa cual sea el costo tu nunca debes embeber contenido de terceros con HTTP. (En el mejor de los casos, el navegador de tus usuarios les dará una advertencia). Todas las empresas con buena reputación que hacen contenido para embeber via `<iframe>` lo harán disponible via HTTPS — mira la URLs dentro del `<iframe>` atributo src cuando tu estés embebiendo contenido desde Google Maps o Youtube, por ejemplo."
   ]
  },
  {
   "attachments": {},
   "cell_type": "markdown",
   "metadata": {},
   "source": [
    "#### Siempre usa el atributo sandbox"
   ]
  },
  {
   "attachments": {},
   "cell_type": "markdown",
   "metadata": {},
   "source": [
    "Debe otorgar al contenido incrustado _solo los permisos necesarios para hacer su trabajo_. Esto también se aplica a su propio contenido. Un atributo para el contenedor de código que puedes usar apropiadamente, o para probar, pero que no puede causar ningún daño al resto del código base (ya sea accidental o malicioso) se llama `sandbox`.\n",
    "\n",
    "El contenido sin `sandbox` puede hacer demasiado (ejecutar JavaScript, enviar formularios, ventanas emergentes, etc.). De forma predeterminada, debe imponer todas las restricciones disponibles mediante el uso del atributo `sandbox` sin parámetros.\n",
    "\n",
    "Si es absolutamente necesario, puede volver a agregar permisos uno por uno (`sandbox=\"valor del atributo\"`). Nunca debe agregar `allow-scriptsy` y `allow-same-origin` a su atributo `sandbox`; en ese caso, el contenido incrustado podría pasar por alto la misma política de seguridad de origen. que impide que los sitios ejecuten scripts. y usar JavaScript para desactivar el sandboxing por completo."
   ]
  },
  {
   "attachments": {},
   "cell_type": "markdown",
   "metadata": {},
   "source": [
    "#### Configurar directivas CSP"
   ]
  },
  {
   "attachments": {},
   "cell_type": "markdown",
   "metadata": {},
   "source": [
    "CSP significa __política de seguridad de contenido__ y proporciona un conjunto de encabezados HTTP (metadatos enviados junto con sus páginas web cuando se sirven desde un servidor web) diseñado para mejorar la seguridad de su documento HTML. Cuando se trata de proteger `<iframe>` puede configurar su servidor para enviar un encabezado `X-Frame-Options` apropiado. Esto puede evitar que otros sitios web incrusten su contenido en sus páginas web (lo que permitiría el secuestro de clics y una gran cantidad de otros ataques)."
   ]
  },
  {
   "attachments": {},
   "cell_type": "markdown",
   "metadata": {},
   "source": [
    "## Los elementos `<embed>` y `<object>`"
   ]
  },
  {
   "attachments": {},
   "cell_type": "markdown",
   "metadata": {},
   "source": [
    "Los elementos `<embed>` y `<object>` cumplen una función diferente a `<iframe>`: estos elementos son herramientas de incrustación de propósito general para incrustar múltiples tipos de contenido externo, que incluyen tecnologías de complementos como Java Applets y Flash, PDF (que se puede mostrar en un navegador con un complemento de PDF) y ¡incluso contenido como videos, SVG e imágenes!\n",
    "> Nota: un complemento es un software que brinda acceso a contenido que el navegador no puede leer de forma nativa.\n",
    "\n",
    "Sin embargo, es poco probable que utilice mucho estos elementos: los subprogramas no se han utilizado durante años, Flash ya no es muy popular, los archivos PDF tienden a ser mejores. vinculados que incrustados, y otros contenidos, como imágenes y videos, tienen elementos mucho mejores y más fáciles de manejar. Los complementos y estos métodos de incrustación son realmente una tecnología heredada, y los mencionamos principalmente en caso de que los encuentre en ciertas circunstancias, como intranets o proyectos empresariales."
   ]
  }
 ],
 "metadata": {
  "language_info": {
   "name": "python"
  },
  "orig_nbformat": 4
 },
 "nbformat": 4,
 "nbformat_minor": 2
}
