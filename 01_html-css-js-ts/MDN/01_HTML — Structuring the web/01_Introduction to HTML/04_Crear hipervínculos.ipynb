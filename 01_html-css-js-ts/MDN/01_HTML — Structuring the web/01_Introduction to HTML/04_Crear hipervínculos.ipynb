{
 "cells": [
  {
   "attachments": {},
   "cell_type": "markdown",
   "metadata": {},
   "source": [
    "# Crear hipervínculos"
   ]
  },
  {
   "attachments": {},
   "cell_type": "markdown",
   "metadata": {},
   "source": [
    "Los hipervínculos (o enlaces) son elementos verdaderamente importantes — son los que hacen que la web sea ___web___."
   ]
  },
  {
   "attachments": {},
   "cell_type": "markdown",
   "metadata": {},
   "source": [
    "## ¿Qué es un hipervínculo?"
   ]
  },
  {
   "attachments": {},
   "cell_type": "markdown",
   "metadata": {},
   "source": [
    " Los hipervínculos nos permiten vincular documentos a otros documentos o recursos, vincular a partes específicas de documentos o hacer que las aplicaciones estén disponibles en una dirección web. Prácticamente cualquier contenido web se puede convertir en un enlace que, al pulsarlo (activarlo), dirija el navegador a la dirección web a la que apunta el enlace __URL__ («Uniform Resource Locator» o Localizadora Uniforme de Recursos)."
   ]
  },
  {
   "attachments": {},
   "cell_type": "markdown",
   "metadata": {},
   "source": [
    "> Nota: Una URL puede apuntar a archivos HTML, archivos de texto, imágenes, documentos de texto, archivos de audio o vídeo, y cualquier otra cosa que se pueda mostrar en la web. Si el navegador no sabe cómo manejar el archivo, te preguntará si lo quieres abrir (en cuyo caso la tarea de abrirlo y manejarlo se transferirá a la aplicación nativa instalada en el dispositivo) o si lo quieres descargar (en cuyo caso podrás ocuparte de él más tarde)."
   ]
  },
  {
   "attachments": {},
   "cell_type": "markdown",
   "metadata": {},
   "source": [
    "## Anatomía de un enlace"
   ]
  },
  {
   "attachments": {},
   "cell_type": "markdown",
   "metadata": {},
   "source": [
    "Un enlace básico se crea incluyendo el texto (o cualquier otro contenido), que queramos convertir en un enlace usando un elemento ancla `<a>`, dándole un atributo `href` (también conocido como «Hypertext Reference», «target» u objetivo) que contendrá la dirección web hacia dónde queremos que apunte el enlace."
   ]
  },
  {
   "cell_type": "code",
   "execution_count": 1,
   "metadata": {
    "dotnet_interactive": {
     "language": "html"
    },
    "polyglot_notebook": {
     "kernelName": "html"
    },
    "vscode": {
     "languageId": "polyglot-notebook"
    }
   },
   "outputs": [
    {
     "data": {
      "text/html": [
       "<p>\n",
       "    Crea un enlace a\n",
       "    <a href=\"https://www.mozilla.org/es-ES/\">la página de inicio de Mozilla</a>.\n",
       "</p>"
      ]
     },
     "metadata": {},
     "output_type": "display_data"
    }
   ],
   "source": [
    "<p>\n",
    "    Crea un enlace a\n",
    "    <a href=\"https://www.mozilla.org/es-ES/\">la página de inicio de Mozilla</a>.\n",
    "</p>"
   ]
  },
  {
   "attachments": {},
   "cell_type": "markdown",
   "metadata": {},
   "source": [
    "### Añadir información de asistencia con el atributo `title`"
   ]
  },
  {
   "attachments": {},
   "cell_type": "markdown",
   "metadata": {},
   "source": [
    "Otro atributo que posiblemente quieras agregar a tus enlaces es `title`. El título contiene información adicional sobre el enlace, como qué tipo de información contiene la página o cosas que debes tener en cuenta en el sitio web."
   ]
  },
  {
   "cell_type": "code",
   "execution_count": 4,
   "metadata": {
    "dotnet_interactive": {
     "language": "html"
    },
    "polyglot_notebook": {
     "kernelName": "html"
    },
    "vscode": {
     "languageId": "polyglot-notebook"
    }
   },
   "outputs": [
    {
     "data": {
      "text/html": [
       "<p>\n",
       "    Crea un enlace a\n",
       "    <!-- el título se mostrará al pasar el ratón sobre el texto del enlace -->\n",
       "    <a       \n",
       "        href=\"https://www.mozilla.org/es-ES/\"\n",
       "        title=\"El mejor lugar para encontrar más información acerca de la misión de Mozilla y cómo contribuir\">la página de inicio de Mozilla\n",
       "    </a>.\n",
       "</p>"
      ]
     },
     "metadata": {},
     "output_type": "display_data"
    }
   ],
   "source": [
    "<p>\n",
    "    Crea un enlace a\n",
    "    <!-- el título se mostrará al pasar el ratón sobre el texto del enlace -->\n",
    "    <a       \n",
    "        href=\"https://www.mozilla.org/es-ES/\"\n",
    "        title=\"El mejor lugar para encontrar más información acerca de la misión de Mozilla y cómo contribuir\">la página de inicio de Mozilla\n",
    "    </a>.\n",
    "</p>"
   ]
  },
  {
   "attachments": {},
   "cell_type": "markdown",
   "metadata": {},
   "source": [
    "> Nota: El título de un enlace solo será visible al pasar el ratón por encima, lo cual significa que los usuarios que naveguen usando los controles de sus teclados, o pantallas táctiles, tendrán dificultades para acceder a la información proporcionada por el título. Si la información del título es verdaderamente importante para el uso de la página, deberemos presentar el título de manera que sea accesible a todos los usuarios, por ejemplo incluyéndola como parte del texto del enlace."
   ]
  },
  {
   "attachments": {},
   "cell_type": "markdown",
   "metadata": {},
   "source": [
    "### Convertir bloques de contenido en enlaces"
   ]
  },
  {
   "attachments": {},
   "cell_type": "markdown",
   "metadata": {},
   "source": [
    "Puedes convertir cualquier contenido en un enlace, incluso Elementos de bloque y elementos en línea. Si quieres convertir una imagen en un enlace, simplemente usa el elemento `<a>` encerrando el elemento `<img>` entre `<a>` y `</a>`."
   ]
  },
  {
   "cell_type": "code",
   "execution_count": 5,
   "metadata": {
    "dotnet_interactive": {
     "language": "html"
    },
    "polyglot_notebook": {
     "kernelName": "html"
    },
    "vscode": {
     "languageId": "polyglot-notebook"
    }
   },
   "outputs": [
    {
     "data": {
      "text/html": [
       "<a href=\"https://www.mozilla.org/es-ES/\">\n",
       "    <img\n",
       "        src=\"mozilla-image.png\"\n",
       "        alt=\"Logotipo de Mozilla que dirige a la página inicial de Mozilla\"\n",
       "    />\n",
       "</a>"
      ]
     },
     "metadata": {},
     "output_type": "display_data"
    }
   ],
   "source": [
    "<a href=\"https://www.mozilla.org/es-ES/\">\n",
    "    <img\n",
    "        src=\"mozilla-image.png\"\n",
    "        alt=\"Logotipo de Mozilla que dirige a la página inicial de Mozilla\"\n",
    "    />\n",
    "</a>"
   ]
  },
  {
   "attachments": {},
   "cell_type": "markdown",
   "metadata": {},
   "source": [
    "## Primer acercamiento a URLs y rutas"
   ]
  },
  {
   "attachments": {},
   "cell_type": "markdown",
   "metadata": {},
   "source": [
    "Para comprender completamente a dónde apuntan los enlaces, necesitas conocer las URLs y las rutas.\n",
    "\n",
    "Una localizadora uniforme de recursos (URL, de las iniciales en inglés de «Uniform Resource Locator») es simplemente una secuencia de caracteres de texto que definen donde está situado algo en la web. Por ejemplo, la página de Mozilla está ubicada en `https://www.mozilla.org/es-ES/`.\n",
    "\n",
    "Las URLs utilizan rutas para encontrar los archivos. Las rutas especifican dónde se encuentra el archivo que buscas dentro del sistema de archivos."
   ]
  },
  {
   "attachments": {},
   "cell_type": "markdown",
   "metadata": {},
   "source": [
    "![directorio](data:image/png;base64,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)"
   ]
  },
  {
   "attachments": {},
   "cell_type": "markdown",
   "metadata": {},
   "source": [
    "Al directorio raíz de esta estructura de directorios lo hemos llamado creating-hyperlinks. Al trabajar en modo local en una web, habrá un directorio que contendrá toda la información. En nuestro ejemplo, dentro de la raíz, encontramos el archivo `index.html` y el archivo `contacts.html`. En una web real, `index.html` es el punto de entrada a la web, lo que se conoce como __página de inicio__.\n",
    "\n",
    "Observamos también dos directorios dentro de nuestro directorio raíz que son: `pdfs` y `projects`. Cada uno de ellos tiene archivos en su interior, un archivo PDF (`project-brief.pdf`) y un archivo `index.html` respectivamente. Observa que es posible tener sin problemas dos archivos `index.html` en un proyecto siempre y cuando se encuentren alojados en ubicaciones diferentes de nuestra estructura de archivos, muchos sitios web lo hacen. El segundo `index.html` será la página de inicio para la información relativa a los proyectos.\n",
    "\n",
    "* __En el mismo directorio__: Si queremos incluir un hipervínculo dentro del archivo `index.html` (el `index.html` del nivel más alto) que apunte al archivo `contacts.html`, simplemente especificaremos el nombre del archivo al que hacemos referencia, porque se encuentra en el mismo directorio en el que se encuentra el archivo `index.html` desde donde lo queremos llamar. Por lo tanto, usamos la URL `contacts.html`."
   ]
  },
  {
   "cell_type": "code",
   "execution_count": 6,
   "metadata": {
    "dotnet_interactive": {
     "language": "html"
    },
    "polyglot_notebook": {
     "kernelName": "html"
    },
    "vscode": {
     "languageId": "polyglot-notebook"
    }
   },
   "outputs": [
    {
     "data": {
      "text/html": [
       "<p>\n",
       "    ¿Quieres contactar con un miembro específico del personal? Encuentra los\n",
       "    detalles en nuestra <a href=\"contacts.html\">página de contactos</a>.\n",
       "</p>"
      ]
     },
     "metadata": {},
     "output_type": "display_data"
    }
   ],
   "source": [
    "<p>\n",
    "    ¿Quieres contactar con un miembro específico del personal? Encuentra los\n",
    "    detalles en nuestra <a href=\"contacts.html\">página de contactos</a>.\n",
    "</p>"
   ]
  },
  {
   "attachments": {},
   "cell_type": "markdown",
   "metadata": {},
   "source": [
    "* __Bajando por la estructura de subdirectorios__: Si queremos incluir un hipervínculo dentro del archivo `index.html` (el `index.html` de nivel más alto) que apunta a `projects/index.html`, debemos bajar hasta el directorio projects antes de indicar al archivo al que queremos enlazar. Para ello especificamos el nombre del directorio y le añadimos una barra inclinada hacia adelante, y a continuación el nombre del archivo. Por lo tanto, utilizaremos la URL `projects/index.html`."
   ]
  },
  {
   "cell_type": "code",
   "execution_count": 7,
   "metadata": {
    "dotnet_interactive": {
     "language": "html"
    },
    "polyglot_notebook": {
     "kernelName": "html"
    },
    "vscode": {
     "languageId": "polyglot-notebook"
    }
   },
   "outputs": [
    {
     "data": {
      "text/html": [
       "<p>\n",
       "    Visita mi <a href=\"projects/index.html\">página de inicio del proyecto</a>.\n",
       "</p>"
      ]
     },
     "metadata": {},
     "output_type": "display_data"
    }
   ],
   "source": [
    "<p>\n",
    "    Visita mi <a href=\"projects/index.html\">página de inicio del proyecto</a>.\n",
    "</p>"
   ]
  },
  {
   "attachments": {},
   "cell_type": "markdown",
   "metadata": {},
   "source": [
    "* __Subiendo por nuestro sistema de directorios__: Si ahora queremos incluir un hipervínculo dentro del archivo `projects/index.html` que apunte a `pdfs/project-brief.pdf`, hay que subir un nivel en nuestro sistema de directorios, para luego bajar al directorio `pdf`. Para «Subir un nivel» utilizamos los dos puntos (`..`) por lo que usamos la URL `../pdfs/project-brief.pdf`."
   ]
  },
  {
   "cell_type": "code",
   "execution_count": 9,
   "metadata": {
    "dotnet_interactive": {
     "language": "html"
    },
    "polyglot_notebook": {
     "kernelName": "html"
    },
    "vscode": {
     "languageId": "polyglot-notebook"
    }
   },
   "outputs": [
    {
     "data": {
      "text/html": [
       "<p>\n",
       "    Un enlace a mi <a href=\"../pdfs/project-brief.pdf\">resumen del proyecto</a>.\n",
       "</p>"
      ]
     },
     "metadata": {},
     "output_type": "display_data"
    }
   ],
   "source": [
    "<p>\n",
    "    Un enlace a mi <a href=\"../pdfs/project-brief.pdf\">resumen del proyecto</a>.\n",
    "</p>"
   ]
  },
  {
   "attachments": {},
   "cell_type": "markdown",
   "metadata": {},
   "source": [
    "> Nota: Podemos combinar más de una instancia de estas características y generar URLs más complejas, si es necesario, por ejemplo: `../../../ruta/compleja/a/mi/archivo.html`."
   ]
  },
  {
   "attachments": {},
   "cell_type": "markdown",
   "metadata": {},
   "source": [
    "### Fragmentos de documento"
   ]
  },
  {
   "attachments": {},
   "cell_type": "markdown",
   "metadata": {},
   "source": [
    "Es posible apuntar hacia una parte concreta de un documento HTML en vez de a todo un documento. Para ello hay que asignar previamente un atributo `id` al elemento hacia el que apuntamos. Esto se debe hacer en el encabezado."
   ]
  },
  {
   "cell_type": "code",
   "execution_count": 1,
   "metadata": {
    "dotnet_interactive": {
     "language": "html"
    },
    "polyglot_notebook": {
     "kernelName": "html"
    },
    "vscode": {
     "languageId": "polyglot-notebook"
    }
   },
   "outputs": [
    {
     "data": {
      "text/html": [
       "<h2 id=\"Dirección_de_envío\">Dirección de envío</h2>"
      ]
     },
     "metadata": {},
     "output_type": "display_data"
    }
   ],
   "source": [
    "<h2 id=\"Dirección_de_envío\">Dirección de envío</h2>"
   ]
  },
  {
   "attachments": {},
   "cell_type": "markdown",
   "metadata": {},
   "source": [
    "Posteriormente para hacer referencia a este `id` concreto, lo añadiremos al final de la URL precedido por un numeral o almohadilla (`#`)."
   ]
  },
  {
   "cell_type": "code",
   "execution_count": 2,
   "metadata": {
    "dotnet_interactive": {
     "language": "html"
    },
    "polyglot_notebook": {
     "kernelName": "html"
    },
    "vscode": {
     "languageId": "polyglot-notebook"
    }
   },
   "outputs": [
    {
     "data": {
      "text/html": [
       "<p>\n",
       "    Quieres mandarnos una carta? Aquí tienes nuestra\n",
       "    <a href=\"contacts.html#Dirección_de_envío\">Dirección de envío</a>.\n",
       "</p>"
      ]
     },
     "metadata": {},
     "output_type": "display_data"
    }
   ],
   "source": [
    "<p>\n",
    "    Quieres mandarnos una carta? Aquí tienes nuestra <a href=\"contacts.html#Dirección_de_envío\">Dirección de envío</a>.\n",
    "</p>"
   ]
  },
  {
   "attachments": {},
   "cell_type": "markdown",
   "metadata": {},
   "source": [
    "También podemos usar esta referencia a un fragmento de documento para apuntar hacia otra parte del mismo documento."
   ]
  },
  {
   "cell_type": "code",
   "execution_count": 3,
   "metadata": {
    "dotnet_interactive": {
     "language": "html"
    },
    "polyglot_notebook": {
     "kernelName": "html"
    },
    "vscode": {
     "languageId": "polyglot-notebook"
    }
   },
   "outputs": [
    {
     "data": {
      "text/html": [
       "<p>\n",
       "    La <a href=\"#Dirección_de_envío\">Dirección de envío de la empresa</a> se encuentra al final de esta página.\n",
       "</p>"
      ]
     },
     "metadata": {},
     "output_type": "display_data"
    }
   ],
   "source": [
    "<p>\n",
    "    La <a href=\"#Dirección_de_envío\">Dirección de envío de la empresa</a> se encuentra al final de esta página.\n",
    "</p>"
   ]
  },
  {
   "attachments": {},
   "cell_type": "markdown",
   "metadata": {},
   "source": [
    "### URLs absolutas y relativas"
   ]
  },
  {
   "attachments": {},
   "cell_type": "markdown",
   "metadata": {},
   "source": [
    "Dos términos que encontrarás en la Web son __URL absoluta__ y __URL relativa__.\n",
    "\n",
    "__URL absoluta__: Hace referencia a una dirección definida por su ubicación absoluta en la web, esta incluye el `protocolo` y el `nombre del dominio`. Por ejemplo, si subes una página de inicio `index.html` a un directorio llamado `projects` que se encuentra dentro de la raíz de un servidor web, y el dominio del sitio web es `http://www.example.com`, se podrá acceder a la página desde `http://www.example.com/projects/index.html` (o simplemente `http://www.example.com/projects/`, ya que la mayoría de los servidores web buscan la página de inicio index.html para cargarla por omisión si no se les especifica otra en la URL). Una URL absoluta siempre apuntará a la misma dirección, sin importar desde dónde se utilice.\n",
    "\n",
    "__URL relativa__: Hace referencia a una dirección que depende de la posición del archivo desde donde se utiliza. Por ejemplo, si desde un archivo ubicado en `http://www.example.com/projects/index.html` queremos enlazar hacia un archivo PDF ubicado en el mismo directorio, la URL sería simplemente el nombre del archivo (por ejemplo: `project-brief.pdf`) no necesitamos más información. Si el archivo PDF está situado en un subdirectorio dentro de projects llamado `pdfs`, la URL relativa es: `pdfs/project-brief.pdf` (la URL absoluta equivalente sería: `http://www.example.com/projects/pdfs/project-brief.pdf`).\n",
    "\n",
    "Una URL relativa hará referencia a diferentes direcciones según dónde se encuentre el archivo desde el cual se utiliza, por ejemplo, si movemos nuestro archivo `index.html` del directorio projects a la raíz del sitio web, la URL relativa `pdfs/project-brief.pdf` ahora hará referencia a `http://www.example.com/pdfs/project-brief.pdf`, en lugar de a `http://www.example.com/projects/pdfs/project-brief.pdf`.\n",
    "\n",
    "Por supuesto, la ubicación del archivo `pdfs/project-brief.pdf` y del directorio `pdfs` no cambian de repente cuando mueves el archivo `index.html`; esto hará que tus enlaces apunten a un sitio equivocado y no funcionarán correctamente al hacer clic en ellos."
   ]
  },
  {
   "attachments": {},
   "cell_type": "markdown",
   "metadata": {},
   "source": [
    "## Buenas prácticas en el uso de los enlaces"
   ]
  },
  {
   "attachments": {},
   "cell_type": "markdown",
   "metadata": {},
   "source": [
    "### Redacción clara del enlace"
   ]
  },
  {
   "attachments": {},
   "cell_type": "markdown",
   "metadata": {},
   "source": [
    "Es fácil rellenar de enlaces una página, sin más. Pero esto no basta. Hay que lograr que nuestros enlaces sean _accesibles_ para todo tipo de lectores, sin importar el contexto o las herramientas que prefieran.\n",
    "\n",
    "* Los usuarios de lectores de pantalla suelen saltar de enlace a enlace en la página y los leen todos sin contexto.\n",
    "* Los motores de búsqueda utilizan el texto de los enlaces para indizar los archivos buscados, por lo que es una buena idea incluir palabras clave al definir el texto de los enlaces para describir de forma efectiva el sitio al que apuntan.\n",
    "* Los usuarios visuales suelen echar un vistazo rápido a la página y leen solo lo que les interesa, en lugar de leer todo el texto palabra por palabra, y sus miradas van directamente a las características destacadas de la página, como son los enlaces. Este tipo de usuarios encuentra útiles los textos descriptivos que estos contienen."
   ]
  },
  {
   "cell_type": "code",
   "execution_count": 4,
   "metadata": {
    "dotnet_interactive": {
     "language": "html"
    },
    "polyglot_notebook": {
     "kernelName": "html"
    },
    "vscode": {
     "languageId": "polyglot-notebook"
    }
   },
   "outputs": [
    {
     "data": {
      "text/html": [
       "<!-- Buen texto en un enlace -->\n",
       "<p><a href=\"https://firefox.com/\"> Descargar Firefox </a></p>\n",
       "\n",
       "<!-- Mal texto en un enlace -->\n",
       "<p><a href=\"https://firefox.com/\"> Haz clic aquí </a> para descargar Firefox</p>"
      ]
     },
     "metadata": {},
     "output_type": "display_data"
    }
   ],
   "source": [
    "<!-- Buen texto en un enlace -->\n",
    "<p><a href=\"https://firefox.com/\"> Descargar Firefox </a></p>\n",
    "\n",
    "<!-- Mal texto en un enlace -->\n",
    "<p><a href=\"https://firefox.com/\"> Haz clic aquí </a> para descargar Firefox</p>"
   ]
  },
  {
   "attachments": {},
   "cell_type": "markdown",
   "metadata": {},
   "source": [
    "Otras indicaciones:\n",
    "\n",
    "* No repetir la URL como parte del texto. Las URLs suenan horrible, y todavía suenan peor si las lee un lector de pantalla, letra por letra.\n",
    "* No escribir _«link»_ o «_link a_» o «_enlace_» o «_enlace a_» en el texto del enlace porque es redundante. Los lectores automáticos indican que hay un enlace al encontrarlo. Los usuarios también saben que hay un enlace, porque normalmente se suele cambiar el color del texto y se subraya (no hay que romper esta convención, porque los usuarios están acostumbrados a ella).\n",
    "* Redacta la etiqueta del enlace de la manera más breve y concisa posible. Los textos de enlace largos son especialmente molestos para los usuarios que utilizan lectores automáticos, porque tienen que escuchar todo el texto del enlace.\n",
    "* Minimiza los casos en los que varias copias del mismo texto están vinculadas a diferentes lugares. Esto puede causar problemas a los usuarios de lectores de pantalla, si hay una lista de enlaces fuera de contexto que están etiquetados como \"haz clic aquí\", \"haz clic aquí\", \"haz clic aquí\"."
   ]
  },
  {
   "attachments": {},
   "cell_type": "markdown",
   "metadata": {},
   "source": [
    "### Utiliza enlaces relativos siempre que sea posible"
   ]
  },
  {
   "attachments": {},
   "cell_type": "markdown",
   "metadata": {},
   "source": [
    "Debes utilizar enlaces relativos siempre que sea posible cuando enlaces a otras ubicaciones dentro del mismo sitio web. Cuando vinculas a otro sitio web, deberás utilizar un vínculo absoluto.\n",
    "\n",
    "* El código es mucho más fácil de leer, las URLs relativas suelen ser mucho más cortas que las absolutas, lo que hace que el código sea mucho más fácil de leer.\n",
    "* Resulta más eficiente utilizar URLs relativas cuando sea posible. Cuando usas una URL absoluta, el navegador comienza buscando la ubicación real del servidor en el Sistema de nombres de dominio (__DNS__). Entonces va a ese servidor y busca el archivo solicitado. En cambio, con una URL relativa, el navegador simplemente busca el archivo solicitado en el mismo servidor. Si usas URLs absolutas donde las URLs relativas lo harían, constantemente estás haciendo que tu navegador haga un trabajo adicional, lo cual significa que funcionará de manera menos eficiente."
   ]
  },
  {
   "attachments": {},
   "cell_type": "markdown",
   "metadata": {},
   "source": [
    "### Indica claramente los recursos no HTML"
   ]
  },
  {
   "attachments": {},
   "cell_type": "markdown",
   "metadata": {},
   "source": [
    "Indica claramente los recursos no HTML cuando damos referencias a recursos para descargarlos (como documentos en formato PDF o Word) o para reproducirlos (como archivos de audio o vídeo) o que tengan un efecto inesperado (una ventana emergente) hay que indicarlo para no confundir al usuario. Por ejemplo:\n",
    "\n",
    "* Si tienes una conexión con poco ancho de banda, pulsas un enlace y comienza a descargar un archivo pesado de forma inesperada.\n",
    "* Si no tienes instalado el reproductor Flash, pulsas un enlace y te conduce a una página que requiere Flash."
   ]
  },
  {
   "cell_type": "code",
   "execution_count": 5,
   "metadata": {
    "dotnet_interactive": {
     "language": "html"
    },
    "polyglot_notebook": {
     "kernelName": "html"
    },
    "vscode": {
     "languageId": "polyglot-notebook"
    }
   },
   "outputs": [
    {
     "data": {
      "text/html": [
       "<p>\n",
       "    <a href=\"http://www.example.com/large-report.pdf\"> Descarga el informe de ventas (PDF, 10MB)</a>\n",
       "</p>\n",
       "<p>\n",
       "    <a href=\"http://www.example.com/video-stream/\">Reproduce el vídeo (el flujo de datos se abre en una pestaña independiente,calidad HD)</a>\n",
       "</p>\n",
       "<p>\n",
       "    <a href=\"http://www.example.com/car-game\">Juega al juego del automóvil (requiere Flash)</a>\n",
       "</p>"
      ]
     },
     "metadata": {},
     "output_type": "display_data"
    }
   ],
   "source": [
    "<p>\n",
    "    <a href=\"http://www.example.com/large-report.pdf\"> Descarga el informe de ventas (PDF, 10MB)</a>\n",
    "</p>\n",
    "<p>\n",
    "    <a href=\"http://www.example.com/video-stream/\">Reproduce el vídeo (el flujo de datos se abre en una pestaña independiente,calidad HD)</a>\n",
    "</p>\n",
    "<p>\n",
    "    <a href=\"http://www.example.com/car-game\">Juega al juego del automóvil (requiere Flash)</a>\n",
    "</p>"
   ]
  },
  {
   "attachments": {},
   "cell_type": "markdown",
   "metadata": {},
   "source": [
    "### Utiliza el atributo `download` al enlazar una descarga"
   ]
  },
  {
   "attachments": {},
   "cell_type": "markdown",
   "metadata": {},
   "source": [
    "Si queremos hacer referencia a una descarga en lugar de a algo que abra el navegador, disponemos del atributo `download` para proporcionar un nombre predeterminado al archivo a guardar."
   ]
  },
  {
   "cell_type": "code",
   "execution_count": 6,
   "metadata": {
    "dotnet_interactive": {
     "language": "html"
    },
    "polyglot_notebook": {
     "kernelName": "html"
    },
    "vscode": {
     "languageId": "polyglot-notebook"
    }
   },
   "outputs": [
    {
     "data": {
      "text/html": [
       "<a\n",
       "    href=\"https://download.mozilla.org/?product=firefox-latest-ssl&os=win64&lang=es-MX\"\n",
       "    download=\"firefox-latest-64bit-installer.exe\"\n",
       ">\n",
       "    Descarga la última versión de Firefox para Windows (64 bits) (Español, es-MX)\n",
       "</a>"
      ]
     },
     "metadata": {},
     "output_type": "display_data"
    }
   ],
   "source": [
    "<a\n",
    "    href=\"https://download.mozilla.org/?product=firefox-latest-ssl&os=win64&lang=es-MX\"\n",
    "    download=\"firefox-latest-64bit-installer.exe\"\n",
    ">\n",
    "    Descarga la última versión de Firefox para Windows (64 bits) (Español, es-MX)\n",
    "</a>"
   ]
  },
  {
   "attachments": {},
   "cell_type": "markdown",
   "metadata": {},
   "source": [
    "## Enlace a correo electrónico"
   ]
  },
  {
   "attachments": {},
   "cell_type": "markdown",
   "metadata": {},
   "source": [
    "Es posible crear enlaces o botones que, cuando se pulsan, abren un nuevo correo saliente en lugar de enlazar a un recurso o página. Esto se consigue con el elemento ancla `<a>` y el elemento mailto: seguido del esquema de la URL."
   ]
  },
  {
   "cell_type": "code",
   "execution_count": 7,
   "metadata": {
    "dotnet_interactive": {
     "language": "html"
    },
    "polyglot_notebook": {
     "kernelName": "html"
    },
    "vscode": {
     "languageId": "polyglot-notebook"
    }
   },
   "outputs": [
    {
     "data": {
      "text/html": [
       "<!-- En su forma más básica, un enlace mailto: simplemente contiene la dirección de correo electrónico de los destinatarios -->\n",
       "<a href=\"mailto:nowhere@mozilla.org\">Enviar correo electrónico a ninguna parte</a>"
      ]
     },
     "metadata": {},
     "output_type": "display_data"
    }
   ],
   "source": [
    "<!-- En su forma más básica, un enlace mailto: simplemente contiene la dirección de correo electrónico de los destinatarios -->\n",
    "<a href=\"mailto:nowhere@mozilla.org\">Enviar correo electrónico a ninguna parte</a>"
   ]
  },
  {
   "attachments": {},
   "cell_type": "markdown",
   "metadata": {},
   "source": [
    "De hecho, incluso el atributo con la dirección de correo electrónico es opcional. Si lo omites y tu `href` simplemente es `\"mailto:\"`, aparecerá una nueva ventana de correo saliente en el gestor de correo sin la dirección del destinatario. Esto es útil cuando queremos compartir enlaces que los usuarios puedan pulsar para enviar un correo electrónico y elegir un destinatario posteriormente."
   ]
  },
  {
   "attachments": {},
   "cell_type": "markdown",
   "metadata": {},
   "source": [
    "### Especificar detalles"
   ]
  },
  {
   "attachments": {},
   "cell_type": "markdown",
   "metadata": {},
   "source": [
    "Además de la dirección de correo electrónico, puedes proporcionar otra información. De hecho, puedes incluir cualquier campo estándar contenido en el encabezado de cualquier mensaje en la URL mailto que proporciones. Los más utilizados son el «_subject_» (asunto), «_cc_» (con copia a) o «_bcc_» (copia oculta), y «_body_» (cuerpo del mensaje, que no es realmente un campo de la cabecera, pero permite especificar un mensaje breve para el nuevo correo electrónico). Cada campo y su valor se especifican como un argumento de la consulta."
   ]
  },
  {
   "cell_type": "code",
   "execution_count": 8,
   "metadata": {
    "dotnet_interactive": {
     "language": "html"
    },
    "polyglot_notebook": {
     "kernelName": "html"
    },
    "vscode": {
     "languageId": "polyglot-notebook"
    }
   },
   "outputs": [
    {
     "data": {
      "text/html": [
       "<a href=\"mailto:nowhere@mozilla.org?cc=name2@rapidtables.com&bcc=name3@rapidtables.com&subject=The%20subject%20of%20the%20email&body=The%20body%20of%20the%20email\"> Enviar un correo electrónico cc, bcc, asunto y cuerpo </a>"
      ]
     },
     "metadata": {},
     "output_type": "display_data"
    }
   ],
   "source": [
    "<a href=\"mailto:nowhere@mozilla.org?\n",
    "    cc=name2@rapidtables.com\n",
    "    &bcc=name3@rapidtables.com\n",
    "    &subject=The%20subject%20of%20the%20email\n",
    "    &body=The%20body%20of%20the%20email\">\n",
    "    Enviar un correo electrónico cc, bcc, asunto y cuerpo\n",
    "</a>"
   ]
  },
  {
   "attachments": {},
   "cell_type": "markdown",
   "metadata": {},
   "source": [
    "> Nota: Los valores de cada campo deben tener la URL codificada, es decir, sin caracteres no imprimibles (caracteres invisibles, tabulaciones, retornos de carro y saltos de página) y espacios con codificación porcentual (%20). También hay que tener en cuenta el uso del signo de interrogación (?) para separar la URL principal de los valores de los campos, y el símbolo ampersand (&) para separar cada campo dentro del enlace mailto:. Esta es la notación de consulta URL estándar."
   ]
  }
 ],
 "metadata": {
  "language_info": {
   "name": "python"
  },
  "orig_nbformat": 4
 },
 "nbformat": 4,
 "nbformat_minor": 2
}
