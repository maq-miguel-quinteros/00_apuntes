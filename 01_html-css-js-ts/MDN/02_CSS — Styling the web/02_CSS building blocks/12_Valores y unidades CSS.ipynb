{
 "cells": [
  {
   "cell_type": "markdown",
   "metadata": {},
   "source": [
    "# Valores y unidades CSS"
   ]
  },
  {
   "cell_type": "markdown",
   "metadata": {},
   "source": [
    "Todas las propiedades que se utilizan en CSS tienen un valor o un conjunto de valores que esa propiedad admite."
   ]
  },
  {
   "cell_type": "markdown",
   "metadata": {},
   "source": [
    "## ¿Qué es un valor CSS?"
   ]
  },
  {
   "cell_type": "markdown",
   "metadata": {},
   "source": [
    "En las especificaciones CSS y en las páginas de propiedades de este proyecto MDN, podrás detectar los valores porque estarán escritos entre corchetes angulares, como `<color>` o `<length>`. Cuando veas que el valor `<color>` es válido para una propiedad en particular, significa que para esa propiedad puedes usar como valor cualquier color válido de entre los que se enumeran en la página de referencia de la propiedad `<color>`.\n",
    "\n",
    "> Nota: también verás valores CSS denominados _tipos de datos_. Los términos son básicamente intercambiables: cuando veas algo en CSS denominado 'tipo de datos', en realidad es solo una forma elegante de decir 'valor'.\n",
    "\n",
    "> Nota: sí, hay una tendencia de denotar los valores CSS entre corchetes angulares, para diferenciarlos de las propiedades CSS (por ejemplo, la propiedad color con respecto al tipo de dato <color>). Aunque podría generarte confusión entre los tipos de datos CSS y los elementos HTML, porque ambos usan corchetes angulares, es poco probable porque se usan en contextos muy diferentes."
   ]
  },
  {
   "cell_type": "code",
   "execution_count": 1,
   "metadata": {
    "dotnet_interactive": {
     "language": "html"
    },
    "polyglot_notebook": {
     "kernelName": "html"
    },
    "vscode": {
     "languageId": "polyglot-notebook"
    }
   },
   "outputs": [
    {
     "data": {
      "text/html": [
       "<style>\n",
       "    /* establecemos el color de nuestro encabezado con una palabra clave y el fondo con la función rgb() */\n",
       "    .h1 {\n",
       "        color: black;\n",
       "        background-color: rgb(197,93,161);\n",
       "    }\n",
       "</style>\n",
       "<h1 class=\"h1\">Título</h1>"
      ]
     },
     "metadata": {},
     "output_type": "display_data"
    }
   ],
   "source": [
    "<style>\n",
    "    /* establecemos el color de nuestro encabezado con una palabra clave y el fondo con la función rgb() */\n",
    "    .h1 {\n",
    "        color: black;\n",
    "        background-color: rgb(197,93,161);\n",
    "    }\n",
    "</style>\n",
    "<h1 class=\"h1\">Título</h1>"
   ]
  },
  {
   "cell_type": "markdown",
   "metadata": {},
   "source": [
    "Un valor en CSS es una forma de definir una colección de subvalores admitidos. Esto significa que si ves `<color>` como válido, no necesitas preguntarte cuáles de los diferentes tipos de valor de color puedes usar: palabras clave, valores hexadecimales, funciones rgb(), etc. Puedes usar cualquier valor `<color>` disponible siempre que tu navegador lo admita. La página de MDN te dará información sobre lo que admite cada navegador para cada valor. Por ejemplo, puedes ver que en la sección de compatibilidad de navegadores de la página para `<color>` se enumeran diferentes tipos de valores de color y los navegadores que los admiten.\n",
    "\n",
    "Echemos un vistazo a algunos de los tipos de valores y unidades con los que puedes encontrar con frecuencia."
   ]
  },
  {
   "cell_type": "markdown",
   "metadata": {},
   "source": [
    "## Números, longitudes y porcentajes"
   ]
  },
  {
   "cell_type": "markdown",
   "metadata": {},
   "source": [
    "Al utilizar CSS te puedes encontrar con varios tipos de datos numéricos. Todos los siguientes están clasificados como tipos de datos numéricos:"
   ]
  },
  {
   "cell_type": "markdown",
   "metadata": {},
   "source": [
    "Tipo de datos | Descripción\n",
    "-- | --\n",
    "`<integer>` | Un `<integer>` es un número entero, como `1024` o `-55`.\n",
    "`<number>` | Un `<number>` representa un número decimal; puede tener o no un punto de separación decimal con un componente fraccionario, por ejemplo: `0.255`, `128` o `-1.2`.\n",
    "`<dimension>` | Una `<dimension>` es un `<number>` con una unidad asociada, por ejemplo: `45deg` (grados), `5s` (segundos) o `10px` (píxeles). `<dimension>` es una categoría general que incluye los tipos `<length>`, `<angle>`, `<time>` y `<resolution>`.\n",
    "`<percentage>` | Un `<percentage>` representa una fracción de algún otro valor, por ejemplo, 50%. Los valores de porcentaje siempre son relativos a otra cantidad, por ejemplo, la longitud de un elemento es relativa a la longitud de su elemento padre."
   ]
  },
  {
   "cell_type": "markdown",
   "metadata": {},
   "source": [
    "### Longitudes"
   ]
  },
  {
   "cell_type": "markdown",
   "metadata": {},
   "source": [
    "El tipo numérico con el que te vas a encontrar con mayor frecuencia es `<length>`, por ejemplo, `10px` (píxeles) o `30em`. En CSS se utilizan dos longitudes diferentes: __relativa__ y __absoluta__. Es importante conocer la diferencia para entender qué dimensiones van a tener las cosas."
   ]
  },
  {
   "cell_type": "markdown",
   "metadata": {},
   "source": [
    "#### Unidades de longitud absoluta"
   ]
  },
  {
   "cell_type": "markdown",
   "metadata": {},
   "source": [
    "Unidad|\tNombre|\tEquivale a|\n",
    "--- | --- | ---\n",
    "`cm`|\tCentímetros|1cm = 96px/2,54\n",
    "`mm`|\tMilímetros|\t1mm = 1/10 de 1cm\n",
    "`Q`|\tCuartos de milímetros|\t1Q = 1/40 de 1cm\n",
    "`in`|\tPulgadas|\t1in = 2,54cm = 96px\n",
    "`pc`|\tPicas|\t1pc = 1/6 de 1in\n",
    "`pt`|\tPuntos|\t1pt = 1/72 de 1in\n",
    "`px`|\tPíxeles|\t1px = 1/96 de 1in"
   ]
  },
  {
   "cell_type": "markdown",
   "metadata": {},
   "source": [
    "La mayoría de estos valores son más útiles cuando se usan en una salida en formato impreso que en la salida de pantalla. Por ejemplo, normalmente no usamos `cm` (centímetros) en pantalla. El único valor que usarás de forma frecuente es `px` (píxeles)."
   ]
  },
  {
   "cell_type": "markdown",
   "metadata": {},
   "source": [
    "#### Unidades de longitud relativa"
   ]
  },
  {
   "cell_type": "markdown",
   "metadata": {},
   "source": [
    "Las unidades de longitud relativa son relativas a algo más, por ejemplo, al tamaño de letra del elemento principal o al tamaño de la ventana gráfica. La ventaja de usar unidades relativas es que con una planificación cuidadosa puedes lograr que el tamaño del texto u otros elementos escalen en relación con todo lo demás en la página. En la tabla siguiente se enumeran algunas de las unidades más útiles para el desarrollo web."
   ]
  },
  {
   "cell_type": "markdown",
   "metadata": {},
   "source": [
    "Unidad|\tRelativa a\n",
    "--- | ---\n",
    "`em` |\tTamaño de letra del elemento padre, en el caso de propiedades tipográficas como `font-size`, y tamaño de la fuente del propio elemento en el caso de otras propiedades, como `width`.\n",
    "`ex`|\tAltura `x` de la fuente del elemento.\n",
    "`ch`|\tLa medida de avance (ancho) del glifo \"0\" de la letra del elemento.\n",
    "`rem`|\tTamaño de la letra del elemento raíz.\n",
    "`lh`|\tAltura de la línea del elemento.\n",
    "`vw`|\t1% del ancho de la ventana gráfica.\n",
    "`vh`|\t1% de la altura de la ventana gráfica.\n",
    "`vmin`|\t1% de la dimensión más pequeña de la ventana gráfica.\n",
    "`vmax`|\t1% de la dimensión más grande de la ventana gráfica."
   ]
  },
  {
   "cell_type": "markdown",
   "metadata": {},
   "source": [
    "#### Ejemplo"
   ]
  },
  {
   "cell_type": "code",
   "execution_count": 13,
   "metadata": {
    "dotnet_interactive": {
     "language": "html"
    },
    "polyglot_notebook": {
     "kernelName": "html"
    },
    "vscode": {
     "languageId": "polyglot-notebook"
    }
   },
   "outputs": [
    {
     "data": {
      "text/html": [
       "<style>\n",
       "    .div-flex { font-size: 1em}\n",
       "    .div-box { width: 100px; margin: 1px; border: 2px solid blue; }\n",
       "\n",
       "    /* la caja de esta clase tiene un ancho (width) establecido en píxeles. Como unidad absoluta, este ancho será siempre el mismo aunque lo demás cambie. */\n",
       "    .px {\n",
       "        width: 200px;\n",
       "    }\n",
       "    /* la caja de esta clase tiene un ancho establecido en unidades vw (ancho de ventana). Este valor es relativo al ancho de la ventana gráfica, por lo que 10vw es el 10 por ciento del ancho de la ventana gráfica. Si cambiases el ancho de la ventana de tu navegador, el tamaño de la caja cambiaría. */\n",
       "    .vw {\n",
       "        width: 10vw;\n",
       "    }\n",
       "    /* caja utiliza unidades em. Son unidades relativas al tamaño de la letra. Hemos establecido un tamaño de fuente de 1em en el contenido <div>, que tiene una clase .wrapper. Si cambias este valor a 1.5em, verás que el tamaño de letra de todos los elementos aumenta, pero solo se amplía el ancho en el último elemento, porque el ancho es relativo a ese tamaño de letra. */\n",
       "    .em {\n",
       "        width: 10em;\n",
       "    }\n",
       "</style>\n",
       "<div class=\"div-flex\">\n",
       "    <div class=\"div-box px\">I am 200px wide</div>\n",
       "    <div class=\"div-box vw\">I am 10vw wide</div>\n",
       "    <div class=\"div-box em\">I am 10em wide</div>\n",
       "</div>"
      ]
     },
     "metadata": {},
     "output_type": "display_data"
    }
   ],
   "source": [
    "<style>\n",
    "    .div-flex { font-size: 1em}\n",
    "    .div-box { width: 100px; margin: 1px; border: 2px solid blue; }\n",
    "\n",
    "    /* la caja de esta clase tiene un ancho (width) establecido en píxeles. Como unidad absoluta, este ancho será siempre el mismo aunque lo demás cambie. */\n",
    "    .px {\n",
    "        width: 200px;\n",
    "    }\n",
    "    /* la caja de esta clase tiene un ancho establecido en unidades vw (ancho de ventana). Este valor es relativo al ancho de la ventana gráfica, por lo que 10vw es el 10 por ciento del ancho de la ventana gráfica. Si cambiases el ancho de la ventana de tu navegador, el tamaño de la caja cambiaría. */\n",
    "    .vw {\n",
    "        width: 10vw;\n",
    "    }\n",
    "    /* caja utiliza unidades em. Son unidades relativas al tamaño de la letra. Hemos establecido un tamaño de fuente de 1em en el contenido <div>, que tiene una clase .wrapper. Si cambias este valor a 1.5em, verás que el tamaño de letra de todos los elementos aumenta, pero solo se amplía el ancho en el último elemento, porque el ancho es relativo a ese tamaño de letra. */\n",
    "    .em {\n",
    "        width: 10em;\n",
    "    }\n",
    "</style>\n",
    "<div class=\"div-flex\">\n",
    "    <div class=\"div-box px\">I am 200px wide</div>\n",
    "    <div class=\"div-box vw\">I am 10vw wide</div>\n",
    "    <div class=\"div-box em\">I am 10em wide</div>\n",
    "</div>"
   ]
  },
  {
   "cell_type": "markdown",
   "metadata": {},
   "source": [
    "#### ems y rems"
   ]
  },
  {
   "cell_type": "markdown",
   "metadata": {},
   "source": [
    "`em` y `rem` son las dos longitudes relativas que es probable que encuentres con mayor frecuencia al cambiar el tamaño de cualquier cosa, de cajas a texto."
   ]
  },
  {
   "cell_type": "code",
   "execution_count": 17,
   "metadata": {
    "dotnet_interactive": {
     "language": "html"
    },
    "polyglot_notebook": {
     "kernelName": "html"
    },
    "vscode": {
     "languageId": "polyglot-notebook"
    }
   },
   "outputs": [
    {
     "data": {
      "text/html": [
       "<style>\n",
       "    /* configuramos un tamaño de letra de 16px para el elemento <html> */\n",
       "    html {\n",
       "        font-size: 16px;\n",
       "    }\n",
       "    /*  la unidad em significa «el tamaño de letra de mi elemento padre». Los elementos <li> dentro de un elemento <ul> con una clase de ems toman el tamaño con respecto a su elemento padre. Por lo tanto, en cada nivel de anidamiento sucesivo, el tamaño de letra aumenta progresivamente, porque en cada uno el tamaño de letra está establecido en 1.3em (1,3 veces el tamaño de letra de su elemento padre) */\n",
       "    .ems li {\n",
       "        font-size: 1.3em;\n",
       "    }\n",
       "    /* la unidad rem significa «el tamaño de letra del elemento raíz». ('rem' viene de «root em»). Los elementos <li> dentro de un elemento <ul> con una clase de rems toman su tamaño del elemento raíz (<html>). Esto significa que el tamaño de letra no aumenta en cada nivel sucesivo de anidamiento. */\n",
       "    .rems li {\n",
       "        font-size: 1.3rem;\n",
       "    }\n",
       "</style>\n",
       "<div class=\"html\">\n",
       "    <ul class=\"ems\">\n",
       "        <li>One</li>\n",
       "        <li>Two</li>\n",
       "        <li>Three\n",
       "            <ul>\n",
       "                <li>Three A</li>\n",
       "                <li>Three B\n",
       "                    <ul>\n",
       "                        <li>Three B 2</li>\n",
       "                    </ul>\n",
       "                </li>\n",
       "            </ul>\n",
       "        </li>\n",
       "    </ul>\n",
       "    <ul class=\"rems\">\n",
       "        <li>One</li>\n",
       "        <li>Two</li>\n",
       "        <li>Three\n",
       "            <ul>\n",
       "                <li>Three A</li>\n",
       "                <li>Three B\n",
       "                    <ul>\n",
       "                        <li>Three B 2</li>\n",
       "                    </ul>\n",
       "                </li>\n",
       "            </ul>\n",
       "        </li>\n",
       "    </ul>\n",
       "</div>"
      ]
     },
     "metadata": {},
     "output_type": "display_data"
    }
   ],
   "source": [
    "<style>\n",
    "    /* configuramos un tamaño de letra de 16px para el elemento <html> */\n",
    "    html {\n",
    "        font-size: 16px;\n",
    "    }\n",
    "    /*  la unidad em significa «el tamaño de letra de mi elemento padre». Los elementos <li> dentro de un elemento <ul> con una clase de ems toman el tamaño con respecto a su elemento padre. Por lo tanto, en cada nivel de anidamiento sucesivo, el tamaño de letra aumenta progresivamente, porque en cada uno el tamaño de letra está establecido en 1.3em (1,3 veces el tamaño de letra de su elemento padre) */\n",
    "    .ems li {\n",
    "        font-size: 1.3em;\n",
    "    }\n",
    "    /* la unidad rem significa «el tamaño de letra del elemento raíz». ('rem' viene de «root em»). Los elementos <li> dentro de un elemento <ul> con una clase de rems toman su tamaño del elemento raíz (<html>). Esto significa que el tamaño de letra no aumenta en cada nivel sucesivo de anidamiento. */\n",
    "    .rems li {\n",
    "        font-size: 1.3rem;\n",
    "    }\n",
    "</style>\n",
    "<div class=\"html\">\n",
    "    <ul class=\"ems\">\n",
    "        <li>One</li>\n",
    "        <li>Two</li>\n",
    "        <li>Three\n",
    "            <ul>\n",
    "                <li>Three A</li>\n",
    "                <li>Three B\n",
    "                    <ul>\n",
    "                        <li>Three B 2</li>\n",
    "                    </ul>\n",
    "                </li>\n",
    "            </ul>\n",
    "        </li>\n",
    "    </ul>\n",
    "    <ul class=\"rems\">\n",
    "        <li>One</li>\n",
    "        <li>Two</li>\n",
    "        <li>Three\n",
    "            <ul>\n",
    "                <li>Three A</li>\n",
    "                <li>Three B\n",
    "                    <ul>\n",
    "                        <li>Three B 2</li>\n",
    "                    </ul>\n",
    "                </li>\n",
    "            </ul>\n",
    "        </li>\n",
    "    </ul>\n",
    "</div>"
   ]
  },
  {
   "cell_type": "markdown",
   "metadata": {},
   "source": [
    "### Porcentajes"
   ]
  },
  {
   "cell_type": "markdown",
   "metadata": {},
   "source": [
    "En muchos casos, un porcentaje es tratado de la misma manera que una longitud. Lo que sucede con los porcentajes es que siempre se establecen en relación con otro valor. Por ejemplo, si estableces el atributo `font-size` de un elemento como un porcentaje, será un porcentaje del `font-size` del elemento padre. Si usas un porcentaje para un valor `width`, será un porcentaje del atributo `width` del elemento padre."
   ]
  },
  {
   "cell_type": "code",
   "execution_count": 2,
   "metadata": {
    "dotnet_interactive": {
     "language": "html"
    },
    "polyglot_notebook": {
     "kernelName": "html"
    },
    "vscode": {
     "languageId": "polyglot-notebook"
    }
   },
   "outputs": [
    {
     "data": {
      "text/html": [
       "<style>\n",
       "    .div-container { border: 2px solid red; }\n",
       "\n",
       "    /* el segundo conjunto de dos cajas está dentro de un contenedor que tiene 400 píxeles de ancho. La segunda caja de 200 px de ancho tiene el mismo ancho que la primera, pero la segunda caja de 40% ahora es el 40% de 400 px */\n",
       "    .inside { \n",
       "        width: 400px;\n",
       "        border: 5px solid rebeccapurple;\n",
       "    }\n",
       "    /* las dos cajas con el tamaño especificado en unidades de porcentaje y las dos cajas con el tamaño especificado en unidades de píxel tienen los mismos nombres de clase */\n",
       "    .px {\n",
       "        width: 200px;\n",
       "    }\n",
       "    .percent {\n",
       "        width: 40%;\n",
       "    }\n",
       "</style>\n",
       "<div class=\"div-container px\">I am 200px wide</div>\n",
       "<div class=\"div-container percent\">I am 40% wide</div>\n",
       "<div class=\"inside\">\n",
       "    <div class=\"div-container px\">I am 200px wide</div>\n",
       "    <div class=\"div-container percent\">I am 40% wide</div>\n",
       "</div>"
      ]
     },
     "metadata": {},
     "output_type": "display_data"
    }
   ],
   "source": [
    "<style>\n",
    "    .div-container { border: 2px solid red; }\n",
    "\n",
    "    /* el segundo conjunto de dos cajas está dentro de un contenedor que tiene 400 píxeles de ancho. La segunda caja de 200 px de ancho tiene el mismo ancho que la primera, pero la segunda caja de 40% ahora es el 40% de 400 px */\n",
    "    .inside { \n",
    "        width: 400px;\n",
    "        border: 5px solid rebeccapurple;\n",
    "    }\n",
    "    /* las dos cajas con el tamaño especificado en unidades de porcentaje y las dos cajas con el tamaño especificado en unidades de píxel tienen los mismos nombres de clase */\n",
    "    .px {\n",
    "        width: 200px;\n",
    "    }\n",
    "    .percent {\n",
    "        width: 40%;\n",
    "    }\n",
    "</style>\n",
    "<div class=\"div-container px\">I am 200px wide</div>\n",
    "<div class=\"div-container percent\">I am 40% wide</div>\n",
    "<div class=\"inside\">\n",
    "    <div class=\"div-container px\">I am 200px wide</div>\n",
    "    <div class=\"div-container percent\">I am 40% wide</div>\n",
    "</div>"
   ]
  },
  {
   "cell_type": "code",
   "execution_count": 3,
   "metadata": {
    "dotnet_interactive": {
     "language": "html"
    },
    "polyglot_notebook": {
     "kernelName": "html"
    },
    "vscode": {
     "languageId": "polyglot-notebook"
    }
   },
   "outputs": [
    {
     "data": {
      "text/html": [
       "<style>\n",
       "    /* cada elemento <li> tiene un atributo font-size del 80%, por lo tanto, los elementos de la lista anidada se vuelven progresivamente más pequeños a medida que heredan su tamaño del elemento padre */\n",
       "    li {\n",
       "        font-size: 80%;\n",
       "    }\n",
       "</style>\n",
       "<ul>\n",
       "    <li>One</li>\n",
       "    <li>Two</li>\n",
       "    <li>Three\n",
       "        <ul>\n",
       "            <li>Three A</li>\n",
       "            <li>Three B\n",
       "                <ul>\n",
       "                    <li>Three B 2</li>\n",
       "                </ul>\n",
       "            </li>\n",
       "        </ul>\n",
       "    </li>\n",
       "</ul>"
      ]
     },
     "metadata": {},
     "output_type": "display_data"
    }
   ],
   "source": [
    "<style>\n",
    "    /* cada elemento <li> tiene un atributo font-size del 80%, por lo tanto, los elementos de la lista anidada se vuelven progresivamente más pequeños a medida que heredan su tamaño del elemento padre */\n",
    "    li {\n",
    "        font-size: 80%;\n",
    "    }\n",
    "</style>\n",
    "<ul>\n",
    "    <li>One</li>\n",
    "    <li>Two</li>\n",
    "    <li>Three\n",
    "        <ul>\n",
    "            <li>Three A</li>\n",
    "            <li>Three B\n",
    "                <ul>\n",
    "                    <li>Three B 2</li>\n",
    "                </ul>\n",
    "            </li>\n",
    "        </ul>\n",
    "    </li>\n",
    "</ul>"
   ]
  },
  {
   "cell_type": "markdown",
   "metadata": {},
   "source": [
    "Observa que aunque muchos valores admiten unidades de longitud o porcentaje, algunos solo admiten unidades de longitud. Puedes ver qué valores admite cada propiedad en las páginas de referencia correspondientes del proyecto MDN. Si el valor admitido solo incluye `length`, no es posible utilizar un porcentaje."
   ]
  },
  {
   "cell_type": "markdown",
   "metadata": {},
   "source": [
    "### Números"
   ]
  },
  {
   "cell_type": "markdown",
   "metadata": {},
   "source": [
    "Algunos valores aceptan números sin ninguna unidad asociada. Un ejemplo de una propiedad que acepta un número sin unidades es la propiedad `opacity`, que controla la opacidad de un elemento (cuán transparente es). Esta propiedad admite un número entre 0 (totalmente transparente) y 1 (totalmente opaco).\n",
    "\n",
    "> Nota: Cuando en CSS utilizas un número como valor, no debe estar entre comillas."
   ]
  },
  {
   "cell_type": "markdown",
   "metadata": {},
   "source": [
    "## Color"
   ]
  },
  {
   "cell_type": "markdown",
   "metadata": {},
   "source": [
    "En CSS hay muchas formas de especificar el color, algunas de las cuales se implementaron más recientemente que otras. En todas partes en CSS se pueden usar los mismos valores de color, tanto para especificar el color del texto como el color de fondo, o de cualquier otra cosa.\n",
    "\n",
    "El sistema de colores estándar disponible en los ordenadores modernos es de 24 bits, lo que permite visualizar aproximadamente 16,7 millones de colores distintos a partir de una combinación de diferentes canales de rojo, verde y azul con 256 valores diferentes por canal (256 x 256 x 256 = 16.777.216)."
   ]
  },
  {
   "cell_type": "markdown",
   "metadata": {},
   "source": [
    "### Palabras clave para los colores"
   ]
  },
  {
   "cell_type": "markdown",
   "metadata": {},
   "source": [
    "Muy a menudo se utilizan las palabras clave para los colores, ya que son una forma simple y comprensible de especificar colores. Por ejemplo:\n",
    "\n",
    "* `white`\t\t\n",
    "* `maroon`\t\t\n",
    "* `red`\n",
    "* `purple`\t\n",
    "* `fuchsia`\t\n",
    "* `green`\t\n",
    "* `lime`\t\n",
    "* `olive`\t\n",
    "* `yellow`\t\n",
    "* `navy`\n",
    "* `blue`"
   ]
  },
  {
   "cell_type": "markdown",
   "metadata": {},
   "source": [
    "### Los valores hexadecimales RGB"
   ]
  },
  {
   "cell_type": "markdown",
   "metadata": {},
   "source": [
    "El siguiente tipo de valores de color que es probable que encuentres son los códigos __hexadecimales__. Cada valor hexadecimal consiste en un símbolo de hashtag/almohadilla (#) seguido de seis cifras hexadecimales, cada una de las cuales puede tomar uno de los 16 valores entre el 0 y la f (que representa el 15). Cada par de cifras representa uno de los canales (rojo, verde y azul) y nos permite especificar cualesquiera de los 256 valores disponibles para cada uno (16 x 16 = 256).\n",
    "\n",
    "Estos valores son un poco más complejos y menos fáciles de entender, pero son mucho más versátiles que las palabras clave: puedes usar valores hexadecimales para representar cualquier color que desees usar en tu combinación de colores."
   ]
  },
  {
   "cell_type": "code",
   "execution_count": 8,
   "metadata": {
    "dotnet_interactive": {
     "language": "html"
    },
    "polyglot_notebook": {
     "kernelName": "html"
    },
    "vscode": {
     "languageId": "polyglot-notebook"
    }
   },
   "outputs": [
    {
     "data": {
      "text/html": [
       "<style>\n",
       "    .one {\n",
       "        background-color: #02798b;\n",
       "    }\n",
       "    .two {\n",
       "        background-color: #c55da1;\n",
       "    }\n",
       "    .three {\n",
       "        background-color: #128a7d;\n",
       "    }  \n",
       "</style>\n",
       "<div class=\"container2 one\">#02798b</div>\n",
       "<div class=\"container2 two\">#c55da1</div>\n",
       "<div class=\"container2 three\">#128a7d</div>"
      ]
     },
     "metadata": {},
     "output_type": "display_data"
    }
   ],
   "source": [
    "<style>\n",
    "    .one {\n",
    "        background-color: #02798b;\n",
    "    }\n",
    "    .two {\n",
    "        background-color: #c55da1;\n",
    "    }\n",
    "    .three {\n",
    "        background-color: #128a7d;\n",
    "    }  \n",
    "</style>\n",
    "<div class=\"container2 one\">#02798b</div>\n",
    "<div class=\"container2 two\">#c55da1</div>\n",
    "<div class=\"container2 three\">#128a7d</div>"
   ]
  },
  {
   "cell_type": "markdown",
   "metadata": {},
   "source": [
    "### Valores RGB y RGBA"
   ]
  },
  {
   "cell_type": "markdown",
   "metadata": {},
   "source": [
    "Un valor RGB es una función `rgb()` que recibe tres parámetros que representan los valores de los canales rojo, verde y azul del color, de modo muy similar a los valores hexadecimales. La diferencia con RGB es que cada canal está representado no por dos dígitos hexadecimales, sino por un número decimal entre el 0 y el 255, lo que de algún modo resulta algo más fácil de entender."
   ]
  },
  {
   "cell_type": "code",
   "execution_count": 2,
   "metadata": {
    "dotnet_interactive": {
     "language": "html"
    },
    "polyglot_notebook": {
     "kernelName": "html"
    },
    "vscode": {
     "languageId": "polyglot-notebook"
    }
   },
   "outputs": [
    {
     "data": {
      "text/html": [
       "<style>\n",
       "    .one {\n",
       "        background-color: rgb(2, 121, 139);\n",
       "    }\n",
       "    .two {\n",
       "        background-color: rgb(197, 93, 161);\n",
       "    }\n",
       "    .three {\n",
       "        background-color: rgb(18, 138, 125);\n",
       "    }\n",
       "</style>\n",
       "<div class=\"one\">rgb(2, 121, 139)</div>\n",
       "<div class=\"two\">rgb(197, 93, 161)</div>\n",
       "<div class=\"three\">rgb(18, 138, 125)</div>"
      ]
     },
     "metadata": {},
     "output_type": "display_data"
    }
   ],
   "source": [
    "<style>\n",
    "    .one {\n",
    "        background-color: rgb(2, 121, 139);\n",
    "    }\n",
    "    .two {\n",
    "        background-color: rgb(197, 93, 161);\n",
    "    }\n",
    "    .three {\n",
    "        background-color: rgb(18, 138, 125);\n",
    "    }\n",
    "</style>\n",
    "<div class=\"one\">rgb(2, 121, 139)</div>\n",
    "<div class=\"two\">rgb(197, 93, 161)</div>\n",
    "<div class=\"three\">rgb(18, 138, 125)</div>"
   ]
  },
  {
   "cell_type": "markdown",
   "metadata": {},
   "source": [
    "También puedes usar colores __RGBA__: estos funcionan exactamente de la misma manera que los colores RGB, por lo que puedes usar cualquier valor RGB; sin embargo, hay un cuarto valor que representa el canal alfa del color, que controla la opacidad. Si estableces este valor en 0, el color será completamente transparente, mientras que en 1 será completamente opaco. Los valores intermedios le confieren diferentes niveles de transparencia.\n",
    "\n",
    "> Nota: Establecer un canal alfa en un color representa una diferencia clave para usar la propiedad `opacity`. Cuando usas la opacidad, el elemento y todo lo que contiene es opaco, mientras que cuando usas colores RGBA, solo son opacos los que especificas."
   ]
  },
  {
   "cell_type": "markdown",
   "metadata": {},
   "source": []
  }
 ],
 "metadata": {
  "language_info": {
   "name": "python"
  },
  "orig_nbformat": 4
 },
 "nbformat": 4,
 "nbformat_minor": 2
}
