{
 "cells": [
  {
   "attachments": {},
   "cell_type": "markdown",
   "metadata": {},
   "source": [
    "# Selectores de tipo, clase e ID"
   ]
  },
  {
   "attachments": {},
   "cell_type": "markdown",
   "metadata": {},
   "source": [
    "## Selectores de tipo"
   ]
  },
  {
   "attachments": {},
   "cell_type": "markdown",
   "metadata": {},
   "source": [
    "Un __selector de tipo__ también recibe el nombre de _selector de nombre de etiqueta_ o _selector de elemento_ porque selecciona un elemento/etiqueta HTML del documento. Por ejemplo los selectores `span`, `em` y `strong` aplican estilo a todas las instancias de los elementos `<span>`, `<em>` y `<strong>`."
   ]
  },
  {
   "cell_type": "code",
   "execution_count": 1,
   "metadata": {
    "dotnet_interactive": {
     "language": "html"
    },
    "polyglot_notebook": {
     "kernelName": "html"
    },
    "vscode": {
     "languageId": "polyglot-notebook"
    }
   },
   "outputs": [
    {
     "data": {
      "text/html": [
       "<style>\n",
       "    span {\n",
       "        background-color: yellow;\n",
       "    }\n",
       "    strong {\n",
       "        color: rebeccapurple;\n",
       "    }\n",
       "    em {\n",
       "        color: rebeccapurple;\n",
       "    }\n",
       "</style>\n",
       "<h1>Type selectors</h1>\n",
       "<p>Veggies es bonus vobis, proinde vos postulo essum magis <span>kohlrabi welsh onion</span> daikon amaranth tatsoi tomatillo melon azuki bean garlic.</p>\n",
       "<p>Gumbo beet greens corn soko <strong>endive</strong> gumbo gourd. Parsley shallot courgette tatsoi pea sprouts fava bean collard greens dandelion okra wakame tomato. Dandelion cucumber earthnut pea peanut soko zucchini.</p>\n",
       "<p>Turnip greens yarrow ricebean rutabaga <em>endive cauliflower</em> sea lettuce kohlrabi amaranth water spinach avocado daikon napa cabbage asparagus winter purslane kale. Celery potato scallion desert raisin horseradish spinach</p>"
      ]
     },
     "metadata": {},
     "output_type": "display_data"
    }
   ],
   "source": [
    "<style>\n",
    "    span {\n",
    "        background-color: yellow;\n",
    "    }\n",
    "    strong {\n",
    "        color: rebeccapurple;\n",
    "    }\n",
    "    em {\n",
    "        color: rebeccapurple;\n",
    "    }\n",
    "</style>\n",
    "<h1>Type selectors</h1>\n",
    "<p>Veggies es bonus vobis, proinde vos postulo essum magis <span>kohlrabi welsh onion</span> daikon amaranth tatsoi tomatillo melon azuki bean garlic.</p>\n",
    "<p>Gumbo beet greens corn soko <strong>endive</strong> gumbo gourd. Parsley shallot courgette tatsoi pea sprouts fava bean collard greens dandelion okra wakame tomato. Dandelion cucumber earthnut pea peanut soko zucchini.</p>\n",
    "<p>Turnip greens yarrow ricebean rutabaga <em>endive cauliflower</em> sea lettuce kohlrabi amaranth water spinach avocado daikon napa cabbage asparagus winter purslane kale. Celery potato scallion desert raisin horseradish spinach</p>"
   ]
  },
  {
   "attachments": {},
   "cell_type": "markdown",
   "metadata": {},
   "source": [
    "## El selector universal"
   ]
  },
  {
   "attachments": {},
   "cell_type": "markdown",
   "metadata": {},
   "source": [
    "El selector universal se indica con un asterisco ('`*`') y selecciona todos los elementos del documento (o del elemento padre si está encadenado con otro elemento y un operador de combinación descendente, por ejemplo). En el ejemplo siguiente hemos utilizado el selector universal para eliminar los márgenes en todos los elementos. Esto significa que en lugar de la opción predeterminada de aplicación de estilos del navegador, que muestra los títulos de encabezado y los párrafos separados por un margen de respeto, todo se mostrará pegado y no resultará tan fácil distinguir los diversos párrafos."
   ]
  },
  {
   "cell_type": "code",
   "execution_count": 2,
   "metadata": {
    "dotnet_interactive": {
     "language": "html"
    },
    "polyglot_notebook": {
     "kernelName": "html"
    },
    "vscode": {
     "languageId": "polyglot-notebook"
    }
   },
   "outputs": [
    {
     "data": {
      "text/html": [
       "<style>\n",
       "    * {\n",
       "        margin: 0;\n",
       "    }\n",
       "</style>\n",
       "<h1>Universal selector</h1>\n",
       "<p>Veggies es bonus vobis, proinde vos postulo essum magis <span>kohlrabi welsh onion</span> daikon amaranth tatsoi tomatillo melon azuki bean garlic.</p>\n",
       "<p>Gumbo beet greens corn soko <strong>endive</strong> gumbo gourd. Parsley shallot courgette tatsoi pea sprouts fava bean collard greens dandelion okra wakame tomato. Dandelion cucumber earthnut pea peanut soko zucchini.</p>"
      ]
     },
     "metadata": {},
     "output_type": "display_data"
    }
   ],
   "source": [
    "<style>\n",
    "    * {\n",
    "        margin: 0;\n",
    "    }\n",
    "</style>\n",
    "<h1>Universal selector</h1>\n",
    "<p>Veggies es bonus vobis, proinde vos postulo essum magis <span>kohlrabi welsh onion</span> daikon amaranth tatsoi tomatillo melon azuki bean garlic.</p>\n",
    "<p>Gumbo beet greens corn soko <strong>endive</strong> gumbo gourd. Parsley shallot courgette tatsoi pea sprouts fava bean collard greens dandelion okra wakame tomato. Dandelion cucumber earthnut pea peanut soko zucchini.</p>"
   ]
  },
  {
   "attachments": {},
   "cell_type": "markdown",
   "metadata": {},
   "source": [
    "Es posible observar este tipo de comportamiento en las «hojas de estilo de puesta a cero» (o «hojas de estilo reset»), que anulan el formato del navegador. Fueron muy populares en un momento dado; sin embargo, excluir todo el estilo significa que luego tienes que ponerlo todo de nuevo. Por este motivo tendemos a utilizar el selector universal con mucho cuidado."
   ]
  },
  {
   "attachments": {},
   "cell_type": "markdown",
   "metadata": {},
   "source": [
    "### Uso del selector universal para facilitar la legibilidad de tus selectores"
   ]
  },
  {
   "attachments": {},
   "cell_type": "markdown",
   "metadata": {},
   "source": [
    "Uno de los usos del selector universal es facilitar la legibilidad de los selectores y clarificar sus funciones. Por ejemplo, si quiero seleccionar el primer elemento hijo de cualquier elemento `<article>` y poner ese elemento, cualquiera que sea, en negrita, puedo utilizar el selector `:first-child`, como selector descendente junto con el selector de elemento `<article>`, de la forma `article :first-child {}`.\n",
    "\n",
    "Sin embargo, esto podría confundirse con `article:first-child` (sin el espacio), que selecciona cualquier elemento `<article>` que sea el primer elemento hijo de otro elemento.\n",
    "\n",
    "Para evitar esta confusión podemos añadir al selector `:first-child` el selector universal `*`. De este modo la función del selector resulta obvia: seleccionará cualquier elemento que entre en la jerarquía de primer hijo de un elemento `<article>`, de la forma `article *:first-child {}`."
   ]
  },
  {
   "attachments": {},
   "cell_type": "markdown",
   "metadata": {},
   "source": [
    "## Selectores de clase"
   ]
  },
  {
   "attachments": {},
   "cell_type": "markdown",
   "metadata": {},
   "source": [
    "El selector de clase comienza con un punto (`.`) y selecciona todo elemento del documento que esté afectado por esa clase. En el ejemplo siguiente hemos creado una clase llamada `.highlight` y la hemos aplicado en varios lugares del documento. Todos los elementos a los que se aplique esta clase se resaltarán en amarillo."
   ]
  },
  {
   "cell_type": "code",
   "execution_count": 4,
   "metadata": {
    "dotnet_interactive": {
     "language": "html"
    },
    "polyglot_notebook": {
     "kernelName": "html"
    },
    "vscode": {
     "languageId": "polyglot-notebook"
    }
   },
   "outputs": [
    {
     "data": {
      "text/html": [
       "<style>\n",
       "    .highlight {\n",
       "        background-color: green;\n",
       "    }    \n",
       "</style>\n",
       "<h1 class=\"highlight\">Class selectors</h1>\n",
       "<p>Veggies es bonus vobis, proinde vos postulo essum magis <span class=\"highlight\">kohlrabi welsh onion</span> daikon amaranth tatsoi tomatillo melon azuki bean garlic.</p>\n",
       "<p class=\"highlight\">Gumbo beet greens corn soko <strong>endive</strong> gumbo gourd. Parsley shallot courgette tatsoi pea sprouts fava bean collard greens dandelion okra wakame tomato. Dandelion cucumber earthnut pea peanut soko zucchini.</p>"
      ]
     },
     "metadata": {},
     "output_type": "display_data"
    }
   ],
   "source": [
    "<style>\n",
    "    .highlight {\n",
    "        background-color: green;\n",
    "    }    \n",
    "</style>\n",
    "<h1 class=\"highlight\">Class selectors</h1>\n",
    "<p>Veggies es bonus vobis, proinde vos postulo essum magis <span class=\"highlight\">kohlrabi welsh onion</span> daikon amaranth tatsoi tomatillo melon azuki bean garlic.</p>\n",
    "<p class=\"highlight\">Gumbo beet greens corn soko <strong>endive</strong> gumbo gourd. Parsley shallot courgette tatsoi pea sprouts fava bean collard greens dandelion okra wakame tomato. Dandelion cucumber earthnut pea peanut soko zucchini.</p>"
   ]
  },
  {
   "attachments": {},
   "cell_type": "markdown",
   "metadata": {},
   "source": [
    "### Delimitación de clases en elementos particulares"
   ]
  },
  {
   "attachments": {},
   "cell_type": "markdown",
   "metadata": {},
   "source": [
    "Puedes crear un selector que seleccionará los elementos concretos que estén afectados por esa clase. En el ejemplo siguiente vamos a introducir un resaltado en un elemento `<span>` con una clase `highlight` del de los títulos `<h1>` con clase `highlight`. Para ello hay que anexar esa clase al selector de tipo correspondiente al elemento que queremos delimitar, sin dejar entre ellos ningún espacio."
   ]
  },
  {
   "cell_type": "code",
   "execution_count": 6,
   "metadata": {
    "dotnet_interactive": {
     "language": "html"
    },
    "polyglot_notebook": {
     "kernelName": "html"
    },
    "vscode": {
     "languageId": "polyglot-notebook"
    }
   },
   "outputs": [
    {
     "data": {
      "text/html": [
       "<style>\n",
       "    span.highlight {\n",
       "        background-color: yellow;\n",
       "    }\n",
       "\n",
       "    h1.highlight {\n",
       "        background-color: red;\n",
       "    }\n",
       "</style>\n",
       "<h1 class=\"highlight\">Class selectors</h1>\n",
       "<p>Veggies es bonus vobis, proinde vos postulo essum magis <span class=\"highlight\">kohlrabi welsh onion</span> daikon amaranth tatsoi tomatillo melon azuki bean garlic.</p>\n",
       "<p class=\"highlight\">Gumbo beet greens corn soko <strong>endive</strong> gumbo gourd. Parsley shallot courgette tatsoi pea sprouts fava bean collard greens dandelion okra wakame tomato. Dandelion cucumber earthnut pea peanut soko zucchini.</p>"
      ]
     },
     "metadata": {},
     "output_type": "display_data"
    }
   ],
   "source": [
    "<style>\n",
    "    span.highlight {\n",
    "        background-color: yellow;\n",
    "    }\n",
    "\n",
    "    h1.highlight {\n",
    "        background-color: red;\n",
    "    }\n",
    "</style>\n",
    "<h1 class=\"highlight\">Class selectors</h1>\n",
    "<p>Veggies es bonus vobis, proinde vos postulo essum magis <span class=\"highlight\">kohlrabi welsh onion</span> daikon amaranth tatsoi tomatillo melon azuki bean garlic.</p>\n",
    "<p class=\"highlight\">Gumbo beet greens corn soko <strong>endive</strong> gumbo gourd. Parsley shallot courgette tatsoi pea sprouts fava bean collard greens dandelion okra wakame tomato. Dandelion cucumber earthnut pea peanut soko zucchini.</p>"
   ]
  },
  {
   "attachments": {},
   "cell_type": "markdown",
   "metadata": {},
   "source": [
    "Este enfoque hace el elemento CSS menos reutilizable porque la clase solo se aplicará a ese elemento en particular y tendrás que agregar otro selector en caso que quieras que las normas también se apliquen a otros elementos."
   ]
  },
  {
   "attachments": {},
   "cell_type": "markdown",
   "metadata": {},
   "source": [
    "### Delimitar un elemento afectado por más de una clase"
   ]
  },
  {
   "attachments": {},
   "cell_type": "markdown",
   "metadata": {},
   "source": [
    "Puedes aplicar más de una clase a un elemento y delimitarlos de forma individual o seleccionar el elemento cuando todas las clases están presentes en el selector. Puede ser útil cuando se trabaja con componentes que se pueden combinar de maneras diferentes en tu página web.\n",
    "\n",
    "En el ejemplo siguiente hay un elemento `<div>` que contiene una nota. El borde gris se aplica cuando la caja tiene una clase `notebox`. Si además tiene una clase `warning` o `danger`, la propiedad `border-color` cambia.\n",
    "\n",
    "Para decirle al navegador que solo queremos seleccionar el elemento si incluye todas estas clases, las encadenamos juntas sin ningún espacio entre ellas."
   ]
  },
  {
   "cell_type": "code",
   "execution_count": 7,
   "metadata": {
    "dotnet_interactive": {
     "language": "html"
    },
    "polyglot_notebook": {
     "kernelName": "html"
    },
    "vscode": {
     "languageId": "polyglot-notebook"
    }
   },
   "outputs": [
    {
     "data": {
      "text/html": [
       "<style>\n",
       "    .notebox {\n",
       "        border: 4px solid #666;\n",
       "        padding: .5em;\n",
       "    }\n",
       "    .notebox.warning {\n",
       "        border-color: orange;\n",
       "        font-weight: bold;\n",
       "    }\n",
       "    .notebox.danger {\n",
       "        border-color: red;\n",
       "        font-weight: bold;\n",
       "    }\n",
       "</style>\n",
       "<div class=\"notebox\">\n",
       "    This is an informational note.\n",
       "</div>\n",
       "<div class=\"notebox warning\">\n",
       "    This note shows a warning.\n",
       "</div>\n",
       "<div class=\"notebox danger\">\n",
       "    This note shows danger!\n",
       "</div>\n",
       "<div class=\"danger\">\n",
       "    This won't get styled — it also needs to have the notebox class\n",
       "</div>"
      ]
     },
     "metadata": {},
     "output_type": "display_data"
    }
   ],
   "source": [
    "<style>\n",
    "    .notebox {\n",
    "        border: 4px solid #666;\n",
    "        padding: .5em;\n",
    "    }\n",
    "    .notebox.warning {\n",
    "        border-color: orange;\n",
    "        font-weight: bold;\n",
    "    }\n",
    "    .notebox.danger {\n",
    "        border-color: red;\n",
    "        font-weight: bold;\n",
    "    }\n",
    "</style>\n",
    "<div class=\"notebox\">\n",
    "    This is an informational note.\n",
    "</div>\n",
    "<div class=\"notebox warning\">\n",
    "    This note shows a warning.\n",
    "</div>\n",
    "<div class=\"notebox danger\">\n",
    "    This note shows danger!\n",
    "</div>\n",
    "<div class=\"danger\">\n",
    "    This won't get styled — it also needs to have the notebox class\n",
    "</div>"
   ]
  },
  {
   "attachments": {},
   "cell_type": "markdown",
   "metadata": {},
   "source": [
    "## Selectores de ID"
   ]
  },
  {
   "attachments": {},
   "cell_type": "markdown",
   "metadata": {},
   "source": [
    "Un selector de ID comienza con un carácter `#` en lugar de un punto, pero se utiliza básicamente de la misma manera que un selector de clase. Sin embargo, un ID se puede utilizar una sola vez en cada documento, y a cada elemento solo se le puede aplicar un único `id`. Puede seleccionar un elemento que tenga propiedad `id` y ese ID puede ir precedido de un selector de tipo que seleccionará el elemento solo si el elemento y el ID coinciden."
   ]
  },
  {
   "cell_type": "code",
   "execution_count": 8,
   "metadata": {
    "dotnet_interactive": {
     "language": "html"
    },
    "polyglot_notebook": {
     "kernelName": "html"
    },
    "vscode": {
     "languageId": "polyglot-notebook"
    }
   },
   "outputs": [
    {
     "data": {
      "text/html": [
       "<style>\n",
       "    #one {\n",
       "        background-color: yellow;\n",
       "    }\n",
       "    h1#heading {\n",
       "        color: rebeccapurple;\n",
       "    }   \n",
       "</style>\n",
       "<h1 id=\"heading\">ID selector</h1>\n",
       "<p>Veggies es bonus vobis, proinde vos postulo essum magis kohlrabi welsh onion daikon amaranth tatsoi tomatillo melon azuki bean garlic.</p>\n",
       "<p id=\"one\">Gumbo beet greens corn soko <strong>endive</strong> gumbo gourd. Parsley shallot courgette tatsoi pea sprouts fava bean collard greens dandelion okra wakame tomato. Dandelion cucumber earthnut pea peanut soko zucchini.</p>"
      ]
     },
     "metadata": {},
     "output_type": "display_data"
    }
   ],
   "source": [
    "<style>\n",
    "    #one {\n",
    "        background-color: yellow;\n",
    "    }\n",
    "    h1#heading {\n",
    "        color: rebeccapurple;\n",
    "    }   \n",
    "</style>\n",
    "<h1 id=\"heading\">ID selector</h1>\n",
    "<p>Veggies es bonus vobis, proinde vos postulo essum magis kohlrabi welsh onion daikon amaranth tatsoi tomatillo melon azuki bean garlic.</p>\n",
    "<p id=\"one\">Gumbo beet greens corn soko <strong>endive</strong> gumbo gourd. Parsley shallot courgette tatsoi pea sprouts fava bean collard greens dandelion okra wakame tomato. Dandelion cucumber earthnut pea peanut soko zucchini.</p>"
   ]
  },
  {
   "attachments": {},
   "cell_type": "markdown",
   "metadata": {},
   "source": [
    "> Nota: un ID tiene una especificidad muy alta y anula la mayoría de los otros selectores. Esto puede dificultar su uso. En la mayoría de los casos es preferible añadir una clase al elemento en lugar de utilizar un ID. Sin embargo, si el ID es la única manera de seleccionar el elemento (tal vez porque no tengas acceso al marcado y, por lo tanto, no lo puedes editar) no hay ningún problema en utilizarlo."
   ]
  }
 ],
 "metadata": {
  "language_info": {
   "name": "python"
  },
  "orig_nbformat": 4
 },
 "nbformat": 4,
 "nbformat_minor": 2
}
