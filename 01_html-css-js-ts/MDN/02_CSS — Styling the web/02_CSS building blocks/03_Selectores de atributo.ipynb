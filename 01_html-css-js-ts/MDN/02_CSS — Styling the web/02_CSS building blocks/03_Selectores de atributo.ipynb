{
 "cells": [
  {
   "attachments": {},
   "cell_type": "markdown",
   "metadata": {},
   "source": [
    "# Selectores de atributo"
   ]
  },
  {
   "attachments": {},
   "cell_type": "markdown",
   "metadata": {},
   "source": [
    "Los elementos pueden tener atributos que proporcionan un nivel de detalle mayor sobre el elemento que delimitan. En el CSS puedes utilizar selectores de atributo para seleccionar elementos definidos con unos atributos determinados."
   ]
  },
  {
   "attachments": {},
   "cell_type": "markdown",
   "metadata": {},
   "source": [
    "## Selectores de presencia y valor"
   ]
  },
  {
   "attachments": {},
   "cell_type": "markdown",
   "metadata": {},
   "source": [
    "Estos selectores permiten seleccionar un elemento solo a partir de la presencia de un atributo (por ejemplo `href`) o a partir de varias coincidencias diferentes con respecto al valor del atributo."
   ]
  },
  {
   "attachments": {},
   "cell_type": "markdown",
   "metadata": {},
   "source": [
    "| Selector | Ejemplo | Descripción |\n",
    "|---|---|---|\n",
    "`[attr]` | `a[title]` | Relaciona elementos con un mismo nombre de atributo, `attr` (el valor que se indica entre corchetes).\n",
    "`[attr=value]` | `a[href=\"https://example.com\"]` | Relaciona elementos con un mismo nombre de atributo, `attr`, cuyo valor es exactamente el mismo, `value` (la cadena de caracteres que se indica entre corchetes).\n",
    "`[attr~=value]` | `p[class~=\"special\"]` | Relaciona los elementos con un mismo nombre de atributo, `attr`, cuyo valor es exactamente `value`, o los elementos con un mismo atributo `attr` que contiene uno o más valores de los cuales, al menos uno, coincide con `value`. Ten en cuenta que en una lista que incluya más de un valor, los distintos valores se separan con un espacio.\n",
    "`[attr\\|=value]` | `div[lang\\|=\"zh\"]` | Relaciona los elementos con un mismo nombre de atributo, `attr`, cuyo valor puede ser exactamente `value` o puede comenzar con `value` seguido inmediatamente por un guion."
   ]
  },
  {
   "cell_type": "code",
   "execution_count": 1,
   "metadata": {
    "dotnet_interactive": {
     "language": "html"
    },
    "polyglot_notebook": {
     "kernelName": "html"
    },
    "vscode": {
     "languageId": "polyglot-notebook"
    }
   },
   "outputs": [
    {
     "data": {
      "text/html": [
       "<style>\n",
       "    /* mediante el uso de li[class] podemos relacionar cualquier selector con un atributo de clase. Los relaciona todos menos el primer elemento de la lista */\n",
       "    li[class] {\n",
       "        font-size: 200%;\n",
       "    }\n",
       "    /* relaciona un selector con una clase de a, pero no un selector con una clase de a con otra clase separada por un espacio como parte del valor. Selecciona el segundo elemento de la lista pero no el tercero */\n",
       "    li[class=\"a\"] {\n",
       "        background-color: yellow;\n",
       "    }\n",
       "\n",
       "    /* coincidirá con una clase a pero también con un valor que contenga la clase de a como parte de una lista de elementos separados por un espacio. Selecciona el segundo y el tercer elemento de la lista */\n",
       "    li[class~=\"a\"] {\n",
       "        color: red;\n",
       "    } \n",
       "</style>\n",
       "<h1>Attribute presence and value selectors</h1>\n",
       "<ul>\n",
       "    <li>Item 1</li>\n",
       "    <li class=\"a\">Item 2</li>\n",
       "    <li class=\"a b\">Item 3</li>\n",
       "    <li class=\"ab\">Item 4</li>\n",
       "</ul>"
      ]
     },
     "metadata": {},
     "output_type": "display_data"
    }
   ],
   "source": [
    "<style>\n",
    "    /* mediante el uso de li[class] podemos relacionar cualquier selector con un atributo de clase. Los relaciona todos menos el primer elemento de la lista */\n",
    "    li[class] {\n",
    "        font-size: 200%;\n",
    "    }\n",
    "    /* relaciona un selector con una clase de a, pero no un selector con una clase de a con otra clase separada por un espacio como parte del valor. Selecciona el segundo elemento de la lista pero no el tercero */\n",
    "    li[class=\"a\"] {\n",
    "        background-color: yellow;\n",
    "    }\n",
    "\n",
    "    /* coincidirá con una clase a pero también con un valor que contenga la clase de a como parte de una lista de elementos separados por un espacio. Selecciona el segundo y el tercer elemento de la lista */\n",
    "    li[class~=\"a\"] {\n",
    "        color: red;\n",
    "    } \n",
    "</style>\n",
    "<h1>Attribute presence and value selectors</h1>\n",
    "<ul>\n",
    "    <li>Item 1</li>\n",
    "    <li class=\"a\">Item 2</li>\n",
    "    <li class=\"a b\">Item 3</li>\n",
    "    <li class=\"ab\">Item 4</li>\n",
    "</ul>"
   ]
  },
  {
   "attachments": {},
   "cell_type": "markdown",
   "metadata": {},
   "source": [
    "## Selectores coincidentes con subcadenas"
   ]
  },
  {
   "attachments": {},
   "cell_type": "markdown",
   "metadata": {},
   "source": [
    "Estos selectores permiten un tipo más avanzado de relación entre las subcadenas de caracteres que constituyen el valor del atributo. Por ejemplo, si tienes las clases `box-warning` y `box-error` y quieres encontrar todos los elementos que empiezan con la cadena de caracteres _“box-”_, puedes seleccionarlas ambas con `[class^=\"box-\"]`."
   ]
  },
  {
   "attachments": {},
   "cell_type": "markdown",
   "metadata": {},
   "source": [
    "Selector | Ejemplo | Descripción\n",
    "---|---|---\n",
    "`[attr^=value]` | `li[class^=\"box-\"]` | Relaciona elementos con un mismo nombre de atributo, attr, cuyo valor empieza exactamente con la subcadena de caracteres value.\n",
    "`[attr$=value]` | `li[class$=\"-box\"]` | Relaciona elementos con un mismo nombre de atributo, attr, cuyo valor termina exactamente con la subcadena de caracteres value.\n",
    "`[attr*= ]` | `li[class*=\"box\"]` | Relaciona elementos con un mismo nombre de atributo, attr, cuyo valor incluye al menos una ocurrencia de la subcadena value en algún punto de la cadena."
   ]
  },
  {
   "cell_type": "code",
   "execution_count": 3,
   "metadata": {
    "dotnet_interactive": {
     "language": "html"
    },
    "polyglot_notebook": {
     "kernelName": "html"
    },
    "vscode": {
     "languageId": "polyglot-notebook"
    }
   },
   "outputs": [
    {
     "data": {
      "text/html": [
       "<style>\n",
       "    /* relaciona cualquier valor de atributo que empieza con la letra a. Los dos primeros elementos de la lista se verán iguales */\n",
       "    li[class^=\"a\"] {\n",
       "        font-size: 300%;\n",
       "    }\n",
       "\n",
       "    /* relaciona cualquier valor de atributo que termina con la letra a. Relaciona el primer y el tercer elemento de la lista */\n",
       "    li[class$=\"a\"] {\n",
       "        background-color: yellow;\n",
       "    }\n",
       "\n",
       "    /* relaciona cualquier valor de atributo que contiene la letra a en cualquier posición. Relaciona todos los elementos de la lista. */\n",
       "    li[class*=\"a\"] {\n",
       "        color: red;\n",
       "    }\n",
       "</style>\n",
       "<h1>Attribute substring matching selectors</h1>\n",
       "<ul>\n",
       "    <li class=\"a\">Item 1</li>\n",
       "    <li class=\"ab\">Item 2</li>\n",
       "    <li class=\"bca\">Item 3</li>\n",
       "    <li class=\"bcabc\">Item 4</li>\n",
       "</ul>"
      ]
     },
     "metadata": {},
     "output_type": "display_data"
    }
   ],
   "source": [
    "<style>\n",
    "    /* relaciona cualquier valor de atributo que empieza con la letra a. Los dos primeros elementos de la lista se verán iguales */\n",
    "    li[class^=\"a\"] {\n",
    "        font-size: 300%;\n",
    "    }\n",
    "\n",
    "    /* relaciona cualquier valor de atributo que termina con la letra a. Relaciona el primer y el tercer elemento de la lista */\n",
    "    li[class$=\"a\"] {\n",
    "        background-color: yellow;\n",
    "    }\n",
    "\n",
    "    /* relaciona cualquier valor de atributo que contiene la letra a en cualquier posición. Relaciona todos los elementos de la lista. */\n",
    "    li[class*=\"a\"] {\n",
    "        color: red;\n",
    "    }\n",
    "</style>\n",
    "<h1>Attribute substring matching selectors</h1>\n",
    "<ul>\n",
    "    <li class=\"a\">Item 1</li>\n",
    "    <li class=\"ab\">Item 2</li>\n",
    "    <li class=\"bca\">Item 3</li>\n",
    "    <li class=\"bcabc\">Item 4</li>\n",
    "</ul>"
   ]
  },
  {
   "attachments": {},
   "cell_type": "markdown",
   "metadata": {},
   "source": [
    "## Mayúsculas y minúsculas"
   ]
  },
  {
   "attachments": {},
   "cell_type": "markdown",
   "metadata": {},
   "source": [
    "Si quieres relacionar los valores de atributo tanto si están escritos en mayúsculas como en minúsculas, puedes utilizar el valor `i` antes del paréntesis de cierre. Este indicador informa al navegador de que debe relacionar todos los caracteres __ASCII__ independientemente de si las letras son mayúsculas o minúsculas. Sin este indicador, los valores se relacionarán según las directrices del lenguaje del documento con respecto a la distinción entre mayúsculas y minúsculas; en el caso del HTML, se distinguirá entre mayúsculas y minúsculas."
   ]
  },
  {
   "cell_type": "code",
   "execution_count": 4,
   "metadata": {
    "dotnet_interactive": {
     "language": "html"
    },
    "polyglot_notebook": {
     "kernelName": "html"
    },
    "vscode": {
     "languageId": "polyglot-notebook"
    }
   },
   "outputs": [
    {
     "data": {
      "text/html": [
       "<style>\n",
       "    /* relaciona valores que empiezan con la letra a. Solo coincide el primer elemento de la lista porque los otros dos comienzan con una A mayúscula. */\n",
       "    li[class^=\"a\"] {\n",
       "        background-color: yellow;\n",
       "    }\n",
       "\n",
       "    /* utiliza el indicador 'i' de no distinción entre mayúsculas y minúsculas, así que relaciona todos los elementos de la lista. */\n",
       "    li[class^=\"a\" i] {\n",
       "        color: red;\n",
       "    }\n",
       "</style>\n",
       "<h1>Case-insensitivity</h1>\n",
       "<ul>\n",
       "    <li class=\"a\">Item 1</li>\n",
       "    <li class=\"A\">Item 2</li>\n",
       "    <li class=\"Ab\">Item 3</li>\n",
       "</ul>"
      ]
     },
     "metadata": {},
     "output_type": "display_data"
    }
   ],
   "source": [
    "<style>\n",
    "    /* relaciona valores que empiezan con la letra a. Solo coincide el primer elemento de la lista porque los otros dos comienzan con una A mayúscula. */\n",
    "    li[class^=\"a\"] {\n",
    "        background-color: yellow;\n",
    "    }\n",
    "\n",
    "    /* utiliza el indicador 'i' de no distinción entre mayúsculas y minúsculas, así que relaciona todos los elementos de la lista. */\n",
    "    li[class^=\"a\" i] {\n",
    "        color: red;\n",
    "    }\n",
    "</style>\n",
    "<h1>Case-insensitivity</h1>\n",
    "<ul>\n",
    "    <li class=\"a\">Item 1</li>\n",
    "    <li class=\"A\">Item 2</li>\n",
    "    <li class=\"Ab\">Item 3</li>\n",
    "</ul>"
   ]
  },
  {
   "attachments": {},
   "cell_type": "markdown",
   "metadata": {},
   "source": [
    "> Nota: Recientemente se ha creado un valor s, que obliga a establecer la distinción de mayúsculas y minúsculas en contextos en que no se suele establecer esta distinción. Sin embargo, pocos navegadores lo utilizan y no resulta demasiado útil en un contexto HTML."
   ]
  }
 ],
 "metadata": {
  "language_info": {
   "name": "python"
  },
  "orig_nbformat": 4
 },
 "nbformat": 4,
 "nbformat_minor": 2
}
