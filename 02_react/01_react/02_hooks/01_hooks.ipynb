{
 "cells": [
  {
   "cell_type": "markdown",
   "metadata": {},
   "source": [
    "# Hooks"
   ]
  },
  {
   "cell_type": "markdown",
   "metadata": {},
   "source": [
    "Los _hooks_ son funciones que proporcionan características propias de un componente de clase a un componente de función, es decir, que le permite tener un estado y un ciclo de vida."
   ]
  },
  {
   "cell_type": "markdown",
   "metadata": {},
   "source": [
    "## Algunas reglas básicas para trabajar con _hooks_\n"
   ]
  },
  {
   "cell_type": "markdown",
   "metadata": {},
   "source": [
    "- Solo crear _hooks_ en componentes de función de **Rect**.\n",
    "\n",
    "  - No crear ni llamar a _hooks_ dentro de funciones regulares de JavaScript.\n",
    "\n",
    "- Solo crear _hooks_ en la parte de arriba del componente de función, justo debajo de la declaración del componente.\n",
    "  - No crear _hooks_ dentro de loop, de condicionales ni de funciones anidadas."
   ]
  },
  {
   "cell_type": "markdown",
   "metadata": {},
   "source": []
  }
 ],
 "metadata": {
  "language_info": {
   "name": "python"
  }
 },
 "nbformat": 4,
 "nbformat_minor": 2
}
