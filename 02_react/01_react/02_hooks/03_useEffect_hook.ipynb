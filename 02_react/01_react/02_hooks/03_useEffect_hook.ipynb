{
 "cells": [
  {
   "cell_type": "markdown",
   "metadata": {},
   "source": [
    "# useEffect"
   ]
  },
  {
   "cell_type": "markdown",
   "metadata": {},
   "source": [
    "El _hook_ `useEffect` nos permite realizar efectos secundarios en componentes de función. Este proceso se realiza en tres momentos diferentes, correspondientes al ciclo de vida de un componente.\n",
    "1. Cuando el componente es creado: _componentDidMount_.\n",
    "2. Cuando se actualiza el estado del componente: _componentDidUpdate_.\n",
    "3. Cuando el componente es destruido: _componentWillUnmount_.\n",
    "\n",
    "El _hook_ recibe como parámetros una función, que en general declaramos dentro del _hook_, como una función flecha, y un array de variables de estado que, al modificarse y volver a renderizar el componente, indican al _hook_ que debe volver a ejecutarse.\n",
    "\n",
    "El _hook_ debe desplegarse dentro del componente de función, de esta forma tiene acceso a las variables de estado de la función y se ejecuta cada vez que el componente es renderizado."
   ]
  },
  {
   "cell_type": "markdown",
   "metadata": {},
   "source": [
    "## useEffect después de renderizar"
   ]
  },
  {
   "cell_type": "markdown",
   "metadata": {},
   "source": [
    "Llamamos al _hook_ `useEffect` y le pasamos como argumento una función flecha con la que indicamos lo que debe realizar. En el ejemplo vamos a cambiar lo que está escrito en el título de la página:"
   ]
  },
  {
   "cell_type": "code",
   "execution_count": null,
   "metadata": {
    "vscode": {
     "languageId": "polyglot-notebook"
    }
   },
   "outputs": [],
   "source": [
    "useEffect( () => { \n",
    "    document.title = 'Nuevo título';\n",
    "})"
   ]
  },
  {
   "cell_type": "markdown",
   "metadata": {},
   "source": [
    "Con esta sintaxis estamos indicando que `useEffect` se ejecute cada vez que se renderiza el componente donde se encuentra. Es decir, se ejecuta cuando el componente es creado y cuando se actualiza su estado. En el siguiente ejemplo tenemos un atributo de estado llamado `count` que actualiza su valor al hacer clic en un botón. Cuando el componente se crea, con el atributo de estado `count` con valor 0, y cada vez que el valor de este atributo se actualiza, el _hook_ `useEffect` se ejecuta cambiando el valor del texto en el título de la ventana."
   ]
  },
  {
   "cell_type": "code",
   "execution_count": null,
   "metadata": {
    "vscode": {
     "languageId": "polyglot-notebook"
    }
   },
   "outputs": [],
   "source": [
    "import React, { useState, useEffect } from 'react'\n",
    "\n",
    "export const HookCounterOne = () => {\n",
    "\n",
    "\tconst [count, setCount] = useState(0)\n",
    "    \n",
    "\tuseEffect(() => {\n",
    "\t\tdocument.title = `You clicked ${count} times`\n",
    "    })\n",
    "    \n",
    "\treturn (\n",
    "\t\t<div>\n",
    "\t\t\t<button onClick={() => setCount(prevCount => prevCount + 1)}>\n",
    "\t\t\t\tClick {count} times\n",
    "\t\t\t</button>\n",
    "\t\t</div>\n",
    "\t)\n",
    "}"
   ]
  },
  {
   "cell_type": "markdown",
   "metadata": {},
   "source": [
    "## useEffect con ejecución condicional"
   ]
  },
  {
   "cell_type": "markdown",
   "metadata": {},
   "source": [
    "Para evitar problemas de performance, y cuando no necesitamos que useEffect se ejecute cada vez que se renderiza un componente, es que podemos condicionar su ejecución. "
   ]
  },
  {
   "cell_type": "markdown",
   "metadata": {},
   "source": []
  }
 ],
 "metadata": {
  "kernelspec": {
   "display_name": ".NET (C#)",
   "language": "C#",
   "name": ".net-csharp"
  },
  "language_info": {
   "name": "python"
  },
  "polyglot_notebook": {
   "kernelInfo": {
    "defaultKernelName": "csharp",
    "items": [
     {
      "aliases": [],
      "name": "csharp"
     }
    ]
   }
  }
 },
 "nbformat": 4,
 "nbformat_minor": 2
}
