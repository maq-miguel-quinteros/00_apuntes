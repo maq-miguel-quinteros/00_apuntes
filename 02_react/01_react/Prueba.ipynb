{
 "cells": [
  {
   "cell_type": "code",
   "execution_count": null,
   "metadata": {
    "vscode": {
     "languageId": "javascript"
    }
   },
   "outputs": [],
   "source": [
    "import { useState } from react;\n",
    "\n",
    "export const Prueba = () => {\n",
    "\n",
    "    const [count, setCount] = useState(0);\n",
    "\n",
    "    return (\n",
    "        <>\n",
    "            <div>Prueba: {count}</div>\n",
    "        </>\n",
    "    )\n",
    "}"
   ]
  }
 ],
 "metadata": {
  "kernelspec": {
   "display_name": "Python 3",
   "language": "python",
   "name": "python3"
  },
  "language_info": {
   "name": "python",
   "version": "3.10.13"
  }
 },
 "nbformat": 4,
 "nbformat_minor": 2
}
