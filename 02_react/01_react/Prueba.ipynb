{
 "cells": [
  {
   "cell_type": "markdown",
   "metadata": {},
   "source": [
    "# useState"
   ]
  },
  {
   "cell_type": "markdown",
   "metadata": {},
   "source": [
    "Mediante el hook `useState` generamos una atributo de estado que podemos utilizar en un componente de función. El atributo de estado, o simplemente estado, es un atributo que guarda un valor que podemos consultar y modificar durante el ciclo de vida del componente. Para crear un estado utilizamos el hook `useState` de la siguiente forma:"
   ]
  },
  {
   "cell_type": "code",
   "execution_count": null,
   "metadata": {
    "vscode": {
     "languageId": "javascript"
    }
   },
   "outputs": [],
   "source": [
    "const [count, setCount] = useState(0);"
   ]
  },
  {
   "cell_type": "markdown",
   "metadata": {},
   "source": [
    "En el ejemplo, mediante desestructuración, con la palabra reservada `const` creamos un atributo `count`, que vamos a usar de contador, y un método `setCount` para modificar este atributo. El atributo `count` solo podrá ser modificado mediante el método `setCount`. Para crear estos asignamos al atributo y método el hook `useState` utilizando el `= useState(0)` y entre los `()` ingresamos el valor inicial del atributo `count` que en ejemplo es `0`."
   ]
  },
  {
   "cell_type": "code",
   "execution_count": null,
   "metadata": {
    "vscode": {
     "languageId": "javascript"
    }
   },
   "outputs": [],
   "source": [
    "import { useState } from react;\n",
    "\n",
    "export const HookCounter = () => {\n",
    "\n",
    "    const [count, setCount] = useState(0);\n",
    "\n",
    "    return (\n",
    "        <>\n",
    "            <button onClick={() => setCount(count + 1)}>Count {count}</button>\n",
    "        </>\n",
    "    )\n",
    "}"
   ]
  }
 ],
 "metadata": {
  "kernelspec": {
   "display_name": "Python 3",
   "language": "python",
   "name": "python3"
  },
  "language_info": {
   "name": "python",
   "version": "3.0.0"
  }
 },
 "nbformat": 4,
 "nbformat_minor": 2
}
