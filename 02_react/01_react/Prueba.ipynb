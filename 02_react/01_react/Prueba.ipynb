{
 "cells": [
  {
   "cell_type": "markdown",
   "metadata": {},
   "source": [
    "# useState"
   ]
  },
  {
   "cell_type": "markdown",
   "metadata": {},
   "source": [
    "## Sintaxis y uso básico"
   ]
  },
  {
   "cell_type": "markdown",
   "metadata": {},
   "source": [
    "Mediante el _hook_ `useState` generamos un atributo de estado que podemos utilizar en un componente de función. Solo podemos utilizar el _hook_ en un componente de función. Los _hooks_ no funcionan en componentes de clases. El atributo de estado, o simplemente estado, es un atributo que guarda un valor que podemos consultar y modificar durante el ciclo de vida del componente. Primero necesitamos importar la función o _hook_:"
   ]
  },
  {
   "cell_type": "code",
   "execution_count": null,
   "metadata": {
    "vscode": {
     "languageId": "javascript"
    }
   },
   "outputs": [],
   "source": [
    "import { useState } from react;"
   ]
  },
  {
   "cell_type": "markdown",
   "metadata": {},
   "source": [
    "Para crear un estado utilizamos el _hook_ `useState` inmediatamente después de la declaración del componente de función, antes de la declaración de otras funciones o del `return`, de la siguiente forma:"
   ]
  },
  {
   "cell_type": "code",
   "execution_count": null,
   "metadata": {
    "vscode": {
     "languageId": "javascript"
    }
   },
   "outputs": [],
   "source": [
    "const [count, setCount] = useState(0);"
   ]
  },
  {
   "cell_type": "markdown",
   "metadata": {},
   "source": [
    "En el ejemplo, mediante desestructuración, con la palabra reservada `const` creamos un atributo llamado `count`, que vamos a usar de contador, y un método llamado `setCount` para modificar este atributo. Como buena práctica utilizamos la forma _atributo_, _setAtributo_ a la hora de nombrar al atributo de estado y al método que lo modifica. El atributo `count` solo podrá ser modificado mediante el método `setCount`. Para crear estos asignamos al atributo y método el hook `useState` utilizando el `= useState(0)` y entre los `()` ingresamos el valor inicial del atributo `count` que en ejemplo es `0`. Un componente que muestra un botón con un contador reactivo se declara de la siguiente forma:"
   ]
  },
  {
   "cell_type": "code",
   "execution_count": null,
   "metadata": {
    "vscode": {
     "languageId": "javascript"
    }
   },
   "outputs": [],
   "source": [
    "// importamos el hook\n",
    "import { useState } from react;\n",
    "\n",
    "export const HookCounter = () => {\n",
    "\n",
    "    // creamos el atributo de estado, con valor inicial 0, y el método que lo modifica mediante el hook\n",
    "    const [count, setCount] = useState(0);\n",
    "\n",
    "    return (\n",
    "        <>\n",
    "            {/** al elemento de HTML button le asignamos un evento onClick. Cuando hacemos clic en el botón el evento llama a una función flecha que a su vez llama al método setCount. setCount suma 1 el valor que viene guardando el atributo de estado count */}\n",
    "            <button onClick={() => setCount(count + 1)}>Count {count}</button>\n",
    "        </>\n",
    "    )\n",
    "}"
   ]
  }
 ],
 "metadata": {
  "kernelspec": {
   "display_name": "Python 3",
   "language": "python",
   "name": "python3"
  },
  "language_info": {
   "name": "python",
   "version": "3.10.13"
  }
 },
 "nbformat": 4,
 "nbformat_minor": 2
}
