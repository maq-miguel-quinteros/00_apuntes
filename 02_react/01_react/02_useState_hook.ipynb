{
 "cells": [
  {
   "cell_type": "markdown",
   "metadata": {},
   "source": [
    "# Algunas reglas básicas para trabajar con _hooks_\n"
   ]
  },
  {
   "cell_type": "markdown",
   "metadata": {},
   "source": [
    "- Solo crear _hooks_ en componentes de función de **Rect**.\n",
    "\n",
    "  - No crear ni llamar a _hooks_ dentro de funciones regulares de JavaScript.\n",
    "\n",
    "- Solo crear _hooks_ en la parte de arriba del componente de función, justo debajo de la declaración del componente.\n",
    "  - No crear _hooks_ dentro de loop, de condicionales ni de funciones anidadas.\n"
   ]
  },
  {
   "cell_type": "markdown",
   "metadata": {},
   "source": [
    "# useState\n"
   ]
  },
  {
   "cell_type": "markdown",
   "metadata": {},
   "source": [
    "## Sintaxis y uso básico\n"
   ]
  },
  {
   "cell_type": "markdown",
   "metadata": {},
   "source": [
    "Mediante el _hook_ `useState` generamos un atributo de estado que podemos utilizar en un componente de función. Solo podemos utilizar el _hook_ en un componente de función. Los _hooks_ no funcionan en componentes de clases. El atributo de estado, o simplemente estado, es un atributo que guarda un valor que podemos consultar y modificar durante el ciclo de vida del componente. Primero necesitamos importar la función o _hook_:\n"
   ]
  },
  {
   "cell_type": "code",
   "execution_count": null,
   "metadata": {
    "vscode": {
     "languageId": "javascript"
    }
   },
   "outputs": [],
   "source": [
    "import { useState } from react;"
   ]
  },
  {
   "cell_type": "markdown",
   "metadata": {},
   "source": [
    "Para crear un estado utilizamos el _hook_ `useState` inmediatamente después de la declaración del componente de función, antes de la declaración de otras funciones o del `return`, de la siguiente forma:\n"
   ]
  },
  {
   "cell_type": "code",
   "execution_count": null,
   "metadata": {
    "vscode": {
     "languageId": "javascript"
    }
   },
   "outputs": [],
   "source": [
    "const [count, setCount] = useState(0);\n"
   ]
  },
  {
   "cell_type": "markdown",
   "metadata": {},
   "source": [
    "En el ejemplo, mediante desestructuración, con la palabra reservada `const` creamos un atributo llamado `count`, que vamos a usar de contador, y un método llamado `setCount` para modificar este atributo. Como buena práctica utilizamos la forma _atributo_, _setAtributo_ a la hora de nombrar al atributo de estado y al método que lo modifica. El atributo `count` solo podrá ser modificado mediante el método `setCount`. Para crear estos asignamos al atributo y método el hook `useState` utilizando el `= useState(0)` y entre los `()` ingresamos el valor inicial del atributo `count` que en ejemplo es `0`. Un componente que muestra un botón con un contador reactivo se declara de la siguiente forma:\n"
   ]
  },
  {
   "cell_type": "code",
   "execution_count": null,
   "metadata": {
    "vscode": {
     "languageId": "javascript"
    }
   },
   "outputs": [],
   "source": [
    "// importamos el hook\n",
    "import { useState } from react;\n",
    "\n",
    "export const HookCounter = () => {\n",
    "\n",
    "    // creamos el atributo de estado, con valor inicial 0, y el método que lo modifica mediante el hook\n",
    "    const [count, setCount] = useState(0);\n",
    "\n",
    "    return (\n",
    "        <>\n",
    "            {/** al elemento de HTML button le asignamos un evento onClick. Cuando hacemos clic en el botón el evento llama a una función flecha que a su vez llama al método setCount. setCount suma 1 el valor que viene guardando el atributo de estado count */}\n",
    "            <button onClick={() => setCount(count + 1)}>Count {count}</button>\n",
    "        </>\n",
    "    )\n",
    "}"
   ]
  },
  {
   "cell_type": "markdown",
   "metadata": {},
   "source": [
    "## Establecer estado basado en el estado anterior\n"
   ]
  },
  {
   "cell_type": "markdown",
   "metadata": {},
   "source": [
    "Vamos a establecer el nuevo estado del atributo de estado, es decir, a cambiar el valor de este atributo, tomando como base el estado o valor que el atributo tenía previamente. Para hacer el cambio de valor de un atributo de estado, tomando como base el valor anterior, utilizamos el método que declaramos cuando llamamos al _hook_ `useState`, que en el ejemplo se hace de la siguiente forma:\n"
   ]
  },
  {
   "cell_type": "code",
   "execution_count": null,
   "metadata": {
    "vscode": {
     "languageId": "javascript"
    }
   },
   "outputs": [],
   "source": [
    "setCount(count + 1);\n"
   ]
  },
  {
   "cell_type": "markdown",
   "metadata": {},
   "source": [
    "Esta forma de actualizar el estado, en base a su valor anterior, no es una forma de trabajo segura. Para actualizar correctamente un atributo de estado en base a su valor anterior utilizamos la segunda forma de uso del método `set` que creamos al llamar al _hook_ `useState`, en nuestro ejemplo el método `setCount`, esta forma es pasando al método una función flecha que contemple el estado anterior y la actualización que hacemos sobre el mismo:\n"
   ]
  },
  {
   "cell_type": "code",
   "execution_count": null,
   "metadata": {
    "vscode": {
     "languageId": "javascript"
    }
   },
   "outputs": [],
   "source": [
    "setCount((prevCount) => prevCount + 1);\n"
   ]
  },
  {
   "cell_type": "markdown",
   "metadata": {},
   "source": [
    "La función flecha que pasamos tiene como parámetro la variable `prevCount` esta variable contiene el valor del atributo de estado `count` al momento de llamar a la función `setCount`. El `return` de la función flecha va a ser el valor actualizado del estado que finalmente `setCount` se encargará de guardar en `count`. Tenemos que realizar la actualización del estado de esta forma siempre que utilicemos en la actualización el valor anterior del mismo estado.\n"
   ]
  },
  {
   "cell_type": "code",
   "execution_count": null,
   "metadata": {
    "vscode": {
     "languageId": "javascript"
    }
   },
   "outputs": [],
   "source": [
    "import React, { useState } from \"react\";\n",
    "\n",
    "export const HookCounterTwo = () => {\n",
    "  // utilizamos la variable initialCount para establecer el valor por defecto del atributo de estado count, y para volver a este cuando tocamos en el botón reset\n",
    "  const initialCount = 0;\n",
    "  const [count, setCount] = useState(initialCount);\n",
    "\n",
    "  const incrementFiveNotWork = () => {\n",
    "    for (let i = 0; i < 5; i++) {\n",
    "      // utilizamos la forma poco segura para actualizar al valor del estado. En este ejemplo no se van a sumar 5 al valor del estado\n",
    "      setCount(count + 1);\n",
    "    }\n",
    "  };\n",
    "\n",
    "  const incrementFive = () => {\n",
    "    for (let i = 0; i < 5; i++) {\n",
    "      // el método setCount puede recibir una función flecha. El parámetro prevCount es el valor que tiene count en el momento de llamar a la función setCount\n",
    "      setCount((prevCount) => prevCount + 1);\n",
    "    }\n",
    "  };\n",
    "\n",
    "  return (\n",
    "    <>\n",
    "      Count: {count}\n",
    "      {/** no utilizamos el valor anterior del estado en este caso, por ende no necesitamos pasar la función flecha al */}\n",
    "      <button onClick={() => setCount(initialCount)}>Reset</button>\n",
    "      {/** corregimos las funciones que pasamos en los eventos para realizar de forma correcta la actualización del estado */}\n",
    "      <button onClick={() => setCount((prevCount) => prevCount + 1)}>\n",
    "        Increment\n",
    "      </button>\n",
    "      <button onClick={() => setCount((prevCount) => prevCount - 1)}>\n",
    "        Decrement\n",
    "      </button>\n",
    "      <button onClick={incrementFiveNotWork}>Not working increment 5</button>\n",
    "      <button onClick={incrementFive}>Increment 5</button>\n",
    "    </>\n",
    "  );\n",
    "};\n"
   ]
  },
  {
   "cell_type": "markdown",
   "metadata": {},
   "source": [
    "## useState con objetos\n"
   ]
  },
  {
   "cell_type": "markdown",
   "metadata": {},
   "source": []
  }
 ],
 "metadata": {
  "kernelspec": {
   "display_name": "Python 3",
   "language": "python",
   "name": "python3"
  },
  "language_info": {
   "name": "python",
   "version": "3.10.13"
  }
 },
 "nbformat": 4,
 "nbformat_minor": 2
}
